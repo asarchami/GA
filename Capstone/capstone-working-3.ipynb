{
 "cells": [
  {
   "cell_type": "code",
   "execution_count": 1,
   "metadata": {
    "collapsed": false
   },
   "outputs": [],
   "source": [
    "from bs4 import BeautifulSoup\n",
    "import urllib2\n",
    "import pandas as pd\n",
    "import numpy as np\n",
    "\n",
    "from pandas_datareader import data, wb\n",
    "\n",
    "from datetime import date, timedelta, datetime\n",
    "from time import sleep\n",
    "import os.path\n",
    "import glob\n",
    "import re\n",
    "import random\n",
    "\n",
    "import matplotlib.pyplot as plt\n",
    "%matplotlib inline\n",
    "\n",
    "from nltk.sentiment.vader import SentimentIntensityAnalyzer\n",
    "\n",
    "from sentimenter import data as sn_data"
   ]
  },
  {
   "cell_type": "code",
   "execution_count": 2,
   "metadata": {
    "collapsed": false
   },
   "outputs": [],
   "source": [
    "from sklearn.linear_model import LinearRegression, ElasticNetCV\n",
    "# from sklearn.cross_validation import train_test_split\n",
    "from sklearn.cross_validation import StratifiedKFold, cross_val_score, train_test_split\n",
    "from sklearn.metrics import explained_variance_score, mean_absolute_error, silhouette_score\n",
    "from sklearn.ensemble import RandomForestRegressor, ExtraTreesRegressor\n",
    "from sklearn.tree import DecisionTreeRegressor\n",
    "from sklearn.grid_search import GridSearchCV\n",
    "\n",
    "import pydot\n",
    "from IPython.display import Image\n",
    "\n",
    "import seaborn as sns\n",
    "import matplotlib.pyplot as plt\n",
    "\n",
    "%matplotlib inline"
   ]
  },
  {
   "cell_type": "code",
   "execution_count": 3,
   "metadata": {
    "collapsed": false
   },
   "outputs": [],
   "source": [
    "companies = sn_data.get_companies()"
   ]
  },
  {
   "cell_type": "code",
   "execution_count": 4,
   "metadata": {
    "collapsed": false,
    "scrolled": true
   },
   "outputs": [],
   "source": [
    "companies['Ticker_symbol'] = companies['Ticker_symbol'].apply(lambda x: x.replace('.N', ''))"
   ]
  },
  {
   "cell_type": "code",
   "execution_count": 5,
   "metadata": {
    "collapsed": false
   },
   "outputs": [
    {
     "data": {
      "text/html": [
       "<div>\n",
       "<table border=\"1\" class=\"dataframe\">\n",
       "  <thead>\n",
       "    <tr style=\"text-align: right;\">\n",
       "      <th></th>\n",
       "      <th>Ticker_symbol</th>\n",
       "      <th>Security</th>\n",
       "      <th>SEC_filings</th>\n",
       "      <th>GICS_Sector</th>\n",
       "      <th>GICS_Sub_Industry</th>\n",
       "      <th>Address_of_Headquarters</th>\n",
       "      <th>Date_first_added</th>\n",
       "      <th>CIK</th>\n",
       "    </tr>\n",
       "  </thead>\n",
       "  <tbody>\n",
       "    <tr>\n",
       "      <th>0</th>\n",
       "      <td>MMM</td>\n",
       "      <td>3M Company</td>\n",
       "      <td>reports</td>\n",
       "      <td>Industrials</td>\n",
       "      <td>Industrial Conglomerates</td>\n",
       "      <td>St. Paul, Minnesota</td>\n",
       "      <td>NaN</td>\n",
       "      <td>66740</td>\n",
       "    </tr>\n",
       "    <tr>\n",
       "      <th>1</th>\n",
       "      <td>ABT</td>\n",
       "      <td>Abbott Laboratories</td>\n",
       "      <td>reports</td>\n",
       "      <td>Health Care</td>\n",
       "      <td>Health Care Equipment</td>\n",
       "      <td>North Chicago, Illinois</td>\n",
       "      <td>1964-03-31</td>\n",
       "      <td>1800</td>\n",
       "    </tr>\n",
       "    <tr>\n",
       "      <th>2</th>\n",
       "      <td>ABBV</td>\n",
       "      <td>AbbVie</td>\n",
       "      <td>reports</td>\n",
       "      <td>Health Care</td>\n",
       "      <td>Pharmaceuticals</td>\n",
       "      <td>North Chicago, Illinois</td>\n",
       "      <td>2012-12-31</td>\n",
       "      <td>1551152</td>\n",
       "    </tr>\n",
       "    <tr>\n",
       "      <th>3</th>\n",
       "      <td>ACN</td>\n",
       "      <td>Accenture plc</td>\n",
       "      <td>reports</td>\n",
       "      <td>Information Technology</td>\n",
       "      <td>IT Consulting &amp; Other Services</td>\n",
       "      <td>Dublin, Ireland</td>\n",
       "      <td>2011-07-06</td>\n",
       "      <td>1467373</td>\n",
       "    </tr>\n",
       "    <tr>\n",
       "      <th>4</th>\n",
       "      <td>ATVI</td>\n",
       "      <td>Activision Blizzard</td>\n",
       "      <td>reports</td>\n",
       "      <td>Information Technology</td>\n",
       "      <td>Home Entertainment Software</td>\n",
       "      <td>Santa Monica, California</td>\n",
       "      <td>2015-08-31</td>\n",
       "      <td>718877</td>\n",
       "    </tr>\n",
       "  </tbody>\n",
       "</table>\n",
       "</div>"
      ],
      "text/plain": [
       "  Ticker_symbol             Security SEC_filings             GICS_Sector  \\\n",
       "0           MMM           3M Company     reports             Industrials   \n",
       "1           ABT  Abbott Laboratories     reports             Health Care   \n",
       "2          ABBV               AbbVie     reports             Health Care   \n",
       "3           ACN        Accenture plc     reports  Information Technology   \n",
       "4          ATVI  Activision Blizzard     reports  Information Technology   \n",
       "\n",
       "                GICS_Sub_Industry   Address_of_Headquarters Date_first_added  \\\n",
       "0        Industrial Conglomerates       St. Paul, Minnesota              NaN   \n",
       "1           Health Care Equipment   North Chicago, Illinois       1964-03-31   \n",
       "2                 Pharmaceuticals   North Chicago, Illinois       2012-12-31   \n",
       "3  IT Consulting & Other Services           Dublin, Ireland       2011-07-06   \n",
       "4     Home Entertainment Software  Santa Monica, California       2015-08-31   \n",
       "\n",
       "       CIK  \n",
       "0    66740  \n",
       "1     1800  \n",
       "2  1551152  \n",
       "3  1467373  \n",
       "4   718877  "
      ]
     },
     "execution_count": 5,
     "metadata": {},
     "output_type": "execute_result"
    }
   ],
   "source": [
    "companies.head()"
   ]
  },
  {
   "cell_type": "code",
   "execution_count": 6,
   "metadata": {
    "collapsed": false
   },
   "outputs": [
    {
     "name": "stdout",
     "output_type": "stream",
     "text": [
      "<class 'pandas.core.frame.DataFrame'>\n",
      "Int64Index: 505 entries, 0 to 504\n",
      "Data columns (total 8 columns):\n",
      "Ticker_symbol              505 non-null object\n",
      "Security                   505 non-null object\n",
      "SEC_filings                505 non-null object\n",
      "GICS_Sector                505 non-null object\n",
      "GICS_Sub_Industry          505 non-null object\n",
      "Address_of_Headquarters    505 non-null object\n",
      "Date_first_added           305 non-null object\n",
      "CIK                        505 non-null int64\n",
      "dtypes: int64(1), object(7)\n",
      "memory usage: 35.5+ KB\n"
     ]
    }
   ],
   "source": [
    "companies.info()"
   ]
  },
  {
   "cell_type": "markdown",
   "metadata": {},
   "source": [
    "## Work on this for multiprocessing"
   ]
  },
  {
   "cell_type": "code",
   "execution_count": 7,
   "metadata": {
    "collapsed": true
   },
   "outputs": [],
   "source": [
    "# import multiprocessing as mp\n",
    "\n",
    "# filename = \"datasets/articles.csv\"\n",
    "# chunksize = 100 # processing 100 rows at a time\n",
    "\n",
    "\n",
    "# def process_frame(df):\n",
    "#     # process data frame\n",
    "#     sid = SentimentIntensityAnalyzer()\n",
    "#     lambda_sentimenter = lambda x: pd.Series(\n",
    "#         [sid.polarity_scores(x['Article'])['compound'],\n",
    "#          sid.polarity_scores(x['Article'])['neg'],\n",
    "#          sid.polarity_scores(x['Article'])['neu'],\n",
    "#          sid.polarity_scores(x['Article'])['pos']\n",
    "#         ])\n",
    "#     return len(df)\n",
    "\n",
    "# def get_sentimentaized_articles(companies):\n",
    "#     reader = pd.read_table(filename, chunksize=chunksize)\n",
    "#     pool = mp.Pool(6) # use 4 processes\n",
    "\n",
    "#     funclist = []\n",
    "    \n",
    "#     for df in reader:\n",
    "#             # process each data frame\n",
    "#             f = pool.apply_async(process_frame,[df])\n",
    "#             funclist.append(f)\n",
    "\n",
    "#     result = 0\n",
    "#     for f in funclist:\n",
    "#             result += f.get(timeout=10) # timeout in 10 seconds\n",
    "\n",
    "#     print \"There are %d rows of data\"%(result)\n"
   ]
  },
  {
   "cell_type": "code",
   "execution_count": 8,
   "metadata": {
    "collapsed": false
   },
   "outputs": [],
   "source": [
    "# filenames = sorted(glob.glob('datasets/sentimentalized/articles_part*.csv'))\n",
    "# s_articles = [pd.read_csv(filename, encoding='utf8', index_col=0) for filename in filenames]\n",
    "# s_articles = pd.concat(s_articles, axis=0)\n",
    "# s_articles"
   ]
  },
  {
   "cell_type": "code",
   "execution_count": 9,
   "metadata": {
    "collapsed": false
   },
   "outputs": [],
   "source": [
    "# print len(filenames)\n",
    "# filenames"
   ]
  },
  {
   "cell_type": "code",
   "execution_count": 10,
   "metadata": {
    "collapsed": true
   },
   "outputs": [],
   "source": [
    "def update_sentimentalized_articles(articles):\n",
    "    filenames = sorted(glob.glob('datasets/sentimentalized/articles_part*.csv'))\n",
    "    s_articles = [pd.read_csv(filename, encoding='utf8', index_col=0) for filename in filenames]\n",
    "    s_articles = pd.concat(s_articles, axis=0)\n",
    "    print articles.shape, s_articles.shape\n",
    "    not_s_syms = [x for x in list(articles.Symbol.unique()) if x not in list(s_articles.Symbol.unique())]\n",
    "    print \"need to sentimentalize {} symbols\".format(len(not_s_syms))\n",
    "    \n",
    "    if len(not_s_syms) > 0:\n",
    "        not_s_articles = articles[articles['Symbol'].isin(not_s_syms)]\n",
    "        sid = SentimentIntensityAnalyzer()\n",
    "        lambda_sentimenter = lambda x: pd.Series(\n",
    "            [sid.polarity_scores(x['Article'])['compound'],\n",
    "             sid.polarity_scores(x['Article'])['neg'],\n",
    "             sid.polarity_scores(x['Article'])['neu'],\n",
    "             sid.polarity_scores(x['Article'])['pos']\n",
    "            ])\n",
    "        sents = not_s_articles.apply(lambda_sentimenter, axis=1)\n",
    "        sents.columns = ['compound', 'neg', 'neu', 'pos']\n",
    "        sents = sents.reset_index().drop('index', axis=1)\n",
    "        not_s_articles = not_s_articles.reset_index().drop('index', axis=1)\n",
    "        not_s_articles = pd.concat([not_s_articles, sents], axis=1)\n",
    "        s_articles = pd.concat([s_articles, not_s_articles], axis=0)\n",
    "        not_s_articles.to_csv(\n",
    "            'datasets/sentimentalized/articles_part_{}.csv'.format(len(filenames)+1), \n",
    "            encoding='utf8')\n",
    "        print 'updated sentiments'\n",
    "        return s_articles\n",
    "    \n",
    "    else:\n",
    "        print 'Nothing updated'\n",
    "        return s_articles\n",
    "    \n",
    "def get_sentimentaized_articles(companies):\n",
    "    articles = sn_data.get_articles(companies)\n",
    "    return update_sentimentalized_articles(articles)"
   ]
  },
  {
   "cell_type": "markdown",
   "metadata": {},
   "source": [
    "### need to work on this so it can use multi part files"
   ]
  },
  {
   "cell_type": "code",
   "execution_count": 11,
   "metadata": {
    "collapsed": false
   },
   "outputs": [
    {
     "name": "stdout",
     "output_type": "stream",
     "text": [
      "['PCLN', 'PFG', 'PG', 'PGR', 'PLD', 'PRU', 'PEG', 'PSA', 'PHM', 'PVH', 'QRVO', 'PWR', 'QCOM', 'DGX', 'RRC', 'RTN', 'O', 'RHT', 'REGN', 'RF', 'RSG', 'RAI', 'RHI', 'ROK', 'COL', 'ROP', 'ROST', 'RCL', 'R', 'CRM', 'SCG', 'SLB', 'SNI', 'STX', 'SEE', 'SRE', 'SHW', 'SIG', 'SPG', 'SWKS', 'SLG', 'SNA', 'SO', 'LUV', 'SWN', 'SE', 'SPGI', 'STJ', 'SWK', 'SPLS', 'SBUX', 'STT', 'SRCL', 'SYK', 'STI', 'SYMC', 'SYF', 'SYY', 'TROW', 'TGT', 'TEL', 'TGNA', 'TDC', 'TSO', 'TXN', 'TXT', 'COO', 'HSY', 'TRV', 'TMO', 'TIF', 'TWX', 'TJX', 'TMK', 'TSS', 'TSCO', 'TDG', 'RIG', 'TRIP', 'FOXA', 'FOX', 'TSN', 'UDR', 'ULTA', 'USB', 'UA', 'UA.C', 'UNP', 'UAL', 'UNH', 'UPS', 'URI', 'UTX', 'UHS', 'UNM', 'URBN', 'VFC', 'VLO', 'VAR', 'VTR', 'VRSN', 'VRSK', 'VZ', 'VRTX', 'VIAB', 'V', 'VNO', 'VMC', 'WMT', 'WBA', 'DIS', 'WM', 'WAT', 'WFC', 'HCN', 'WDC', 'WU', 'WRK', 'WY', 'WHR', 'WFM', 'WMB', 'WLTW', 'WEC', 'WYN', 'WYNN', 'XEL', 'XRX', 'XLNX', 'XL', 'XYL', 'YHOO', 'YUM', 'ZBH', 'ZION', 'ZTS']\n",
      "(60470, 6) (60470, 10)\n",
      "need to sentimentalize 0 symbols\n",
      "Nothing updated\n"
     ]
    }
   ],
   "source": [
    "all_articles = get_sentimentaized_articles(companies)"
   ]
  },
  {
   "cell_type": "code",
   "execution_count": 12,
   "metadata": {
    "collapsed": false
   },
   "outputs": [
    {
     "name": "stdout",
     "output_type": "stream",
     "text": [
      "<class 'pandas.core.frame.DataFrame'>\n",
      "Int64Index: 60470 entries, 0 to 1480\n",
      "Data columns (total 10 columns):\n",
      "Article     60470 non-null object\n",
      "Date        60470 non-null object\n",
      "Symbol      60470 non-null object\n",
      "Time        60470 non-null object\n",
      "Title       60470 non-null object\n",
      "Url         60470 non-null object\n",
      "compound    60470 non-null float64\n",
      "neg         60470 non-null float64\n",
      "neu         60470 non-null float64\n",
      "pos         60470 non-null float64\n",
      "dtypes: float64(4), object(6)\n",
      "memory usage: 5.1+ MB\n"
     ]
    }
   ],
   "source": [
    "all_articles.info()"
   ]
  },
  {
   "cell_type": "code",
   "execution_count": null,
   "metadata": {
    "collapsed": false,
    "scrolled": true
   },
   "outputs": [],
   "source": []
  },
  {
   "cell_type": "code",
   "execution_count": 13,
   "metadata": {
    "collapsed": true
   },
   "outputs": [],
   "source": [
    "def get_quote(symbol, start_date='1/1/2014', end_date=date.today().strftime('%m/%d/%Y')):\n",
    "    symbol = symbol.replace('.N', '')\n",
    "    try:\n",
    "        sleep(2)\n",
    "        ret = data.DataReader(symbol, data_source='yahoo', start=start_date, end=end_date)\n",
    "    except (urllib2.URLError, IOError) as e:\n",
    "        print symbol, e.args\n",
    "        sleep(10)\n",
    "        ret = data.DataReader(symbol, data_source='google', start=start_date, end=end_date)\n",
    "        ret['Adj Close'] = None\n",
    "        pass\n",
    "    ret['Symbol'] = symbol\n",
    "    return ret\n",
    "\n",
    "def update_quotes(articles, reset=False):\n",
    "    not_downloaded = False\n",
    "    quotes = False\n",
    "    if not os.path.exists('datasets/daily_quotes.csv'):\n",
    "        not_downloaded = list(articles.Symbol.unique())\n",
    "        print 'Its empty!'\n",
    "    else:\n",
    "        quotes = pd.read_csv('datasets/daily_quotes.csv', encoding='utf8', index_col=0)\n",
    "        not_downloaded = [x for x in list(articles.Symbol.unique()) if x not in list(quotes.Symbol.unique())]\n",
    "        print \"Available symbol quotes: \", len(list(quotes.Symbol.unique()))\n",
    "    \n",
    "    for symbol in not_downloaded:\n",
    "        quote = get_quote(symbol)\n",
    "        if not quotes.empty:\n",
    "            quotes = pd.concat([quotes, quote], axis=0)\n",
    "        else:\n",
    "            quotes = quote\n",
    "        quotes.to_csv('datasets/daily_quotes.csv', encoding='utf8')\n",
    "        \n",
    "    print \"New downloaded symbol quotes: \", len(not_downloaded)\n",
    "    quotes = pd.read_csv('datasets/daily_quotes.csv', encoding='utf8')\n",
    "    return quotes\n",
    "    \n",
    "    "
   ]
  },
  {
   "cell_type": "code",
   "execution_count": 14,
   "metadata": {
    "collapsed": false
   },
   "outputs": [
    {
     "name": "stdout",
     "output_type": "stream",
     "text": [
      "Available symbol quotes:  366\n",
      "New downloaded symbol quotes:  0\n"
     ]
    }
   ],
   "source": [
    "quotes = update_quotes(all_articles)"
   ]
  },
  {
   "cell_type": "markdown",
   "metadata": {},
   "source": [
    "### We may have some problems with these two: `BRKB` and `BFB`"
   ]
  },
  {
   "cell_type": "code",
   "execution_count": 15,
   "metadata": {
    "collapsed": false
   },
   "outputs": [
    {
     "data": {
      "text/plain": [
       "(60470, 10)"
      ]
     },
     "execution_count": 15,
     "metadata": {},
     "output_type": "execute_result"
    }
   ],
   "source": [
    "all_articles.shape"
   ]
  },
  {
   "cell_type": "code",
   "execution_count": 16,
   "metadata": {
    "collapsed": false
   },
   "outputs": [],
   "source": [
    "all_articles.Time = all_articles.Time.apply(lambda x: re.search('[0-9]?[0-9]:[0-9]{1,2}', x).group(0))\n",
    "all_articles['Date'] = pd.to_datetime(all_articles['Date'], format='%Y-%m-%d')"
   ]
  },
  {
   "cell_type": "code",
   "execution_count": 17,
   "metadata": {
    "collapsed": false
   },
   "outputs": [
    {
     "data": {
      "text/html": [
       "<div>\n",
       "<table border=\"1\" class=\"dataframe\">\n",
       "  <thead>\n",
       "    <tr style=\"text-align: right;\">\n",
       "      <th></th>\n",
       "      <th>Date</th>\n",
       "      <th>Close</th>\n",
       "      <th>High</th>\n",
       "      <th>Low</th>\n",
       "      <th>Open</th>\n",
       "      <th>Symbol</th>\n",
       "      <th>Volume</th>\n",
       "    </tr>\n",
       "  </thead>\n",
       "  <tbody>\n",
       "    <tr>\n",
       "      <th>0</th>\n",
       "      <td>2014-01-02</td>\n",
       "      <td>35.53</td>\n",
       "      <td>36.11</td>\n",
       "      <td>35.47</td>\n",
       "      <td>36.05</td>\n",
       "      <td>AEE</td>\n",
       "      <td>1394264.0</td>\n",
       "    </tr>\n",
       "    <tr>\n",
       "      <th>1</th>\n",
       "      <td>2014-01-03</td>\n",
       "      <td>35.40</td>\n",
       "      <td>35.69</td>\n",
       "      <td>35.22</td>\n",
       "      <td>35.63</td>\n",
       "      <td>AEE</td>\n",
       "      <td>1206534.0</td>\n",
       "    </tr>\n",
       "    <tr>\n",
       "      <th>2</th>\n",
       "      <td>2014-01-06</td>\n",
       "      <td>35.76</td>\n",
       "      <td>35.82</td>\n",
       "      <td>35.42</td>\n",
       "      <td>35.70</td>\n",
       "      <td>AEE</td>\n",
       "      <td>2837469.0</td>\n",
       "    </tr>\n",
       "    <tr>\n",
       "      <th>3</th>\n",
       "      <td>2014-01-07</td>\n",
       "      <td>36.22</td>\n",
       "      <td>36.25</td>\n",
       "      <td>35.81</td>\n",
       "      <td>35.81</td>\n",
       "      <td>AEE</td>\n",
       "      <td>1653721.0</td>\n",
       "    </tr>\n",
       "    <tr>\n",
       "      <th>4</th>\n",
       "      <td>2014-01-08</td>\n",
       "      <td>35.94</td>\n",
       "      <td>36.19</td>\n",
       "      <td>35.80</td>\n",
       "      <td>36.14</td>\n",
       "      <td>AEE</td>\n",
       "      <td>1618538.0</td>\n",
       "    </tr>\n",
       "  </tbody>\n",
       "</table>\n",
       "</div>"
      ],
      "text/plain": [
       "        Date  Close   High    Low   Open Symbol     Volume\n",
       "0 2014-01-02  35.53  36.11  35.47  36.05    AEE  1394264.0\n",
       "1 2014-01-03  35.40  35.69  35.22  35.63    AEE  1206534.0\n",
       "2 2014-01-06  35.76  35.82  35.42  35.70    AEE  2837469.0\n",
       "3 2014-01-07  36.22  36.25  35.81  35.81    AEE  1653721.0\n",
       "4 2014-01-08  35.94  36.19  35.80  36.14    AEE  1618538.0"
      ]
     },
     "execution_count": 17,
     "metadata": {},
     "output_type": "execute_result"
    }
   ],
   "source": [
    "quotes = quotes.drop('Adj Close', axis=1)\n",
    "quotes['Date'] = pd.to_datetime(quotes['Date'], format='%Y-%m-%d')\n",
    "quotes.head()"
   ]
  },
  {
   "cell_type": "code",
   "execution_count": 18,
   "metadata": {
    "collapsed": false
   },
   "outputs": [],
   "source": [
    "articles = all_articles.copy()\n",
    "articles = articles[['Date', 'Symbol', 'compound', 'neg', 'neu', 'pos']]"
   ]
  },
  {
   "cell_type": "code",
   "execution_count": 19,
   "metadata": {
    "collapsed": false
   },
   "outputs": [],
   "source": [
    "articles = pd.pivot_table(articles,\n",
    "                          index=['Date', 'Symbol'],\n",
    "                          values=['compound', 'neg', 'neu', 'pos'],\n",
    "                          aggfunc=np.average).reset_index()"
   ]
  },
  {
   "cell_type": "code",
   "execution_count": 20,
   "metadata": {
    "collapsed": false,
    "scrolled": true
   },
   "outputs": [
    {
     "data": {
      "text/html": [
       "<div>\n",
       "<table border=\"1\" class=\"dataframe\">\n",
       "  <thead>\n",
       "    <tr style=\"text-align: right;\">\n",
       "      <th></th>\n",
       "      <th>Date</th>\n",
       "      <th>Symbol</th>\n",
       "      <th>compound</th>\n",
       "      <th>neg</th>\n",
       "      <th>neu</th>\n",
       "      <th>pos</th>\n",
       "    </tr>\n",
       "  </thead>\n",
       "  <tbody>\n",
       "    <tr>\n",
       "      <th>0</th>\n",
       "      <td>2014-01-01</td>\n",
       "      <td>AAL</td>\n",
       "      <td>0.97710</td>\n",
       "      <td>0.035000</td>\n",
       "      <td>0.897</td>\n",
       "      <td>0.068000</td>\n",
       "    </tr>\n",
       "    <tr>\n",
       "      <th>1</th>\n",
       "      <td>2014-01-01</td>\n",
       "      <td>AZO</td>\n",
       "      <td>0.99110</td>\n",
       "      <td>0.055000</td>\n",
       "      <td>0.836</td>\n",
       "      <td>0.109000</td>\n",
       "    </tr>\n",
       "    <tr>\n",
       "      <th>2</th>\n",
       "      <td>2014-01-01</td>\n",
       "      <td>BRKB</td>\n",
       "      <td>-0.99340</td>\n",
       "      <td>0.122000</td>\n",
       "      <td>0.822</td>\n",
       "      <td>0.056000</td>\n",
       "    </tr>\n",
       "    <tr>\n",
       "      <th>3</th>\n",
       "      <td>2014-01-01</td>\n",
       "      <td>CPB</td>\n",
       "      <td>-0.17790</td>\n",
       "      <td>0.079500</td>\n",
       "      <td>0.864</td>\n",
       "      <td>0.056000</td>\n",
       "    </tr>\n",
       "    <tr>\n",
       "      <th>4</th>\n",
       "      <td>2014-01-02</td>\n",
       "      <td>AAPL</td>\n",
       "      <td>0.95785</td>\n",
       "      <td>0.031833</td>\n",
       "      <td>0.876</td>\n",
       "      <td>0.092333</td>\n",
       "    </tr>\n",
       "  </tbody>\n",
       "</table>\n",
       "</div>"
      ],
      "text/plain": [
       "        Date Symbol  compound       neg    neu       pos\n",
       "0 2014-01-01    AAL   0.97710  0.035000  0.897  0.068000\n",
       "1 2014-01-01    AZO   0.99110  0.055000  0.836  0.109000\n",
       "2 2014-01-01   BRKB  -0.99340  0.122000  0.822  0.056000\n",
       "3 2014-01-01    CPB  -0.17790  0.079500  0.864  0.056000\n",
       "4 2014-01-02   AAPL   0.95785  0.031833  0.876  0.092333"
      ]
     },
     "execution_count": 20,
     "metadata": {},
     "output_type": "execute_result"
    }
   ],
   "source": [
    "articles.head()"
   ]
  },
  {
   "cell_type": "code",
   "execution_count": 21,
   "metadata": {
    "collapsed": false
   },
   "outputs": [
    {
     "name": "stdout",
     "output_type": "stream",
     "text": [
      "366 366\n"
     ]
    }
   ],
   "source": [
    "print len(articles['Symbol'].unique()), len(quotes['Symbol'].unique())"
   ]
  },
  {
   "cell_type": "code",
   "execution_count": 22,
   "metadata": {
    "collapsed": false
   },
   "outputs": [
    {
     "name": "stdout",
     "output_type": "stream",
     "text": [
      "(23909, 6) (268075, 7)\n"
     ]
    }
   ],
   "source": [
    "print articles.shape, quotes.shape"
   ]
  },
  {
   "cell_type": "code",
   "execution_count": 23,
   "metadata": {
    "collapsed": true
   },
   "outputs": [],
   "source": [
    "quotes_articles = quotes.set_index(['Date', 'Symbol']).join(\n",
    "    articles.set_index(['Date', 'Symbol']), rsuffix='r').reset_index()"
   ]
  },
  {
   "cell_type": "code",
   "execution_count": 24,
   "metadata": {
    "collapsed": false,
    "scrolled": true
   },
   "outputs": [
    {
     "data": {
      "text/html": [
       "<div>\n",
       "<table border=\"1\" class=\"dataframe\">\n",
       "  <thead>\n",
       "    <tr style=\"text-align: right;\">\n",
       "      <th></th>\n",
       "      <th>Date</th>\n",
       "      <th>Symbol</th>\n",
       "      <th>Close</th>\n",
       "      <th>High</th>\n",
       "      <th>Low</th>\n",
       "      <th>Open</th>\n",
       "      <th>Volume</th>\n",
       "      <th>compound</th>\n",
       "      <th>neg</th>\n",
       "      <th>neu</th>\n",
       "      <th>pos</th>\n",
       "    </tr>\n",
       "  </thead>\n",
       "  <tbody>\n",
       "    <tr>\n",
       "      <th>0</th>\n",
       "      <td>2014-01-02</td>\n",
       "      <td>AEE</td>\n",
       "      <td>35.53</td>\n",
       "      <td>36.11</td>\n",
       "      <td>35.47</td>\n",
       "      <td>36.05</td>\n",
       "      <td>1394264.0</td>\n",
       "      <td>NaN</td>\n",
       "      <td>NaN</td>\n",
       "      <td>NaN</td>\n",
       "      <td>NaN</td>\n",
       "    </tr>\n",
       "    <tr>\n",
       "      <th>1</th>\n",
       "      <td>2014-01-03</td>\n",
       "      <td>AEE</td>\n",
       "      <td>35.40</td>\n",
       "      <td>35.69</td>\n",
       "      <td>35.22</td>\n",
       "      <td>35.63</td>\n",
       "      <td>1206534.0</td>\n",
       "      <td>NaN</td>\n",
       "      <td>NaN</td>\n",
       "      <td>NaN</td>\n",
       "      <td>NaN</td>\n",
       "    </tr>\n",
       "    <tr>\n",
       "      <th>2</th>\n",
       "      <td>2014-01-06</td>\n",
       "      <td>AEE</td>\n",
       "      <td>35.76</td>\n",
       "      <td>35.82</td>\n",
       "      <td>35.42</td>\n",
       "      <td>35.70</td>\n",
       "      <td>2837469.0</td>\n",
       "      <td>NaN</td>\n",
       "      <td>NaN</td>\n",
       "      <td>NaN</td>\n",
       "      <td>NaN</td>\n",
       "    </tr>\n",
       "    <tr>\n",
       "      <th>3</th>\n",
       "      <td>2014-01-07</td>\n",
       "      <td>AEE</td>\n",
       "      <td>36.22</td>\n",
       "      <td>36.25</td>\n",
       "      <td>35.81</td>\n",
       "      <td>35.81</td>\n",
       "      <td>1653721.0</td>\n",
       "      <td>NaN</td>\n",
       "      <td>NaN</td>\n",
       "      <td>NaN</td>\n",
       "      <td>NaN</td>\n",
       "    </tr>\n",
       "    <tr>\n",
       "      <th>4</th>\n",
       "      <td>2014-01-08</td>\n",
       "      <td>AEE</td>\n",
       "      <td>35.94</td>\n",
       "      <td>36.19</td>\n",
       "      <td>35.80</td>\n",
       "      <td>36.14</td>\n",
       "      <td>1618538.0</td>\n",
       "      <td>NaN</td>\n",
       "      <td>NaN</td>\n",
       "      <td>NaN</td>\n",
       "      <td>NaN</td>\n",
       "    </tr>\n",
       "  </tbody>\n",
       "</table>\n",
       "</div>"
      ],
      "text/plain": [
       "        Date Symbol  Close   High    Low   Open     Volume  compound  neg  \\\n",
       "0 2014-01-02    AEE  35.53  36.11  35.47  36.05  1394264.0       NaN  NaN   \n",
       "1 2014-01-03    AEE  35.40  35.69  35.22  35.63  1206534.0       NaN  NaN   \n",
       "2 2014-01-06    AEE  35.76  35.82  35.42  35.70  2837469.0       NaN  NaN   \n",
       "3 2014-01-07    AEE  36.22  36.25  35.81  35.81  1653721.0       NaN  NaN   \n",
       "4 2014-01-08    AEE  35.94  36.19  35.80  36.14  1618538.0       NaN  NaN   \n",
       "\n",
       "   neu  pos  \n",
       "0  NaN  NaN  \n",
       "1  NaN  NaN  \n",
       "2  NaN  NaN  \n",
       "3  NaN  NaN  \n",
       "4  NaN  NaN  "
      ]
     },
     "execution_count": 24,
     "metadata": {},
     "output_type": "execute_result"
    }
   ],
   "source": [
    "quotes_articles.head()"
   ]
  },
  {
   "cell_type": "code",
   "execution_count": 25,
   "metadata": {
    "collapsed": true
   },
   "outputs": [],
   "source": [
    "quotes_articles['Next_Close'] = quotes_articles['Close'].shift(-1)\n",
    "quotes_articles['Next_Open'] = quotes_articles['Open'].shift(-1) # for some possible prediction\n",
    "quotes_articles['Prev_Close'] = quotes_articles['Close'].shift(1)"
   ]
  },
  {
   "cell_type": "code",
   "execution_count": 26,
   "metadata": {
    "collapsed": false,
    "scrolled": true
   },
   "outputs": [
    {
     "data": {
      "text/html": [
       "<div>\n",
       "<table border=\"1\" class=\"dataframe\">\n",
       "  <thead>\n",
       "    <tr style=\"text-align: right;\">\n",
       "      <th></th>\n",
       "      <th>Date</th>\n",
       "      <th>Symbol</th>\n",
       "      <th>Close</th>\n",
       "      <th>High</th>\n",
       "      <th>Low</th>\n",
       "      <th>Open</th>\n",
       "      <th>Volume</th>\n",
       "      <th>compound</th>\n",
       "      <th>neg</th>\n",
       "      <th>neu</th>\n",
       "      <th>pos</th>\n",
       "      <th>Next_Close</th>\n",
       "      <th>Next_Open</th>\n",
       "      <th>Prev_Close</th>\n",
       "    </tr>\n",
       "  </thead>\n",
       "  <tbody>\n",
       "    <tr>\n",
       "      <th>0</th>\n",
       "      <td>2014-01-02</td>\n",
       "      <td>AEE</td>\n",
       "      <td>35.53</td>\n",
       "      <td>36.11</td>\n",
       "      <td>35.47</td>\n",
       "      <td>36.05</td>\n",
       "      <td>1394264.0</td>\n",
       "      <td>NaN</td>\n",
       "      <td>NaN</td>\n",
       "      <td>NaN</td>\n",
       "      <td>NaN</td>\n",
       "      <td>35.40</td>\n",
       "      <td>35.63</td>\n",
       "      <td>NaN</td>\n",
       "    </tr>\n",
       "    <tr>\n",
       "      <th>1</th>\n",
       "      <td>2014-01-03</td>\n",
       "      <td>AEE</td>\n",
       "      <td>35.40</td>\n",
       "      <td>35.69</td>\n",
       "      <td>35.22</td>\n",
       "      <td>35.63</td>\n",
       "      <td>1206534.0</td>\n",
       "      <td>NaN</td>\n",
       "      <td>NaN</td>\n",
       "      <td>NaN</td>\n",
       "      <td>NaN</td>\n",
       "      <td>35.76</td>\n",
       "      <td>35.70</td>\n",
       "      <td>35.53</td>\n",
       "    </tr>\n",
       "    <tr>\n",
       "      <th>2</th>\n",
       "      <td>2014-01-06</td>\n",
       "      <td>AEE</td>\n",
       "      <td>35.76</td>\n",
       "      <td>35.82</td>\n",
       "      <td>35.42</td>\n",
       "      <td>35.70</td>\n",
       "      <td>2837469.0</td>\n",
       "      <td>NaN</td>\n",
       "      <td>NaN</td>\n",
       "      <td>NaN</td>\n",
       "      <td>NaN</td>\n",
       "      <td>36.22</td>\n",
       "      <td>35.81</td>\n",
       "      <td>35.40</td>\n",
       "    </tr>\n",
       "    <tr>\n",
       "      <th>3</th>\n",
       "      <td>2014-01-07</td>\n",
       "      <td>AEE</td>\n",
       "      <td>36.22</td>\n",
       "      <td>36.25</td>\n",
       "      <td>35.81</td>\n",
       "      <td>35.81</td>\n",
       "      <td>1653721.0</td>\n",
       "      <td>NaN</td>\n",
       "      <td>NaN</td>\n",
       "      <td>NaN</td>\n",
       "      <td>NaN</td>\n",
       "      <td>35.94</td>\n",
       "      <td>36.14</td>\n",
       "      <td>35.76</td>\n",
       "    </tr>\n",
       "    <tr>\n",
       "      <th>4</th>\n",
       "      <td>2014-01-08</td>\n",
       "      <td>AEE</td>\n",
       "      <td>35.94</td>\n",
       "      <td>36.19</td>\n",
       "      <td>35.80</td>\n",
       "      <td>36.14</td>\n",
       "      <td>1618538.0</td>\n",
       "      <td>NaN</td>\n",
       "      <td>NaN</td>\n",
       "      <td>NaN</td>\n",
       "      <td>NaN</td>\n",
       "      <td>36.04</td>\n",
       "      <td>36.02</td>\n",
       "      <td>36.22</td>\n",
       "    </tr>\n",
       "  </tbody>\n",
       "</table>\n",
       "</div>"
      ],
      "text/plain": [
       "        Date Symbol  Close   High    Low   Open     Volume  compound  neg  \\\n",
       "0 2014-01-02    AEE  35.53  36.11  35.47  36.05  1394264.0       NaN  NaN   \n",
       "1 2014-01-03    AEE  35.40  35.69  35.22  35.63  1206534.0       NaN  NaN   \n",
       "2 2014-01-06    AEE  35.76  35.82  35.42  35.70  2837469.0       NaN  NaN   \n",
       "3 2014-01-07    AEE  36.22  36.25  35.81  35.81  1653721.0       NaN  NaN   \n",
       "4 2014-01-08    AEE  35.94  36.19  35.80  36.14  1618538.0       NaN  NaN   \n",
       "\n",
       "   neu  pos  Next_Close  Next_Open  Prev_Close  \n",
       "0  NaN  NaN       35.40      35.63         NaN  \n",
       "1  NaN  NaN       35.76      35.70       35.53  \n",
       "2  NaN  NaN       36.22      35.81       35.40  \n",
       "3  NaN  NaN       35.94      36.14       35.76  \n",
       "4  NaN  NaN       36.04      36.02       36.22  "
      ]
     },
     "execution_count": 26,
     "metadata": {},
     "output_type": "execute_result"
    }
   ],
   "source": [
    "quotes_articles.head()"
   ]
  },
  {
   "cell_type": "markdown",
   "metadata": {},
   "source": [
    "### This code needs to be cleaned. In first quote of symbols Prev_Close should be NaN also in last quote of symbol Next_close should be NaN"
   ]
  },
  {
   "cell_type": "code",
   "execution_count": 27,
   "metadata": {
    "collapsed": false,
    "scrolled": true
   },
   "outputs": [
    {
     "name": "stderr",
     "output_type": "stream",
     "text": [
      "/home/ali/.local/lib/python2.7/site-packages/ipykernel/__main__.py:4: SettingWithCopyWarning: \n",
      "A value is trying to be set on a copy of a slice from a DataFrame\n",
      "\n",
      "See the caveats in the documentation: http://pandas.pydata.org/pandas-docs/stable/indexing.html#indexing-view-versus-copy\n",
      "/home/ali/.local/lib/python2.7/site-packages/ipykernel/__main__.py:5: SettingWithCopyWarning: \n",
      "A value is trying to be set on a copy of a slice from a DataFrame\n",
      "\n",
      "See the caveats in the documentation: http://pandas.pydata.org/pandas-docs/stable/indexing.html#indexing-view-versus-copy\n"
     ]
    }
   ],
   "source": [
    "for symbol in quotes_articles['Symbol'].unique():\n",
    "    min_date = quotes_articles[(quotes_articles['Symbol'] == symbol)].Date.min()\n",
    "    max_date = quotes_articles[(quotes_articles['Symbol'] == symbol)].Date.max()\n",
    "    quotes_articles.Prev_Close[(quotes_articles['Symbol'] == symbol) & (quotes_articles['Date'] == min_date)] = None\n",
    "    quotes_articles.Prev_Close[(quotes_articles['Symbol'] == symbol) & (quotes_articles['Date'] == max_date)] = None"
   ]
  },
  {
   "cell_type": "code",
   "execution_count": 28,
   "metadata": {
    "collapsed": false,
    "scrolled": true
   },
   "outputs": [
    {
     "data": {
      "text/html": [
       "<div>\n",
       "<table border=\"1\" class=\"dataframe\">\n",
       "  <thead>\n",
       "    <tr style=\"text-align: right;\">\n",
       "      <th></th>\n",
       "      <th>Date</th>\n",
       "      <th>Symbol</th>\n",
       "      <th>Close</th>\n",
       "      <th>High</th>\n",
       "      <th>Low</th>\n",
       "      <th>Open</th>\n",
       "      <th>Volume</th>\n",
       "      <th>compound</th>\n",
       "      <th>neg</th>\n",
       "      <th>neu</th>\n",
       "      <th>pos</th>\n",
       "      <th>Next_Close</th>\n",
       "      <th>Next_Open</th>\n",
       "      <th>Prev_Close</th>\n",
       "    </tr>\n",
       "  </thead>\n",
       "  <tbody>\n",
       "    <tr>\n",
       "      <th>0</th>\n",
       "      <td>2014-01-02</td>\n",
       "      <td>AEE</td>\n",
       "      <td>35.53</td>\n",
       "      <td>36.11</td>\n",
       "      <td>35.47</td>\n",
       "      <td>36.05</td>\n",
       "      <td>1394264.0</td>\n",
       "      <td>NaN</td>\n",
       "      <td>NaN</td>\n",
       "      <td>NaN</td>\n",
       "      <td>NaN</td>\n",
       "      <td>35.40</td>\n",
       "      <td>35.63</td>\n",
       "      <td>NaN</td>\n",
       "    </tr>\n",
       "    <tr>\n",
       "      <th>1</th>\n",
       "      <td>2014-01-03</td>\n",
       "      <td>AEE</td>\n",
       "      <td>35.40</td>\n",
       "      <td>35.69</td>\n",
       "      <td>35.22</td>\n",
       "      <td>35.63</td>\n",
       "      <td>1206534.0</td>\n",
       "      <td>NaN</td>\n",
       "      <td>NaN</td>\n",
       "      <td>NaN</td>\n",
       "      <td>NaN</td>\n",
       "      <td>35.76</td>\n",
       "      <td>35.70</td>\n",
       "      <td>35.53</td>\n",
       "    </tr>\n",
       "    <tr>\n",
       "      <th>2</th>\n",
       "      <td>2014-01-06</td>\n",
       "      <td>AEE</td>\n",
       "      <td>35.76</td>\n",
       "      <td>35.82</td>\n",
       "      <td>35.42</td>\n",
       "      <td>35.70</td>\n",
       "      <td>2837469.0</td>\n",
       "      <td>NaN</td>\n",
       "      <td>NaN</td>\n",
       "      <td>NaN</td>\n",
       "      <td>NaN</td>\n",
       "      <td>36.22</td>\n",
       "      <td>35.81</td>\n",
       "      <td>35.40</td>\n",
       "    </tr>\n",
       "    <tr>\n",
       "      <th>3</th>\n",
       "      <td>2014-01-07</td>\n",
       "      <td>AEE</td>\n",
       "      <td>36.22</td>\n",
       "      <td>36.25</td>\n",
       "      <td>35.81</td>\n",
       "      <td>35.81</td>\n",
       "      <td>1653721.0</td>\n",
       "      <td>NaN</td>\n",
       "      <td>NaN</td>\n",
       "      <td>NaN</td>\n",
       "      <td>NaN</td>\n",
       "      <td>35.94</td>\n",
       "      <td>36.14</td>\n",
       "      <td>35.76</td>\n",
       "    </tr>\n",
       "    <tr>\n",
       "      <th>4</th>\n",
       "      <td>2014-01-08</td>\n",
       "      <td>AEE</td>\n",
       "      <td>35.94</td>\n",
       "      <td>36.19</td>\n",
       "      <td>35.80</td>\n",
       "      <td>36.14</td>\n",
       "      <td>1618538.0</td>\n",
       "      <td>NaN</td>\n",
       "      <td>NaN</td>\n",
       "      <td>NaN</td>\n",
       "      <td>NaN</td>\n",
       "      <td>36.04</td>\n",
       "      <td>36.02</td>\n",
       "      <td>36.22</td>\n",
       "    </tr>\n",
       "  </tbody>\n",
       "</table>\n",
       "</div>"
      ],
      "text/plain": [
       "        Date Symbol  Close   High    Low   Open     Volume  compound  neg  \\\n",
       "0 2014-01-02    AEE  35.53  36.11  35.47  36.05  1394264.0       NaN  NaN   \n",
       "1 2014-01-03    AEE  35.40  35.69  35.22  35.63  1206534.0       NaN  NaN   \n",
       "2 2014-01-06    AEE  35.76  35.82  35.42  35.70  2837469.0       NaN  NaN   \n",
       "3 2014-01-07    AEE  36.22  36.25  35.81  35.81  1653721.0       NaN  NaN   \n",
       "4 2014-01-08    AEE  35.94  36.19  35.80  36.14  1618538.0       NaN  NaN   \n",
       "\n",
       "   neu  pos  Next_Close  Next_Open  Prev_Close  \n",
       "0  NaN  NaN       35.40      35.63         NaN  \n",
       "1  NaN  NaN       35.76      35.70       35.53  \n",
       "2  NaN  NaN       36.22      35.81       35.40  \n",
       "3  NaN  NaN       35.94      36.14       35.76  \n",
       "4  NaN  NaN       36.04      36.02       36.22  "
      ]
     },
     "execution_count": 28,
     "metadata": {},
     "output_type": "execute_result"
    }
   ],
   "source": [
    "quotes_articles.head()"
   ]
  },
  {
   "cell_type": "code",
   "execution_count": null,
   "metadata": {
    "collapsed": true
   },
   "outputs": [],
   "source": [
    "slopesfunc = lambda x: pd.Series([\n",
    "        x['Close'] - x['Prev_Close'],\n",
    "        x['Next_Close'] - x['Close'],\n",
    "        (x['Next_Close'] - x['Close']) - (x['Close'] - x['Prev_Close']),\n",
    "    ])"
   ]
  },
  {
   "cell_type": "code",
   "execution_count": null,
   "metadata": {
    "collapsed": false,
    "scrolled": true
   },
   "outputs": [],
   "source": [
    "tmp = quotes_articles.apply(slopesfunc, axis=1)\n",
    "tmp.columns = ['Prev_Slope', 'Next_Slope', 'Diff_Slope']"
   ]
  },
  {
   "cell_type": "code",
   "execution_count": null,
   "metadata": {
    "collapsed": false
   },
   "outputs": [],
   "source": [
    "quotes_articles = pd.concat([quotes_articles, tmp], axis=1)"
   ]
  },
  {
   "cell_type": "code",
   "execution_count": null,
   "metadata": {
    "collapsed": false
   },
   "outputs": [],
   "source": [
    "has_news = quotes_articles[(quotes_articles['compound'].notnull())]\n",
    "has_news.head()"
   ]
  },
  {
   "cell_type": "code",
   "execution_count": null,
   "metadata": {
    "collapsed": true
   },
   "outputs": [],
   "source": []
  },
  {
   "cell_type": "code",
   "execution_count": null,
   "metadata": {
    "collapsed": false
   },
   "outputs": [],
   "source": [
    "def get_cv(target):\n",
    "    return StratifiedKFold(target, n_folds=3, shuffle=True, random_state=41)\n",
    "\n",
    "def score(model, data, target):\n",
    "    model.fit(data, target)\n",
    "    \n",
    "    return model.score(data, target)\n",
    "def grid_search(model, params, cv):\n",
    "    return GridSearchCV(estimator=model, \n",
    "                    param_grid=params,\n",
    "                    cv=cv\n",
    "                   )\n",
    "def check_regression_results(y_true, y_pred):\n",
    "    print \"Explained variance regression score: \", explained_variance_score(y_true, y_pred, multioutput='uniform_average')\n",
    "    print \"Mean Absolute Error:\", mean_absolute_error(y_true, y_pred)\n",
    "\n",
    "def draw_feature_importance(model, data):\n",
    "    importances = model.feature_importances_\n",
    "    std = np.std([tree.feature_importances_ for tree in model.estimators_], axis=0)\n",
    "    indices = np.argsort(importances)[::-1]\n",
    "    feature_names = data.columns\n",
    "    # Plot the feature importances of the model\n",
    "    plt.figure(figsize=(20,15))\n",
    "    plt.title(\"Feature importances\")\n",
    "    plt.bar(range(data.shape[1]), importances[indices],\n",
    "            color=\"r\", yerr=std[indices], align=\"center\")\n",
    "    plt.xticks(range(data.shape[1]), feature_names[indices], rotation=90)\n",
    "    plt.xlim([-1, data.shape[1]])\n",
    "    plt.show()\n",
    "\n",
    "def model_test_metrics(model, data, target):\n",
    "    print \"Test Data score: \", model.fit(data, target).score(data, target)\n",
    "    check_regression_results(target, model.predict(data))\n",
    "\n",
    "def evaluate_model(model, data, target, params=None, draw_features=True, verbose=True):\n",
    "    train_data, test_data, train_target, test_target=train_test_split(data, target)\n",
    "#     print score(model, train_data, train_target), \"\\n\"\n",
    "    cv=get_cv(train_target)\n",
    "    if params:\n",
    "        grid=grid_search(model, params, cv)\n",
    "    \n",
    "        grid.fit(train_data, train_target)\n",
    "        model = grid.best_estimator_\n",
    "        if verbose:\n",
    "            print \"Best Model after Grid Search:\\n\", model\n",
    "        \n",
    "    else:\n",
    "        model.fit(train_data, train_target)\n",
    "        \n",
    "    s=cross_val_score(model, train_data, train_target, cv=cv, n_jobs=-1)\n",
    "    if verbose:\n",
    "        print \"Mean score of the model is: {}\".format(s.mean())\n",
    "        predictions = model.predict(test_data)\n",
    "        check_regression_results(test_target, predictions)\n",
    "\n",
    "    if draw_features:\n",
    "        draw_feature_importance(model, train_data)\n",
    "    return model"
   ]
  },
  {
   "cell_type": "code",
   "execution_count": null,
   "metadata": {
    "collapsed": false
   },
   "outputs": [],
   "source": []
  },
  {
   "cell_type": "code",
   "execution_count": null,
   "metadata": {
    "collapsed": false
   },
   "outputs": [],
   "source": [
    "plt.figure(figsize=(25,15))\n",
    "sns.heatmap(has_news.corr(), vmax=.3, square=True,\n",
    "            linewidths=.5, cbar_kws={\"shrink\": .5})"
   ]
  },
  {
   "cell_type": "code",
   "execution_count": null,
   "metadata": {
    "collapsed": false
   },
   "outputs": [],
   "source": [
    "has_news = has_news.dropna()"
   ]
  },
  {
   "cell_type": "code",
   "execution_count": null,
   "metadata": {
    "collapsed": true
   },
   "outputs": [],
   "source": [
    "x = has_news[['Close', 'High', 'Low', 'Open', 'Volume', 'compound', 'neg', 'neu', 'pos', 'Next_Open', 'Prev_Slope']]\n",
    "x2 = has_news[['compound', 'neg', 'neu', 'pos']]\n",
    "y = has_news['Diff_Slope']"
   ]
  },
  {
   "cell_type": "code",
   "execution_count": null,
   "metadata": {
    "collapsed": false
   },
   "outputs": [],
   "source": [
    "plt.figure(figsize=(25,15))\n",
    "sns.heatmap(x.corr(), vmax=.3, square=True,\n",
    "            linewidths=.5, cbar_kws={\"shrink\": .5})"
   ]
  },
  {
   "cell_type": "code",
   "execution_count": null,
   "metadata": {
    "collapsed": false
   },
   "outputs": [],
   "source": [
    "plt.figure(figsize=(25,15))\n",
    "sns.heatmap(x2.corr(), vmax=.3, square=True,\n",
    "            linewidths=.5, cbar_kws={\"shrink\": .5})"
   ]
  },
  {
   "cell_type": "code",
   "execution_count": null,
   "metadata": {
    "collapsed": false
   },
   "outputs": [],
   "source": [
    "x_train, x_test, y_train, y_test=train_test_split(x, y, test_size=0.3)\n",
    "x2_train, x2_test, y2_train, y2_test=train_test_split(x2, y, test_size=0.3)"
   ]
  },
  {
   "cell_type": "code",
   "execution_count": null,
   "metadata": {
    "collapsed": false
   },
   "outputs": [],
   "source": [
    "# params = {\n",
    "#     'n_estimators': [10, 20, 50, 100, 200],\n",
    "#     'max_depth': [None,1, 2, 3, 4, 5],\n",
    "#     'min_samples_split': [2, 10, 25, 50, 100],\n",
    "# #     'min_samples_leaf': [1, 2, 3, 4, 5, 10]\n",
    "# }\n",
    "\n",
    "# %time lr = evaluate_model(LinearRegression(n_jobs=-1), x_train, y_train, draw_features=False)\n",
    "# lr = evaluate_model(LinearRegression(n_jobs=-1), x2_train, y2_train, draw_features=False)"
   ]
  },
  {
   "cell_type": "code",
   "execution_count": null,
   "metadata": {
    "collapsed": false
   },
   "outputs": [],
   "source": [
    "# lr_predictions = lr.predict(x_test)"
   ]
  },
  {
   "cell_type": "code",
   "execution_count": null,
   "metadata": {
    "collapsed": false
   },
   "outputs": [],
   "source": [
    "# fig, ax = plt.subplots()\n",
    "# ax.scatter(y_test, lr_predictions)\n",
    "# ax.plot([lr_predictions.min(), lr_predictions.max()], [lr_predictions.min(), lr_predictions.max()], 'k--', lw=2)\n",
    "# ax.set_xlabel('Measured')\n",
    "# ax.set_ylabel('Predicted')\n",
    "# plt.figure(figsize=(1,1))\n",
    "# plt.show()"
   ]
  },
  {
   "cell_type": "code",
   "execution_count": null,
   "metadata": {
    "collapsed": false
   },
   "outputs": [],
   "source": [
    "%time dt=evaluate_model(DecisionTreeRegressor(), x_train, y_train, draw_features=False)"
   ]
  },
  {
   "cell_type": "code",
   "execution_count": null,
   "metadata": {
    "collapsed": true
   },
   "outputs": [],
   "source": [
    "dt_predictions = dt.predict(x_test)"
   ]
  },
  {
   "cell_type": "code",
   "execution_count": null,
   "metadata": {
    "collapsed": false
   },
   "outputs": [],
   "source": [
    "fig, ax = plt.subplots()\n",
    "ax.scatter(y_test, dt_predictions)\n",
    "ax.plot([dt_predictions.min(), dt_predictions.max()], [dt_predictions.min(), dt_predictions.max()], 'k--', lw=2)\n",
    "ax.set_xlabel('Measured')\n",
    "ax.set_ylabel('Predicted')\n",
    "plt.figure(figsize=(1,1))\n",
    "plt.show()"
   ]
  },
  {
   "cell_type": "code",
   "execution_count": null,
   "metadata": {
    "collapsed": true
   },
   "outputs": [],
   "source": []
  },
  {
   "cell_type": "code",
   "execution_count": null,
   "metadata": {
    "collapsed": false
   },
   "outputs": [],
   "source": [
    "%time rf=evaluate_model(RandomForestRegressor(n_jobs=-1), x_train, y_train)"
   ]
  },
  {
   "cell_type": "code",
   "execution_count": null,
   "metadata": {
    "collapsed": false
   },
   "outputs": [],
   "source": [
    "rf_predictions = rf.predict(x_test)\n",
    "print rf.score(x_test, rf_predictions)\n",
    "print rf.score(x_test, y_test)"
   ]
  },
  {
   "cell_type": "code",
   "execution_count": null,
   "metadata": {
    "collapsed": false
   },
   "outputs": [],
   "source": [
    "fig, ax = plt.subplots()\n",
    "ax.scatter(y_test, rf_predictions)\n",
    "ax.plot([rf_predictions.min(), rf_predictions.max()], [rf_predictions.min(), rf_predictions.max()], 'k--', lw=2)\n",
    "ax.set_xlabel('Measured')\n",
    "ax.set_ylabel('Predicted')\n",
    "plt.figure(figsize=(20,15))\n",
    "plt.show()"
   ]
  },
  {
   "cell_type": "code",
   "execution_count": null,
   "metadata": {
    "collapsed": false
   },
   "outputs": [],
   "source": [
    "%time et=evaluate_model(ExtraTreesRegressor(n_jobs=-1), x_train, y_train)"
   ]
  },
  {
   "cell_type": "code",
   "execution_count": null,
   "metadata": {
    "collapsed": false
   },
   "outputs": [],
   "source": [
    "et_predictions = et.predict(x_test)\n",
    "et.score(x_test, et_predictions)"
   ]
  },
  {
   "cell_type": "code",
   "execution_count": null,
   "metadata": {
    "collapsed": false
   },
   "outputs": [],
   "source": [
    "fig, ax = plt.subplots()\n",
    "ax.scatter(y_test, et_predictions)\n",
    "ax.plot([et_predictions.min(), et_predictions.max()], [et_predictions.min(), et_predictions.max()], 'k--', lw=2)\n",
    "ax.set_xlabel('Measured')\n",
    "ax.set_ylabel('Predicted')\n",
    "plt.figure(figsize=(20,15))\n",
    "plt.show()"
   ]
  },
  {
   "cell_type": "code",
   "execution_count": null,
   "metadata": {
    "collapsed": false
   },
   "outputs": [],
   "source": [
    "params = {\n",
    "    'n_estimators': [10, 20, 50, 100, 200],\n",
    "    'max_depth': [None,1, 2, 3, 4, 5],\n",
    "    'min_samples_split': [2, 10, 25, 50, 100],\n",
    "#     'min_samples_leaf': [1, 2, 3, 4, 5, 10]\n",
    "}\n",
    "%time rf2=evaluate_model(RandomForestRegressor(n_jobs=-1), x_train, y_train, params=params)"
   ]
  },
  {
   "cell_type": "code",
   "execution_count": null,
   "metadata": {
    "collapsed": false
   },
   "outputs": [],
   "source": [
    "rf2_predictions = rf2.predict(x_test)\n",
    "rf2.score(x_test, rf2_predictions)"
   ]
  },
  {
   "cell_type": "code",
   "execution_count": null,
   "metadata": {
    "collapsed": false
   },
   "outputs": [],
   "source": [
    "fig, ax = plt.subplots()\n",
    "ax.scatter(y_test, rf2_predictions)\n",
    "ax.plot([rf2_predictions.min(), rf2_predictions.max()], [rf2_predictions.min(), rf2_predictions.max()], 'k--', lw=2)\n",
    "ax.set_xlabel('Measured')\n",
    "ax.set_ylabel('Predicted')\n",
    "plt.figure(figsize=(20,15))\n",
    "plt.show()"
   ]
  },
  {
   "cell_type": "code",
   "execution_count": null,
   "metadata": {
    "collapsed": false
   },
   "outputs": [],
   "source": [
    "params = {\n",
    "    'n_estimators': [10, 20, 50, 100, 200],\n",
    "    'max_depth': [None,1, 2, 3, 4, 5],\n",
    "    'min_samples_split': [2, 10, 25, 50, 100],\n",
    "}\n",
    "%time et2=evaluate_model(ExtraTreesRegressor(n_jobs=-1), x_train, y_train, params=params)"
   ]
  },
  {
   "cell_type": "code",
   "execution_count": null,
   "metadata": {
    "collapsed": false
   },
   "outputs": [],
   "source": [
    "et2_predictions = et2.predict(x_test)\n",
    "et2.score(x_test, et2_predictions)"
   ]
  },
  {
   "cell_type": "code",
   "execution_count": null,
   "metadata": {
    "collapsed": false
   },
   "outputs": [],
   "source": [
    "fig, ax = plt.subplots()\n",
    "ax.scatter(y_test, et2_predictions)\n",
    "ax.plot([et2_predictions.min(), et2_predictions.max()], [et2_predictions.min(), et2_predictions.max()], 'k--', lw=2)\n",
    "ax.set_xlabel('Measured')\n",
    "ax.set_ylabel('Predicted')\n",
    "plt.figure(figsize=(20,15))\n",
    "plt.show()"
   ]
  },
  {
   "cell_type": "code",
   "execution_count": null,
   "metadata": {
    "collapsed": false
   },
   "outputs": [],
   "source": [
    "# params = {\n",
    "#     'l1_ratio': [.1, .3, .5, .7, .9],\n",
    "#     'n_alphas': [100],\n",
    "#     'normalize': [True, False],\n",
    "# }\n",
    "# %time en=evaluate_model(ElasticNetCV(n_jobs=-1), x_train, y_train, params)"
   ]
  },
  {
   "cell_type": "code",
   "execution_count": null,
   "metadata": {
    "collapsed": true
   },
   "outputs": [],
   "source": []
  },
  {
   "cell_type": "code",
   "execution_count": null,
   "metadata": {
    "collapsed": true
   },
   "outputs": [],
   "source": []
  },
  {
   "cell_type": "code",
   "execution_count": null,
   "metadata": {
    "collapsed": true
   },
   "outputs": [],
   "source": []
  },
  {
   "cell_type": "code",
   "execution_count": null,
   "metadata": {
    "collapsed": true
   },
   "outputs": [],
   "source": []
  },
  {
   "cell_type": "code",
   "execution_count": null,
   "metadata": {
    "collapsed": true
   },
   "outputs": [],
   "source": []
  },
  {
   "cell_type": "code",
   "execution_count": null,
   "metadata": {
    "collapsed": true
   },
   "outputs": [],
   "source": []
  },
  {
   "cell_type": "code",
   "execution_count": null,
   "metadata": {
    "collapsed": true
   },
   "outputs": [],
   "source": []
  },
  {
   "cell_type": "code",
   "execution_count": null,
   "metadata": {
    "collapsed": true
   },
   "outputs": [],
   "source": [
    "# params = {\n",
    "#     'n_estimators': [10, 20, 50, 100, 200],\n",
    "#     'max_depth': [None,1, 2, 3, 4, 5],\n",
    "#     'min_samples_split': [2, 10, 25, 50, 100],\n",
    "# #     'min_samples_leaf': [1, 2, 3, 4, 5, 10]\n",
    "# }\n",
    "# start_time = time.time()\n",
    "# rf=evaluate_model(RandomForestRegressor(n_jobs=-1), x_train, y_train, params)\n",
    "# print 'This operation took '+ str(time.time() - start_time) + \" seconds\""
   ]
  },
  {
   "cell_type": "code",
   "execution_count": null,
   "metadata": {
    "collapsed": true
   },
   "outputs": [],
   "source": []
  },
  {
   "cell_type": "code",
   "execution_count": null,
   "metadata": {
    "collapsed": true
   },
   "outputs": [],
   "source": []
  },
  {
   "cell_type": "code",
   "execution_count": null,
   "metadata": {
    "collapsed": true
   },
   "outputs": [],
   "source": []
  },
  {
   "cell_type": "code",
   "execution_count": null,
   "metadata": {
    "collapsed": true
   },
   "outputs": [],
   "source": []
  },
  {
   "cell_type": "code",
   "execution_count": null,
   "metadata": {
    "collapsed": true
   },
   "outputs": [],
   "source": []
  },
  {
   "cell_type": "code",
   "execution_count": null,
   "metadata": {
    "collapsed": true
   },
   "outputs": [],
   "source": []
  },
  {
   "cell_type": "code",
   "execution_count": null,
   "metadata": {
    "collapsed": true
   },
   "outputs": [],
   "source": []
  }
 ],
 "metadata": {
  "anaconda-cloud": {},
  "kernelspec": {
   "display_name": "Python [conda root]",
   "language": "python",
   "name": "conda-root-py"
  },
  "language_info": {
   "codemirror_mode": {
    "name": "ipython",
    "version": 2
   },
   "file_extension": ".py",
   "mimetype": "text/x-python",
   "name": "python",
   "nbconvert_exporter": "python",
   "pygments_lexer": "ipython2",
   "version": "2.7.12"
  }
 },
 "nbformat": 4,
 "nbformat_minor": 1
}
