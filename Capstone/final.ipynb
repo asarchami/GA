{
 "cells": [
  {
   "cell_type": "markdown",
   "metadata": {
    "nbpresent": {
     "id": "7c4f7272-3941-4df3-baf8-7a6c6f2b9308"
    }
   },
   "source": [
    "# Predicting Future Stock Prices Based on Current News\n",
    "## or effect of news sentiment on stock prices"
   ]
  },
  {
   "cell_type": "code",
   "execution_count": 1,
   "metadata": {
    "collapsed": false,
    "nbpresent": {
     "id": "d0529cbf-64b0-4f90-bd5c-2ce9d1942c6f"
    }
   },
   "outputs": [],
   "source": [
    "from bs4 import BeautifulSoup\n",
    "import httplib\n",
    "import urllib2\n",
    "import pandas as pd\n",
    "import numpy as np\n",
    "\n",
    "from datetime import date, timedelta, datetime\n",
    "from time import sleep\n",
    "import os.path\n",
    "import re\n",
    "import random\n",
    "import matplotlib.pyplot as plt\n",
    "%matplotlib inline"
   ]
  },
  {
   "cell_type": "markdown",
   "metadata": {
    "nbpresent": {
     "id": "097966ba-c59e-4a6c-973b-3c3984d8c7e7"
    }
   },
   "source": [
    "## Data\n",
    "My capstone project is about effects of news on stock prices. for that I need to do my study on a well publicized stock so usually S&P 500 companies have better news coverage. Since choosing a particular stock can led to some bias and overfitting I decided to go with more than one which leads to problem of choosing those stocks. Since each stock belongs to a particular industry and usually news about a particular stock can affect the whole industry and vice versa I decided to do my study on multiple stocks in multiple industries. By using this approach we can even find out which industries are more sensitive to news.\n",
    "\n",
    "There is a wikipedia page containig all S&P 500 companies names and in formation so we start from there."
   ]
  },
  {
   "cell_type": "code",
   "execution_count": 2,
   "metadata": {
    "collapsed": false,
    "nbpresent": {
     "id": "8626f9ad-8e2a-4541-b71c-634e0fc02bb4"
    }
   },
   "outputs": [],
   "source": [
    "if not os.path.exists('datasets/s_p_500.csv'):\n",
    "    s_p_500 = pd.read_html('http://en.wikipedia.org/wiki/List_of_S%26P_500_companies', attrs = {\"class\":'wikitable sortable'}, header = 0)[0]\n",
    "    s_p_500.to_csv('datasets/s_p_500.csv', encoding = \"utf-8\")\n",
    "else:\n",
    "    s_p_500 = pd.read_csv('datasets/s_p_500.csv', index_col = 0)\n",
    "\n",
    "s_p_500.columns = [x.strip().replace(' ', '_') for x in s_p_500.columns]\n",
    "s_p_500.Ticker_symbol = s_p_500.Ticker_symbol.apply(lambda x: x.replace('-', ''))\n",
    "s_p_500['Ticker_symbol'] = s_p_500['Ticker_symbol'].apply(lambda x: x.replace('.N', ''))"
   ]
  },
  {
   "cell_type": "markdown",
   "metadata": {
    "nbpresent": {
     "id": "0eea6699-891b-4425-b52c-dd82f1a995d3"
    }
   },
   "source": [
    "Now we can identify all industries"
   ]
  },
  {
   "cell_type": "code",
   "execution_count": 3,
   "metadata": {
    "collapsed": false,
    "nbpresent": {
     "id": "cb0d93f5-9830-43e6-9313-222a10c555ca"
    }
   },
   "outputs": [
    {
     "data": {
      "text/plain": [
       "array(['Industrials', 'Health Care', 'Information Technology',\n",
       "       'Consumer Discretionary', 'Utilities', 'Financials', 'Materials',\n",
       "       'Consumer Staples', 'Real Estate', 'Energy',\n",
       "       'Telecommunications Services'], dtype=object)"
      ]
     },
     "execution_count": 3,
     "metadata": {},
     "output_type": "execute_result"
    }
   ],
   "source": [
    "industries = s_p_500.GICS_Sector.unique()\n",
    "industries"
   ]
  },
  {
   "cell_type": "markdown",
   "metadata": {
    "nbpresent": {
     "id": "1114cc8e-6480-4257-9003-5a420d43d67f"
    }
   },
   "source": [
    "We are going to use 3 companies in each industry"
   ]
  },
  {
   "cell_type": "code",
   "execution_count": 4,
   "metadata": {
    "collapsed": false,
    "nbpresent": {
     "id": "5bc21ca1-a184-4cbc-b9c4-f97c7f515f3d"
    }
   },
   "outputs": [
    {
     "data": {
      "text/html": [
       "<div>\n",
       "<table border=\"1\" class=\"dataframe\">\n",
       "  <thead>\n",
       "    <tr style=\"text-align: right;\">\n",
       "      <th></th>\n",
       "      <th>Ticker_symbol</th>\n",
       "      <th>Security</th>\n",
       "      <th>SEC_filings</th>\n",
       "      <th>GICS_Sector</th>\n",
       "      <th>GICS_Sub_Industry</th>\n",
       "      <th>Address_of_Headquarters</th>\n",
       "      <th>Date_first_added</th>\n",
       "      <th>CIK</th>\n",
       "    </tr>\n",
       "  </thead>\n",
       "  <tbody>\n",
       "    <tr>\n",
       "      <th>0</th>\n",
       "      <td>MMM</td>\n",
       "      <td>3M Company</td>\n",
       "      <td>reports</td>\n",
       "      <td>Industrials</td>\n",
       "      <td>Industrial Conglomerates</td>\n",
       "      <td>St. Paul, Minnesota</td>\n",
       "      <td>NaN</td>\n",
       "      <td>66740</td>\n",
       "    </tr>\n",
       "    <tr>\n",
       "      <th>5</th>\n",
       "      <td>AYI</td>\n",
       "      <td>Acuity Brands Inc</td>\n",
       "      <td>reports</td>\n",
       "      <td>Industrials</td>\n",
       "      <td>Electrical Components &amp; Equipment</td>\n",
       "      <td>Atlanta, Georgia</td>\n",
       "      <td>2016-05-03</td>\n",
       "      <td>1144215</td>\n",
       "    </tr>\n",
       "    <tr>\n",
       "      <th>15</th>\n",
       "      <td>ALK</td>\n",
       "      <td>Alaska Air Group Inc</td>\n",
       "      <td>reports</td>\n",
       "      <td>Industrials</td>\n",
       "      <td>Airlines</td>\n",
       "      <td>Seattle, Washington</td>\n",
       "      <td>2016-05-13</td>\n",
       "      <td>766421</td>\n",
       "    </tr>\n",
       "    <tr>\n",
       "      <th>20</th>\n",
       "      <td>ALLE</td>\n",
       "      <td>Allegion</td>\n",
       "      <td>reports</td>\n",
       "      <td>Industrials</td>\n",
       "      <td>Building Products</td>\n",
       "      <td>Dublin, Ireland</td>\n",
       "      <td>2013-12-02</td>\n",
       "      <td>1579241</td>\n",
       "    </tr>\n",
       "    <tr>\n",
       "      <th>28</th>\n",
       "      <td>AAL</td>\n",
       "      <td>American Airlines Group</td>\n",
       "      <td>reports</td>\n",
       "      <td>Industrials</td>\n",
       "      <td>Airlines</td>\n",
       "      <td>Fort Worth, Texas</td>\n",
       "      <td>2015-03-23</td>\n",
       "      <td>6201</td>\n",
       "    </tr>\n",
       "  </tbody>\n",
       "</table>\n",
       "</div>"
      ],
      "text/plain": [
       "   Ticker_symbol                 Security SEC_filings  GICS_Sector  \\\n",
       "0            MMM               3M Company     reports  Industrials   \n",
       "5            AYI        Acuity Brands Inc     reports  Industrials   \n",
       "15           ALK     Alaska Air Group Inc     reports  Industrials   \n",
       "20          ALLE                 Allegion     reports  Industrials   \n",
       "28           AAL  American Airlines Group     reports  Industrials   \n",
       "\n",
       "                    GICS_Sub_Industry Address_of_Headquarters  \\\n",
       "0            Industrial Conglomerates     St. Paul, Minnesota   \n",
       "5   Electrical Components & Equipment        Atlanta, Georgia   \n",
       "15                           Airlines     Seattle, Washington   \n",
       "20                  Building Products         Dublin, Ireland   \n",
       "28                           Airlines       Fort Worth, Texas   \n",
       "\n",
       "   Date_first_added      CIK  \n",
       "0               NaN    66740  \n",
       "5        2016-05-03  1144215  \n",
       "15       2016-05-13   766421  \n",
       "20       2013-12-02  1579241  \n",
       "28       2015-03-23     6201  "
      ]
     },
     "execution_count": 4,
     "metadata": {},
     "output_type": "execute_result"
    }
   ],
   "source": [
    "companies = [s_p_500[(s_p_500.GICS_Sector == industry)].head(10) for industry in industries]\n",
    "companies = pd.concat(companies, axis = 0)\n",
    "companies.head()"
   ]
  },
  {
   "cell_type": "markdown",
   "metadata": {
    "collapsed": false,
    "nbpresent": {
     "id": "5cd39d9c-f3dd-4f2e-a71b-b674fd6a1383"
    }
   },
   "source": [
    "## News\n",
    "for news source I choose Reuters. Reuters is a well known and presigeous news agency and most of all it has a great site which we grants us access to historical company news. for starter I decided get news from 2014 to present. I may need to go further later."
   ]
  },
  {
   "cell_type": "markdown",
   "metadata": {
    "nbpresent": {
     "id": "d4ec9438-ca60-47b3-9e7d-e0836a918655"
    }
   },
   "source": [
    "Reuters doesn't like `-` in symbols!!!"
   ]
  },
  {
   "cell_type": "code",
   "execution_count": 5,
   "metadata": {
    "collapsed": false,
    "nbpresent": {
     "id": "6e2fd977-7c88-4adb-9840-ed5b4afbce53"
    }
   },
   "outputs": [],
   "source": [
    "companies.Ticker_symbol = companies.Ticker_symbol.apply(lambda x: x.replace('-', ''))"
   ]
  },
  {
   "cell_type": "markdown",
   "metadata": {
    "nbpresent": {
     "id": "41a3959e-2979-4df1-8309-a291c7fc97a5"
    }
   },
   "source": [
    "This function goes through all the news starting from `start_date` to `end_date` and grabs all the news. This took me one day to get all the news!"
   ]
  },
  {
   "cell_type": "code",
   "execution_count": 6,
   "metadata": {
    "collapsed": false,
    "nbpresent": {
     "id": "78a1ddeb-3f34-4e98-9581-1a0ff6dd9f53"
    }
   },
   "outputs": [],
   "source": [
    "def get_article(href, text, date):\n",
    "    link = {}\n",
    "    link['Url'] = \"http://www.reuters.com/\"+href\n",
    "    link['Title'] = text\n",
    "    link['Symbol'] = symbol\n",
    "    link['Date'] = date\n",
    "    soup = BeautifulSoup(urllib2.urlopen(link['Url']), \"lxml\")\n",
    "    link['Article'] = soup.find_all(\n",
    "        'span', {\"id\":\"article-text\"})[0].text.replace('\\n', ' ')\n",
    "    link['Time'] = soup.find_all(\n",
    "        'span', {\"class\":\"timestamp\"})[0].text\n",
    "    sleep(random.randint(1,5)/10.0)\n",
    "    return link\n",
    "\n",
    "def symbol_news(url):\n",
    "    links=[]\n",
    "    news = BeautifulSoup(urllib2.urlopen(url), \"lxml\").find_all('div', {\"id\":\"companyNews\"})\n",
    "    for i in xrange(2):\n",
    "#         print url\n",
    "        for feature in news[i].find_all('h2'):\n",
    "            a = feature.find('a')\n",
    "            if a.has_attr('href'):\n",
    "                d = re.search('[0-9]{8}', url).group(0)\n",
    "                day=datetime.strptime(d, '%m%d%Y').date()\n",
    "                links.append(get_article(a['href'], a.text, day))\n",
    "    sleep(random.randint(1,5)/10.0)\n",
    "    return links\n",
    "\n",
    "def get_news_for_symbol(symbol, start_date = date(2014, 1, 1), end_date = date(2014, 2, 1)):\n",
    "    days = [start_date + timedelta(n) for n in range((end_date - start_date).days)]\n",
    "    links = []\n",
    "    for day in days:\n",
    "        url = \"http://www.reuters.com/finance/stocks/companyNews?symbol={}&date={}\".format(symbol,day.strftime('%m%d%Y'))\n",
    "        failed_urls = []\n",
    "        try:\n",
    "            links += symbol_news(url)\n",
    "#             news = BeautifulSoup(urllib2.urlopen(url), \"lxml\").find_all('div', {\"id\":\"companyNews\"})\n",
    "#             for i in xrange(2):\n",
    "#                 for feature in news[i].find_all('h2'):\n",
    "#                     a = feature.find('a')\n",
    "#                     if a.has_attr('href'):\n",
    "#                         links.append(get_article(a['href'], a.text, day))\n",
    "#             sleep(1)\n",
    "        except (urllib2.URLError, IOError, httplib.HTTPException) as e:\n",
    "            print e.args\n",
    "            print url\n",
    "            failed_urls.append(url)\n",
    "            pass\n",
    "        if len(failed_urls) > 0:\n",
    "            failed_urls = pd.DataFrame(failed_urls)\n",
    "            failed_urls['Symbol'] = symbol\n",
    "            if not os.path.exists('datasets/companies/failed_urls.csv'):\n",
    "                failed_urls.to_csv('datasets/companies/failed_urls.csv', encoding='utf8')\n",
    "            else:\n",
    "                all_failed = pd.read_csv('datasets/companies/failed_urls.csv', index_col=0)\n",
    "                all_failed = pd.concat([all_failed, failed_urls], axis=1)\n",
    "                all_failed.to_csv('datasets/companies/failed_urls.csv', encoding='utf8')\n",
    "    links = pd.DataFrame(links)\n",
    "    return links"
   ]
  },
  {
   "cell_type": "code",
   "execution_count": 7,
   "metadata": {
    "collapsed": true
   },
   "outputs": [],
   "source": [
    "# companies = companies.loc[companies.Ticker_symbol == 'MMM']"
   ]
  },
  {
   "cell_type": "code",
   "execution_count": 8,
   "metadata": {
    "collapsed": false
   },
   "outputs": [],
   "source": [
    "c = s_p_500\n",
    "# c.Ticker_symbol"
   ]
  },
  {
   "cell_type": "code",
   "execution_count": 9,
   "metadata": {
    "collapsed": false,
    "nbpresent": {
     "id": "20e4969b-0169-4cf1-8489-8cb0379206ae"
    },
    "scrolled": true
   },
   "outputs": [
    {
     "name": "stdout",
     "output_type": "stream",
     "text": [
      "MMM\n",
      "ABT\n",
      "ABBV\n",
      "ACN\n",
      "ATVI\n",
      "AYI\n",
      "ADBE\n",
      "AAP\n",
      "AES\n",
      "AET\n",
      "AFL\n",
      "AMG\n",
      "A\n",
      "APD\n",
      "AKAM\n",
      "ALK\n",
      "ALB\n",
      "AGN\n",
      "LNT\n",
      "ALXN\n",
      "ALLE\n",
      "ADS\n",
      "ALL\n",
      "GOOGL\n",
      "GOOG\n",
      "MO\n",
      "AMZN\n",
      "AEE\n",
      "AAL\n",
      "AEP\n",
      "AXP\n",
      "AIG\n",
      "AMT\n",
      "AWK\n",
      "AMP\n",
      "ABC\n",
      "AME\n",
      "AMGN\n",
      "APH\n",
      "APC\n",
      "ADI\n",
      "ANTM\n",
      "AON\n",
      "APA\n",
      "AIV\n",
      "AAPL\n",
      "AMAT\n",
      "ADM\n",
      "ARNC\n",
      "AJG\n",
      "AIZ\n",
      "T\n",
      "ADSK\n",
      "ADP\n",
      "AN\n",
      "AZO\n",
      "AVB\n",
      "AVY\n",
      "BHI\n",
      "BLL\n",
      "BAC\n",
      "BK\n",
      "BCR\n",
      "BAX\n",
      "BBT\n",
      "BDX\n",
      "BBBY\n",
      "BRKB\n",
      "BBY\n",
      "BIIB\n",
      "BLK\n",
      "HRB\n",
      "BA\n",
      "BWA\n",
      "BXP\n",
      "BSX\n",
      "BMY\n",
      "AVGO\n",
      "BFB\n",
      "CHRW\n",
      "CA\n",
      "COG\n",
      "CPB\n",
      "COF\n",
      "CAH\n",
      "HSIC\n",
      "KMX\n",
      "CCL\n",
      "CAT\n",
      "CBG\n",
      "CBS\n",
      "CELG\n",
      "CNC\n",
      "CNP\n",
      "CTL\n",
      "CERN\n",
      "CF\n",
      "SCHW\n",
      "CHTR\n",
      "CHK\n",
      "CVX\n",
      "CMG\n",
      "CB\n",
      "CHD\n",
      "CI\n",
      "XEC\n",
      "CINF\n",
      "CTAS\n",
      "CSCO\n",
      "C\n",
      "CFG\n",
      "CTXS\n",
      "CLX\n",
      "CME\n",
      "CMS\n",
      "COH\n",
      "KO\n",
      "CTSH\n",
      "CL\n",
      "CMCSA\n",
      "CMA\n",
      "CAG\n",
      "CXO\n",
      "COP\n",
      "ED\n",
      "STZ\n",
      "GLW\n",
      "COST\n",
      "COTY\n",
      "CCI\n",
      "CSRA\n",
      "CSX\n",
      "CMI\n",
      "CVS\n",
      "DHI\n",
      "DHR\n",
      "DRI\n",
      "DVA\n",
      "DE\n",
      "DLPH\n",
      "DAL\n",
      "XRAY\n",
      "DVN\n",
      "DLR\n",
      "DFS\n",
      "DISCA\n",
      "DISCK\n",
      "DG\n",
      "DLTR\n",
      "D\n",
      "DOV\n",
      "DOW\n",
      "DPS\n",
      "DTE\n",
      "DD\n",
      "DUK\n",
      "DNB\n",
      "ETFC\n",
      "EMN\n",
      "ETN\n",
      "EBAY\n",
      "ECL\n",
      "EIX\n",
      "EW\n",
      "EA\n",
      "EMR\n",
      "ENDP\n",
      "ETR\n",
      "EOG\n",
      "EQT\n",
      "EFX\n",
      "EQIX\n",
      "EQR\n",
      "ESS\n",
      "EL\n",
      "ES\n",
      "EXC\n",
      "EXPE\n",
      "EXPD\n",
      "ESRX\n",
      "EXR\n",
      "XOM\n",
      "FFIV\n",
      "FB\n",
      "FAST\n",
      "FRT\n",
      "FDX\n",
      "FIS\n",
      "FITB\n",
      "FSLR\n",
      "FE\n",
      "FISV\n",
      "FLIR\n",
      "FLS\n",
      "FLR\n",
      "FMC\n",
      "FTI\n",
      "FL\n",
      "F\n",
      "FTV\n",
      "FBHS\n",
      "BEN\n",
      "FCX\n",
      "FTR\n",
      "GPS\n",
      "GRMN\n",
      "GD\n",
      "GE\n",
      "GGP\n",
      "GIS\n",
      "GM\n",
      "GPC\n",
      "GILD\n",
      "GPN\n",
      "GS\n",
      "GT\n",
      "GWW\n",
      "HAL\n",
      "HBI\n",
      "HOG\n",
      "HAR\n",
      "HRS\n",
      "HIG\n",
      "HAS\n",
      "HCA\n",
      "HCP\n",
      "HP\n",
      "HES\n",
      "HPE\n",
      "HOLX\n",
      "HD\n",
      "HON\n",
      "HRL\n",
      "HST\n",
      "HPQ\n",
      "HUM\n",
      "HBAN\n",
      "ITW\n",
      "ILMN\n",
      "IR\n",
      "INTC\n",
      "ICE\n",
      "IBM\n",
      "IP\n",
      "IPG\n",
      "IFF\n",
      "INTU\n",
      "ISRG\n",
      "IVZ\n",
      "IRM\n",
      "JEC\n",
      "JBHT\n",
      "SJM\n",
      "JNJ\n",
      "JCI\n",
      "JPM\n",
      "JNPR\n",
      "KSU\n",
      "K\n",
      "KEY\n",
      "KMB\n",
      "KIM\n",
      "KMI\n",
      "KLAC\n",
      "KSS\n",
      "KHC\n",
      "KR\n",
      "LB\n",
      "LLL\n",
      "LH\n",
      "LRCX\n",
      "LM\n",
      "LEG\n",
      "LEN\n",
      "LVLT\n",
      "LUK\n",
      "LLY\n",
      "LNC\n",
      "LLTC\n",
      "LKQ\n",
      "LMT\n",
      "L\n",
      "LOW\n",
      "LYB\n",
      "MTB\n",
      "MAC\n",
      "M\n",
      "MNK\n",
      "MRO\n",
      "MPC\n",
      "MAR\n",
      "MMC\n",
      "MLM\n",
      "MAS\n",
      "MA\n",
      "MAT\n",
      "MKC\n",
      "MCD\n",
      "MCK\n",
      "MJN\n",
      "MDT\n",
      "MRK\n",
      "MET\n",
      "MTD\n",
      "KORS\n",
      "MCHP\n",
      "MU\n",
      "MSFT\n",
      "MHK\n",
      "TAP\n",
      "MDLZ\n",
      "MON\n",
      "MNST\n",
      "MCO\n",
      "MS\n",
      "MOS\n",
      "MSI\n",
      "MUR\n",
      "MYL\n",
      "NDAQ\n",
      "NOV\n",
      "NAVI\n",
      "NTAP\n",
      "NFLX\n",
      "NWL\n",
      "NFX\n",
      "NEM\n",
      "NWSA\n",
      "NWS\n",
      "NEE\n",
      "NLSN\n",
      "NKE\n",
      "NI\n",
      "NBL\n",
      "JWN\n",
      "NSC\n",
      "NTRS\n",
      "NOC\n",
      "NRG\n",
      "NUE\n",
      "NVDA\n",
      "ORLY\n",
      "OXY\n",
      "OMC\n",
      "OKE\n",
      "ORCL\n",
      "OI\n",
      "PCAR\n",
      "PH\n",
      "PDCO\n",
      "PAYX\n",
      "PYPL\n",
      "PNR\n",
      "PBCT\n",
      "PEP\n",
      "PKI\n",
      "PRGO\n",
      "PFE\n",
      "PCG\n",
      "PM\n",
      "PSX\n",
      "PNW\n",
      "PXD\n",
      "PBI\n",
      "PNC\n",
      "RL\n",
      "PPG\n",
      "PPL\n",
      "PX\n",
      "PCLN\n",
      "PFG\n",
      "PG\n",
      "PGR\n",
      "PLD\n",
      "PRU\n",
      "PEG\n",
      "PSA\n",
      "PHM\n",
      "PVH\n",
      "QRVO\n",
      "PWR\n",
      "QCOM\n",
      "DGX\n",
      "RRC\n",
      "RTN\n",
      "O\n",
      "RHT\n",
      "REGN\n",
      "RF\n",
      "RSG\n",
      "RAI\n",
      "RHI\n",
      "ROK\n",
      "COL\n",
      "ROP\n",
      "ROST\n",
      "RCL\n",
      "R\n",
      "CRM\n",
      "SCG\n",
      "SLB\n",
      "SNI\n",
      "STX\n",
      "SEE\n",
      "SRE\n",
      "SHW\n",
      "SIG\n",
      "SPG\n",
      "SWKS\n",
      "SLG\n",
      "SNA\n",
      "SO\n",
      "LUV\n",
      "SWN\n",
      "SE\n",
      "SPGI\n",
      "STJ\n",
      "SWK\n",
      "SPLS\n",
      "SBUX\n",
      "STT\n",
      "SRCL\n",
      "SYK\n",
      "STI\n",
      "SYMC\n",
      "SYF\n",
      "SYY\n",
      "TROW\n",
      "TGT\n",
      "TEL\n",
      "TGNA\n",
      "TDC\n",
      "TSO\n",
      "TXN\n",
      "TXT\n",
      "COO\n",
      "HSY\n",
      "TRV\n",
      "TMO\n",
      "TIF\n",
      "TWX\n",
      "TJX\n",
      "TMK\n",
      "TSS\n",
      "TSCO\n",
      "TDG\n",
      "RIG\n"
     ]
    },
    {
     "ename": "KeyboardInterrupt",
     "evalue": "",
     "output_type": "error",
     "traceback": [
      "\u001b[0;31m---------------------------------------------------\u001b[0m",
      "\u001b[0;31mKeyboardInterrupt\u001b[0m Traceback (most recent call last)",
      "\u001b[0;32m<ipython-input-9-123271e9c869>\u001b[0m in \u001b[0;36m<module>\u001b[0;34m()\u001b[0m\n\u001b[1;32m      4\u001b[0m     \u001b[0;32mprint\u001b[0m \u001b[0msymbol\u001b[0m\u001b[0;34m\u001b[0m\u001b[0m\n\u001b[1;32m      5\u001b[0m     \u001b[0;32mif\u001b[0m \u001b[0;32mnot\u001b[0m \u001b[0mos\u001b[0m\u001b[0;34m.\u001b[0m\u001b[0mpath\u001b[0m\u001b[0;34m.\u001b[0m\u001b[0mexists\u001b[0m\u001b[0;34m(\u001b[0m\u001b[0;34m'datasets/companies/{}.csv'\u001b[0m\u001b[0;34m.\u001b[0m\u001b[0mformat\u001b[0m\u001b[0;34m(\u001b[0m\u001b[0msymbol\u001b[0m\u001b[0;34m)\u001b[0m\u001b[0;34m)\u001b[0m\u001b[0;34m:\u001b[0m\u001b[0;34m\u001b[0m\u001b[0m\n\u001b[0;32m----> 6\u001b[0;31m         \u001b[0marticle\u001b[0m \u001b[0;34m=\u001b[0m \u001b[0mget_news_for_symbol\u001b[0m\u001b[0;34m(\u001b[0m\u001b[0msymbol\u001b[0m\u001b[0;34m,\u001b[0m \u001b[0mend_date\u001b[0m \u001b[0;34m=\u001b[0m \u001b[0mdate\u001b[0m\u001b[0;34m.\u001b[0m\u001b[0mtoday\u001b[0m\u001b[0;34m(\u001b[0m\u001b[0;34m)\u001b[0m\u001b[0;34m)\u001b[0m\u001b[0;34m\u001b[0m\u001b[0m\n\u001b[0m\u001b[1;32m      7\u001b[0m         \u001b[0marticle\u001b[0m\u001b[0;34m.\u001b[0m\u001b[0mto_csv\u001b[0m\u001b[0;34m(\u001b[0m\u001b[0;34m'datasets/companies/{}.csv'\u001b[0m\u001b[0;34m.\u001b[0m\u001b[0mformat\u001b[0m\u001b[0;34m(\u001b[0m\u001b[0msymbol\u001b[0m\u001b[0;34m)\u001b[0m\u001b[0;34m,\u001b[0m \u001b[0mencoding\u001b[0m\u001b[0;34m=\u001b[0m\u001b[0;34m'utf8'\u001b[0m\u001b[0;34m)\u001b[0m\u001b[0;34m\u001b[0m\u001b[0m\n\u001b[1;32m      8\u001b[0m         \u001b[0marticles\u001b[0m\u001b[0;34m.\u001b[0m\u001b[0mappend\u001b[0m\u001b[0;34m(\u001b[0m\u001b[0marticle\u001b[0m\u001b[0;34m)\u001b[0m\u001b[0;34m\u001b[0m\u001b[0m\n",
      "\u001b[0;32m<ipython-input-6-7b274e562815>\u001b[0m in \u001b[0;36mget_news_for_symbol\u001b[0;34m(symbol, start_date, end_date)\u001b[0m\n\u001b[1;32m     34\u001b[0m         \u001b[0mfailed_urls\u001b[0m \u001b[0;34m=\u001b[0m \u001b[0;34m[\u001b[0m\u001b[0;34m]\u001b[0m\u001b[0;34m\u001b[0m\u001b[0m\n\u001b[1;32m     35\u001b[0m         \u001b[0;32mtry\u001b[0m\u001b[0;34m:\u001b[0m\u001b[0;34m\u001b[0m\u001b[0m\n\u001b[0;32m---> 36\u001b[0;31m             \u001b[0mlinks\u001b[0m \u001b[0;34m+=\u001b[0m \u001b[0msymbol_news\u001b[0m\u001b[0;34m(\u001b[0m\u001b[0murl\u001b[0m\u001b[0;34m)\u001b[0m\u001b[0;34m\u001b[0m\u001b[0m\n\u001b[0m\u001b[1;32m     37\u001b[0m \u001b[0;31m#             news = BeautifulSoup(urllib2.urlopen(url), \"lxml\").find_all('div', {\"id\":\"companyNews\"})\u001b[0m\u001b[0;34m\u001b[0m\u001b[0;34m\u001b[0m\u001b[0m\n\u001b[1;32m     38\u001b[0m \u001b[0;31m#             for i in xrange(2):\u001b[0m\u001b[0;34m\u001b[0m\u001b[0;34m\u001b[0m\u001b[0m\n",
      "\u001b[0;32m<ipython-input-6-7b274e562815>\u001b[0m in \u001b[0;36msymbol_news\u001b[0;34m(url)\u001b[0m\n\u001b[1;32m     15\u001b[0m \u001b[0;32mdef\u001b[0m \u001b[0msymbol_news\u001b[0m\u001b[0;34m(\u001b[0m\u001b[0murl\u001b[0m\u001b[0;34m)\u001b[0m\u001b[0;34m:\u001b[0m\u001b[0;34m\u001b[0m\u001b[0m\n\u001b[1;32m     16\u001b[0m     \u001b[0mlinks\u001b[0m\u001b[0;34m=\u001b[0m\u001b[0;34m[\u001b[0m\u001b[0;34m]\u001b[0m\u001b[0;34m\u001b[0m\u001b[0m\n\u001b[0;32m---> 17\u001b[0;31m     \u001b[0mnews\u001b[0m \u001b[0;34m=\u001b[0m \u001b[0mBeautifulSoup\u001b[0m\u001b[0;34m(\u001b[0m\u001b[0murllib2\u001b[0m\u001b[0;34m.\u001b[0m\u001b[0murlopen\u001b[0m\u001b[0;34m(\u001b[0m\u001b[0murl\u001b[0m\u001b[0;34m)\u001b[0m\u001b[0;34m,\u001b[0m \u001b[0;34m\"lxml\"\u001b[0m\u001b[0;34m)\u001b[0m\u001b[0;34m.\u001b[0m\u001b[0mfind_all\u001b[0m\u001b[0;34m(\u001b[0m\u001b[0;34m'div'\u001b[0m\u001b[0;34m,\u001b[0m \u001b[0;34m{\u001b[0m\u001b[0;34m\"id\"\u001b[0m\u001b[0;34m:\u001b[0m\u001b[0;34m\"companyNews\"\u001b[0m\u001b[0;34m}\u001b[0m\u001b[0;34m)\u001b[0m\u001b[0;34m\u001b[0m\u001b[0m\n\u001b[0m\u001b[1;32m     18\u001b[0m     \u001b[0;32mfor\u001b[0m \u001b[0mi\u001b[0m \u001b[0;32min\u001b[0m \u001b[0mxrange\u001b[0m\u001b[0;34m(\u001b[0m\u001b[0;36m2\u001b[0m\u001b[0;34m)\u001b[0m\u001b[0;34m:\u001b[0m\u001b[0;34m\u001b[0m\u001b[0m\n\u001b[1;32m     19\u001b[0m \u001b[0;31m#         print url\u001b[0m\u001b[0;34m\u001b[0m\u001b[0;34m\u001b[0m\u001b[0m\n",
      "\u001b[0;32m/home/ali/Anaconda/lib/python2.7/site-packages/bs4/__init__.pyc\u001b[0m in \u001b[0;36m__init__\u001b[0;34m(self, markup, features, builder, parse_only, from_encoding, exclude_encodings, **kwargs)\u001b[0m\n\u001b[1;32m    189\u001b[0m \u001b[0;34m\u001b[0m\u001b[0m\n\u001b[1;32m    190\u001b[0m         \u001b[0;32mif\u001b[0m \u001b[0mhasattr\u001b[0m\u001b[0;34m(\u001b[0m\u001b[0mmarkup\u001b[0m\u001b[0;34m,\u001b[0m \u001b[0;34m'read'\u001b[0m\u001b[0;34m)\u001b[0m\u001b[0;34m:\u001b[0m        \u001b[0;31m# It's a file-type object.\u001b[0m\u001b[0;34m\u001b[0m\u001b[0m\n\u001b[0;32m--> 191\u001b[0;31m             \u001b[0mmarkup\u001b[0m \u001b[0;34m=\u001b[0m \u001b[0mmarkup\u001b[0m\u001b[0;34m.\u001b[0m\u001b[0mread\u001b[0m\u001b[0;34m(\u001b[0m\u001b[0;34m)\u001b[0m\u001b[0;34m\u001b[0m\u001b[0m\n\u001b[0m\u001b[1;32m    192\u001b[0m         elif len(markup) <= 256 and (\n\u001b[1;32m    193\u001b[0m                 \u001b[0;34m(\u001b[0m\u001b[0misinstance\u001b[0m\u001b[0;34m(\u001b[0m\u001b[0mmarkup\u001b[0m\u001b[0;34m,\u001b[0m \u001b[0mbytes\u001b[0m\u001b[0;34m)\u001b[0m \u001b[0;32mand\u001b[0m \u001b[0;32mnot\u001b[0m \u001b[0;34mb'<'\u001b[0m \u001b[0;32min\u001b[0m \u001b[0mmarkup\u001b[0m\u001b[0;34m)\u001b[0m\u001b[0;34m\u001b[0m\u001b[0m\n",
      "\u001b[0;32m/home/ali/Anaconda/lib/python2.7/socket.pyc\u001b[0m in \u001b[0;36mread\u001b[0;34m(self, size)\u001b[0m\n\u001b[1;32m    353\u001b[0m             \u001b[0;32mwhile\u001b[0m \u001b[0mTrue\u001b[0m\u001b[0;34m:\u001b[0m\u001b[0;34m\u001b[0m\u001b[0m\n\u001b[1;32m    354\u001b[0m                 \u001b[0;32mtry\u001b[0m\u001b[0;34m:\u001b[0m\u001b[0;34m\u001b[0m\u001b[0m\n\u001b[0;32m--> 355\u001b[0;31m                     \u001b[0mdata\u001b[0m \u001b[0;34m=\u001b[0m \u001b[0mself\u001b[0m\u001b[0;34m.\u001b[0m\u001b[0m_sock\u001b[0m\u001b[0;34m.\u001b[0m\u001b[0mrecv\u001b[0m\u001b[0;34m(\u001b[0m\u001b[0mrbufsize\u001b[0m\u001b[0;34m)\u001b[0m\u001b[0;34m\u001b[0m\u001b[0m\n\u001b[0m\u001b[1;32m    356\u001b[0m                 \u001b[0;32mexcept\u001b[0m \u001b[0merror\u001b[0m\u001b[0;34m,\u001b[0m \u001b[0me\u001b[0m\u001b[0;34m:\u001b[0m\u001b[0;34m\u001b[0m\u001b[0m\n\u001b[1;32m    357\u001b[0m                     \u001b[0;32mif\u001b[0m \u001b[0me\u001b[0m\u001b[0;34m.\u001b[0m\u001b[0margs\u001b[0m\u001b[0;34m[\u001b[0m\u001b[0;36m0\u001b[0m\u001b[0;34m]\u001b[0m \u001b[0;34m==\u001b[0m \u001b[0mEINTR\u001b[0m\u001b[0;34m:\u001b[0m\u001b[0;34m\u001b[0m\u001b[0m\n",
      "\u001b[0;32m/home/ali/Anaconda/lib/python2.7/httplib.pyc\u001b[0m in \u001b[0;36mread\u001b[0;34m(self, amt)\u001b[0m\n\u001b[1;32m    586\u001b[0m \u001b[0;34m\u001b[0m\u001b[0m\n\u001b[1;32m    587\u001b[0m         \u001b[0;32mif\u001b[0m \u001b[0mself\u001b[0m\u001b[0;34m.\u001b[0m\u001b[0mchunked\u001b[0m\u001b[0;34m:\u001b[0m\u001b[0;34m\u001b[0m\u001b[0m\n\u001b[0;32m--> 588\u001b[0;31m             \u001b[0;32mreturn\u001b[0m \u001b[0mself\u001b[0m\u001b[0;34m.\u001b[0m\u001b[0m_read_chunked\u001b[0m\u001b[0;34m(\u001b[0m\u001b[0mamt\u001b[0m\u001b[0;34m)\u001b[0m\u001b[0;34m\u001b[0m\u001b[0m\n\u001b[0m\u001b[1;32m    589\u001b[0m \u001b[0;34m\u001b[0m\u001b[0m\n\u001b[1;32m    590\u001b[0m         \u001b[0;32mif\u001b[0m \u001b[0mamt\u001b[0m \u001b[0;32mis\u001b[0m \u001b[0mNone\u001b[0m\u001b[0;34m:\u001b[0m\u001b[0;34m\u001b[0m\u001b[0m\n",
      "\u001b[0;32m/home/ali/Anaconda/lib/python2.7/httplib.pyc\u001b[0m in \u001b[0;36m_read_chunked\u001b[0;34m(self, amt)\u001b[0m\n\u001b[1;32m    655\u001b[0m                 \u001b[0;32mreturn\u001b[0m \u001b[0;34m''\u001b[0m\u001b[0;34m.\u001b[0m\u001b[0mjoin\u001b[0m\u001b[0;34m(\u001b[0m\u001b[0mvalue\u001b[0m\u001b[0;34m)\u001b[0m\u001b[0;34m\u001b[0m\u001b[0m\n\u001b[1;32m    656\u001b[0m             \u001b[0;32melse\u001b[0m\u001b[0;34m:\u001b[0m\u001b[0;34m\u001b[0m\u001b[0m\n\u001b[0;32m--> 657\u001b[0;31m                 \u001b[0mvalue\u001b[0m\u001b[0;34m.\u001b[0m\u001b[0mappend\u001b[0m\u001b[0;34m(\u001b[0m\u001b[0mself\u001b[0m\u001b[0;34m.\u001b[0m\u001b[0m_safe_read\u001b[0m\u001b[0;34m(\u001b[0m\u001b[0mchunk_left\u001b[0m\u001b[0;34m)\u001b[0m\u001b[0;34m)\u001b[0m\u001b[0;34m\u001b[0m\u001b[0m\n\u001b[0m\u001b[1;32m    658\u001b[0m                 \u001b[0mamt\u001b[0m \u001b[0;34m-=\u001b[0m \u001b[0mchunk_left\u001b[0m\u001b[0;34m\u001b[0m\u001b[0m\n\u001b[1;32m    659\u001b[0m \u001b[0;34m\u001b[0m\u001b[0m\n",
      "\u001b[0;32m/home/ali/Anaconda/lib/python2.7/httplib.pyc\u001b[0m in \u001b[0;36m_safe_read\u001b[0;34m(self, amt)\u001b[0m\n\u001b[1;32m    701\u001b[0m         \u001b[0ms\u001b[0m \u001b[0;34m=\u001b[0m \u001b[0;34m[\u001b[0m\u001b[0;34m]\u001b[0m\u001b[0;34m\u001b[0m\u001b[0m\n\u001b[1;32m    702\u001b[0m         \u001b[0;32mwhile\u001b[0m \u001b[0mamt\u001b[0m \u001b[0;34m>\u001b[0m \u001b[0;36m0\u001b[0m\u001b[0;34m:\u001b[0m\u001b[0;34m\u001b[0m\u001b[0m\n\u001b[0;32m--> 703\u001b[0;31m             \u001b[0mchunk\u001b[0m \u001b[0;34m=\u001b[0m \u001b[0mself\u001b[0m\u001b[0;34m.\u001b[0m\u001b[0mfp\u001b[0m\u001b[0;34m.\u001b[0m\u001b[0mread\u001b[0m\u001b[0;34m(\u001b[0m\u001b[0mmin\u001b[0m\u001b[0;34m(\u001b[0m\u001b[0mamt\u001b[0m\u001b[0;34m,\u001b[0m \u001b[0mMAXAMOUNT\u001b[0m\u001b[0;34m)\u001b[0m\u001b[0;34m)\u001b[0m\u001b[0;34m\u001b[0m\u001b[0m\n\u001b[0m\u001b[1;32m    704\u001b[0m             \u001b[0;32mif\u001b[0m \u001b[0;32mnot\u001b[0m \u001b[0mchunk\u001b[0m\u001b[0;34m:\u001b[0m\u001b[0;34m\u001b[0m\u001b[0m\n\u001b[1;32m    705\u001b[0m                 \u001b[0;32mraise\u001b[0m \u001b[0mIncompleteRead\u001b[0m\u001b[0;34m(\u001b[0m\u001b[0;34m''\u001b[0m\u001b[0;34m.\u001b[0m\u001b[0mjoin\u001b[0m\u001b[0;34m(\u001b[0m\u001b[0ms\u001b[0m\u001b[0;34m)\u001b[0m\u001b[0;34m,\u001b[0m \u001b[0mamt\u001b[0m\u001b[0;34m)\u001b[0m\u001b[0;34m\u001b[0m\u001b[0m\n",
      "\u001b[0;32m/home/ali/Anaconda/lib/python2.7/socket.pyc\u001b[0m in \u001b[0;36mread\u001b[0;34m(self, size)\u001b[0m\n\u001b[1;32m    382\u001b[0m                 \u001b[0;31m# fragmentation issues on many platforms.\u001b[0m\u001b[0;34m\u001b[0m\u001b[0;34m\u001b[0m\u001b[0m\n\u001b[1;32m    383\u001b[0m                 \u001b[0;32mtry\u001b[0m\u001b[0;34m:\u001b[0m\u001b[0;34m\u001b[0m\u001b[0m\n\u001b[0;32m--> 384\u001b[0;31m                     \u001b[0mdata\u001b[0m \u001b[0;34m=\u001b[0m \u001b[0mself\u001b[0m\u001b[0;34m.\u001b[0m\u001b[0m_sock\u001b[0m\u001b[0;34m.\u001b[0m\u001b[0mrecv\u001b[0m\u001b[0;34m(\u001b[0m\u001b[0mleft\u001b[0m\u001b[0;34m)\u001b[0m\u001b[0;34m\u001b[0m\u001b[0m\n\u001b[0m\u001b[1;32m    385\u001b[0m                 \u001b[0;32mexcept\u001b[0m \u001b[0merror\u001b[0m\u001b[0;34m,\u001b[0m \u001b[0me\u001b[0m\u001b[0;34m:\u001b[0m\u001b[0;34m\u001b[0m\u001b[0m\n\u001b[1;32m    386\u001b[0m                     \u001b[0;32mif\u001b[0m \u001b[0me\u001b[0m\u001b[0;34m.\u001b[0m\u001b[0margs\u001b[0m\u001b[0;34m[\u001b[0m\u001b[0;36m0\u001b[0m\u001b[0;34m]\u001b[0m \u001b[0;34m==\u001b[0m \u001b[0mEINTR\u001b[0m\u001b[0;34m:\u001b[0m\u001b[0;34m\u001b[0m\u001b[0m\n",
      "\u001b[0;31mKeyboardInterrupt\u001b[0m: "
     ]
    }
   ],
   "source": [
    "articles = []\n",
    "# if not os.path.exists('datasets/articles.csv'):\n",
    "for symbol in c.Ticker_symbol:\n",
    "    print symbol\n",
    "    if not os.path.exists('datasets/companies/{}.csv'.format(symbol)):\n",
    "        article = get_news_for_symbol(symbol, end_date = date.today())\n",
    "        article.to_csv('datasets/companies/{}.csv'.format(symbol), encoding='utf8')\n",
    "        articles.append(article)\n",
    "    else:\n",
    "        article = pd.read_csv('datasets/companies/{}.csv'.format(symbol), encoding='utf8', index_col=0)\n",
    "        articles.append(article)\n",
    "# articles = pd.concat(articles, axis=1)\n",
    "# articles.to_csv('datasets/articles.csv', encoding = \"utf-8\")\n",
    "# else:\n",
    "#     articles = pd.read_csv('datasets/articles.csv', index_col = 0)\n",
    "\n",
    "articles['Date'] = pd.to_datetime(articles['Date'], format='%Y-%m-%d')"
   ]
  },
  {
   "cell_type": "code",
   "execution_count": null,
   "metadata": {
    "collapsed": false
   },
   "outputs": [],
   "source": [
    "articles.head()"
   ]
  },
  {
   "cell_type": "markdown",
   "metadata": {
    "nbpresent": {
     "id": "0c4650d2-3e29-4efa-a0dd-c26726d79b53"
    }
   },
   "source": [
    "There are plenty of redundancy which I have yet to decide what to do with them"
   ]
  },
  {
   "cell_type": "markdown",
   "metadata": {
    "nbpresent": {
     "id": "d5dd3d57-59ab-4757-8bfe-80b69d431d42"
    }
   },
   "source": [
    "# Stock quotes\n",
    "After geting news data we gonna need quotes data. Getting hhistorical data can become really tricky. we can use yahoo finance to get historical daily quotes and for this project I think thats enough otherwise we have to use some propriority data."
   ]
  },
  {
   "cell_type": "code",
   "execution_count": null,
   "metadata": {
    "collapsed": true,
    "nbpresent": {
     "id": "b1de796a-6d47-4e38-bb54-d52f310afeb6"
    }
   },
   "outputs": [],
   "source": [
    "def get_quotes(symbol, start_date='1/1/2014', end_date=date.today().strftime('%m/%d/%Y')):\n",
    "    ret = web.DataReader(symbol, data_source='yahoo', start=start_date, end=end_date)\n",
    "    ret['Symbol'] = symbol\n",
    "    return ret"
   ]
  },
  {
   "cell_type": "code",
   "execution_count": null,
   "metadata": {
    "collapsed": false,
    "nbpresent": {
     "id": "a310b558-0705-4105-b396-bf9e9cd89555"
    }
   },
   "outputs": [],
   "source": [
    "quotes = \"\"\n",
    "if not os.path.exists('datasets/daily_quotes.csv'):\n",
    "    quotes = [get_quotes(symbol) for symbol in companies.Ticker_symbol ]\n",
    "    quotes = pd.concat(quotes, axis=0)\n",
    "    quotes.to_csv('daily_quotes.csv', encoding = \"utf-8\")\n",
    "else:\n",
    "    quotes = pd.read_csv('datasets/daily_quotes.csv')\n",
    "\n",
    "quotes['Date'] = pd.to_datetime(quotes['Date'], format='%Y-%m-%d')\n",
    "    \n",
    "quotes.head()"
   ]
  },
  {
   "cell_type": "markdown",
   "metadata": {
    "nbpresent": {
     "id": "db075969-f084-40fa-8d76-d7fb6fdc8b7f"
    }
   },
   "source": [
    "## Plotting\n",
    "### Quotes through time\n",
    "Here is stock prices for different symbols from 2014 till last friday."
   ]
  },
  {
   "cell_type": "code",
   "execution_count": null,
   "metadata": {
    "collapsed": false,
    "nbpresent": {
     "id": "869b2134-f52b-4849-abf7-aff404943ff2"
    },
    "scrolled": false
   },
   "outputs": [],
   "source": [
    "for symbol in quotes.symbol.unique():\n",
    "    plt.figure(1, figsize=(30,5))\n",
    "    plt.subplot(222)\n",
    "    plt.plot('Date', 'Open', data=quotes[(quotes.symbol == symbol)])\n",
    "    plt.yscale('linear')\n",
    "    plt.title(symbol)\n",
    "    plt.grid(True)\n",
    "    plt.show()"
   ]
  },
  {
   "cell_type": "markdown",
   "metadata": {
    "collapsed": true,
    "nbpresent": {
     "id": "6bd93227-27f5-453c-b8b2-70ace76c4bd0"
    }
   },
   "source": [
    "### News through time\n",
    "as we can see not all companies are news friendly!"
   ]
  },
  {
   "cell_type": "code",
   "execution_count": null,
   "metadata": {
    "collapsed": false,
    "nbpresent": {
     "id": "8314e07e-027a-4268-a378-e36382fd68e6"
    },
    "scrolled": false
   },
   "outputs": [],
   "source": [
    "for symbol in links.symbol.unique():\n",
    "    data=links[(links['symbol']==symbol)]\n",
    "    data=pd.pivot_table(data, index='date', values='article', aggfunc=np.count_nonzero).reset_index()\n",
    "    \n",
    "    plt.figure(1, figsize=(30,5))\n",
    "    plt.subplot(222)\n",
    "    plt.plot('date', 'article', data=data)\n",
    "    plt.yscale('linear')\n",
    "    plt.title(symbol)\n",
    "    plt.grid(True)\n",
    "    plt.show()"
   ]
  },
  {
   "cell_type": "code",
   "execution_count": null,
   "metadata": {
    "collapsed": true,
    "nbpresent": {
     "id": "9f0fbba1-6505-44fd-93e9-fd68c2b4bddc"
    }
   },
   "outputs": [],
   "source": []
  }
 ],
 "metadata": {
  "anaconda-cloud": {},
  "kernelspec": {
   "display_name": "Python [conda root]",
   "language": "python",
   "name": "conda-root-py"
  },
  "language_info": {
   "codemirror_mode": {
    "name": "ipython",
    "version": 2
   },
   "file_extension": ".py",
   "mimetype": "text/x-python",
   "name": "python",
   "nbconvert_exporter": "python",
   "pygments_lexer": "ipython2",
   "version": "2.7.12"
  },
  "nbpresent": {
   "slides": {
    "02ed5a24-f7f0-4759-8bc3-74e172a3de2f": {
     "id": "02ed5a24-f7f0-4759-8bc3-74e172a3de2f",
     "prev": "a45b9105-a5e0-40e8-ab32-334736ec2489",
     "regions": {
      "093d94a4-b0fd-47c9-80f3-7b83fc2e8eb1": {
       "attrs": {
        "height": 0.8,
        "width": 0.8,
        "x": 0.1,
        "y": 0.1
       },
       "content": {
        "cell": "b1e4324d-2ee8-4adc-852c-74fe6a7e3793",
        "part": "whole"
       },
       "id": "093d94a4-b0fd-47c9-80f3-7b83fc2e8eb1"
      }
     }
    },
    "17833bbb-a703-402f-a1ce-7b5513090da3": {
     "id": "17833bbb-a703-402f-a1ce-7b5513090da3",
     "prev": "23461f52-886a-44d5-a262-962c5614f0a7",
     "regions": {
      "96b0fe17-4bf3-4821-8140-b1f04f76d318": {
       "attrs": {
        "height": 0.8,
        "width": 0.8,
        "x": 0.1,
        "y": 0.1
       },
       "content": {
        "cell": "41a3959e-2979-4df1-8309-a291c7fc97a5",
        "part": "whole"
       },
       "id": "96b0fe17-4bf3-4821-8140-b1f04f76d318"
      }
     }
    },
    "1e329d6c-a975-4b47-ace0-d6773ba8aecc": {
     "id": "1e329d6c-a975-4b47-ace0-d6773ba8aecc",
     "prev": "77feaa7b-ae90-4dae-a49f-888df121063a",
     "regions": {
      "78db5807-d86e-4bab-ac6a-049052787f2e": {
       "attrs": {
        "height": 0.8,
        "width": 0.8,
        "x": 0.1,
        "y": 0.1
       },
       "content": {
        "cell": "1114cc8e-6480-4257-9003-5a420d43d67f",
        "part": "whole"
       },
       "id": "78db5807-d86e-4bab-ac6a-049052787f2e"
      }
     }
    },
    "23461f52-886a-44d5-a262-962c5614f0a7": {
     "id": "23461f52-886a-44d5-a262-962c5614f0a7",
     "prev": "98dea876-eaf1-4ff7-8f1a-ff9e1a223c1b",
     "regions": {
      "6cfc0640-83f6-46a0-b9fb-55a78380d442": {
       "attrs": {
        "height": 0.8,
        "width": 0.8,
        "x": 0.1,
        "y": 0.1
       },
       "content": {
        "cell": "6e2fd977-7c88-4adb-9840-ed5b4afbce53",
        "part": "whole"
       },
       "id": "6cfc0640-83f6-46a0-b9fb-55a78380d442"
      }
     }
    },
    "3c8bbc49-0bef-41b2-8989-fb05a6bbf2bb": {
     "id": "3c8bbc49-0bef-41b2-8989-fb05a6bbf2bb",
     "prev": "f753b47b-0611-47c6-a81d-2c5503637777",
     "regions": {
      "c076e974-d63c-4d88-a3ca-82e425add18c": {
       "attrs": {
        "height": 0.8,
        "width": 0.8,
        "x": 0.1,
        "y": 0.1
       },
       "content": {
        "cell": "6bd93227-27f5-453c-b8b2-70ace76c4bd0",
        "part": "whole"
       },
       "id": "c076e974-d63c-4d88-a3ca-82e425add18c"
      }
     }
    },
    "44a07cc0-de1c-4b3b-8097-9c427b686770": {
     "id": "44a07cc0-de1c-4b3b-8097-9c427b686770",
     "prev": "d874b789-8ee6-45ec-b28c-e4f0332e0df0",
     "regions": {
      "0c4f8555-c159-484d-8535-3f63575009bc": {
       "attrs": {
        "height": 0.8,
        "width": 0.8,
        "x": 0.1,
        "y": 0.1
       },
       "content": {
        "cell": "d0529cbf-64b0-4f90-bd5c-2ce9d1942c6f",
        "part": "whole"
       },
       "id": "0c4f8555-c159-484d-8535-3f63575009bc"
      }
     }
    },
    "4d2fad5c-ca8c-48f4-beb5-723ad8128657": {
     "id": "4d2fad5c-ca8c-48f4-beb5-723ad8128657",
     "prev": "a6958dad-d3a5-473c-b90f-1f069403b043",
     "regions": {
      "b8e4286b-2354-4c39-a900-f2789aab2e11": {
       "attrs": {
        "height": 0.8,
        "width": 0.8,
        "x": 0.1,
        "y": 0.1
       },
       "content": {
        "cell": "1d07ca78-2cb5-4d64-8f06-be25312c1272",
        "part": "whole"
       },
       "id": "b8e4286b-2354-4c39-a900-f2789aab2e11"
      }
     }
    },
    "53218cbf-1259-4fb5-8611-56eaa64d0849": {
     "id": "53218cbf-1259-4fb5-8611-56eaa64d0849",
     "prev": "b5f81eb6-ad88-4605-a3a6-4721f251add7",
     "regions": {
      "ec5e5d59-2719-4737-b953-78163c9e653d": {
       "attrs": {
        "height": 0.8,
        "width": 0.8,
        "x": 0.1,
        "y": 0.1
       },
       "content": {
        "cell": "a310b558-0705-4105-b396-bf9e9cd89555",
        "part": "whole"
       },
       "id": "ec5e5d59-2719-4737-b953-78163c9e653d"
      }
     }
    },
    "53b99f57-0d8c-4d0c-a53f-997b0343567b": {
     "id": "53b99f57-0d8c-4d0c-a53f-997b0343567b",
     "prev": "53218cbf-1259-4fb5-8611-56eaa64d0849",
     "regions": {
      "fae47772-1e08-4b1f-ba2a-d62aa525982d": {
       "attrs": {
        "height": 0.8,
        "width": 0.8,
        "x": 0.1,
        "y": 0.1
       },
       "content": {
        "cell": "65911c9a-431e-4c71-a9ba-71a31eeb7ba1",
        "part": "whole"
       },
       "id": "fae47772-1e08-4b1f-ba2a-d62aa525982d"
      }
     }
    },
    "73ea17bd-3478-4444-b5d4-a8808803f58f": {
     "id": "73ea17bd-3478-4444-b5d4-a8808803f58f",
     "prev": "df51e339-69b3-484e-b555-9973234b4c2c",
     "regions": {
      "de5d9952-2754-4f85-9ee9-beca974011d9": {
       "attrs": {
        "height": 0.8,
        "width": 0.8,
        "x": 0.1,
        "y": 0.1
       },
       "content": {
        "cell": "9f0fbba1-6505-44fd-93e9-fd68c2b4bddc",
        "part": "whole"
       },
       "id": "de5d9952-2754-4f85-9ee9-beca974011d9"
      }
     }
    },
    "77feaa7b-ae90-4dae-a49f-888df121063a": {
     "id": "77feaa7b-ae90-4dae-a49f-888df121063a",
     "prev": "b151415a-cb24-4556-aaed-a670c8b5e516",
     "regions": {
      "0b5ea490-8c6c-4531-825c-fb657006ca0b": {
       "attrs": {
        "height": 0.8,
        "width": 0.8,
        "x": 0.1,
        "y": 0.1
       },
       "content": {
        "cell": "cb0d93f5-9830-43e6-9313-222a10c555ca",
        "part": "whole"
       },
       "id": "0b5ea490-8c6c-4531-825c-fb657006ca0b"
      }
     }
    },
    "80d7f5b1-3130-491c-93dc-00a5418759cc": {
     "id": "80d7f5b1-3130-491c-93dc-00a5418759cc",
     "prev": "c611fdf8-e491-4cb9-9aab-7f626f3dd257",
     "regions": {
      "81948ace-1bd0-4fc1-88df-0eedbb5e3b53": {
       "attrs": {
        "height": 0.8,
        "width": 0.8,
        "x": 0.1,
        "y": 0.1
       },
       "content": {
        "cell": "0c4650d2-3e29-4efa-a0dd-c26726d79b53",
        "part": "whole"
       },
       "id": "81948ace-1bd0-4fc1-88df-0eedbb5e3b53"
      }
     }
    },
    "87580d6e-0430-4ad2-914f-8b65c5aeb6ef": {
     "id": "87580d6e-0430-4ad2-914f-8b65c5aeb6ef",
     "prev": "17833bbb-a703-402f-a1ce-7b5513090da3",
     "regions": {
      "18478b91-a18b-447f-a748-50c44fe10c8c": {
       "attrs": {
        "height": 0.8,
        "width": 0.8,
        "x": 0.1,
        "y": 0.1
       },
       "content": {
        "cell": "78a1ddeb-3f34-4e98-9581-1a0ff6dd9f53",
        "part": "whole"
       },
       "id": "18478b91-a18b-447f-a748-50c44fe10c8c"
      }
     }
    },
    "98dea876-eaf1-4ff7-8f1a-ff9e1a223c1b": {
     "id": "98dea876-eaf1-4ff7-8f1a-ff9e1a223c1b",
     "prev": "e6e7d1d7-9886-4da1-b185-fe82732d59ac",
     "regions": {
      "f50aabbc-86e5-4ff7-a718-50c59de9a297": {
       "attrs": {
        "height": 0.8,
        "width": 0.8,
        "x": 0.1,
        "y": 0.1
       },
       "content": {
        "cell": "d4ec9438-ca60-47b3-9e7d-e0836a918655",
        "part": "whole"
       },
       "id": "f50aabbc-86e5-4ff7-a718-50c59de9a297"
      }
     }
    },
    "99ba7b94-0137-452f-937a-5f8326d261ab": {
     "id": "99ba7b94-0137-452f-937a-5f8326d261ab",
     "prev": "afc4191a-7607-46d8-b9f6-993c00f107d9",
     "regions": {
      "80732b83-539b-4f66-a1c9-9787c22b783b": {
       "attrs": {
        "height": 0.8,
        "width": 0.8,
        "x": 0.1,
        "y": 0.1
       },
       "content": {
        "cell": "db075969-f084-40fa-8d76-d7fb6fdc8b7f",
        "part": "whole"
       },
       "id": "80732b83-539b-4f66-a1c9-9787c22b783b"
      }
     }
    },
    "a45b9105-a5e0-40e8-ab32-334736ec2489": {
     "id": "a45b9105-a5e0-40e8-ab32-334736ec2489",
     "prev": "e4af4a4c-73e1-4a6b-bb24-572c9587f31f",
     "regions": {
      "5bc05ecf-38d0-403c-a7fd-ef7396ebf292": {
       "attrs": {
        "height": 0.8,
        "width": 0.8,
        "x": 0.1,
        "y": 0.1
       },
       "content": {
        "cell": "8626f9ad-8e2a-4541-b71c-634e0fc02bb4",
        "part": "whole"
       },
       "id": "5bc05ecf-38d0-403c-a7fd-ef7396ebf292"
      }
     }
    },
    "a6958dad-d3a5-473c-b90f-1f069403b043": {
     "id": "a6958dad-d3a5-473c-b90f-1f069403b043",
     "prev": "44a07cc0-de1c-4b3b-8097-9c427b686770",
     "regions": {
      "ed7d3b5e-6804-4877-a9af-63621144bb3a": {
       "attrs": {
        "height": 0.8,
        "width": 0.8,
        "x": 0.1,
        "y": 0.1
       },
       "content": {
        "cell": "d837e37e-09de-4133-a599-2bb30dfce20f",
        "part": "whole"
       },
       "id": "ed7d3b5e-6804-4877-a9af-63621144bb3a"
      }
     }
    },
    "ab1dbb0c-91a3-49e1-8e55-6c0a4dfd0c48": {
     "id": "ab1dbb0c-91a3-49e1-8e55-6c0a4dfd0c48",
     "prev": "99ba7b94-0137-452f-937a-5f8326d261ab",
     "regions": {
      "9db907a4-24ba-4619-bfa8-e135316a7bc6": {
       "attrs": {
        "height": 0.8,
        "width": 0.8,
        "x": 0.1,
        "y": 0.1
       },
       "content": {
        "cell": "14b6ff7c-b7b8-4734-917f-2af3e6d63c0b",
        "part": "whole"
       },
       "id": "9db907a4-24ba-4619-bfa8-e135316a7bc6"
      }
     }
    },
    "afc4191a-7607-46d8-b9f6-993c00f107d9": {
     "id": "afc4191a-7607-46d8-b9f6-993c00f107d9",
     "prev": "53b99f57-0d8c-4d0c-a53f-997b0343567b",
     "regions": {
      "b83f93c8-d9b4-4f6e-8549-98b273e9da7c": {
       "attrs": {
        "height": 0.8,
        "width": 0.8,
        "x": 0.1,
        "y": 0.1
       },
       "content": {
        "cell": "b5cf9972-c705-40f2-b775-97ee899053da",
        "part": "whole"
       },
       "id": "b83f93c8-d9b4-4f6e-8549-98b273e9da7c"
      }
     }
    },
    "b151415a-cb24-4556-aaed-a670c8b5e516": {
     "id": "b151415a-cb24-4556-aaed-a670c8b5e516",
     "prev": "02ed5a24-f7f0-4759-8bc3-74e172a3de2f",
     "regions": {
      "f6b32538-9c12-4a0e-80d4-0aa6709729a5": {
       "attrs": {
        "height": 0.8,
        "width": 0.8,
        "x": 0.1,
        "y": 0.1
       },
       "content": {
        "cell": "0eea6699-891b-4425-b52c-dd82f1a995d3",
        "part": "whole"
       },
       "id": "f6b32538-9c12-4a0e-80d4-0aa6709729a5"
      }
     }
    },
    "b5f81eb6-ad88-4605-a3a6-4721f251add7": {
     "id": "b5f81eb6-ad88-4605-a3a6-4721f251add7",
     "prev": "f3ef74d0-17e6-42ed-b239-8bf20702614e",
     "regions": {
      "49d1f548-9544-4e92-98df-fb85d5f06344": {
       "attrs": {
        "height": 0.8,
        "width": 0.8,
        "x": 0.1,
        "y": 0.1
       },
       "content": {
        "cell": "b1de796a-6d47-4e38-bb54-d52f310afeb6",
        "part": "whole"
       },
       "id": "49d1f548-9544-4e92-98df-fb85d5f06344"
      }
     }
    },
    "c155880f-1bea-4c20-8a6e-ed8b737525ee": {
     "id": "c155880f-1bea-4c20-8a6e-ed8b737525ee",
     "prev": "87580d6e-0430-4ad2-914f-8b65c5aeb6ef",
     "regions": {
      "777e7a59-df82-4435-9b31-95557bf3dc24": {
       "attrs": {
        "height": 0.8,
        "width": 0.8,
        "x": 0.1,
        "y": 0.1
       },
       "content": {
        "cell": "20e4969b-0169-4cf1-8489-8cb0379206ae",
        "part": "whole"
       },
       "id": "777e7a59-df82-4435-9b31-95557bf3dc24"
      }
     }
    },
    "c611fdf8-e491-4cb9-9aab-7f626f3dd257": {
     "id": "c611fdf8-e491-4cb9-9aab-7f626f3dd257",
     "prev": "c155880f-1bea-4c20-8a6e-ed8b737525ee",
     "regions": {
      "de446ed2-1e61-46f2-9db1-e0753e8dd435": {
       "attrs": {
        "height": 0.8,
        "width": 0.8,
        "x": 0.1,
        "y": 0.1
       },
       "content": {
        "cell": "4a73af13-db5b-4fbb-bc56-9ab60530fe03",
        "part": "whole"
       },
       "id": "de446ed2-1e61-46f2-9db1-e0753e8dd435"
      }
     }
    },
    "d5f11597-b0a6-4c67-bcf2-763a18d3ef6f": {
     "id": "d5f11597-b0a6-4c67-bcf2-763a18d3ef6f",
     "prev": "1e329d6c-a975-4b47-ace0-d6773ba8aecc",
     "regions": {
      "1bfe24f3-591d-4701-940c-4fa37e15ccd2": {
       "attrs": {
        "height": 0.8,
        "width": 0.8,
        "x": 0.1,
        "y": 0.1
       },
       "content": {
        "cell": "5bc21ca1-a184-4cbc-b9c4-f97c7f515f3d",
        "part": "whole"
       },
       "id": "1bfe24f3-591d-4701-940c-4fa37e15ccd2"
      }
     }
    },
    "d874b789-8ee6-45ec-b28c-e4f0332e0df0": {
     "id": "d874b789-8ee6-45ec-b28c-e4f0332e0df0",
     "prev": null,
     "regions": {
      "fa1e1b4b-353b-4bd2-8f23-d0cecf45eb77": {
       "attrs": {
        "height": 0.8,
        "width": 0.8,
        "x": 0.1,
        "y": 0.1
       },
       "content": {
        "cell": "7c4f7272-3941-4df3-baf8-7a6c6f2b9308",
        "part": "whole"
       },
       "id": "fa1e1b4b-353b-4bd2-8f23-d0cecf45eb77"
      }
     }
    },
    "df51e339-69b3-484e-b555-9973234b4c2c": {
     "id": "df51e339-69b3-484e-b555-9973234b4c2c",
     "prev": "3c8bbc49-0bef-41b2-8989-fb05a6bbf2bb",
     "regions": {
      "f28754c5-6eb3-4de7-8269-f4ba4cb14954": {
       "attrs": {
        "height": 0.8,
        "width": 0.8,
        "x": 0.1,
        "y": 0.1
       },
       "content": {
        "cell": "8314e07e-027a-4268-a378-e36382fd68e6",
        "part": "whole"
       },
       "id": "f28754c5-6eb3-4de7-8269-f4ba4cb14954"
      }
     }
    },
    "e4af4a4c-73e1-4a6b-bb24-572c9587f31f": {
     "id": "e4af4a4c-73e1-4a6b-bb24-572c9587f31f",
     "prev": "4d2fad5c-ca8c-48f4-beb5-723ad8128657",
     "regions": {
      "d9934e3a-c0fa-4bcd-8e3d-ea0af0d85dc3": {
       "attrs": {
        "height": 0.8,
        "width": 0.8,
        "x": 0.1,
        "y": 0.1
       },
       "content": {
        "cell": "097966ba-c59e-4a6c-973b-3c3984d8c7e7",
        "part": "whole"
       },
       "id": "d9934e3a-c0fa-4bcd-8e3d-ea0af0d85dc3"
      }
     }
    },
    "e6e7d1d7-9886-4da1-b185-fe82732d59ac": {
     "id": "e6e7d1d7-9886-4da1-b185-fe82732d59ac",
     "prev": "d5f11597-b0a6-4c67-bcf2-763a18d3ef6f",
     "regions": {
      "6afce364-96d9-45c2-9fdc-da4c6f989df4": {
       "attrs": {
        "height": 0.8,
        "width": 0.8,
        "x": 0.1,
        "y": 0.1
       },
       "content": {
        "cell": "5cd39d9c-f3dd-4f2e-a71b-b674fd6a1383",
        "part": "whole"
       },
       "id": "6afce364-96d9-45c2-9fdc-da4c6f989df4"
      }
     }
    },
    "f3ef74d0-17e6-42ed-b239-8bf20702614e": {
     "id": "f3ef74d0-17e6-42ed-b239-8bf20702614e",
     "prev": "80d7f5b1-3130-491c-93dc-00a5418759cc",
     "regions": {
      "8d7f343d-41b9-4097-90a8-acd395cbafd9": {
       "attrs": {
        "height": 0.8,
        "width": 0.8,
        "x": 0.1,
        "y": 0.1
       },
       "content": {
        "cell": "d5dd3d57-59ab-4757-8bfe-80b69d431d42",
        "part": "whole"
       },
       "id": "8d7f343d-41b9-4097-90a8-acd395cbafd9"
      }
     }
    },
    "f753b47b-0611-47c6-a81d-2c5503637777": {
     "id": "f753b47b-0611-47c6-a81d-2c5503637777",
     "prev": "ab1dbb0c-91a3-49e1-8e55-6c0a4dfd0c48",
     "regions": {
      "dfdc134e-a988-4ded-98fc-d9b0da3bd0b1": {
       "attrs": {
        "height": 0.8,
        "width": 0.8,
        "x": 0.1,
        "y": 0.1
       },
       "content": {
        "cell": "869b2134-f52b-4849-abf7-aff404943ff2",
        "part": "whole"
       },
       "id": "dfdc134e-a988-4ded-98fc-d9b0da3bd0b1"
      }
     }
    }
   },
   "themes": {}
  }
 },
 "nbformat": 4,
 "nbformat_minor": 1
}
