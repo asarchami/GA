{
 "cells": [
  {
   "cell_type": "markdown",
   "metadata": {},
   "source": [
    "# Predicting Future Stock Prices Based on Current News\n",
    "## or effect of news sentiment on stock prices"
   ]
  },
  {
   "cell_type": "code",
   "execution_count": 2,
   "metadata": {
    "collapsed": false
   },
   "outputs": [],
   "source": [
    "from bs4 import BeautifulSoup\n",
    "import urllib2\n",
    "import pandas as pd"
   ]
  },
  {
   "cell_type": "code",
   "execution_count": 1,
   "metadata": {
    "collapsed": false
   },
   "outputs": [],
   "source": [
    "from datetime import date, timedelta, datetime\n",
    "from time import sleep\n",
    "import os.path"
   ]
  },
  {
   "cell_type": "markdown",
   "metadata": {},
   "source": [
    "## Data\n",
    "My capstone project is about effects of news on stock prices. for that I need to do my study on a well publicized stock so usually S&P 500 companies have better news coverage. Since choosing a particular stock can led to some bias and overfitting I decided to go with more than one which leads to problem of choosing those stocks. Since each stock belongs to a particular industry and usually news about a particular stock can affect the whole industry and vice versa I decided to do my study on multiple stocks in multiple industries. By using this approach we can even find out which industries are more sensitive to news.\n",
    "\n",
    "There is a wikipedia page containig all S&P 500 companies names and in formation so we start from there."
   ]
  },
  {
   "cell_type": "code",
   "execution_count": 14,
   "metadata": {
    "collapsed": false
   },
   "outputs": [],
   "source": [
    "if not os.path.exists('datasets/s_p_500.csv'):\n",
    "    s_p_500 = pd.read_html('http://en.wikipedia.org/wiki/List_of_S%26P_500_companies', attrs = {\"class\":'wikitable sortable'}, header = 0)[0]\n",
    "    s_p_500.to_csv('datasets/s_p_500.csv', encoding = \"utf-8\")\n",
    "else:\n",
    "    s_p_500 = pd.read_csv('datasets/s_p_500.csv', index_col = 0)"
   ]
  },
  {
   "cell_type": "code",
   "execution_count": 16,
   "metadata": {
    "collapsed": false
   },
   "outputs": [],
   "source": [
    "s_p_500.columns = [x.strip().replace(' ', '_') for x in s_p_500.columns]"
   ]
  },
  {
   "cell_type": "markdown",
   "metadata": {},
   "source": [
    "Now we can identify all industries"
   ]
  },
  {
   "cell_type": "code",
   "execution_count": 17,
   "metadata": {
    "collapsed": false
   },
   "outputs": [
    {
     "data": {
      "text/plain": [
       "array(['Industrials', 'Health Care', 'Information Technology',\n",
       "       'Consumer Discretionary', 'Utilities', 'Financials', 'Materials',\n",
       "       'Consumer Staples', 'Real Estate', 'Energy',\n",
       "       'Telecommunications Services'], dtype=object)"
      ]
     },
     "execution_count": 17,
     "metadata": {},
     "output_type": "execute_result"
    }
   ],
   "source": [
    "industries = s_p_500.GICS_Sector.unique()\n",
    "industries"
   ]
  },
  {
   "cell_type": "markdown",
   "metadata": {},
   "source": [
    "We are going to use 3 companies in each industry"
   ]
  },
  {
   "cell_type": "code",
   "execution_count": 21,
   "metadata": {
    "collapsed": false
   },
   "outputs": [
    {
     "data": {
      "text/html": [
       "<div>\n",
       "<table border=\"1\" class=\"dataframe\">\n",
       "  <thead>\n",
       "    <tr style=\"text-align: right;\">\n",
       "      <th></th>\n",
       "      <th>Ticker_symbol</th>\n",
       "      <th>Security</th>\n",
       "      <th>SEC_filings</th>\n",
       "      <th>GICS_Sector</th>\n",
       "      <th>GICS_Sub_Industry</th>\n",
       "      <th>Address_of_Headquarters</th>\n",
       "      <th>Date_first_added</th>\n",
       "      <th>CIK</th>\n",
       "    </tr>\n",
       "  </thead>\n",
       "  <tbody>\n",
       "    <tr>\n",
       "      <th>0</th>\n",
       "      <td>MMM</td>\n",
       "      <td>3M Company</td>\n",
       "      <td>reports</td>\n",
       "      <td>Industrials</td>\n",
       "      <td>Industrial Conglomerates</td>\n",
       "      <td>St. Paul, Minnesota</td>\n",
       "      <td>NaN</td>\n",
       "      <td>66740</td>\n",
       "    </tr>\n",
       "    <tr>\n",
       "      <th>5</th>\n",
       "      <td>AYI</td>\n",
       "      <td>Acuity Brands Inc</td>\n",
       "      <td>reports</td>\n",
       "      <td>Industrials</td>\n",
       "      <td>Electrical Components &amp; Equipment</td>\n",
       "      <td>Atlanta, Georgia</td>\n",
       "      <td>2016-05-03</td>\n",
       "      <td>1144215</td>\n",
       "    </tr>\n",
       "    <tr>\n",
       "      <th>15</th>\n",
       "      <td>ALK</td>\n",
       "      <td>Alaska Air Group Inc</td>\n",
       "      <td>reports</td>\n",
       "      <td>Industrials</td>\n",
       "      <td>Airlines</td>\n",
       "      <td>Seattle, Washington</td>\n",
       "      <td>2016-05-13</td>\n",
       "      <td>766421</td>\n",
       "    </tr>\n",
       "    <tr>\n",
       "      <th>1</th>\n",
       "      <td>ABT</td>\n",
       "      <td>Abbott Laboratories</td>\n",
       "      <td>reports</td>\n",
       "      <td>Health Care</td>\n",
       "      <td>Health Care Equipment</td>\n",
       "      <td>North Chicago, Illinois</td>\n",
       "      <td>1964-03-31</td>\n",
       "      <td>1800</td>\n",
       "    </tr>\n",
       "    <tr>\n",
       "      <th>2</th>\n",
       "      <td>ABBV</td>\n",
       "      <td>AbbVie</td>\n",
       "      <td>reports</td>\n",
       "      <td>Health Care</td>\n",
       "      <td>Pharmaceuticals</td>\n",
       "      <td>North Chicago, Illinois</td>\n",
       "      <td>2012-12-31</td>\n",
       "      <td>1551152</td>\n",
       "    </tr>\n",
       "  </tbody>\n",
       "</table>\n",
       "</div>"
      ],
      "text/plain": [
       "   Ticker_symbol              Security SEC_filings  GICS_Sector  \\\n",
       "0            MMM            3M Company     reports  Industrials   \n",
       "5            AYI     Acuity Brands Inc     reports  Industrials   \n",
       "15           ALK  Alaska Air Group Inc     reports  Industrials   \n",
       "1            ABT   Abbott Laboratories     reports  Health Care   \n",
       "2           ABBV                AbbVie     reports  Health Care   \n",
       "\n",
       "                    GICS_Sub_Industry  Address_of_Headquarters  \\\n",
       "0            Industrial Conglomerates      St. Paul, Minnesota   \n",
       "5   Electrical Components & Equipment         Atlanta, Georgia   \n",
       "15                           Airlines      Seattle, Washington   \n",
       "1               Health Care Equipment  North Chicago, Illinois   \n",
       "2                     Pharmaceuticals  North Chicago, Illinois   \n",
       "\n",
       "   Date_first_added      CIK  \n",
       "0               NaN    66740  \n",
       "5        2016-05-03  1144215  \n",
       "15       2016-05-13   766421  \n",
       "1        1964-03-31     1800  \n",
       "2        2012-12-31  1551152  "
      ]
     },
     "execution_count": 21,
     "metadata": {},
     "output_type": "execute_result"
    }
   ],
   "source": [
    "companies = [s_p_500[(s_p_500.GICS_Sector =  = industry)].head(3) for industry in industries]\n",
    "companies = pd.concat(companies, axis = 0)\n",
    "companies.head()"
   ]
  },
  {
   "cell_type": "markdown",
   "metadata": {
    "collapsed": false
   },
   "source": [
    "## News\n",
    "for news source I choose Reuters. Reuters is a well known and presigeous news agency and most of all it has a great site which we grants us access to historical company news. for starter I decided get news from 2014 to present. I may need to go further later."
   ]
  },
  {
   "cell_type": "markdown",
   "metadata": {},
   "source": [
    "Reuters doesn't like `-` in symbols!!!"
   ]
  },
  {
   "cell_type": "code",
   "execution_count": null,
   "metadata": {
    "collapsed": false
   },
   "outputs": [],
   "source": [
    "companies.Ticker_symbol = companies.Ticker_symbol.apply(lambda x: x.replace('-', ''))"
   ]
  },
  {
   "cell_type": "markdown",
   "metadata": {},
   "source": [
    "This function goes through all the news starting from `start_date` to `end_date` and grabs all the news. This took me one day to get all the news!"
   ]
  },
  {
   "cell_type": "code",
   "execution_count": 22,
   "metadata": {
    "collapsed": true
   },
   "outputs": [],
   "source": [
    "def get_news_for_symbol(symbol, start_date = date(2014, 1, 1), end_date = date(2014, 1, 15)):\n",
    "    def get_link(href, text, date):\n",
    "        link = {}\n",
    "        link['url'] = \"http://www.reuters.com/\"+href\n",
    "        link['text'] = text\n",
    "        link['symbol'] = symbol\n",
    "        link['date'] = date\n",
    "        link['article'] = BeautifulSoup(urllib2.urlopen(link['url']), \"lxml\").find_all(\n",
    "            'span', {\"id\":\"article-text\"})[0].text.replace('\\n', ' ')\n",
    "        sleep(0.5)\n",
    "        return link\n",
    "\n",
    "    links = []\n",
    "    for day in [start_date + timedelta(n) for n in range((end_date - start_date).days)]:\n",
    "        url = \"http://www.reuters.com/finance/stocks/companyNews?symbol = {}&date = {}\".format(symbol,day.strftime('%m%d%Y'))\n",
    "        news = BeautifulSoup(urllib2.urlopen(url), \"lxml\").find_all('div', {\"id\":\"companyNews\"})\n",
    "        for i in xrange(2):\n",
    "            for feature in news[i].find_all('h2'):\n",
    "                a = feature.find('a')\n",
    "                if a.has_attr('href'):\n",
    "                    links.append(get_link(a['href'], a.text, day))\n",
    "        sleep(1)\n",
    "    return links"
   ]
  },
  {
   "cell_type": "code",
   "execution_count": 26,
   "metadata": {
    "collapsed": false
   },
   "outputs": [
    {
     "data": {
      "text/html": [
       "<div>\n",
       "<table border=\"1\" class=\"dataframe\">\n",
       "  <thead>\n",
       "    <tr style=\"text-align: right;\">\n",
       "      <th></th>\n",
       "      <th>article</th>\n",
       "      <th>date</th>\n",
       "      <th>symbol</th>\n",
       "      <th>text</th>\n",
       "      <th>url</th>\n",
       "    </tr>\n",
       "  </thead>\n",
       "  <tbody>\n",
       "    <tr>\n",
       "      <th>0</th>\n",
       "      <td>MOSCOW Jan 17 Russia's biggest home electron...</td>\n",
       "      <td>2014-01-17</td>\n",
       "      <td>MMM</td>\n",
       "      <td>Russia's M.video says consumer confidence weak...</td>\n",
       "      <td>http://www.reuters.com//article/russia-mvideo-...</td>\n",
       "    </tr>\n",
       "    <tr>\n",
       "      <th>1</th>\n",
       "      <td>By Lewis Krauskopf  Diversified manufacture...</td>\n",
       "      <td>2014-01-30</td>\n",
       "      <td>MMM</td>\n",
       "      <td>3M revenue growth slows, misses Wall Street ta...</td>\n",
       "      <td>http://www.reuters.com//article/us-3m-results-...</td>\n",
       "    </tr>\n",
       "    <tr>\n",
       "      <th>2</th>\n",
       "      <td>By Lewis KrauskopfJan 30 Diversified manufac...</td>\n",
       "      <td>2014-01-30</td>\n",
       "      <td>MMM</td>\n",
       "      <td>UPDATE 2-3M revenue growth slows, misses Wall ...</td>\n",
       "      <td>http://www.reuters.com//article/3m-results-idU...</td>\n",
       "    </tr>\n",
       "    <tr>\n",
       "      <th>3</th>\n",
       "      <td>Jan 30 Diversified manufacturer 3M Co  poste...</td>\n",
       "      <td>2014-01-30</td>\n",
       "      <td>MMM</td>\n",
       "      <td>Manufacturer 3M posts 11 percent rise in net i...</td>\n",
       "      <td>http://www.reuters.com//article/3m-results-idU...</td>\n",
       "    </tr>\n",
       "    <tr>\n",
       "      <th>4</th>\n",
       "      <td>3M Co. has invested US$15 million in one of ...</td>\n",
       "      <td>2014-03-10</td>\n",
       "      <td>MMM</td>\n",
       "      <td>SINGAPORE PRESS-3M to lift N95 mask output at ...</td>\n",
       "      <td>http://www.reuters.com//article/singapore-pres...</td>\n",
       "    </tr>\n",
       "  </tbody>\n",
       "</table>\n",
       "</div>"
      ],
      "text/plain": [
       "                                             article        date symbol  \\\n",
       "0    MOSCOW Jan 17 Russia's biggest home electron...  2014-01-17    MMM   \n",
       "1     By Lewis Krauskopf  Diversified manufacture...  2014-01-30    MMM   \n",
       "2    By Lewis KrauskopfJan 30 Diversified manufac...  2014-01-30    MMM   \n",
       "3    Jan 30 Diversified manufacturer 3M Co  poste...  2014-01-30    MMM   \n",
       "4    3M Co. has invested US$15 million in one of ...  2014-03-10    MMM   \n",
       "\n",
       "                                                text  \\\n",
       "0  Russia's M.video says consumer confidence weak...   \n",
       "1  3M revenue growth slows, misses Wall Street ta...   \n",
       "2  UPDATE 2-3M revenue growth slows, misses Wall ...   \n",
       "3  Manufacturer 3M posts 11 percent rise in net i...   \n",
       "4  SINGAPORE PRESS-3M to lift N95 mask output at ...   \n",
       "\n",
       "                                                 url  \n",
       "0  http://www.reuters.com//article/russia-mvideo-...  \n",
       "1  http://www.reuters.com//article/us-3m-results-...  \n",
       "2  http://www.reuters.com//article/3m-results-idU...  \n",
       "3  http://www.reuters.com//article/3m-results-idU...  \n",
       "4  http://www.reuters.com//article/singapore-pres...  "
      ]
     },
     "execution_count": 26,
     "metadata": {},
     "output_type": "execute_result"
    }
   ],
   "source": [
    "links = \"\"\n",
    "if not os.path.exists('datasets/articles.csv'):\n",
    "    for symbol in companies.Ticker_symbol:\n",
    "        links +=  get_news_for_symbol(symbol, end_date = date.today())\n",
    "    links = pd.DataFrame(links)\n",
    "    links.to_csv('articles.csv', encoding = \"utf-8\")\n",
    "else:\n",
    "    links = pd.read_csv('datasets/articles.csv', index_col = 0)\n",
    "links.head()"
   ]
  },
  {
   "cell_type": "markdown",
   "metadata": {},
   "source": [
    "There are plenty of redundancy which I have yet to decide what to do with them"
   ]
  },
  {
   "cell_type": "markdown",
   "metadata": {},
   "source": [
    "# Stock quotes\n",
    "After geting news data we gonna need quotes data. Getting hhistorical data can become really tricky. we can use yahoo finance to get historical daily quotes and for this project I think thats enough otherwise we have to use some propriority data."
   ]
  },
  {
   "cell_type": "code",
   "execution_count": 27,
   "metadata": {
    "collapsed": true
   },
   "outputs": [],
   "source": [
    "def get_quotes(symbol, start_date='1/1/2014', end_date=date.today().strftime('%m/%d/%Y')):\n",
    "    ret = web.DataReader(symbol, data_source='yahoo', start=start_date, end=end_date)\n",
    "    ret['symbol'] = symbol\n",
    "    return ret"
   ]
  },
  {
   "cell_type": "code",
   "execution_count": 28,
   "metadata": {
    "collapsed": true
   },
   "outputs": [],
   "source": [
    "quotes = \"\"\n",
    "if not os.path.exists('datasets/daily_quotes.csv'):\n",
    "    quotes = [get_quotes(symbol) for symbol in companies.Ticker_symbol ]\n",
    "    quotes = pd.concat(quotes, axis=0)\n",
    "    quotes.to_csv('daily_quotes.csv', encoding = \"utf-8\")\n",
    "else:\n",
    "    quotes = pd.read_csv('datasets/daily_quotes.csv')"
   ]
  },
  {
   "cell_type": "code",
   "execution_count": 30,
   "metadata": {
    "collapsed": false,
    "scrolled": true
   },
   "outputs": [
    {
     "data": {
      "text/html": [
       "<div>\n",
       "<table border=\"1\" class=\"dataframe\">\n",
       "  <thead>\n",
       "    <tr style=\"text-align: right;\">\n",
       "      <th></th>\n",
       "      <th>Date</th>\n",
       "      <th>Open</th>\n",
       "      <th>High</th>\n",
       "      <th>Low</th>\n",
       "      <th>Close</th>\n",
       "      <th>Volume</th>\n",
       "      <th>Adj Close</th>\n",
       "      <th>symbol</th>\n",
       "    </tr>\n",
       "  </thead>\n",
       "  <tbody>\n",
       "    <tr>\n",
       "      <th>0</th>\n",
       "      <td>2014-01-02</td>\n",
       "      <td>138.050003</td>\n",
       "      <td>139.000000</td>\n",
       "      <td>137.610001</td>\n",
       "      <td>138.130005</td>\n",
       "      <td>3052100</td>\n",
       "      <td>127.971294</td>\n",
       "      <td>MMM</td>\n",
       "    </tr>\n",
       "    <tr>\n",
       "      <th>1</th>\n",
       "      <td>2014-01-03</td>\n",
       "      <td>138.369995</td>\n",
       "      <td>138.880005</td>\n",
       "      <td>138.029999</td>\n",
       "      <td>138.449997</td>\n",
       "      <td>2133300</td>\n",
       "      <td>128.267753</td>\n",
       "      <td>MMM</td>\n",
       "    </tr>\n",
       "    <tr>\n",
       "      <th>2</th>\n",
       "      <td>2014-01-06</td>\n",
       "      <td>138.750000</td>\n",
       "      <td>139.289993</td>\n",
       "      <td>137.479996</td>\n",
       "      <td>137.630005</td>\n",
       "      <td>2712100</td>\n",
       "      <td>127.508066</td>\n",
       "      <td>MMM</td>\n",
       "    </tr>\n",
       "    <tr>\n",
       "      <th>3</th>\n",
       "      <td>2014-01-07</td>\n",
       "      <td>137.449997</td>\n",
       "      <td>138.199997</td>\n",
       "      <td>137.130005</td>\n",
       "      <td>137.649994</td>\n",
       "      <td>2525500</td>\n",
       "      <td>127.526585</td>\n",
       "      <td>MMM</td>\n",
       "    </tr>\n",
       "    <tr>\n",
       "      <th>4</th>\n",
       "      <td>2014-01-08</td>\n",
       "      <td>137.479996</td>\n",
       "      <td>137.750000</td>\n",
       "      <td>136.339996</td>\n",
       "      <td>136.630005</td>\n",
       "      <td>3122700</td>\n",
       "      <td>126.581611</td>\n",
       "      <td>MMM</td>\n",
       "    </tr>\n",
       "  </tbody>\n",
       "</table>\n",
       "</div>"
      ],
      "text/plain": [
       "         Date        Open        High         Low       Close   Volume  \\\n",
       "0  2014-01-02  138.050003  139.000000  137.610001  138.130005  3052100   \n",
       "1  2014-01-03  138.369995  138.880005  138.029999  138.449997  2133300   \n",
       "2  2014-01-06  138.750000  139.289993  137.479996  137.630005  2712100   \n",
       "3  2014-01-07  137.449997  138.199997  137.130005  137.649994  2525500   \n",
       "4  2014-01-08  137.479996  137.750000  136.339996  136.630005  3122700   \n",
       "\n",
       "    Adj Close symbol  \n",
       "0  127.971294    MMM  \n",
       "1  128.267753    MMM  \n",
       "2  127.508066    MMM  \n",
       "3  127.526585    MMM  \n",
       "4  126.581611    MMM  "
      ]
     },
     "execution_count": 30,
     "metadata": {},
     "output_type": "execute_result"
    }
   ],
   "source": [
    "quotes.head()"
   ]
  },
  {
   "cell_type": "code",
   "execution_count": null,
   "metadata": {
    "collapsed": true
   },
   "outputs": [],
   "source": []
  },
  {
   "cell_type": "code",
   "execution_count": null,
   "metadata": {
    "collapsed": true
   },
   "outputs": [],
   "source": []
  },
  {
   "cell_type": "code",
   "execution_count": null,
   "metadata": {
    "collapsed": true
   },
   "outputs": [],
   "source": []
  },
  {
   "cell_type": "code",
   "execution_count": null,
   "metadata": {
    "collapsed": true
   },
   "outputs": [],
   "source": []
  },
  {
   "cell_type": "code",
   "execution_count": null,
   "metadata": {
    "collapsed": true
   },
   "outputs": [],
   "source": []
  }
 ],
 "metadata": {
  "anaconda-cloud": {},
  "kernelspec": {
   "display_name": "Python [conda root]",
   "language": "python",
   "name": "conda-root-py"
  },
  "language_info": {
   "codemirror_mode": {
    "name": "ipython",
    "version": 2
   },
   "file_extension": ".py",
   "mimetype": "text/x-python",
   "name": "python",
   "nbconvert_exporter": "python",
   "pygments_lexer": "ipython2",
   "version": "2.7.12"
  }
 },
 "nbformat": 4,
 "nbformat_minor": 1
}
