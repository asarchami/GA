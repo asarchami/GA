{
 "cells": [
  {
   "cell_type": "code",
   "execution_count": 30,
   "metadata": {
    "collapsed": false
   },
   "outputs": [],
   "source": [
    "def compress(l):\n",
    "    l = list(l)\n",
    "    count = 1\n",
    "    i = 1\n",
    "    while i < len(l):\n",
    "        if l[i] == l[i-1]:\n",
    "            count += 1\n",
    "            del l[i]\n",
    "        elif l[i] != l[i-1] and count > 1:\n",
    "            l.insert(i, str(count))\n",
    "            count = 1\n",
    "            i += 2\n",
    "#         elif l[i] != l[i-1]:\n",
    "        else:\n",
    "            i += 1\n",
    "#             l.insert(i, str(count))\n",
    "#             i += 2\n",
    "        if i == len(l) and count > 1:\n",
    "            l.insert(i, str(count))\n",
    "            break\n",
    "    return ''.join(l)"
   ]
  },
  {
   "cell_type": "code",
   "execution_count": 31,
   "metadata": {
    "collapsed": false
   },
   "outputs": [
    {
     "data": {
      "text/plain": [
       "'a2sdad4e3g2W3'"
      ]
     },
     "execution_count": 31,
     "metadata": {},
     "output_type": "execute_result"
    }
   ],
   "source": [
    "s = \"aasdaddddeeeggWWW\"\n",
    "compress(s)"
   ]
  },
  {
   "cell_type": "code",
   "execution_count": 32,
   "metadata": {
    "collapsed": false
   },
   "outputs": [
    {
     "data": {
      "text/plain": [
       "'a2sdad4e3g2W'"
      ]
     },
     "execution_count": 32,
     "metadata": {},
     "output_type": "execute_result"
    }
   ],
   "source": [
    "s = \"aasdaddddeeeggW\"\n",
    "compress(s)"
   ]
  },
  {
   "cell_type": "code",
   "execution_count": 33,
   "metadata": {
    "collapsed": false
   },
   "outputs": [
    {
     "data": {
      "text/plain": [
       "'sdad4e3g2W3'"
      ]
     },
     "execution_count": 33,
     "metadata": {},
     "output_type": "execute_result"
    }
   ],
   "source": [
    "s = \"sdaddddeeeggWWW\"\n",
    "compress(s)"
   ]
  },
  {
   "cell_type": "code",
   "execution_count": null,
   "metadata": {
    "collapsed": true
   },
   "outputs": [],
   "source": []
  }
 ],
 "metadata": {
  "anaconda-cloud": {},
  "kernelspec": {
   "display_name": "Python [default]",
   "language": "python",
   "name": "python2"
  },
  "language_info": {
   "codemirror_mode": {
    "name": "ipython",
    "version": 2
   },
   "file_extension": ".py",
   "mimetype": "text/x-python",
   "name": "python",
   "nbconvert_exporter": "python",
   "pygments_lexer": "ipython2",
   "version": "2.7.12"
  }
 },
 "nbformat": 4,
 "nbformat_minor": 1
}
