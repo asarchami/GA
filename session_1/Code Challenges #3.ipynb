{
 "cells": [
  {
   "cell_type": "code",
   "execution_count": null,
   "metadata": {
    "collapsed": true
   },
   "outputs": [],
   "source": [
    "# You may enjoy writing your own random number function, but for the sake of time, let's use Python's built-in random module.\n",
    "from random import randint\n",
    "\n",
    "# Here is your random number\n",
    "random_number = randint(1, 10)\n",
    "\n",
    "# Tell the user what they are about to experience\n",
    "print \"Are you excited?  It's time to play guess that number!\"\n",
    "\n",
    "# In a notebook, this will prompt the user to enter a number, and pause execution of the app.\n",
    "# We use int() because anything that comes into\n",
    "def play_guess_that_number(random_number):\n",
    "    \n",
    "    user_number = int(raw_input(\"Pick a number between 1-10:  \"))\n",
    "    print \"You entered:  \", user_number\n",
    "    ## Your code here!\n",
    "    if random_number < user_number:\n",
    "        print('too high')\n",
    "        play_guess_that_number(random_number)\n",
    "    elif random_number > user_number:\n",
    "        print('too low')\n",
    "        play_guess_that_number(random_number)\n",
    "    else:\n",
    "        print(\"You're the winner!!!!!\")\n",
    "\n",
    "# We pass \"random_number\" so it can be referenced throughout\n",
    "play_guess_that_number(random_number)"
   ]
  },
  {
   "cell_type": "code",
   "execution_count": null,
   "metadata": {
    "collapsed": true
   },
   "outputs": [],
   "source": [
    "# Here is your random number\n",
    "random_number = randint(1, 10)\n",
    "\n",
    "# Number of changes to allow\n",
    "chances_remaining = 4\n",
    "\n",
    "# Number of attempts\n",
    "chances_taken = 0\n",
    "\n",
    "# Tell the user what they are about to experience\n",
    "print \"Are you excited?  It's time to play guess that number *ENHANCED EDITION*!\"\n",
    "\n",
    "# In a notebook, this will prompt the user to enter a number, and pause execution of the app.\n",
    "# We use int() because anything that comes into\n",
    "def play_guess_that_number(random_number, chances_remaining, chances_taken):\n",
    "\n",
    "    # Increment guess attempt each time\n",
    "    chances_taken += 1\n",
    "\n",
    "    ## Your code here\n",
    "    user_number = int(raw_input(\"Pick a number between 1-10:  \"))\n",
    "    print \"You entered:  \", user_number\n",
    "    ## Your code here!\n",
    "    if random_number < user_number and chances_remaining > 0:\n",
    "        print('too high')\n",
    "        play_guess_that_number(random_number, chances_remaining - chances_taken, chances_taken)\n",
    "    elif random_number > user_number and chances_remaining > 0:\n",
    "        print('too low')\n",
    "        play_guess_that_number(random_number, chances_remaining - chances_taken, chances_taken)\n",
    "    elif random_number == user_number and chances_remaining > 0:\n",
    "        print(\"You're the winner!!!!!\")\n",
    "    else:\n",
    "        print(\"Game Over: Too many guesses!\")\n",
    "\n",
    "# We pass \"random_number\" so it can be referenced throughout\n",
    "play_guess_that_number(random_number, chances_remaining, chances_taken)"
   ]
  },
  {
   "cell_type": "code",
   "execution_count": null,
   "metadata": {
    "collapsed": true
   },
   "outputs": [],
   "source": []
  }
 ],
 "metadata": {
  "kernelspec": {
   "display_name": "Python [DSI]",
   "language": "python",
   "name": "Python [DSI]"
  },
  "language_info": {
   "codemirror_mode": {
    "name": "ipython",
    "version": 2
   },
   "file_extension": ".py",
   "mimetype": "text/x-python",
   "name": "python",
   "nbconvert_exporter": "python",
   "pygments_lexer": "ipython2",
   "version": "2.7.12"
  }
 },
 "nbformat": 4,
 "nbformat_minor": 0
}
