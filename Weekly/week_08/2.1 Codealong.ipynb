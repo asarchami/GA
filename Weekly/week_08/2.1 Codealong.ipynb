{
 "cells": [
  {
   "cell_type": "code",
   "execution_count": 1,
   "metadata": {
    "collapsed": true
   },
   "outputs": [],
   "source": [
    "import math\n",
    "from scipy.special import gamma as Gamma\n",
    "from scipy.stats import beta"
   ]
  },
  {
   "cell_type": "code",
   "execution_count": 2,
   "metadata": {
    "collapsed": true
   },
   "outputs": [],
   "source": [
    "def my_beta(a,b):\n",
    "    beta_num = (math.gamma(a)*math.gamma(b))/math.gamma(a+b)\n",
    "    return beta_num"
   ]
  },
  {
   "cell_type": "code",
   "execution_count": 3,
   "metadata": {
    "collapsed": true
   },
   "outputs": [],
   "source": [
    "import pandas as pd"
   ]
  },
  {
   "cell_type": "code",
   "execution_count": 8,
   "metadata": {
    "collapsed": false,
    "scrolled": true
   },
   "outputs": [
    {
     "data": {
      "text/html": [
       "<div>\n",
       "<table border=\"1\" class=\"dataframe\">\n",
       "  <thead>\n",
       "    <tr style=\"text-align: right;\">\n",
       "      <th></th>\n",
       "      <th>org</th>\n",
       "      <th>year</th>\n",
       "      <th>survey</th>\n",
       "      <th>bush</th>\n",
       "      <th>state</th>\n",
       "      <th>edu</th>\n",
       "      <th>age</th>\n",
       "      <th>female</th>\n",
       "      <th>black</th>\n",
       "      <th>weight</th>\n",
       "    </tr>\n",
       "  </thead>\n",
       "  <tbody>\n",
       "    <tr>\n",
       "      <th>1</th>\n",
       "      <td>cbsnyt</td>\n",
       "      <td>1</td>\n",
       "      <td>9152</td>\n",
       "      <td>1.0</td>\n",
       "      <td>7</td>\n",
       "      <td>2</td>\n",
       "      <td>2</td>\n",
       "      <td>1</td>\n",
       "      <td>0</td>\n",
       "      <td>1403</td>\n",
       "    </tr>\n",
       "    <tr>\n",
       "      <th>2</th>\n",
       "      <td>cbsnyt</td>\n",
       "      <td>1</td>\n",
       "      <td>9152</td>\n",
       "      <td>1.0</td>\n",
       "      <td>33</td>\n",
       "      <td>4</td>\n",
       "      <td>3</td>\n",
       "      <td>0</td>\n",
       "      <td>0</td>\n",
       "      <td>778</td>\n",
       "    </tr>\n",
       "    <tr>\n",
       "      <th>3</th>\n",
       "      <td>cbsnyt</td>\n",
       "      <td>1</td>\n",
       "      <td>9152</td>\n",
       "      <td>0.0</td>\n",
       "      <td>20</td>\n",
       "      <td>2</td>\n",
       "      <td>1</td>\n",
       "      <td>1</td>\n",
       "      <td>0</td>\n",
       "      <td>1564</td>\n",
       "    </tr>\n",
       "    <tr>\n",
       "      <th>4</th>\n",
       "      <td>cbsnyt</td>\n",
       "      <td>1</td>\n",
       "      <td>9152</td>\n",
       "      <td>1.0</td>\n",
       "      <td>31</td>\n",
       "      <td>3</td>\n",
       "      <td>2</td>\n",
       "      <td>1</td>\n",
       "      <td>0</td>\n",
       "      <td>1055</td>\n",
       "    </tr>\n",
       "    <tr>\n",
       "      <th>5</th>\n",
       "      <td>cbsnyt</td>\n",
       "      <td>1</td>\n",
       "      <td>9152</td>\n",
       "      <td>1.0</td>\n",
       "      <td>18</td>\n",
       "      <td>3</td>\n",
       "      <td>1</td>\n",
       "      <td>1</td>\n",
       "      <td>0</td>\n",
       "      <td>1213</td>\n",
       "    </tr>\n",
       "    <tr>\n",
       "      <th>6</th>\n",
       "      <td>cbsnyt</td>\n",
       "      <td>1</td>\n",
       "      <td>9152</td>\n",
       "      <td>1.0</td>\n",
       "      <td>31</td>\n",
       "      <td>4</td>\n",
       "      <td>2</td>\n",
       "      <td>0</td>\n",
       "      <td>0</td>\n",
       "      <td>910</td>\n",
       "    </tr>\n",
       "    <tr>\n",
       "      <th>7</th>\n",
       "      <td>cbsnyt</td>\n",
       "      <td>1</td>\n",
       "      <td>9152</td>\n",
       "      <td>1.0</td>\n",
       "      <td>40</td>\n",
       "      <td>1</td>\n",
       "      <td>3</td>\n",
       "      <td>0</td>\n",
       "      <td>0</td>\n",
       "      <td>735</td>\n",
       "    </tr>\n",
       "    <tr>\n",
       "      <th>8</th>\n",
       "      <td>cbsnyt</td>\n",
       "      <td>1</td>\n",
       "      <td>9152</td>\n",
       "      <td>1.0</td>\n",
       "      <td>33</td>\n",
       "      <td>4</td>\n",
       "      <td>2</td>\n",
       "      <td>1</td>\n",
       "      <td>0</td>\n",
       "      <td>410</td>\n",
       "    </tr>\n",
       "    <tr>\n",
       "      <th>9</th>\n",
       "      <td>cbsnyt</td>\n",
       "      <td>1</td>\n",
       "      <td>9152</td>\n",
       "      <td>0.0</td>\n",
       "      <td>22</td>\n",
       "      <td>4</td>\n",
       "      <td>2</td>\n",
       "      <td>1</td>\n",
       "      <td>0</td>\n",
       "      <td>410</td>\n",
       "    </tr>\n",
       "    <tr>\n",
       "      <th>10</th>\n",
       "      <td>cbsnyt</td>\n",
       "      <td>1</td>\n",
       "      <td>9152</td>\n",
       "      <td>1.0</td>\n",
       "      <td>22</td>\n",
       "      <td>4</td>\n",
       "      <td>3</td>\n",
       "      <td>0</td>\n",
       "      <td>0</td>\n",
       "      <td>778</td>\n",
       "    </tr>\n",
       "  </tbody>\n",
       "</table>\n",
       "</div>"
      ],
      "text/plain": [
       "       org  year survey  bush  state  edu  age  female  black  weight\n",
       "1   cbsnyt     1   9152   1.0      7    2    2       1      0    1403\n",
       "2   cbsnyt     1   9152   1.0     33    4    3       0      0     778\n",
       "3   cbsnyt     1   9152   0.0     20    2    1       1      0    1564\n",
       "4   cbsnyt     1   9152   1.0     31    3    2       1      0    1055\n",
       "5   cbsnyt     1   9152   1.0     18    3    1       1      0    1213\n",
       "6   cbsnyt     1   9152   1.0     31    4    2       0      0     910\n",
       "7   cbsnyt     1   9152   1.0     40    1    3       0      0     735\n",
       "8   cbsnyt     1   9152   1.0     33    4    2       1      0     410\n",
       "9   cbsnyt     1   9152   0.0     22    4    2       1      0     410\n",
       "10  cbsnyt     1   9152   1.0     22    4    3       0      0     778"
      ]
     },
     "execution_count": 8,
     "metadata": {},
     "output_type": "execute_result"
    }
   ],
   "source": [
    "pre_poll = pd.read_csv('../datasets/polls.csv')\n",
    "pre_poll.head(10)"
   ]
  },
  {
   "cell_type": "code",
   "execution_count": 10,
   "metadata": {
    "collapsed": false
   },
   "outputs": [],
   "source": [
    "pre_poll.drop('org', axis=1, inplace=True)"
   ]
  },
  {
   "cell_type": "code",
   "execution_count": 11,
   "metadata": {
    "collapsed": false
   },
   "outputs": [
    {
     "data": {
      "text/plain": [
       "2    4788\n",
       "3    3429\n",
       "1    3149\n",
       "4    2178\n",
       "Name: age, dtype: int64"
      ]
     },
     "execution_count": 11,
     "metadata": {},
     "output_type": "execute_result"
    }
   ],
   "source": [
    "pre_poll.age.value_counts()"
   ]
  },
  {
   "cell_type": "code",
   "execution_count": 12,
   "metadata": {
    "collapsed": false,
    "scrolled": true
   },
   "outputs": [
    {
     "data": {
      "text/plain": [
       "5     1493\n",
       "33     894\n",
       "44     788\n",
       "10     750\n",
       "39     616\n",
       "36     605\n",
       "14     567\n",
       "23     530\n",
       "31     428\n",
       "48     393\n",
       "50     389\n",
       "22     373\n",
       "47     354\n",
       "34     346\n",
       "43     329\n",
       "11     316\n",
       "26     309\n",
       "15     291\n",
       "24     289\n",
       "21     284\n",
       "41     223\n",
       "25     220\n",
       "18     210\n",
       "1      203\n",
       "19     196\n",
       "3      194\n",
       "6      181\n",
       "7      171\n",
       "38     149\n",
       "16     143\n",
       "17     141\n",
       "37     130\n",
       "28     125\n",
       "4      121\n",
       "49     117\n",
       "32     109\n",
       "40      91\n",
       "45      79\n",
       "42      60\n",
       "35      60\n",
       "20      51\n",
       "13      42\n",
       "27      40\n",
       "8       39\n",
       "29      32\n",
       "30      27\n",
       "9       19\n",
       "51      15\n",
       "46      12\n",
       "Name: state, dtype: int64"
      ]
     },
     "execution_count": 12,
     "metadata": {},
     "output_type": "execute_result"
    }
   ],
   "source": [
    "pre_poll.state.value_counts()"
   ]
  },
  {
   "cell_type": "code",
   "execution_count": 14,
   "metadata": {
    "collapsed": false,
    "scrolled": true
   },
   "outputs": [
    {
     "data": {
      "text/html": [
       "<div>\n",
       "<table border=\"1\" class=\"dataframe\">\n",
       "  <thead>\n",
       "    <tr style=\"text-align: right;\">\n",
       "      <th></th>\n",
       "      <th>year</th>\n",
       "      <th>survey</th>\n",
       "      <th>bush</th>\n",
       "      <th>state</th>\n",
       "      <th>edu</th>\n",
       "      <th>age</th>\n",
       "      <th>female</th>\n",
       "      <th>black</th>\n",
       "      <th>weight</th>\n",
       "    </tr>\n",
       "  </thead>\n",
       "  <tbody>\n",
       "    <tr>\n",
       "      <th>707</th>\n",
       "      <td>1</td>\n",
       "      <td>9152</td>\n",
       "      <td>NaN</td>\n",
       "      <td>1</td>\n",
       "      <td>1</td>\n",
       "      <td>4</td>\n",
       "      <td>1</td>\n",
       "      <td>0</td>\n",
       "      <td>1498</td>\n",
       "    </tr>\n",
       "    <tr>\n",
       "      <th>1827</th>\n",
       "      <td>2</td>\n",
       "      <td>9153</td>\n",
       "      <td>NaN</td>\n",
       "      <td>1</td>\n",
       "      <td>1</td>\n",
       "      <td>4</td>\n",
       "      <td>1</td>\n",
       "      <td>0</td>\n",
       "      <td>1538</td>\n",
       "    </tr>\n",
       "    <tr>\n",
       "      <th>6517</th>\n",
       "      <td>4</td>\n",
       "      <td>9155</td>\n",
       "      <td>1.0</td>\n",
       "      <td>1</td>\n",
       "      <td>2</td>\n",
       "      <td>4</td>\n",
       "      <td>1</td>\n",
       "      <td>0</td>\n",
       "      <td>1487</td>\n",
       "    </tr>\n",
       "    <tr>\n",
       "      <th>7201</th>\n",
       "      <td>5</td>\n",
       "      <td>9156a</td>\n",
       "      <td>1.0</td>\n",
       "      <td>1</td>\n",
       "      <td>2</td>\n",
       "      <td>4</td>\n",
       "      <td>1</td>\n",
       "      <td>0</td>\n",
       "      <td>1203</td>\n",
       "    </tr>\n",
       "    <tr>\n",
       "      <th>7977</th>\n",
       "      <td>5</td>\n",
       "      <td>9156b</td>\n",
       "      <td>1.0</td>\n",
       "      <td>1</td>\n",
       "      <td>2</td>\n",
       "      <td>4</td>\n",
       "      <td>1</td>\n",
       "      <td>0</td>\n",
       "      <td>601</td>\n",
       "    </tr>\n",
       "    <tr>\n",
       "      <th>8270</th>\n",
       "      <td>5</td>\n",
       "      <td>9156b</td>\n",
       "      <td>NaN</td>\n",
       "      <td>1</td>\n",
       "      <td>2</td>\n",
       "      <td>4</td>\n",
       "      <td>0</td>\n",
       "      <td>0</td>\n",
       "      <td>1498</td>\n",
       "    </tr>\n",
       "    <tr>\n",
       "      <th>8455</th>\n",
       "      <td>5</td>\n",
       "      <td>9156b</td>\n",
       "      <td>0.0</td>\n",
       "      <td>1</td>\n",
       "      <td>4</td>\n",
       "      <td>4</td>\n",
       "      <td>0</td>\n",
       "      <td>0</td>\n",
       "      <td>714</td>\n",
       "    </tr>\n",
       "    <tr>\n",
       "      <th>8624</th>\n",
       "      <td>5</td>\n",
       "      <td>9156b</td>\n",
       "      <td>0.0</td>\n",
       "      <td>1</td>\n",
       "      <td>1</td>\n",
       "      <td>4</td>\n",
       "      <td>1</td>\n",
       "      <td>0</td>\n",
       "      <td>601</td>\n",
       "    </tr>\n",
       "    <tr>\n",
       "      <th>9311</th>\n",
       "      <td>6</td>\n",
       "      <td>9157</td>\n",
       "      <td>NaN</td>\n",
       "      <td>1</td>\n",
       "      <td>2</td>\n",
       "      <td>4</td>\n",
       "      <td>0</td>\n",
       "      <td>0</td>\n",
       "      <td>1002</td>\n",
       "    </tr>\n",
       "    <tr>\n",
       "      <th>9496</th>\n",
       "      <td>6</td>\n",
       "      <td>9157</td>\n",
       "      <td>0.0</td>\n",
       "      <td>1</td>\n",
       "      <td>4</td>\n",
       "      <td>4</td>\n",
       "      <td>0</td>\n",
       "      <td>0</td>\n",
       "      <td>776</td>\n",
       "    </tr>\n",
       "    <tr>\n",
       "      <th>9665</th>\n",
       "      <td>6</td>\n",
       "      <td>9157</td>\n",
       "      <td>0.0</td>\n",
       "      <td>1</td>\n",
       "      <td>1</td>\n",
       "      <td>4</td>\n",
       "      <td>1</td>\n",
       "      <td>0</td>\n",
       "      <td>1042</td>\n",
       "    </tr>\n",
       "    <tr>\n",
       "      <th>10927</th>\n",
       "      <td>6</td>\n",
       "      <td>9157</td>\n",
       "      <td>0.0</td>\n",
       "      <td>1</td>\n",
       "      <td>4</td>\n",
       "      <td>4</td>\n",
       "      <td>1</td>\n",
       "      <td>0</td>\n",
       "      <td>968</td>\n",
       "    </tr>\n",
       "    <tr>\n",
       "      <th>11224</th>\n",
       "      <td>6</td>\n",
       "      <td>9157</td>\n",
       "      <td>1.0</td>\n",
       "      <td>1</td>\n",
       "      <td>2</td>\n",
       "      <td>4</td>\n",
       "      <td>1</td>\n",
       "      <td>0</td>\n",
       "      <td>833</td>\n",
       "    </tr>\n",
       "    <tr>\n",
       "      <th>11289</th>\n",
       "      <td>6</td>\n",
       "      <td>9157</td>\n",
       "      <td>0.0</td>\n",
       "      <td>1</td>\n",
       "      <td>1</td>\n",
       "      <td>4</td>\n",
       "      <td>1</td>\n",
       "      <td>0</td>\n",
       "      <td>2084</td>\n",
       "    </tr>\n",
       "    <tr>\n",
       "      <th>11332</th>\n",
       "      <td>6</td>\n",
       "      <td>9157</td>\n",
       "      <td>NaN</td>\n",
       "      <td>1</td>\n",
       "      <td>1</td>\n",
       "      <td>4</td>\n",
       "      <td>1</td>\n",
       "      <td>0</td>\n",
       "      <td>2084</td>\n",
       "    </tr>\n",
       "    <tr>\n",
       "      <th>12035</th>\n",
       "      <td>7</td>\n",
       "      <td>9158</td>\n",
       "      <td>0.0</td>\n",
       "      <td>1</td>\n",
       "      <td>4</td>\n",
       "      <td>4</td>\n",
       "      <td>1</td>\n",
       "      <td>0</td>\n",
       "      <td>934</td>\n",
       "    </tr>\n",
       "    <tr>\n",
       "      <th>12332</th>\n",
       "      <td>7</td>\n",
       "      <td>9158</td>\n",
       "      <td>1.0</td>\n",
       "      <td>1</td>\n",
       "      <td>2</td>\n",
       "      <td>4</td>\n",
       "      <td>1</td>\n",
       "      <td>0</td>\n",
       "      <td>880</td>\n",
       "    </tr>\n",
       "    <tr>\n",
       "      <th>12397</th>\n",
       "      <td>7</td>\n",
       "      <td>9158</td>\n",
       "      <td>0.0</td>\n",
       "      <td>1</td>\n",
       "      <td>1</td>\n",
       "      <td>4</td>\n",
       "      <td>1</td>\n",
       "      <td>0</td>\n",
       "      <td>2083</td>\n",
       "    </tr>\n",
       "    <tr>\n",
       "      <th>12440</th>\n",
       "      <td>7</td>\n",
       "      <td>9158</td>\n",
       "      <td>NaN</td>\n",
       "      <td>1</td>\n",
       "      <td>1</td>\n",
       "      <td>4</td>\n",
       "      <td>1</td>\n",
       "      <td>0</td>\n",
       "      <td>2083</td>\n",
       "    </tr>\n",
       "    <tr>\n",
       "      <th>12507</th>\n",
       "      <td>7</td>\n",
       "      <td>9158</td>\n",
       "      <td>1.0</td>\n",
       "      <td>1</td>\n",
       "      <td>1</td>\n",
       "      <td>4</td>\n",
       "      <td>0</td>\n",
       "      <td>0</td>\n",
       "      <td>1321</td>\n",
       "    </tr>\n",
       "    <tr>\n",
       "      <th>13272</th>\n",
       "      <td>7</td>\n",
       "      <td>9158</td>\n",
       "      <td>1.0</td>\n",
       "      <td>1</td>\n",
       "      <td>1</td>\n",
       "      <td>4</td>\n",
       "      <td>1</td>\n",
       "      <td>0</td>\n",
       "      <td>1042</td>\n",
       "    </tr>\n",
       "    <tr>\n",
       "      <th>13459</th>\n",
       "      <td>7</td>\n",
       "      <td>9158</td>\n",
       "      <td>1.0</td>\n",
       "      <td>1</td>\n",
       "      <td>4</td>\n",
       "      <td>4</td>\n",
       "      <td>1</td>\n",
       "      <td>0</td>\n",
       "      <td>311</td>\n",
       "    </tr>\n",
       "  </tbody>\n",
       "</table>\n",
       "</div>"
      ],
      "text/plain": [
       "       year survey  bush  state  edu  age  female  black  weight\n",
       "707       1   9152   NaN      1    1    4       1      0    1498\n",
       "1827      2   9153   NaN      1    1    4       1      0    1538\n",
       "6517      4   9155   1.0      1    2    4       1      0    1487\n",
       "7201      5  9156a   1.0      1    2    4       1      0    1203\n",
       "7977      5  9156b   1.0      1    2    4       1      0     601\n",
       "8270      5  9156b   NaN      1    2    4       0      0    1498\n",
       "8455      5  9156b   0.0      1    4    4       0      0     714\n",
       "8624      5  9156b   0.0      1    1    4       1      0     601\n",
       "9311      6   9157   NaN      1    2    4       0      0    1002\n",
       "9496      6   9157   0.0      1    4    4       0      0     776\n",
       "9665      6   9157   0.0      1    1    4       1      0    1042\n",
       "10927     6   9157   0.0      1    4    4       1      0     968\n",
       "11224     6   9157   1.0      1    2    4       1      0     833\n",
       "11289     6   9157   0.0      1    1    4       1      0    2084\n",
       "11332     6   9157   NaN      1    1    4       1      0    2084\n",
       "12035     7   9158   0.0      1    4    4       1      0     934\n",
       "12332     7   9158   1.0      1    2    4       1      0     880\n",
       "12397     7   9158   0.0      1    1    4       1      0    2083\n",
       "12440     7   9158   NaN      1    1    4       1      0    2083\n",
       "12507     7   9158   1.0      1    1    4       0      0    1321\n",
       "13272     7   9158   1.0      1    1    4       1      0    1042\n",
       "13459     7   9158   1.0      1    4    4       1      0     311"
      ]
     },
     "execution_count": 14,
     "metadata": {},
     "output_type": "execute_result"
    }
   ],
   "source": [
    "c1=pre_poll['state']==1\n",
    "c2 = pre_poll['age'] == 4\n",
    "subset_interest = pre_poll[c1 & c2]\n",
    "subset_interest"
   ]
  },
  {
   "cell_type": "code",
   "execution_count": 15,
   "metadata": {
    "collapsed": false
   },
   "outputs": [
    {
     "name": "stdout",
     "output_type": "stream",
     "text": [
      "      year survey  bush  state  edu  age  female  black  weight\n",
      "6517     4   9155   1.0      1    2    4       1      0    1487\n",
      "7201     5  9156a   1.0      1    2    4       1      0    1203\n",
      "7977     5  9156b   1.0      1    2    4       1      0     601\n",
      "8455     5  9156b   0.0      1    4    4       0      0     714\n",
      "8624     5  9156b   0.0      1    1    4       1      0     601\n"
     ]
    },
    {
     "data": {
      "text/plain": [
       "2"
      ]
     },
     "execution_count": 15,
     "metadata": {},
     "output_type": "execute_result"
    }
   ],
   "source": [
    "test_set=subset_interest.dropna()\n",
    "print test_set.head()\n",
    "len(test_set['bush'].unique())"
   ]
  },
  {
   "cell_type": "code",
   "execution_count": 16,
   "metadata": {
    "collapsed": false
   },
   "outputs": [
    {
     "name": "stdout",
     "output_type": "stream",
     "text": [
      "6517     1\n",
      "7201     1\n",
      "7977     1\n",
      "8455     0\n",
      "8624     1\n",
      "9496     0\n",
      "9665     1\n",
      "10927    1\n",
      "11224    1\n",
      "11289    1\n",
      "12035    1\n",
      "12332    1\n",
      "12397    1\n",
      "12507    0\n",
      "13272    1\n",
      "13459    1\n",
      "Name: female, dtype: int64\n"
     ]
    }
   ],
   "source": [
    "print test_set['female']"
   ]
  },
  {
   "cell_type": "code",
   "execution_count": 17,
   "metadata": {
    "collapsed": true
   },
   "outputs": [],
   "source": [
    "import numpy as np\n",
    "container = {}\n",
    "bush_quotient = 0\n",
    "\n",
    "for age in pre_poll['age'].unique():     # Spanning through all year-state combinations\n",
    "    for state in pre_poll['state'].unique(): \n",
    "        c1 = pre_poll['state'] == state\n",
    "        c2 = pre_poll['age'] == age\n",
    "        subset_interest = pre_poll[c1 & c2]  # Subsetting the data \n",
    "        \n",
    "        contain = subset_interest['bush'].unique()  \n",
    "        contain = contain[~np.isnan(contain)]   # Remove the NaNs - Think why can't we use dropna()?\n",
    "        \n",
    "        if len(contain) == 2:\n",
    "            #Computing the Quotient that polled for Bush in the pre-poll for a particular age-state combination\n",
    "            bush_quotient = float(subset_interest['bush'].value_counts()[1])/(float(subset_interest['bush'].value_counts()[1])+float(subset_interest['bush'].value_counts()[0]))\n",
    "            temp_name = str(state)+','+str(age)\n",
    "            container[temp_name] = bush_quotient\n",
    "\n",
    "            \n",
    "# Likewise, let's also produce a dictionary with the general poll percentages for state (no age)\n",
    "\n",
    "container2 ={}\n",
    "for state in pre_poll['state'].unique(): \n",
    "    c1 = pre_poll['state'] == state\n",
    "    subset_interest = pre_poll[c1]  # Subsetting the data \n",
    "    contain = subset_interest['bush'].unique()  \n",
    "    contain = contain[~np.isnan(contain)]   # Remove the NaNs - Think why can't we use dropna()?\n",
    "        \n",
    "    if len(contain) == 2:\n",
    "        bush_quotient = float(subset_interest['bush'].value_counts()[1])/(float(subset_interest['bush'].value_counts()[1])+float(subset_interest['bush'].value_counts()[0]))\n",
    "        temp_name = str(state)\n",
    "        container2[temp_name] = bush_quotient\n"
   ]
  },
  {
   "cell_type": "code",
   "execution_count": 18,
   "metadata": {
    "collapsed": false
   },
   "outputs": [
    {
     "data": {
      "text/plain": [
       "0.710691823899371"
      ]
     },
     "execution_count": 18,
     "metadata": {},
     "output_type": "execute_result"
    }
   ],
   "source": [
    "container2['1']"
   ]
  },
  {
   "cell_type": "code",
   "execution_count": 21,
   "metadata": {
    "collapsed": false
   },
   "outputs": [
    {
     "data": {
      "text/plain": [
       "['19,2', '19,3', '19,1', '19,4', '1,4']"
      ]
     },
     "execution_count": 21,
     "metadata": {},
     "output_type": "execute_result"
    }
   ],
   "source": [
    "container.keys()[0:5]"
   ]
  },
  {
   "cell_type": "code",
   "execution_count": 23,
   "metadata": {
    "collapsed": false
   },
   "outputs": [
    {
     "data": {
      "text/html": [
       "<div>\n",
       "<table border=\"1\" class=\"dataframe\">\n",
       "  <thead>\n",
       "    <tr style=\"text-align: right;\">\n",
       "      <th></th>\n",
       "      <th>stnum</th>\n",
       "      <th>st</th>\n",
       "      <th>electionresult</th>\n",
       "      <th>samplesize</th>\n",
       "      <th>raking</th>\n",
       "      <th>_merge</th>\n",
       "    </tr>\n",
       "  </thead>\n",
       "  <tbody>\n",
       "    <tr>\n",
       "      <th>1</th>\n",
       "      <td>1</td>\n",
       "      <td>AL</td>\n",
       "      <td>0.59</td>\n",
       "      <td>203</td>\n",
       "      <td>0.673067</td>\n",
       "      <td>3</td>\n",
       "    </tr>\n",
       "    <tr>\n",
       "      <th>2</th>\n",
       "      <td>2</td>\n",
       "      <td>AK</td>\n",
       "      <td>0.60</td>\n",
       "      <td>0</td>\n",
       "      <td>NaN</td>\n",
       "      <td>1</td>\n",
       "    </tr>\n",
       "    <tr>\n",
       "      <th>3</th>\n",
       "      <td>3</td>\n",
       "      <td>AZ</td>\n",
       "      <td>0.60</td>\n",
       "      <td>194</td>\n",
       "      <td>0.568980</td>\n",
       "      <td>3</td>\n",
       "    </tr>\n",
       "    <tr>\n",
       "      <th>4</th>\n",
       "      <td>4</td>\n",
       "      <td>AR</td>\n",
       "      <td>0.56</td>\n",
       "      <td>121</td>\n",
       "      <td>0.563672</td>\n",
       "      <td>3</td>\n",
       "    </tr>\n",
       "    <tr>\n",
       "      <th>5</th>\n",
       "      <td>5</td>\n",
       "      <td>CA</td>\n",
       "      <td>0.51</td>\n",
       "      <td>1493</td>\n",
       "      <td>0.531725</td>\n",
       "      <td>3</td>\n",
       "    </tr>\n",
       "  </tbody>\n",
       "</table>\n",
       "</div>"
      ],
      "text/plain": [
       "   stnum  st  electionresult  samplesize    raking  _merge\n",
       "1      1  AL            0.59         203  0.673067       3\n",
       "2      2  AK            0.60           0       NaN       1\n",
       "3      3  AZ            0.60         194  0.568980       3\n",
       "4      4  AR            0.56         121  0.563672       3\n",
       "5      5  CA            0.51        1493  0.531725       3"
      ]
     },
     "execution_count": 23,
     "metadata": {},
     "output_type": "execute_result"
    }
   ],
   "source": [
    "election88_dat = pd.read_csv('../datasets/election88.csv')\n",
    "election88_dat.head()"
   ]
  },
  {
   "cell_type": "code",
   "execution_count": 27,
   "metadata": {
    "collapsed": false
   },
   "outputs": [
    {
     "name": "stdout",
     "output_type": "stream",
     "text": [
      "   stnum  st  electionresult  samplesize    raking  _merge\n",
      "1      1  AL            0.59         203  0.673067       3\n",
      "119.77\n",
      "144.13\n"
     ]
    }
   ],
   "source": [
    "print election88_dat.head(1)\n",
    "print 203*0.59\n",
    "print 203*0.71"
   ]
  },
  {
   "cell_type": "code",
   "execution_count": 28,
   "metadata": {
    "collapsed": false
   },
   "outputs": [
    {
     "data": {
      "text/plain": [
       "9.445274979232658e-116"
      ]
     },
     "execution_count": 28,
     "metadata": {},
     "output_type": "execute_result"
    }
   ],
   "source": [
    "import scipy.integrate as integrate\n",
    "from scipy.stats import beta\n",
    "\n",
    "\n",
    "# UN comment to get the error \n",
    "# 1/my_beta(141, 263)\n",
    "def func1(x):\n",
    "    return (x)**263*(1-x)**141\n",
    "\n",
    "\n",
    "integrate.quad(lambda x: func1(x) ,0, .65)[0]"
   ]
  },
  {
   "cell_type": "code",
   "execution_count": 29,
   "metadata": {
    "collapsed": true
   },
   "outputs": [],
   "source": [
    "def log_beta(a,b):\n",
    "    beta_num = math.exp(math.lgamma(a) + math.lgamma(b) - math.lgamma(a+b))\n",
    "    return beta_num"
   ]
  },
  {
   "cell_type": "code",
   "execution_count": 30,
   "metadata": {
    "collapsed": false
   },
   "outputs": [
    {
     "data": {
      "text/plain": [
       "8.005670778380035e-230"
      ]
     },
     "execution_count": 30,
     "metadata": {},
     "output_type": "execute_result"
    }
   ],
   "source": [
    "log_beta(141,263)*integrate.quad(lambda x: func1(x) ,0, .65)[0]"
   ]
  },
  {
   "cell_type": "code",
   "execution_count": null,
   "metadata": {
    "collapsed": true
   },
   "outputs": [],
   "source": []
  }
 ],
 "metadata": {
  "anaconda-cloud": {},
  "kernelspec": {
   "display_name": "Python [conda root]",
   "language": "python",
   "name": "conda-root-py"
  },
  "language_info": {
   "codemirror_mode": {
    "name": "ipython",
    "version": 2
   },
   "file_extension": ".py",
   "mimetype": "text/x-python",
   "name": "python",
   "nbconvert_exporter": "python",
   "pygments_lexer": "ipython2",
   "version": "2.7.12"
  }
 },
 "nbformat": 4,
 "nbformat_minor": 1
}
