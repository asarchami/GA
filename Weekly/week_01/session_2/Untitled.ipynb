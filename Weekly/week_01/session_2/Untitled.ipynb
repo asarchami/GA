{
 "cells": [
  {
   "cell_type": "code",
   "execution_count": 6,
   "metadata": {
    "collapsed": false
   },
   "outputs": [
    {
     "name": "stdout",
     "output_type": "stream",
     "text": [
      "The area of your square is 81\n"
     ]
    }
   ],
   "source": [
    "def areaSquare(side):\n",
    "    return side ** 2\n",
    "print 'The area of your square is %s' % areaSquare(9)"
   ]
  },
  {
   "cell_type": "code",
   "execution_count": 5,
   "metadata": {
    "collapsed": true
   },
   "outputs": [],
   "source": [
    "def areaRect(length, breath):\n",
    "    return (side * breath)\n"
   ]
  },
  {
   "cell_type": "code",
   "execution_count": null,
   "metadata": {
    "collapsed": true
   },
   "outputs": [],
   "source": [
    "def surfaceAreaCuboid(length,breadth,height):\n",
    "    return leng * breadth * height"
   ]
  }
 ],
 "metadata": {
  "kernelspec": {
   "display_name": "Python [DSI]",
   "language": "python",
   "name": "Python [DSI]"
  },
  "language_info": {
   "codemirror_mode": {
    "name": "ipython",
    "version": 2
   },
   "file_extension": ".py",
   "mimetype": "text/x-python",
   "name": "python",
   "nbconvert_exporter": "python",
   "pygments_lexer": "ipython2",
   "version": "2.7.12"
  }
 },
 "nbformat": 4,
 "nbformat_minor": 1
}
