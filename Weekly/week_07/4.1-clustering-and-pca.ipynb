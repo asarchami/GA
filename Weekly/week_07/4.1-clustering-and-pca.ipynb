{
 "cells": [
  {
   "cell_type": "code",
   "execution_count": 3,
   "metadata": {
    "collapsed": true
   },
   "outputs": [],
   "source": [
    "import pandas as pd \n",
    "from sklearn.datasets import fetch_20newsgroups\n",
    "from sklearn.feature_extraction.text import CountVectorizer\n",
    "import numpy as np\n",
    "from sklearn.preprocessing import StandardScaler\n",
    "from sklearn.decomposition import PCA, TruncatedSVD\n",
    "from sklearn.cluster import KMeans\n",
    "from sklearn import metrics\n",
    "import matplotlib.pyplot as plt\n",
    "%matplotlib inline"
   ]
  },
  {
   "cell_type": "code",
   "execution_count": 149,
   "metadata": {
    "collapsed": true
   },
   "outputs": [],
   "source": [
    "newsgroups=fetch_20newsgroups(subset='train')"
   ]
  },
  {
   "cell_type": "code",
   "execution_count": 29,
   "metadata": {
    "collapsed": false
   },
   "outputs": [
    {
     "data": {
      "text/plain": [
       "['description', 'DESCR', 'filenames', 'target_names', 'data', 'target']"
      ]
     },
     "execution_count": 29,
     "metadata": {},
     "output_type": "execute_result"
    }
   ],
   "source": [
    "newsgroups.keys()"
   ]
  },
  {
   "cell_type": "code",
   "execution_count": 30,
   "metadata": {
    "collapsed": false
   },
   "outputs": [],
   "source": [
    "df=pd.DataFrame(newsgroups['data'], columns=['text'])"
   ]
  },
  {
   "cell_type": "code",
   "execution_count": 31,
   "metadata": {
    "collapsed": false,
    "scrolled": true
   },
   "outputs": [
    {
     "data": {
      "text/html": [
       "<div>\n",
       "<table border=\"1\" class=\"dataframe\">\n",
       "  <thead>\n",
       "    <tr style=\"text-align: right;\">\n",
       "      <th></th>\n",
       "      <th>text</th>\n",
       "    </tr>\n",
       "  </thead>\n",
       "  <tbody>\n",
       "    <tr>\n",
       "      <th>0</th>\n",
       "      <td>From: lerxst@wam.umd.edu (where's my thing)\\nS...</td>\n",
       "    </tr>\n",
       "    <tr>\n",
       "      <th>1</th>\n",
       "      <td>From: guykuo@carson.u.washington.edu (Guy Kuo)...</td>\n",
       "    </tr>\n",
       "    <tr>\n",
       "      <th>2</th>\n",
       "      <td>From: twillis@ec.ecn.purdue.edu (Thomas E Will...</td>\n",
       "    </tr>\n",
       "    <tr>\n",
       "      <th>3</th>\n",
       "      <td>From: jgreen@amber (Joe Green)\\nSubject: Re: W...</td>\n",
       "    </tr>\n",
       "    <tr>\n",
       "      <th>4</th>\n",
       "      <td>From: jcm@head-cfa.harvard.edu (Jonathan McDow...</td>\n",
       "    </tr>\n",
       "    <tr>\n",
       "      <th>5</th>\n",
       "      <td>From: dfo@vttoulu.tko.vtt.fi (Foxvog Douglas)\\...</td>\n",
       "    </tr>\n",
       "    <tr>\n",
       "      <th>6</th>\n",
       "      <td>From: bmdelane@quads.uchicago.edu (brian manni...</td>\n",
       "    </tr>\n",
       "    <tr>\n",
       "      <th>7</th>\n",
       "      <td>From: bgrubb@dante.nmsu.edu (GRUBB)\\nSubject: ...</td>\n",
       "    </tr>\n",
       "    <tr>\n",
       "      <th>8</th>\n",
       "      <td>From: holmes7000@iscsvax.uni.edu\\nSubject: WIn...</td>\n",
       "    </tr>\n",
       "    <tr>\n",
       "      <th>9</th>\n",
       "      <td>From: kerr@ux1.cso.uiuc.edu (Stan Kerr)\\nSubje...</td>\n",
       "    </tr>\n",
       "    <tr>\n",
       "      <th>10</th>\n",
       "      <td>From: irwin@cmptrc.lonestar.org (Irwin Arnstei...</td>\n",
       "    </tr>\n",
       "    <tr>\n",
       "      <th>11</th>\n",
       "      <td>From: david@terminus.ericsson.se (David Bold)\\...</td>\n",
       "    </tr>\n",
       "    <tr>\n",
       "      <th>12</th>\n",
       "      <td>From: rodc@fc.hp.com (Rod Cerkoney)\\nSubject: ...</td>\n",
       "    </tr>\n",
       "    <tr>\n",
       "      <th>13</th>\n",
       "      <td>From: dbm0000@tm0006.lerc.nasa.gov (David B. M...</td>\n",
       "    </tr>\n",
       "    <tr>\n",
       "      <th>14</th>\n",
       "      <td>From: jllee@acsu.buffalo.edu (Johnny L Lee)\\nS...</td>\n",
       "    </tr>\n",
       "    <tr>\n",
       "      <th>15</th>\n",
       "      <td>From: mathew &lt;mathew@mantis.co.uk&gt;\\nSubject: R...</td>\n",
       "    </tr>\n",
       "    <tr>\n",
       "      <th>16</th>\n",
       "      <td>From: ab@nova.cc.purdue.edu (Allen B)\\nSubject...</td>\n",
       "    </tr>\n",
       "    <tr>\n",
       "      <th>17</th>\n",
       "      <td>From: CPKJP@vm.cc.latech.edu (Kevin Parker)\\nS...</td>\n",
       "    </tr>\n",
       "    <tr>\n",
       "      <th>18</th>\n",
       "      <td>From: ritley@uimrl7.mrl.uiuc.edu ()\\nSubject: ...</td>\n",
       "    </tr>\n",
       "    <tr>\n",
       "      <th>19</th>\n",
       "      <td>From: abarden@tybse1.uucp (Ann Marie Barden)\\n...</td>\n",
       "    </tr>\n",
       "    <tr>\n",
       "      <th>20</th>\n",
       "      <td>From: keith@cco.caltech.edu (Keith Allan Schne...</td>\n",
       "    </tr>\n",
       "    <tr>\n",
       "      <th>21</th>\n",
       "      <td>From: leunggm@odin.control.utoronto.ca (Gary L...</td>\n",
       "    </tr>\n",
       "    <tr>\n",
       "      <th>22</th>\n",
       "      <td>From: rpwhite@cs.nps.navy.mil (rpwhite)\\nSubje...</td>\n",
       "    </tr>\n",
       "    <tr>\n",
       "      <th>23</th>\n",
       "      <td>From: csyphers@uafhp..uark.edu (Chris Syphers)...</td>\n",
       "    </tr>\n",
       "    <tr>\n",
       "      <th>24</th>\n",
       "      <td>From: nodine@lcs.mit.edu (Mark H. Nodine)\\nSub...</td>\n",
       "    </tr>\n",
       "    <tr>\n",
       "      <th>25</th>\n",
       "      <td>From: kph2q@onyx.cs.Virginia.EDU (Kenneth Hinc...</td>\n",
       "    </tr>\n",
       "    <tr>\n",
       "      <th>26</th>\n",
       "      <td>From: nagle@netcom.com (John Nagle)\\nSubject: ...</td>\n",
       "    </tr>\n",
       "    <tr>\n",
       "      <th>27</th>\n",
       "      <td>From: r4938585@joplin.biosci.arizona.edu (Doug...</td>\n",
       "    </tr>\n",
       "    <tr>\n",
       "      <th>28</th>\n",
       "      <td>From: jonh@david.wheaton.edu (Jonathan Hayward...</td>\n",
       "    </tr>\n",
       "    <tr>\n",
       "      <th>29</th>\n",
       "      <td>From: jimf@centerline.com (Jim Frost)\\nSubject...</td>\n",
       "    </tr>\n",
       "    <tr>\n",
       "      <th>...</th>\n",
       "      <td>...</td>\n",
       "    </tr>\n",
       "    <tr>\n",
       "      <th>11284</th>\n",
       "      <td>Distribution: world\\nFrom: elenay_creations@tc...</td>\n",
       "    </tr>\n",
       "    <tr>\n",
       "      <th>11285</th>\n",
       "      <td>From: re4@prism.gatech.EDU (RUSSELL EARNEST)\\n...</td>\n",
       "    </tr>\n",
       "    <tr>\n",
       "      <th>11286</th>\n",
       "      <td>From: looper@cco.caltech.edu (Mark D. Looper)\\...</td>\n",
       "    </tr>\n",
       "    <tr>\n",
       "      <th>11287</th>\n",
       "      <td>From: gballent@hudson.UVic.CA (Greg  Ballentin...</td>\n",
       "    </tr>\n",
       "    <tr>\n",
       "      <th>11288</th>\n",
       "      <td>From: cka52397@uxa.cso.uiuc.edu (OrioleFan@uiu...</td>\n",
       "    </tr>\n",
       "    <tr>\n",
       "      <th>11289</th>\n",
       "      <td>From: max@slinky.NYU.EDU (David Max)\\nSubject:...</td>\n",
       "    </tr>\n",
       "    <tr>\n",
       "      <th>11290</th>\n",
       "      <td>From: hades@coos.dartmouth.edu (Brian V. Hughe...</td>\n",
       "    </tr>\n",
       "    <tr>\n",
       "      <th>11291</th>\n",
       "      <td>From: c23reg@kocrsv01.delcoelect.com (Ron Gask...</td>\n",
       "    </tr>\n",
       "    <tr>\n",
       "      <th>11292</th>\n",
       "      <td>From: callison@uokmax.ecn.uoknor.edu (James P....</td>\n",
       "    </tr>\n",
       "    <tr>\n",
       "      <th>11293</th>\n",
       "      <td>From: bigelos@hobo.ECE.ORST.EDU (Space Gigolo)...</td>\n",
       "    </tr>\n",
       "    <tr>\n",
       "      <th>11294</th>\n",
       "      <td>From: LMARSHA@cms.cc.wayne.edu (Laurie Marshal...</td>\n",
       "    </tr>\n",
       "    <tr>\n",
       "      <th>11295</th>\n",
       "      <td>From: gt5735a@prism.gatech.EDU (Mark Devaney)\\...</td>\n",
       "    </tr>\n",
       "    <tr>\n",
       "      <th>11296</th>\n",
       "      <td>From: pkeenan@s.psych.uiuc.edu (Patricia Keena...</td>\n",
       "    </tr>\n",
       "    <tr>\n",
       "      <th>11297</th>\n",
       "      <td>From: CCMB &lt;CCMB@MUSICA.MCGILL.CA&gt;\\nSubject: W...</td>\n",
       "    </tr>\n",
       "    <tr>\n",
       "      <th>11298</th>\n",
       "      <td>From: cbetz@radioman.cray.com (Charles Betz  {...</td>\n",
       "    </tr>\n",
       "    <tr>\n",
       "      <th>11299</th>\n",
       "      <td>From: 2120788@hydra.maths.unsw.EDU.AU ()\\nSubj...</td>\n",
       "    </tr>\n",
       "    <tr>\n",
       "      <th>11300</th>\n",
       "      <td>From: aa888@freenet.carleton.ca (Mark Baker)\\n...</td>\n",
       "    </tr>\n",
       "    <tr>\n",
       "      <th>11301</th>\n",
       "      <td>From: zmed16@trc.amoco.com (Michael)\\nSubject:...</td>\n",
       "    </tr>\n",
       "    <tr>\n",
       "      <th>11302</th>\n",
       "      <td>From: rdippold@qualcomm.com (Ron \"Asbestos\" Di...</td>\n",
       "    </tr>\n",
       "    <tr>\n",
       "      <th>11303</th>\n",
       "      <td>From: bchuang@css.itd.umich.edu (Ben Chuang)\\n...</td>\n",
       "    </tr>\n",
       "    <tr>\n",
       "      <th>11304</th>\n",
       "      <td>From: Pegasus@aaa.uoregon.edu (Pegasus)\\nSubje...</td>\n",
       "    </tr>\n",
       "    <tr>\n",
       "      <th>11305</th>\n",
       "      <td>From: shaig@composer.think.com (Shai Guday)\\nS...</td>\n",
       "    </tr>\n",
       "    <tr>\n",
       "      <th>11306</th>\n",
       "      <td>From: mrj@cs.su.oz.au (Mark James)\\nSubject: R...</td>\n",
       "    </tr>\n",
       "    <tr>\n",
       "      <th>11307</th>\n",
       "      <td>From: chein@eng.auburn.edu (Tsan Heui)\\nSubjec...</td>\n",
       "    </tr>\n",
       "    <tr>\n",
       "      <th>11308</th>\n",
       "      <td>From: adrian@ora.COM (Adrian Nye)\\nSubject: im...</td>\n",
       "    </tr>\n",
       "    <tr>\n",
       "      <th>11309</th>\n",
       "      <td>From: jim.zisfein@factory.com (Jim Zisfein) \\n...</td>\n",
       "    </tr>\n",
       "    <tr>\n",
       "      <th>11310</th>\n",
       "      <td>From: ebodin@pearl.tufts.edu\\nSubject: Screen ...</td>\n",
       "    </tr>\n",
       "    <tr>\n",
       "      <th>11311</th>\n",
       "      <td>From: westes@netcom.com (Will Estes)\\nSubject:...</td>\n",
       "    </tr>\n",
       "    <tr>\n",
       "      <th>11312</th>\n",
       "      <td>From: steve@hcrlgw (Steven Collins)\\nSubject: ...</td>\n",
       "    </tr>\n",
       "    <tr>\n",
       "      <th>11313</th>\n",
       "      <td>From: gunning@cco.caltech.edu (Kevin J. Gunnin...</td>\n",
       "    </tr>\n",
       "  </tbody>\n",
       "</table>\n",
       "<p>11314 rows × 1 columns</p>\n",
       "</div>"
      ],
      "text/plain": [
       "                                                    text\n",
       "0      From: lerxst@wam.umd.edu (where's my thing)\\nS...\n",
       "1      From: guykuo@carson.u.washington.edu (Guy Kuo)...\n",
       "2      From: twillis@ec.ecn.purdue.edu (Thomas E Will...\n",
       "3      From: jgreen@amber (Joe Green)\\nSubject: Re: W...\n",
       "4      From: jcm@head-cfa.harvard.edu (Jonathan McDow...\n",
       "5      From: dfo@vttoulu.tko.vtt.fi (Foxvog Douglas)\\...\n",
       "6      From: bmdelane@quads.uchicago.edu (brian manni...\n",
       "7      From: bgrubb@dante.nmsu.edu (GRUBB)\\nSubject: ...\n",
       "8      From: holmes7000@iscsvax.uni.edu\\nSubject: WIn...\n",
       "9      From: kerr@ux1.cso.uiuc.edu (Stan Kerr)\\nSubje...\n",
       "10     From: irwin@cmptrc.lonestar.org (Irwin Arnstei...\n",
       "11     From: david@terminus.ericsson.se (David Bold)\\...\n",
       "12     From: rodc@fc.hp.com (Rod Cerkoney)\\nSubject: ...\n",
       "13     From: dbm0000@tm0006.lerc.nasa.gov (David B. M...\n",
       "14     From: jllee@acsu.buffalo.edu (Johnny L Lee)\\nS...\n",
       "15     From: mathew <mathew@mantis.co.uk>\\nSubject: R...\n",
       "16     From: ab@nova.cc.purdue.edu (Allen B)\\nSubject...\n",
       "17     From: CPKJP@vm.cc.latech.edu (Kevin Parker)\\nS...\n",
       "18     From: ritley@uimrl7.mrl.uiuc.edu ()\\nSubject: ...\n",
       "19     From: abarden@tybse1.uucp (Ann Marie Barden)\\n...\n",
       "20     From: keith@cco.caltech.edu (Keith Allan Schne...\n",
       "21     From: leunggm@odin.control.utoronto.ca (Gary L...\n",
       "22     From: rpwhite@cs.nps.navy.mil (rpwhite)\\nSubje...\n",
       "23     From: csyphers@uafhp..uark.edu (Chris Syphers)...\n",
       "24     From: nodine@lcs.mit.edu (Mark H. Nodine)\\nSub...\n",
       "25     From: kph2q@onyx.cs.Virginia.EDU (Kenneth Hinc...\n",
       "26     From: nagle@netcom.com (John Nagle)\\nSubject: ...\n",
       "27     From: r4938585@joplin.biosci.arizona.edu (Doug...\n",
       "28     From: jonh@david.wheaton.edu (Jonathan Hayward...\n",
       "29     From: jimf@centerline.com (Jim Frost)\\nSubject...\n",
       "...                                                  ...\n",
       "11284  Distribution: world\\nFrom: elenay_creations@tc...\n",
       "11285  From: re4@prism.gatech.EDU (RUSSELL EARNEST)\\n...\n",
       "11286  From: looper@cco.caltech.edu (Mark D. Looper)\\...\n",
       "11287  From: gballent@hudson.UVic.CA (Greg  Ballentin...\n",
       "11288  From: cka52397@uxa.cso.uiuc.edu (OrioleFan@uiu...\n",
       "11289  From: max@slinky.NYU.EDU (David Max)\\nSubject:...\n",
       "11290  From: hades@coos.dartmouth.edu (Brian V. Hughe...\n",
       "11291  From: c23reg@kocrsv01.delcoelect.com (Ron Gask...\n",
       "11292  From: callison@uokmax.ecn.uoknor.edu (James P....\n",
       "11293  From: bigelos@hobo.ECE.ORST.EDU (Space Gigolo)...\n",
       "11294  From: LMARSHA@cms.cc.wayne.edu (Laurie Marshal...\n",
       "11295  From: gt5735a@prism.gatech.EDU (Mark Devaney)\\...\n",
       "11296  From: pkeenan@s.psych.uiuc.edu (Patricia Keena...\n",
       "11297  From: CCMB <CCMB@MUSICA.MCGILL.CA>\\nSubject: W...\n",
       "11298  From: cbetz@radioman.cray.com (Charles Betz  {...\n",
       "11299  From: 2120788@hydra.maths.unsw.EDU.AU ()\\nSubj...\n",
       "11300  From: aa888@freenet.carleton.ca (Mark Baker)\\n...\n",
       "11301  From: zmed16@trc.amoco.com (Michael)\\nSubject:...\n",
       "11302  From: rdippold@qualcomm.com (Ron \"Asbestos\" Di...\n",
       "11303  From: bchuang@css.itd.umich.edu (Ben Chuang)\\n...\n",
       "11304  From: Pegasus@aaa.uoregon.edu (Pegasus)\\nSubje...\n",
       "11305  From: shaig@composer.think.com (Shai Guday)\\nS...\n",
       "11306  From: mrj@cs.su.oz.au (Mark James)\\nSubject: R...\n",
       "11307  From: chein@eng.auburn.edu (Tsan Heui)\\nSubjec...\n",
       "11308  From: adrian@ora.COM (Adrian Nye)\\nSubject: im...\n",
       "11309  From: jim.zisfein@factory.com (Jim Zisfein) \\n...\n",
       "11310  From: ebodin@pearl.tufts.edu\\nSubject: Screen ...\n",
       "11311  From: westes@netcom.com (Will Estes)\\nSubject:...\n",
       "11312  From: steve@hcrlgw (Steven Collins)\\nSubject: ...\n",
       "11313  From: gunning@cco.caltech.edu (Kevin J. Gunnin...\n",
       "\n",
       "[11314 rows x 1 columns]"
      ]
     },
     "execution_count": 31,
     "metadata": {},
     "output_type": "execute_result"
    }
   ],
   "source": [
    "df"
   ]
  },
  {
   "cell_type": "code",
   "execution_count": 32,
   "metadata": {
    "collapsed": false
   },
   "outputs": [
    {
     "name": "stdout",
     "output_type": "stream",
     "text": [
      "From: dfo@vttoulu.tko.vtt.fi (Foxvog Douglas)\n",
      "Subject: Re: Rewording the Second Amendment (ideas)\n",
      "Organization: VTT\n",
      "Lines: 58\n",
      "\n",
      "In article <1r1eu1$4t@transfer.stratus.com> cdt@sw.stratus.com (C. D. Tavares) writes:\n",
      ">In article <1993Apr20.083057.16899@ousrvr.oulu.fi>, dfo@vttoulu.tko.vtt.fi (Foxvog Douglas) writes:\n",
      ">> In article <1qv87v$4j3@transfer.stratus.com> cdt@sw.stratus.com (C. D. Tavares) writes:\n",
      ">> >In article <C5n3GI.F8F@ulowell.ulowell.edu>, jrutledg@cs.ulowell.edu (John Lawrence Rutledge) writes:\n",
      ">\n",
      ">> >> The massive destructive power of many modern weapons, makes the\n",
      ">> >> cost of an accidental or crimial usage of these weapons to great.\n",
      ">> >> The weapons of mass destruction need to be in the control of\n",
      ">> >> the government only.  Individual access would result in the\n",
      ">> >> needless deaths of millions.  This makes the right of the people\n",
      ">> >> to keep and bear many modern weapons non-existant.\n",
      "\n",
      ">> >Thanks for stating where you're coming from.  Needless to say, I\n",
      ">> >disagree on every count.\n",
      "\n",
      ">> You believe that individuals should have the right to own weapons of\n",
      ">> mass destruction?  I find it hard to believe that you would support a \n",
      ">> neighbor's right to keep nuclear weapons, biological weapons, and nerve\n",
      ">> gas on his/her property.  \n",
      "\n",
      ">> If we cannot even agree on keeping weapons of mass destruction out of\n",
      ">> the hands of individuals, can there be any hope for us?\n",
      "\n",
      ">I don't sign any blank checks.\n",
      "\n",
      "Of course.  The term must be rigidly defined in any bill.\n",
      "\n",
      ">When Doug Foxvog says \"weapons of mass destruction,\" he means CBW and\n",
      ">nukes.  When Sarah Brady says \"weapons of mass destruction\" she means\n",
      ">Street Sweeper shotguns and semi-automatic SKS rifles.  \n",
      "\n",
      "I doubt she uses this term for that.  You are using a quote allegedly\n",
      "from her, can you back it up?\n",
      "\n",
      ">When John\n",
      ">Lawrence Rutledge says \"weapons of mass destruction,\" and then immediately\n",
      ">follows it with:\n",
      "\n",
      ">>> The US has thousands of people killed each year by handguns,\n",
      ">>> this number can easily be reduced by putting reasonable restrictions\n",
      ">>> on them.\n",
      "\n",
      ">...what does Rutledge mean by the term?\n",
      "\n",
      "I read the article as presenting first an argument about weapons of mass\n",
      "destruction (as commonly understood) and then switching to other topics.\n",
      "The first point evidently was to show that not all weapons should be\n",
      "allowed, and then the later analysis was, given this understanding, to\n",
      "consider another class.\n",
      "\n",
      ">cdt@rocket.sw.stratus.com   --If you believe that I speak for my company,\n",
      ">OR cdt@vos.stratus.com        write today for my special Investors' Packet...\n",
      "\n",
      "\n",
      "\n",
      "-- \n",
      "doug foxvog\n",
      "douglas.foxvog@vtt.fi\n",
      "\n"
     ]
    }
   ],
   "source": [
    "print df.ix[5,0]"
   ]
  },
  {
   "cell_type": "markdown",
   "metadata": {},
   "source": [
    "1. to lowercase"
   ]
  },
  {
   "cell_type": "code",
   "execution_count": 33,
   "metadata": {
    "collapsed": true
   },
   "outputs": [],
   "source": [
    "# v=TfidfVectorizer(stop_words='english', max_features=30)\n",
    "# plot_tokens=v.fit_transform(movies_list['plot']).todense()\n",
    "# plot_tokens=pd.DataFrame(plot_tokens, columns=v.get_feature_names())\n",
    "# plot_tokens=plot_tokens.add_prefix('tokens_')"
   ]
  },
  {
   "cell_type": "code",
   "execution_count": 34,
   "metadata": {
    "collapsed": true
   },
   "outputs": [],
   "source": [
    "df['text_lower']=df['text'].str.lower()"
   ]
  },
  {
   "cell_type": "code",
   "execution_count": 140,
   "metadata": {
    "collapsed": false
   },
   "outputs": [],
   "source": [
    "count_vectorizer=CountVectorizer(\n",
    "    stop_words='english',\n",
    "    max_features=10000,\n",
    ")"
   ]
  },
  {
   "cell_type": "code",
   "execution_count": 36,
   "metadata": {
    "collapsed": true
   },
   "outputs": [],
   "source": [
    "corpus_1=count_vectorizer.fit_transform(df.text_lower)"
   ]
  },
  {
   "cell_type": "code",
   "execution_count": 37,
   "metadata": {
    "collapsed": false
   },
   "outputs": [
    {
     "data": {
      "text/plain": [
       "<11314x10000 sparse matrix of type '<type 'numpy.int64'>'\n",
       "\twith 1004156 stored elements in Compressed Sparse Row format>"
      ]
     },
     "execution_count": 37,
     "metadata": {},
     "output_type": "execute_result"
    }
   ],
   "source": [
    "corpus_1"
   ]
  },
  {
   "cell_type": "code",
   "execution_count": null,
   "metadata": {
    "collapsed": true
   },
   "outputs": [],
   "source": []
  },
  {
   "cell_type": "code",
   "execution_count": null,
   "metadata": {
    "collapsed": true
   },
   "outputs": [],
   "source": []
  },
  {
   "cell_type": "code",
   "execution_count": 38,
   "metadata": {
    "collapsed": true
   },
   "outputs": [],
   "source": [
    "tsvd=TruncatedSVD()"
   ]
  },
  {
   "cell_type": "code",
   "execution_count": 39,
   "metadata": {
    "collapsed": false
   },
   "outputs": [],
   "source": [
    "tsvd_word_data=tsvd.fit_transform(corpus_1)"
   ]
  },
  {
   "cell_type": "code",
   "execution_count": 40,
   "metadata": {
    "collapsed": false
   },
   "outputs": [
    {
     "data": {
      "text/plain": [
       "(11314, 2)"
      ]
     },
     "execution_count": 40,
     "metadata": {},
     "output_type": "execute_result"
    }
   ],
   "source": [
    "tsvd_word_data.shape"
   ]
  },
  {
   "cell_type": "markdown",
   "metadata": {},
   "source": [
    "It transformed 10,000 columns to 2!!!!!"
   ]
  },
  {
   "cell_type": "code",
   "execution_count": 26,
   "metadata": {
    "collapsed": false
   },
   "outputs": [
    {
     "data": {
      "text/plain": [
       "array([[  1.17834551e-03,  -5.11609632e+00],\n",
       "       [  1.52753858e-03,   1.70176308e-01],\n",
       "       [  1.58567063e-03,   3.12104936e-01],\n",
       "       [  2.44659360e-03,   2.56808115e-01],\n",
       "       [  1.96677117e-03,   2.49392188e-01]])"
      ]
     },
     "execution_count": 26,
     "metadata": {},
     "output_type": "execute_result"
    }
   ],
   "source": [
    "tsvd_word_data[0:5,:]"
   ]
  },
  {
   "cell_type": "code",
   "execution_count": 47,
   "metadata": {
    "collapsed": false
   },
   "outputs": [
    {
     "data": {
      "text/plain": [
       "10    600\n",
       "15    599\n",
       "8     598\n",
       "9     597\n",
       "11    595\n",
       "13    594\n",
       "7     594\n",
       "14    593\n",
       "5     593\n",
       "12    591\n",
       "2     591\n",
       "3     590\n",
       "6     585\n",
       "1     584\n",
       "4     578\n",
       "17    564\n",
       "16    546\n",
       "0     480\n",
       "18    465\n",
       "19    377\n",
       "Name: target_names, dtype: int64"
      ]
     },
     "execution_count": 47,
     "metadata": {},
     "output_type": "execute_result"
    }
   ],
   "source": [
    "targets = pd.DataFrame(newsgroups['target'], columns=['target_names'])\n",
    "targets.head()\n",
    "targets['target_names'].value_counts()"
   ]
  },
  {
   "cell_type": "code",
   "execution_count": 55,
   "metadata": {
    "collapsed": false
   },
   "outputs": [
    {
     "data": {
      "text/plain": [
       "[(0, 'alt.atheism'),\n",
       " (1, 'comp.graphics'),\n",
       " (2, 'comp.os.ms-windows.misc'),\n",
       " (3, 'comp.sys.ibm.pc.hardware'),\n",
       " (4, 'comp.sys.mac.hardware'),\n",
       " (5, 'comp.windows.x'),\n",
       " (6, 'misc.forsale'),\n",
       " (7, 'rec.autos'),\n",
       " (8, 'rec.motorcycles'),\n",
       " (9, 'rec.sport.baseball'),\n",
       " (10, 'rec.sport.hockey'),\n",
       " (11, 'sci.crypt'),\n",
       " (12, 'sci.electronics'),\n",
       " (13, 'sci.med'),\n",
       " (14, 'sci.space'),\n",
       " (15, 'soc.religion.christian'),\n",
       " (16, 'talk.politics.guns'),\n",
       " (17, 'talk.politics.mideast'),\n",
       " (18, 'talk.politics.misc'),\n",
       " (19, 'talk.religion.misc')]"
      ]
     },
     "execution_count": 55,
     "metadata": {},
     "output_type": "execute_result"
    }
   ],
   "source": [
    "zip(range(0,21), newsgroups['target_names'])"
   ]
  },
  {
   "cell_type": "code",
   "execution_count": 61,
   "metadata": {
    "collapsed": false
   },
   "outputs": [
    {
     "data": {
      "text/plain": [
       "0    0\n",
       "1    0\n",
       "2    0\n",
       "3    0\n",
       "4    0\n",
       "Name: target_names, dtype: int64"
      ]
     },
     "execution_count": 61,
     "metadata": {},
     "output_type": "execute_result"
    }
   ],
   "source": [
    "y = targets['target_names'].apply(lambda x: 1 if x == 16 else 0)\n",
    "y.head()"
   ]
  },
  {
   "cell_type": "code",
   "execution_count": 62,
   "metadata": {
    "collapsed": false
   },
   "outputs": [
    {
     "data": {
      "text/plain": [
       "<pandas.core.indexing._LocIndexer at 0x7f928917ed10>"
      ]
     },
     "execution_count": 62,
     "metadata": {},
     "output_type": "execute_result"
    }
   ],
   "source": [
    "y.loc"
   ]
  },
  {
   "cell_type": "code",
   "execution_count": 63,
   "metadata": {
    "collapsed": true
   },
   "outputs": [],
   "source": [
    "from sklearn.ensemble import RandomForestClassifier\n",
    "from sklearn.cross_validation import train_test_split"
   ]
  },
  {
   "cell_type": "code",
   "execution_count": 87,
   "metadata": {
    "collapsed": true
   },
   "outputs": [],
   "source": [
    "def tts_and_model(x, y):\n",
    "    x_train, x_test, y_train, y_test = train_test_split(x, y, test_size= 0.3)\n",
    "    rf = RandomForestClassifier()\n",
    "    rf.fit(x_train, y_train)\n",
    "    return rf.score(x_test, y_test)"
   ]
  },
  {
   "cell_type": "code",
   "execution_count": 88,
   "metadata": {
    "collapsed": false
   },
   "outputs": [
    {
     "data": {
      "text/plain": [
       "0.94904270986745209"
      ]
     },
     "execution_count": 88,
     "metadata": {},
     "output_type": "execute_result"
    }
   ],
   "source": [
    "tts_and_model(tsvd_word_data, y)"
   ]
  },
  {
   "cell_type": "code",
   "execution_count": 89,
   "metadata": {
    "collapsed": true
   },
   "outputs": [],
   "source": [
    "tsvd_200=TruncatedSVD(n_components=200)\n",
    "tsvd_200_words=tsvd_200.fit_transform(corpus_1)"
   ]
  },
  {
   "cell_type": "code",
   "execution_count": 90,
   "metadata": {
    "collapsed": false
   },
   "outputs": [
    {
     "data": {
      "text/plain": [
       "0.95522827687776146"
      ]
     },
     "execution_count": 90,
     "metadata": {},
     "output_type": "execute_result"
    }
   ],
   "source": [
    "tts_and_model(tsvd_200_words, y)"
   ]
  },
  {
   "cell_type": "code",
   "execution_count": 91,
   "metadata": {
    "collapsed": true
   },
   "outputs": [],
   "source": [
    "electronics_y=targets['target_names'].apply(lambda x: 1 if x== 12 else 0)"
   ]
  },
  {
   "cell_type": "code",
   "execution_count": 92,
   "metadata": {
    "collapsed": false
   },
   "outputs": [
    {
     "name": "stdout",
     "output_type": "stream",
     "text": [
      "0.940206185567\n",
      "0.946391752577\n"
     ]
    }
   ],
   "source": [
    "print tts_and_model(tsvd_word_data, electronics_y)\n",
    "print tts_and_model(tsvd_200_words, electronics_y)"
   ]
  },
  {
   "cell_type": "code",
   "execution_count": 94,
   "metadata": {
    "collapsed": false
   },
   "outputs": [
    {
     "name": "stdout",
     "output_type": "stream",
     "text": [
      "0.0639175257732\n",
      "0.231222385862\n"
     ]
    }
   ],
   "source": [
    "print tts_and_model(tsvd_word_data, targets['target_names'])\n",
    "print tts_and_model(tsvd_200_words, targets['target_names'])"
   ]
  },
  {
   "cell_type": "code",
   "execution_count": 95,
   "metadata": {
    "collapsed": true
   },
   "outputs": [],
   "source": [
    "tsvd_2000=TruncatedSVD(n_components=2000)\n",
    "tsvd_2000_words=tsvd_200.fit_transform(corpus_1)"
   ]
  },
  {
   "cell_type": "code",
   "execution_count": 96,
   "metadata": {
    "collapsed": false
   },
   "outputs": [
    {
     "name": "stdout",
     "output_type": "stream",
     "text": [
      "0.0695139911635\n",
      "0.243298969072\n",
      "0.249484536082\n"
     ]
    }
   ],
   "source": [
    "print tts_and_model(tsvd_word_data, targets['target_names'])\n",
    "print tts_and_model(tsvd_200_words, targets['target_names'])\n",
    "print tts_and_model(tsvd_2000_words, targets['target_names'])"
   ]
  },
  {
   "cell_type": "code",
   "execution_count": null,
   "metadata": {
    "collapsed": true
   },
   "outputs": [],
   "source": []
  },
  {
   "cell_type": "code",
   "execution_count": null,
   "metadata": {
    "collapsed": true
   },
   "outputs": [],
   "source": []
  },
  {
   "cell_type": "code",
   "execution_count": null,
   "metadata": {
    "collapsed": true
   },
   "outputs": [],
   "source": []
  },
  {
   "cell_type": "code",
   "execution_count": 97,
   "metadata": {
    "collapsed": true
   },
   "outputs": [],
   "source": [
    "km=KMeans(n_clusters=2)"
   ]
  },
  {
   "cell_type": "code",
   "execution_count": 98,
   "metadata": {
    "collapsed": true
   },
   "outputs": [],
   "source": [
    "tsvd_word_data_standardized=StandardScaler().fit_transform(tsvd_word_data)"
   ]
  },
  {
   "cell_type": "code",
   "execution_count": 106,
   "metadata": {
    "collapsed": false
   },
   "outputs": [
    {
     "data": {
      "text/plain": [
       "KMeans(copy_x=True, init='k-means++', max_iter=300, n_clusters=2, n_init=10,\n",
       "    n_jobs=1, precompute_distances='auto', random_state=None, tol=0.0001,\n",
       "    verbose=0)"
      ]
     },
     "execution_count": 106,
     "metadata": {},
     "output_type": "execute_result"
    }
   ],
   "source": [
    "km.fit(tsvd_word_data_standardized)"
   ]
  },
  {
   "cell_type": "code",
   "execution_count": 107,
   "metadata": {
    "collapsed": false
   },
   "outputs": [
    {
     "data": {
      "text/plain": [
       "array([0, 0, 0, ..., 0, 0, 0], dtype=int32)"
      ]
     },
     "execution_count": 107,
     "metadata": {},
     "output_type": "execute_result"
    }
   ],
   "source": [
    "km.labels_"
   ]
  },
  {
   "cell_type": "code",
   "execution_count": 108,
   "metadata": {
    "collapsed": false
   },
   "outputs": [
    {
     "data": {
      "text/plain": [
       "0    11303\n",
       "1       11\n",
       "dtype: int64"
      ]
     },
     "execution_count": 108,
     "metadata": {},
     "output_type": "execute_result"
    }
   ],
   "source": [
    "pd.Series(km.labels_).value_counts()"
   ]
  },
  {
   "cell_type": "code",
   "execution_count": 112,
   "metadata": {
    "collapsed": false,
    "scrolled": false
   },
   "outputs": [
    {
     "data": {
      "image/png": "[encoded data removed]",
      "text/plain": [
       "<matplotlib.figure.Figure at 0x7f9288ec3750>"
      ]
     },
     "metadata": {},
     "output_type": "display_data"
    }
   ],
   "source": [
    "plt.scatter(tsvd_word_data[:,0], tsvd_word_data[:,1], c=km.labels_, cmap='viridis')\n",
    "plt.xlabel('TSVD Component 1')\n",
    "plt.ylabel('TSVD Component 2')\n",
    "plt.title('Scatter plot of KMeans 2 Clusters')\n",
    "plt.show()"
   ]
  },
  {
   "cell_type": "code",
   "execution_count": 129,
   "metadata": {
    "collapsed": true
   },
   "outputs": [],
   "source": [
    "def kmeans_and_graph(x, k):\n",
    "    km=KMeans(n_clusters=k)\n",
    "    km.fit(x)\n",
    "    plt.figure(figsize=(20, 20))\n",
    "    plt.scatter(x[:,0], x[:,1], c=km.labels_, cmap='viridis')\n",
    "    plt.xlabel('TSVD Component 1')\n",
    "    plt.ylabel('TSVD Component 2')\n",
    "    plt.title('Scatter plot of KMeans 2 Clusters, %s clusters' % k)\n",
    "    plt.show()\n",
    "    \n",
    "    \n",
    "    plt.figure(figsize=(20, 20))\n",
    "    plt.scatter(x[:,0], x[:,1], c=km.labels_, cmap='viridis', s=50)\n",
    "    plt.xlim(-1, 3)\n",
    "    plt.ylim(0, 20)\n",
    "    plt.xlabel('TSVD Component 1')\n",
    "    plt.ylabel('TSVD Component 2')\n",
    "    plt.title('Scatter plot of KMeans 2 Clusters, %s clusters' % k)\n",
    "    plt.show()"
   ]
  },
  {
   "cell_type": "markdown",
   "metadata": {},
   "source": [
    "We can see visually that how many clusters is good for our model"
   ]
  },
  {
   "cell_type": "code",
   "execution_count": 130,
   "metadata": {
    "collapsed": false
   },
   "outputs": [
    {
     "data": {
      "image/png": "[encoded data removed]",
      "text/plain": [
       "<matplotlib.figure.Figure at 0x7f9289117150>"
      ]
     },
     "metadata": {},
     "output_type": "display_data"
    },
    {
     "data": {
      "image/png": "[encoded data removed]",
      "text/plain": [
       "<matplotlib.figure.Figure at 0x7f92892a97d0>"
      ]
     },
     "metadata": {},
     "output_type": "display_data"
    }
   ],
   "source": [
    "kmeans_and_graph(tsvd_word_data, 3)"
   ]
  },
  {
   "cell_type": "code",
   "execution_count": 146,
   "metadata": {
    "collapsed": true
   },
   "outputs": [],
   "source": [
    "def silhouette__selection(x, k):\n",
    "    scores=[]\n",
    "    for iteration in range(10, k):\n",
    "        print 'I am on iteration %s' % iteration\n",
    "        km=KMeans(n_clusters=iteration, n_jobs=-1)\n",
    "        km.fit(x)\n",
    "        scores.append((iteration, metrics.silhouette_score(x, km.labels_)))\n",
    "    ks=[k[0] for k in scores]\n",
    "    sils=[k[1] for k in scores]\n",
    "    \n",
    "    plt.plot(ks, sils)\n",
    "    plt.ylabel('silhouette scores')\n",
    "    plt.ylabel('K in Kmeans')\n",
    "    plt.show()"
   ]
  },
  {
   "cell_type": "code",
   "execution_count": 134,
   "metadata": {
    "collapsed": false
   },
   "outputs": [
    {
     "name": "stdout",
     "output_type": "stream",
     "text": [
      "I am on iteration 2\n",
      "I am on iteration 3\n",
      "I am on iteration 4\n",
      "I am on iteration 5\n",
      "I am on iteration 6\n",
      "I am on iteration 7\n",
      "I am on iteration 8\n",
      "I am on iteration 9\n",
      "I am on iteration 10\n",
      "I am on iteration 11\n",
      "I am on iteration 12\n",
      "I am on iteration 13\n",
      "I am on iteration 14\n",
      "I am on iteration 15\n",
      "I am on iteration 16\n",
      "I am on iteration 17\n",
      "I am on iteration 18\n",
      "I am on iteration 19\n",
      "I am on iteration 20\n",
      "I am on iteration 21\n",
      "I am on iteration 22\n",
      "I am on iteration 23\n",
      "I am on iteration 24\n",
      "I am on iteration 25\n"
     ]
    },
    {
     "data": {
      "image/png": "[encoded data removed]",
      "text/plain": [
       "<matplotlib.figure.Figure at 0x7f9287809990>"
      ]
     },
     "metadata": {},
     "output_type": "display_data"
    }
   ],
   "source": [
    "silhouette__selection(tsvd_word_data, 26)"
   ]
  },
  {
   "cell_type": "code",
   "execution_count": 137,
   "metadata": {
    "collapsed": true
   },
   "outputs": [],
   "source": [
    "count_vectorizer_all=CountVectorizer(\n",
    "    stop_words='english',\n",
    ")"
   ]
  },
  {
   "cell_type": "code",
   "execution_count": 138,
   "metadata": {
    "collapsed": true
   },
   "outputs": [],
   "source": [
    "corpus_2=count_vectorizer.fit_transform(df.text_lower)"
   ]
  },
  {
   "cell_type": "code",
   "execution_count": 139,
   "metadata": {
    "collapsed": false
   },
   "outputs": [
    {
     "data": {
      "text/plain": [
       "<11314x10000 sparse matrix of type '<type 'numpy.int64'>'\n",
       "\twith 1004156 stored elements in Compressed Sparse Row format>"
      ]
     },
     "execution_count": 139,
     "metadata": {},
     "output_type": "execute_result"
    }
   ],
   "source": [
    "corpus_2"
   ]
  },
  {
   "cell_type": "code",
   "execution_count": 141,
   "metadata": {
    "collapsed": true
   },
   "outputs": [],
   "source": [
    "tv=TruncatedSVD()\n",
    "tsvd_all_words=tv.fit_transform(corpus_2)"
   ]
  },
  {
   "cell_type": "code",
   "execution_count": 144,
   "metadata": {
    "collapsed": false
   },
   "outputs": [
    {
     "data": {
      "text/plain": [
       "array([[  1.17834552e-03,   1.99295438e+00],\n",
       "       [  1.52753858e-03,   2.07207152e-01],\n",
       "       [  1.58567063e-03,   3.45158445e-01],\n",
       "       [  2.44659360e-03,   2.79542818e-01],\n",
       "       [  1.96677117e-03,   2.78514560e-01]])"
      ]
     },
     "execution_count": 144,
     "metadata": {},
     "output_type": "execute_result"
    }
   ],
   "source": [
    "tsvd_all_words[0:5]"
   ]
  },
  {
   "cell_type": "code",
   "execution_count": 147,
   "metadata": {
    "collapsed": false
   },
   "outputs": [
    {
     "name": "stdout",
     "output_type": "stream",
     "text": [
      "I am on iteration 10\n",
      "I am on iteration 11\n",
      "I am on iteration 12\n",
      "I am on iteration 13\n",
      "I am on iteration 14\n",
      "I am on iteration 15\n",
      "I am on iteration 16\n",
      "I am on iteration 17\n",
      "I am on iteration 18\n",
      "I am on iteration 19\n",
      "I am on iteration 20\n",
      "I am on iteration 21\n",
      "I am on iteration 22\n",
      "I am on iteration 23\n",
      "I am on iteration 24\n",
      "I am on iteration 25\n"
     ]
    },
    {
     "data": {
      "image/png": "[encoded data removed]",
      "text/plain": [
       "<matplotlib.figure.Figure at 0x7f9288fc0cd0>"
      ]
     },
     "metadata": {},
     "output_type": "display_data"
    }
   ],
   "source": [
    "silhouette__selection(tsvd_all_words, 26)"
   ]
  },
  {
   "cell_type": "code",
   "execution_count": 164,
   "metadata": {
    "collapsed": false
   },
   "outputs": [
    {
     "data": {
      "text/html": [
       "<div>\n",
       "<table border=\"1\" class=\"dataframe\">\n",
       "  <thead>\n",
       "    <tr style=\"text-align: right;\">\n",
       "      <th></th>\n",
       "      <th>labels</th>\n",
       "    </tr>\n",
       "  </thead>\n",
       "  <tbody>\n",
       "    <tr>\n",
       "      <th>0</th>\n",
       "      <td>7</td>\n",
       "    </tr>\n",
       "    <tr>\n",
       "      <th>1</th>\n",
       "      <td>4</td>\n",
       "    </tr>\n",
       "    <tr>\n",
       "      <th>2</th>\n",
       "      <td>4</td>\n",
       "    </tr>\n",
       "    <tr>\n",
       "      <th>3</th>\n",
       "      <td>1</td>\n",
       "    </tr>\n",
       "    <tr>\n",
       "      <th>4</th>\n",
       "      <td>14</td>\n",
       "    </tr>\n",
       "  </tbody>\n",
       "</table>\n",
       "</div>"
      ],
      "text/plain": [
       "   labels\n",
       "0       7\n",
       "1       4\n",
       "2       4\n",
       "3       1\n",
       "4      14"
      ]
     },
     "execution_count": 164,
     "metadata": {},
     "output_type": "execute_result"
    }
   ],
   "source": [
    "news=pd.DataFrame(newsgroups['target'], columns=['labels'])\n",
    "news.head()"
   ]
  },
  {
   "cell_type": "code",
   "execution_count": 165,
   "metadata": {
    "collapsed": false
   },
   "outputs": [],
   "source": [
    "def text_label(values):\n",
    "    return newsgroups['target_names'][values]\n"
   ]
  },
  {
   "cell_type": "code",
   "execution_count": 166,
   "metadata": {
    "collapsed": false
   },
   "outputs": [
    {
     "name": "stdout",
     "output_type": "stream",
     "text": [
      "talk.politics.guns\n"
     ]
    }
   ],
   "source": [
    "print text_label(16)"
   ]
  },
  {
   "cell_type": "code",
   "execution_count": 167,
   "metadata": {
    "collapsed": true
   },
   "outputs": [],
   "source": [
    "news['text_label']=news['labels']"
   ]
  },
  {
   "cell_type": "code",
   "execution_count": 168,
   "metadata": {
    "collapsed": false
   },
   "outputs": [
    {
     "data": {
      "text/plain": [
       "KMeans(copy_x=True, init='k-means++', max_iter=300, n_clusters=20, n_init=10,\n",
       "    n_jobs=1, precompute_distances='auto', random_state=None, tol=0.0001,\n",
       "    verbose=0)"
      ]
     },
     "execution_count": 168,
     "metadata": {},
     "output_type": "execute_result"
    }
   ],
   "source": [
    "final_model=KMeans(n_clusters=20)\n",
    "scaled=StandardScaler().fit_transform(tsvd_all_words)\n",
    "final_model.fit(tsvd_all_words)"
   ]
  },
  {
   "cell_type": "code",
   "execution_count": 169,
   "metadata": {
    "collapsed": false,
    "scrolled": true
   },
   "outputs": [],
   "source": [
    "news=news.join(pd.DataFrame(final_model.labels_, columns=['predicted_group']))"
   ]
  },
  {
   "cell_type": "code",
   "execution_count": 170,
   "metadata": {
    "collapsed": false
   },
   "outputs": [
    {
     "data": {
      "text/plain": [
       "0     9304\n",
       "19    1830\n",
       "17     107\n",
       "14      35\n",
       "13      16\n",
       "16       6\n",
       "12       3\n",
       "10       1\n",
       "8        1\n",
       "1        1\n",
       "9        1\n",
       "2        1\n",
       "15       1\n",
       "18       1\n",
       "7        1\n",
       "11       1\n",
       "4        1\n",
       "5        1\n",
       "6        1\n",
       "3        1\n",
       "Name: predicted_group, dtype: int64"
      ]
     },
     "execution_count": 170,
     "metadata": {},
     "output_type": "execute_result"
    }
   ],
   "source": [
    "news['predicted_group'].value_counts()"
   ]
  },
  {
   "cell_type": "code",
   "execution_count": 171,
   "metadata": {
    "collapsed": false,
    "scrolled": true
   },
   "outputs": [
    {
     "data": {
      "text/plain": [
       "predicted_group  text_label\n",
       "0                8             547\n",
       "                 12            530\n",
       "                 1             516\n",
       "                 3             514\n",
       "                 4             513\n",
       "                 5             512\n",
       "                 13            512\n",
       "                 6             510\n",
       "                 7             509\n",
       "                 9             495\n",
       "                 10            482\n",
       "                 14            475\n",
       "                 2             468\n",
       "                 11            459\n",
       "                 15            439\n",
       "                 17            408\n",
       "                 16            396\n",
       "                 0             391\n",
       "                 18            332\n",
       "                 19            296\n",
       "1                2               1\n",
       "2                2               1\n",
       "3                2               1\n",
       "4                2               1\n",
       "5                2               1\n",
       "6                2               1\n",
       "7                2               1\n",
       "8                2               1\n",
       "9                2               1\n",
       "10               2               1\n",
       "                              ... \n",
       "17               0               4\n",
       "                 1               3\n",
       "                 7               3\n",
       "                 15              3\n",
       "                 2               2\n",
       "                 8               2\n",
       "                 3               1\n",
       "                 12              1\n",
       "                 19              1\n",
       "18               2               1\n",
       "19               15            157\n",
       "                 17            142\n",
       "                 16            141\n",
       "                 18            122\n",
       "                 11            120\n",
       "                 2             102\n",
       "                 14            101\n",
       "                 10             96\n",
       "                 9              90\n",
       "                 0              84\n",
       "                 7              82\n",
       "                 19             80\n",
       "                 3              72\n",
       "                 13             71\n",
       "                 5              69\n",
       "                 6              68\n",
       "                 4              64\n",
       "                 1              61\n",
       "                 12             59\n",
       "                 8              49\n",
       "Name: text_label, dtype: int64"
      ]
     },
     "execution_count": 171,
     "metadata": {},
     "output_type": "execute_result"
    }
   ],
   "source": [
    "news.groupby('predicted_group')['text_label'].value_counts()"
   ]
  },
  {
   "cell_type": "code",
   "execution_count": null,
   "metadata": {
    "collapsed": true
   },
   "outputs": [],
   "source": []
  },
  {
   "cell_type": "code",
   "execution_count": null,
   "metadata": {
    "collapsed": true
   },
   "outputs": [],
   "source": []
  },
  {
   "cell_type": "code",
   "execution_count": 173,
   "metadata": {
    "collapsed": false,
    "scrolled": true
   },
   "outputs": [
    {
     "name": "stdout",
     "output_type": "stream",
     "text": [
      "from: lerxst@wam.umd.edu (where's my thing)\n",
      "subject: what car is this!?\n",
      "nntp-posting-host: rac3.wam.umd.edu\n",
      "organization: university of maryland, college park\n",
      "lines: 15\n",
      "\n",
      " i was wondering if anyone out there could enlighten me on this car i saw\n",
      "the other day. it was a 2-door sports car, looked to be from the late 60s/\n",
      "early 70s. it was called a bricklin. the doors were really small. in addition,\n",
      "the front bumper was separate from the rest of the body. this is \n",
      "all i know. if anyone can tellme a model name, engine specs, years\n",
      "of production, where this car is made, history, or whatever info you\n",
      "have on this funky looking car, please e-mail.\n",
      "\n",
      "thanks,\n",
      "- il\n",
      "   ---- brought to you by your neighborhood lerxst ----\n",
      "\n",
      "\n",
      "\n",
      "\n",
      "\n",
      "from: guykuo@carson.u.washington.edu (guy kuo)\n",
      "subject: si clock poll - final call\n",
      "summary: final call for si clock reports\n",
      "keywords: si,acceleration,clock,upgrade\n",
      "article-i.d.: shelley.1qvfo9innc3s\n",
      "organization: university of washington\n",
      "lines: 11\n",
      "nntp-posting-host: carson.u.washington.edu\n",
      "\n",
      "a fair number of brave souls who upgraded their si clock oscillator have\n",
      "shared their experiences for this poll. please send a brief message detailing\n",
      "your experiences with the procedure. top speed attained, cpu rated speed,\n",
      "add on cards and adapters, heat sinks, hour of usage per day, floppy disk\n",
      "functionality with 800 and 1.4 m floppies are especially requested.\n",
      "\n",
      "i will be summarizing in the next two days, so please add to the network\n",
      "knowledge base if you have done the clock upgrade and haven't answered this\n",
      "poll. thanks.\n",
      "\n",
      "guy kuo <guykuo@u.washington.edu>\n",
      "\n",
      "from: twillis@ec.ecn.purdue.edu (thomas e willis)\n",
      "subject: pb questions...\n",
      "organization: purdue university engineering computer network\n",
      "distribution: usa\n",
      "lines: 36\n",
      "\n",
      "well folks, my mac plus finally gave up the ghost this weekend after\n",
      "starting life as a 512k way back in 1985.  sooo, i'm in the market for a\n",
      "new machine a bit sooner than i intended to be...\n",
      "\n",
      "i'm looking into picking up a powerbook 160 or maybe 180 and have a bunch\n",
      "of questions that (hopefully) somebody can answer:\n",
      "\n",
      "* does anybody know any dirt on when the next round of powerbook\n",
      "introductions are expected?  i'd heard the 185c was supposed to make an\n",
      "appearence \"this summer\" but haven't heard anymore on it - and since i\n",
      "don't have access to macleak, i was wondering if anybody out there had\n",
      "more info...\n",
      "\n",
      "* has anybody heard rumors about price drops to the powerbook line like the\n",
      "ones the duo's just went through recently?\n",
      "\n",
      "* what's the impression of the display on the 180?  i could probably swing\n",
      "a 180 if i got the 80mb disk rather than the 120, but i don't really have\n",
      "a feel for how much \"better\" the display is (yea, it looks great in the\n",
      "store, but is that all \"wow\" or is it really that good?).  could i solicit\n",
      "some opinions of people who use the 160 and 180 day-to-day on if its worth\n",
      "taking the disk size and money hit to get the active display?  (i realize\n",
      "this is a real subjective question, but i've only played around with the\n",
      "machines in a computer store breifly and figured the opinions of somebody\n",
      "who actually uses the machine daily might prove helpful).\n",
      "\n",
      "* how well does hellcats perform?  ;)\n",
      "\n",
      "thanks a bunch in advance for any info - if you could email, i'll post a\n",
      "summary (news reading time is at a premium with finals just around the\n",
      "corner... :( )\n",
      "--\n",
      "tom willis  \\  twillis@ecn.purdue.edu    \\    purdue electrical engineering\n",
      "---------------------------------------------------------------------------\n",
      "\"convictions are more dangerous enemies of truth than lies.\"  - f. w.\n",
      "nietzsche\n",
      "\n",
      "from: jgreen@amber (joe green)\n",
      "subject: re: weitek p9000 ?\n",
      "organization: harris computer systems division\n",
      "lines: 14\n",
      "distribution: world\n",
      "nntp-posting-host: amber.ssd.csd.harris.com\n",
      "x-newsreader: tin [version 1.1 pl9]\n",
      "\n",
      "robert j.c. kyanko (rob@rjck.uucp) wrote:\n",
      "> abraxis@iastate.edu writes in article <abraxis.734340159@class1.iastate.edu>:\n",
      "> > anyone know about the weitek p9000 graphics chip?\n",
      "> as far as the low-level stuff goes, it looks pretty nice.  it's got this\n",
      "> quadrilateral fill command that requires just the four points.\n",
      "\n",
      "do you have weitek's address/phone number?  i'd like to get some information\n",
      "about this chip.\n",
      "\n",
      "--\n",
      "joe green\t\t\t\tharris corporation\n",
      "jgreen@csd.harris.com\t\t\tcomputer systems division\n",
      "\"the only thing that really scares me is a person with no sense of humor.\"\n",
      "\t\t\t\t\t\t-- jonathan winters\n",
      "\n",
      "from: jcm@head-cfa.harvard.edu (jonathan mcdowell)\n",
      "subject: re: shuttle launch question\n",
      "organization: smithsonian astrophysical observatory, cambridge, ma,  usa\n",
      "distribution: sci\n",
      "lines: 23\n",
      "\n",
      "from article <c5owcb.n3p@world.std.com>, by tombaker@world.std.com (tom a baker):\n",
      ">>in article <c5jlwx.4h9.1@cs.cmu.edu>, etrat@ttacs1.ttu.edu (pack rat) writes...\n",
      ">>>\"clear caution & warning memory.  verify no unexpected\n",
      ">>>errors. ...\".  i am wondering what an \"expected error\" might\n",
      ">>>be.  sorry if this is a really dumb question, but\n",
      "> \n",
      "> parity errors in memory or previously known conditions that were waivered.\n",
      ">    \"yes that is an error, but we already knew about it\"\n",
      "> i'd be curious as to what the real meaning of the quote is.\n",
      "> \n",
      "> tom\n",
      "\n",
      "\n",
      "my understanding is that the 'expected errors' are basically\n",
      "known bugs in the warning system software - things are checked\n",
      "that don't have the right values in yet because they aren't\n",
      "set till after launch, and suchlike. rather than fix the code\n",
      "and possibly introduce new bugs, they just tell the crew\n",
      "'ok, if you see a warning no. 213 before liftoff, ignore it'.\n",
      "\n",
      " - jonathan\n",
      "\n",
      "\n",
      "\n"
     ]
    }
   ],
   "source": [
    "for x in range(0, 5):\n",
    "    print df.iloc[x,1]"
   ]
  },
  {
   "cell_type": "code",
   "execution_count": 176,
   "metadata": {
    "collapsed": false
   },
   "outputs": [],
   "source": [
    "df['stripped_marks']=df.text_lower.str.replace('>', '')\n",
    "df['stripped_marks']=df.text_lower.str.replace('subject', '')\n",
    "df['stripped_marks']=df.text_lower.str.replace('from', '')\n",
    "df['stripped_marks']=df.text_lower.str.replace('lines', '')"
   ]
  },
  {
   "cell_type": "code",
   "execution_count": 207,
   "metadata": {
    "collapsed": false
   },
   "outputs": [],
   "source": [
    "def strip_lines(text):\n",
    "    output=\"\"\n",
    "    for line in text.splitlines():\n",
    "        if ((\"from:\" not in line) and \n",
    "            (\"subject:\" not in line) and \n",
    "            (\"from article\" not in line) and \n",
    "            (\"in article\" not in line) and \n",
    "            (\"lines:\" not in line) and \n",
    "            (\"distribution:\" not in line) and \n",
    "            (\"organization:\" not in line)):\n",
    "            output += line\n",
    "    output=output.replace('>', '')\n",
    "    return output"
   ]
  },
  {
   "cell_type": "code",
   "execution_count": 208,
   "metadata": {
    "collapsed": true
   },
   "outputs": [],
   "source": [
    "df['stripped_marks']=df.text_lower.apply(strip_lines)"
   ]
  },
  {
   "cell_type": "code",
   "execution_count": 210,
   "metadata": {
    "collapsed": true
   },
   "outputs": [],
   "source": [
    "corpus_3=count_vectorizer.fit_transform(df.stripped_marks)"
   ]
  },
  {
   "cell_type": "code",
   "execution_count": null,
   "metadata": {
    "collapsed": true
   },
   "outputs": [],
   "source": []
  }
 ],
 "metadata": {
  "anaconda-cloud": {},
  "kernelspec": {
   "display_name": "Python [conda root]",
   "language": "python",
   "name": "conda-root-py"
  },
  "language_info": {
   "codemirror_mode": {
    "name": "ipython",
    "version": 2
   },
   "file_extension": ".py",
   "mimetype": "text/x-python",
   "name": "python",
   "nbconvert_exporter": "python",
   "pygments_lexer": "ipython2",
   "version": "2.7.12"
  }
 },
 "nbformat": 4,
 "nbformat_minor": 1
}
