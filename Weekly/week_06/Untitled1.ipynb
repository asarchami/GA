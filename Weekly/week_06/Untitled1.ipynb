{
 "cells": [
  {
   "cell_type": "code",
   "execution_count": 3,
   "metadata": {
    "collapsed": false
   },
   "outputs": [
    {
     "ename": "ImportError",
     "evalue": "No module named mysql",
     "output_type": "error",
     "traceback": [
      "\u001b[0;31m---------------------------------------------------\u001b[0m",
      "\u001b[0;31mImportError\u001b[0m       Traceback (most recent call last)",
      "\u001b[0;32m<ipython-input-3-53ef607b8e07>\u001b[0m in \u001b[0;36m<module>\u001b[0;34m()\u001b[0m\n\u001b[0;32m----> 1\u001b[0;31m \u001b[0;32mimport\u001b[0m \u001b[0mmysql\u001b[0m\u001b[0;34m\u001b[0m\u001b[0m\n\u001b[0m\u001b[1;32m      2\u001b[0m \u001b[0;32mimport\u001b[0m \u001b[0msys\u001b[0m\u001b[0;34m\u001b[0m\u001b[0m\n",
      "\u001b[0;31mImportError\u001b[0m: No module named mysql"
     ]
    }
   ],
   "source": [
    "import mysql\n",
    "import sys"
   ]
  },
  {
   "cell_type": "code",
   "execution_count": null,
   "metadata": {
    "collapsed": false
   },
   "outputs": [],
   "source": [
    "#!/usr/bin/python\n",
    "# -*- coding: utf-8 -*-\n",
    "\n",
    "import _mysql\n",
    "import sys\n",
    "\n",
    "try:\n",
    "    con = _mysql.connect('localhost', 'imdb', 'imdb', 'imdb')\n",
    "        \n",
    "    con.query(\"SELECT VERSION()\")\n",
    "    result = con.use_result()\n",
    "    \n",
    "    print \"MySQL version: %s\" % \\\n",
    "        result.fetch_row()[0]\n",
    "    \n",
    "except _mysql.Error, e:\n",
    "  \n",
    "    print \"Error %d: %s\" % (e.args[0], e.args[1])\n",
    "    sys.exit(1)\n",
    "\n",
    "finally:\n",
    "    \n",
    "    if con:\n",
    "        con.close()\n"
   ]
  },
  {
   "cell_type": "code",
   "execution_count": null,
   "metadata": {
    "collapsed": true
   },
   "outputs": [],
   "source": []
  }
 ],
 "metadata": {
  "kernelspec": {
   "display_name": "Python [conda root]",
   "language": "python",
   "name": "conda-root-py"
  },
  "language_info": {
   "codemirror_mode": {
    "name": "ipython",
    "version": 2
   },
   "file_extension": ".py",
   "mimetype": "text/x-python",
   "name": "python",
   "nbconvert_exporter": "python",
   "pygments_lexer": "ipython2",
   "version": "2.7.12"
  }
 },
 "nbformat": 4,
 "nbformat_minor": 1
}
