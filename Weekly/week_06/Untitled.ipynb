{
 "cells": [
  {
   "cell_type": "code",
   "execution_count": 1,
   "metadata": {
    "collapsed": true
   },
   "outputs": [],
   "source": [
    "import requests as r"
   ]
  },
  {
   "cell_type": "code",
   "execution_count": 2,
   "metadata": {
    "collapsed": true
   },
   "outputs": [],
   "source": [
    "search_query = 'http://www.omdbapi.com/?s=chicago'"
   ]
  },
  {
   "cell_type": "code",
   "execution_count": 3,
   "metadata": {
    "collapsed": true
   },
   "outputs": [],
   "source": [
    "results = r.get(search_query)"
   ]
  },
  {
   "cell_type": "code",
   "execution_count": 13,
   "metadata": {
    "collapsed": false
   },
   "outputs": [
    {
     "name": "stdout",
     "output_type": "stream",
     "text": [
      "{u'Search': [{u'imdbID': u'tt0299658', u'Year': u'2002', u'Type': u'movie', u'Poster': u'https://images-na.ssl-images-amazon.com/images/M/MV5BMTIyMTg1MzMzNl5BMl5BanBnXkFtZTYwMDU0NTk5._V1_SX300.jpg', u'Title': u'Chicago'}, {u'imdbID': u'tt2261391', u'Year': u'2012\\u2013', u'Type': u'series', u'Poster': u'https://images-na.ssl-images-amazon.com/images/M/MV5BMTg4NDA4MDcyOV5BMl5BanBnXkFtZTgwMjgwNjMwMDI@._V1_SX300.jpg', u'Title': u'Chicago Fire'}, {u'imdbID': u'tt2805096', u'Year': u'2014\\u2013', u'Type': u'series', u'Poster': u'https://images-na.ssl-images-amazon.com/images/M/MV5BMTk0OTg5MTk5MF5BMl5BanBnXkFtZTgwNDQ4NDQwMDI@._V1_SX300.jpg', u'Title': u'Chicago P.D.'}, {u'imdbID': u'tt3150122', u'Year': u'2014\\u2013', u'Type': u'series', u'Poster': u'http://ia.media-imdb.com/images/M/MV5BNDQ5Njc2MzcyNV5BMl5BanBnXkFtZTgwMTk5MjMwNzE@._V1_SX300.jpg', u'Title': u'Chicago P.D.'}, {u'imdbID': u'tt1620950', u'Year': u'2011', u'Type': u'series', u'Poster': u'https://images-na.ssl-images-amazon.com/images/M/MV5BMTcwNTkyOTgwNV5BMl5BanBnXkFtZTcwMzI5MTcyNA@@._V1_SX300.jpg', u'Title': u'The Chicago Code'}, {u'imdbID': u'tt4655480', u'Year': u'2015\\u2013', u'Type': u'series', u'Poster': u'https://images-na.ssl-images-amazon.com/images/M/MV5BMTAxNzc5MzM5MzheQTJeQWpwZ15BbWU4MDkzOTE4MDcx._V1_SX300.jpg', u'Title': u'Chicago Med'}, {u'imdbID': u'tt0108724', u'Year': u'1994\\u20132000', u'Type': u'series', u'Poster': u'http://ia.media-imdb.com/images/M/MV5BNjc4MTg3MjM5OV5BMl5BanBnXkFtZTYwOTc2MTQ2._V1_SX300.jpg', u'Title': u'Chicago Hope'}, {u'imdbID': u'tt0119278', u'Year': u'1997', u'Type': u'movie', u'Poster': u'http://ia.media-imdb.com/images/M/MV5BMTgzNjY5MDc3MV5BMl5BanBnXkFtZTcwOTQ1MzEyMQ@@._V1_SX300.jpg', u'Title': u'Chicago Cab'}, {u'imdbID': u'tt0029047', u'Year': u'1937', u'Type': u'movie', u'Poster': u'http://ia.media-imdb.com/images/M/MV5BOTY4ODg2NjU2Ml5BMl5BanBnXkFtZTcwOTM1MDAzMQ@@._V1_SX300.jpg', u'Title': u'In Old Chicago'}, {u'imdbID': u'tt0905979', u'Year': u'2007', u'Type': u'movie', u'Poster': u'https://images-na.ssl-images-amazon.com/images/M/MV5BMTgzNjY5NDkxMF5BMl5BanBnXkFtZTcwNTE1OTc1MQ@@._V1_SX300.jpg', u'Title': u'Chicago 10'}], u'totalResults': u'348', u'Response': u'True'}\n"
     ]
    }
   ],
   "source": [
    "print results.json()"
   ]
  },
  {
   "cell_type": "code",
   "execution_count": 20,
   "metadata": {
    "collapsed": true
   },
   "outputs": [],
   "source": [
    "obj = results.json()"
   ]
  },
  {
   "cell_type": "code",
   "execution_count": 23,
   "metadata": {
    "collapsed": false
   },
   "outputs": [],
   "source": [
    "search_for_chicago = json.loads(results.text)"
   ]
  },
  {
   "cell_type": "code",
   "execution_count": 24,
   "metadata": {
    "collapsed": false
   },
   "outputs": [
    {
     "data": {
      "text/plain": [
       "[u'Search', u'totalResults', u'Response']"
      ]
     },
     "execution_count": 24,
     "metadata": {},
     "output_type": "execute_result"
    }
   ],
   "source": [
    "search_for_chicago.keys()"
   ]
  },
  {
   "cell_type": "code",
   "execution_count": 27,
   "metadata": {
    "collapsed": false
   },
   "outputs": [
    {
     "data": {
      "text/plain": [
       "{u'Poster': u'https://images-na.ssl-images-amazon.com/images/M/MV5BMTIyMTg1MzMzNl5BMl5BanBnXkFtZTYwMDU0NTk5._V1_SX300.jpg',\n",
       " u'Title': u'Chicago',\n",
       " u'Type': u'movie',\n",
       " u'Year': u'2002',\n",
       " u'imdbID': u'tt0299658'}"
      ]
     },
     "execution_count": 27,
     "metadata": {},
     "output_type": "execute_result"
    }
   ],
   "source": [
    "search_for_chicago['Search'][0]"
   ]
  },
  {
   "cell_type": "code",
   "execution_count": 28,
   "metadata": {
    "collapsed": true
   },
   "outputs": [],
   "source": [
    "import time"
   ]
  },
  {
   "cell_type": "code",
   "execution_count": 36,
   "metadata": {
    "collapsed": false
   },
   "outputs": [],
   "source": [
    "list_of_names = []\n",
    "list_of_artists=[]\n",
    "base_url=\"https://api.spotify.com/v1/search?type=track&q=halloween&limit=50\"\n",
    "\n",
    "for x in range(0, 250, 50):\n",
    "    search_url = base_url+'&offset='+str(x)\n",
    "    loop_results = r.get(search_url)\n",
    "    json_blob = json.loads(loop_results.text)\n",
    "    for song in json_blob['tracks']['items']:\n",
    "        list_of_names.append(song['name'])\n",
    "        list_of_artists.append(song['artists'][0]['name'])\n",
    "    time.sleep(2)"
   ]
  },
  {
   "cell_type": "code",
   "execution_count": null,
   "metadata": {
    "collapsed": true
   },
   "outputs": [],
   "source": []
  }
 ],
 "metadata": {
  "kernelspec": {
   "display_name": "Python [conda root]",
   "language": "python",
   "name": "conda-root-py"
  },
  "language_info": {
   "codemirror_mode": {
    "name": "ipython",
    "version": 2
   },
   "file_extension": ".py",
   "mimetype": "text/x-python",
   "name": "python",
   "nbconvert_exporter": "python",
   "pygments_lexer": "ipython2",
   "version": "2.7.12"
  }
 },
 "nbformat": 4,
 "nbformat_minor": 1
}
