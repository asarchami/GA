{
 "cells": [
  {
   "cell_type": "code",
   "execution_count": 1,
   "metadata": {
    "collapsed": false
   },
   "outputs": [],
   "source": [
    "import pandas as pd\n",
    "import seaborn as sb\n",
    "import matplotlib.pyplot as plt\n",
    "import json\n",
    "%matplotlib inline\n",
    "import statsmodels.discrete.discrete_model as sm\n",
    "import numpy as np\n",
    "import seaborn as sns\n",
    "\n",
    "pd.options.display.max_columns = 50\n",
    "pd.options.display.max_colwidth = 300\n",
    "\n",
    "from sklearn.linear_model import LogisticRegression"
   ]
  },
  {
   "cell_type": "code",
   "execution_count": 3,
   "metadata": {
    "collapsed": false
   },
   "outputs": [],
   "source": [
    "data = pd.read_table('https://raw.githubusercontent.com/ga-students/DSI-CHI-1/master/lessons/week-04/3.2-logistic-regression-lab/assets/datasets/train.tsv?token=AADi60OIWxcMOJfIkxH6fQxRKkVvZuV_ks5YGh92wA%3D%3D')"
   ]
  },
  {
   "cell_type": "code",
   "execution_count": 4,
   "metadata": {
    "collapsed": true
   },
   "outputs": [],
   "source": [
    "data['title'] = data.boilerplate.map(lambda x: json.loads(x).get('title', ''))\n",
    "data['body'] = data.boilerplate.map(lambda x: json.loads(x).get('body', ''))"
   ]
  },
  {
   "cell_type": "code",
   "execution_count": 5,
   "metadata": {
    "collapsed": false
   },
   "outputs": [
    {
     "data": {
      "text/html": [
       "<div>\n",
       "<table border=\"1\" class=\"dataframe\">\n",
       "  <thead>\n",
       "    <tr style=\"text-align: right;\">\n",
       "      <th></th>\n",
       "      <th>url</th>\n",
       "      <th>urlid</th>\n",
       "      <th>boilerplate</th>\n",
       "      <th>alchemy_category</th>\n",
       "      <th>alchemy_category_score</th>\n",
       "      <th>avglinksize</th>\n",
       "      <th>commonlinkratio_1</th>\n",
       "      <th>commonlinkratio_2</th>\n",
       "      <th>commonlinkratio_3</th>\n",
       "      <th>commonlinkratio_4</th>\n",
       "      <th>compression_ratio</th>\n",
       "      <th>embed_ratio</th>\n",
       "      <th>framebased</th>\n",
       "      <th>frameTagRatio</th>\n",
       "      <th>hasDomainLink</th>\n",
       "      <th>html_ratio</th>\n",
       "      <th>image_ratio</th>\n",
       "      <th>is_news</th>\n",
       "      <th>lengthyLinkDomain</th>\n",
       "      <th>linkwordscore</th>\n",
       "      <th>news_front_page</th>\n",
       "      <th>non_markup_alphanum_characters</th>\n",
       "      <th>numberOfLinks</th>\n",
       "      <th>numwords_in_url</th>\n",
       "      <th>parametrizedLinkRatio</th>\n",
       "      <th>spelling_errors_ratio</th>\n",
       "      <th>label</th>\n",
       "      <th>title</th>\n",
       "      <th>body</th>\n",
       "    </tr>\n",
       "  </thead>\n",
       "  <tbody>\n",
       "    <tr>\n",
       "      <th>0</th>\n",
       "      <td>http://www.bloomberg.com/news/2010-12-23/ibm-predicts-holographic-calls-air-breathing-batteries-by-2015.html</td>\n",
       "      <td>4042</td>\n",
       "      <td>{\"title\":\"IBM Sees Holographic Calls Air Breathing Batteries ibm sees holographic calls, air-breathing batteries\",\"body\":\"A sign stands outside the International Business Machines Corp IBM Almaden Research Center campus in San Jose California Photographer Tony Avelar Bloomberg Buildings stand at...</td>\n",
       "      <td>business</td>\n",
       "      <td>0.789131</td>\n",
       "      <td>2.055556</td>\n",
       "      <td>0.676471</td>\n",
       "      <td>0.205882</td>\n",
       "      <td>0.047059</td>\n",
       "      <td>0.023529</td>\n",
       "      <td>0.443783</td>\n",
       "      <td>0.0</td>\n",
       "      <td>0</td>\n",
       "      <td>0.090774</td>\n",
       "      <td>0</td>\n",
       "      <td>0.245831</td>\n",
       "      <td>0.003883</td>\n",
       "      <td>1</td>\n",
       "      <td>1</td>\n",
       "      <td>24</td>\n",
       "      <td>0</td>\n",
       "      <td>5424</td>\n",
       "      <td>170</td>\n",
       "      <td>8</td>\n",
       "      <td>0.152941</td>\n",
       "      <td>0.079130</td>\n",
       "      <td>0</td>\n",
       "      <td>IBM Sees Holographic Calls Air Breathing Batteries ibm sees holographic calls, air-breathing batteries</td>\n",
       "      <td>A sign stands outside the International Business Machines Corp IBM Almaden Research Center campus in San Jose California Photographer Tony Avelar Bloomberg Buildings stand at the International Business Machines Corp IBM Almaden Research Center campus in the Santa Teresa Hills of San Jose Califor...</td>\n",
       "    </tr>\n",
       "    <tr>\n",
       "      <th>1</th>\n",
       "      <td>http://www.popsci.com/technology/article/2012-07/electronic-futuristic-starting-gun-eliminates-advantages-races</td>\n",
       "      <td>8471</td>\n",
       "      <td>{\"title\":\"The Fully Electronic Futuristic Starting Gun That Eliminates Advantages in Races the fully electronic, futuristic starting gun that eliminates advantages in races the fully electronic, futuristic starting gun that eliminates advantages in races\",\"body\":\"And that can be carried on a pla...</td>\n",
       "      <td>recreation</td>\n",
       "      <td>0.574147</td>\n",
       "      <td>3.677966</td>\n",
       "      <td>0.508021</td>\n",
       "      <td>0.288770</td>\n",
       "      <td>0.213904</td>\n",
       "      <td>0.144385</td>\n",
       "      <td>0.468649</td>\n",
       "      <td>0.0</td>\n",
       "      <td>0</td>\n",
       "      <td>0.098707</td>\n",
       "      <td>0</td>\n",
       "      <td>0.203490</td>\n",
       "      <td>0.088652</td>\n",
       "      <td>1</td>\n",
       "      <td>1</td>\n",
       "      <td>40</td>\n",
       "      <td>0</td>\n",
       "      <td>4973</td>\n",
       "      <td>187</td>\n",
       "      <td>9</td>\n",
       "      <td>0.181818</td>\n",
       "      <td>0.125448</td>\n",
       "      <td>1</td>\n",
       "      <td>The Fully Electronic Futuristic Starting Gun That Eliminates Advantages in Races the fully electronic, futuristic starting gun that eliminates advantages in races the fully electronic, futuristic starting gun that eliminates advantages in races</td>\n",
       "      <td>And that can be carried on a plane without the hassle too The Omega E Gun Starting Pistol Omega It s easy to take for granted just how insanely close some Olympic races are and how much the minutiae of it all can matter The perfect example is the traditional starting gun Seems easy You pull a tr...</td>\n",
       "    </tr>\n",
       "    <tr>\n",
       "      <th>2</th>\n",
       "      <td>http://www.menshealth.com/health/flu-fighting-fruits?cm_mmc=Facebook-_-MensHealth-_-Content-Health-_-FightFluWithFruit</td>\n",
       "      <td>1164</td>\n",
       "      <td>{\"title\":\"Fruits that Fight the Flu fruits that fight the flu | cold &amp; flu | men's health\",\"body\":\"Apples The most popular source of antioxidants in our diet one apple has an antioxidant effect equivalent to 1 500 mg of vitamin C Apples are loaded with protective flavonoids which may prevent hea...</td>\n",
       "      <td>health</td>\n",
       "      <td>0.996526</td>\n",
       "      <td>2.382883</td>\n",
       "      <td>0.562016</td>\n",
       "      <td>0.321705</td>\n",
       "      <td>0.120155</td>\n",
       "      <td>0.042636</td>\n",
       "      <td>0.525448</td>\n",
       "      <td>0.0</td>\n",
       "      <td>0</td>\n",
       "      <td>0.072448</td>\n",
       "      <td>0</td>\n",
       "      <td>0.226402</td>\n",
       "      <td>0.120536</td>\n",
       "      <td>1</td>\n",
       "      <td>1</td>\n",
       "      <td>55</td>\n",
       "      <td>0</td>\n",
       "      <td>2240</td>\n",
       "      <td>258</td>\n",
       "      <td>11</td>\n",
       "      <td>0.166667</td>\n",
       "      <td>0.057613</td>\n",
       "      <td>1</td>\n",
       "      <td>Fruits that Fight the Flu fruits that fight the flu | cold &amp; flu | men's health</td>\n",
       "      <td>Apples The most popular source of antioxidants in our diet one apple has an antioxidant effect equivalent to 1 500 mg of vitamin C Apples are loaded with protective flavonoids which may prevent heart disease and cancer Next Papayas With 250 percent of the RDA of vitamin C a papaya can help kick ...</td>\n",
       "    </tr>\n",
       "    <tr>\n",
       "      <th>3</th>\n",
       "      <td>http://www.dumblittleman.com/2007/12/10-foolproof-tips-for-better-sleep.html</td>\n",
       "      <td>6684</td>\n",
       "      <td>{\"title\":\"10 Foolproof Tips for Better Sleep \",\"body\":\"There was a period in my life when I had a lot of problems with sleep It took me very long to fall asleep I was easily awaken and I simply wasn t getting enough of rest at night I didn t want to take medication and this led me to learn sever...</td>\n",
       "      <td>health</td>\n",
       "      <td>0.801248</td>\n",
       "      <td>1.543103</td>\n",
       "      <td>0.400000</td>\n",
       "      <td>0.100000</td>\n",
       "      <td>0.016667</td>\n",
       "      <td>0.000000</td>\n",
       "      <td>0.480725</td>\n",
       "      <td>0.0</td>\n",
       "      <td>0</td>\n",
       "      <td>0.095861</td>\n",
       "      <td>0</td>\n",
       "      <td>0.265656</td>\n",
       "      <td>0.035343</td>\n",
       "      <td>1</td>\n",
       "      <td>0</td>\n",
       "      <td>24</td>\n",
       "      <td>0</td>\n",
       "      <td>2737</td>\n",
       "      <td>120</td>\n",
       "      <td>5</td>\n",
       "      <td>0.041667</td>\n",
       "      <td>0.100858</td>\n",
       "      <td>1</td>\n",
       "      <td>10 Foolproof Tips for Better Sleep</td>\n",
       "      <td>There was a period in my life when I had a lot of problems with sleep It took me very long to fall asleep I was easily awaken and I simply wasn t getting enough of rest at night I didn t want to take medication and this led me to learn several tips and tricks that really helped me to overcome my...</td>\n",
       "    </tr>\n",
       "    <tr>\n",
       "      <th>4</th>\n",
       "      <td>http://bleacherreport.com/articles/1205138-the-50-coolest-jerseys-you-didnt-know-existed?show_full=</td>\n",
       "      <td>9006</td>\n",
       "      <td>{\"title\":\"The 50 Coolest Jerseys You Didn t Know Existed coolest jerseys you haven't seen\",\"body\":\"Jersey sales is a curious business Whether you re buying the stylish top to represent your favorite team player or color you re always missing out on better artwork With No 18 Colts jerseys continu...</td>\n",
       "      <td>sports</td>\n",
       "      <td>0.719157</td>\n",
       "      <td>2.676471</td>\n",
       "      <td>0.500000</td>\n",
       "      <td>0.222222</td>\n",
       "      <td>0.123457</td>\n",
       "      <td>0.043210</td>\n",
       "      <td>0.446143</td>\n",
       "      <td>0.0</td>\n",
       "      <td>0</td>\n",
       "      <td>0.024908</td>\n",
       "      <td>0</td>\n",
       "      <td>0.228887</td>\n",
       "      <td>0.050473</td>\n",
       "      <td>1</td>\n",
       "      <td>1</td>\n",
       "      <td>14</td>\n",
       "      <td>0</td>\n",
       "      <td>12032</td>\n",
       "      <td>162</td>\n",
       "      <td>10</td>\n",
       "      <td>0.098765</td>\n",
       "      <td>0.082569</td>\n",
       "      <td>0</td>\n",
       "      <td>The 50 Coolest Jerseys You Didn t Know Existed coolest jerseys you haven't seen</td>\n",
       "      <td>Jersey sales is a curious business Whether you re buying the stylish top to represent your favorite team player or color you re always missing out on better artwork With No 18 Colts jerseys continuing to flood the streets it s about time we educate the sports public about the real masterpieces t...</td>\n",
       "    </tr>\n",
       "  </tbody>\n",
       "</table>\n",
       "</div>"
      ],
      "text/plain": [
       "                                                                                                                      url  \\\n",
       "0            http://www.bloomberg.com/news/2010-12-23/ibm-predicts-holographic-calls-air-breathing-batteries-by-2015.html   \n",
       "1         http://www.popsci.com/technology/article/2012-07/electronic-futuristic-starting-gun-eliminates-advantages-races   \n",
       "2  http://www.menshealth.com/health/flu-fighting-fruits?cm_mmc=Facebook-_-MensHealth-_-Content-Health-_-FightFluWithFruit   \n",
       "3                                            http://www.dumblittleman.com/2007/12/10-foolproof-tips-for-better-sleep.html   \n",
       "4                     http://bleacherreport.com/articles/1205138-the-50-coolest-jerseys-you-didnt-know-existed?show_full=   \n",
       "\n",
       "   urlid  \\\n",
       "0   4042   \n",
       "1   8471   \n",
       "2   1164   \n",
       "3   6684   \n",
       "4   9006   \n",
       "\n",
       "                                                                                                                                                                                                                                                                                                   boilerplate  \\\n",
       "0  {\"title\":\"IBM Sees Holographic Calls Air Breathing Batteries ibm sees holographic calls, air-breathing batteries\",\"body\":\"A sign stands outside the International Business Machines Corp IBM Almaden Research Center campus in San Jose California Photographer Tony Avelar Bloomberg Buildings stand at...   \n",
       "1  {\"title\":\"The Fully Electronic Futuristic Starting Gun That Eliminates Advantages in Races the fully electronic, futuristic starting gun that eliminates advantages in races the fully electronic, futuristic starting gun that eliminates advantages in races\",\"body\":\"And that can be carried on a pla...   \n",
       "2  {\"title\":\"Fruits that Fight the Flu fruits that fight the flu | cold & flu | men's health\",\"body\":\"Apples The most popular source of antioxidants in our diet one apple has an antioxidant effect equivalent to 1 500 mg of vitamin C Apples are loaded with protective flavonoids which may prevent hea...   \n",
       "3  {\"title\":\"10 Foolproof Tips for Better Sleep \",\"body\":\"There was a period in my life when I had a lot of problems with sleep It took me very long to fall asleep I was easily awaken and I simply wasn t getting enough of rest at night I didn t want to take medication and this led me to learn sever...   \n",
       "4  {\"title\":\"The 50 Coolest Jerseys You Didn t Know Existed coolest jerseys you haven't seen\",\"body\":\"Jersey sales is a curious business Whether you re buying the stylish top to represent your favorite team player or color you re always missing out on better artwork With No 18 Colts jerseys continu...   \n",
       "\n",
       "  alchemy_category alchemy_category_score  avglinksize  commonlinkratio_1  \\\n",
       "0         business               0.789131     2.055556           0.676471   \n",
       "1       recreation               0.574147     3.677966           0.508021   \n",
       "2           health               0.996526     2.382883           0.562016   \n",
       "3           health               0.801248     1.543103           0.400000   \n",
       "4           sports               0.719157     2.676471           0.500000   \n",
       "\n",
       "   commonlinkratio_2  commonlinkratio_3  commonlinkratio_4  compression_ratio  \\\n",
       "0           0.205882           0.047059           0.023529           0.443783   \n",
       "1           0.288770           0.213904           0.144385           0.468649   \n",
       "2           0.321705           0.120155           0.042636           0.525448   \n",
       "3           0.100000           0.016667           0.000000           0.480725   \n",
       "4           0.222222           0.123457           0.043210           0.446143   \n",
       "\n",
       "   embed_ratio  framebased  frameTagRatio  hasDomainLink  html_ratio  \\\n",
       "0          0.0           0       0.090774              0    0.245831   \n",
       "1          0.0           0       0.098707              0    0.203490   \n",
       "2          0.0           0       0.072448              0    0.226402   \n",
       "3          0.0           0       0.095861              0    0.265656   \n",
       "4          0.0           0       0.024908              0    0.228887   \n",
       "\n",
       "   image_ratio is_news  lengthyLinkDomain  linkwordscore news_front_page  \\\n",
       "0     0.003883       1                  1             24               0   \n",
       "1     0.088652       1                  1             40               0   \n",
       "2     0.120536       1                  1             55               0   \n",
       "3     0.035343       1                  0             24               0   \n",
       "4     0.050473       1                  1             14               0   \n",
       "\n",
       "   non_markup_alphanum_characters  numberOfLinks  numwords_in_url  \\\n",
       "0                            5424            170                8   \n",
       "1                            4973            187                9   \n",
       "2                            2240            258               11   \n",
       "3                            2737            120                5   \n",
       "4                           12032            162               10   \n",
       "\n",
       "   parametrizedLinkRatio  spelling_errors_ratio  label  \\\n",
       "0               0.152941               0.079130      0   \n",
       "1               0.181818               0.125448      1   \n",
       "2               0.166667               0.057613      1   \n",
       "3               0.041667               0.100858      1   \n",
       "4               0.098765               0.082569      0   \n",
       "\n",
       "                                                                                                                                                                                                                                                  title  \\\n",
       "0                                                                                                                                                IBM Sees Holographic Calls Air Breathing Batteries ibm sees holographic calls, air-breathing batteries   \n",
       "1  The Fully Electronic Futuristic Starting Gun That Eliminates Advantages in Races the fully electronic, futuristic starting gun that eliminates advantages in races the fully electronic, futuristic starting gun that eliminates advantages in races   \n",
       "2                                                                                                                                                                       Fruits that Fight the Flu fruits that fight the flu | cold & flu | men's health   \n",
       "3                                                                                                                                                                                                                   10 Foolproof Tips for Better Sleep    \n",
       "4                                                                                                                                                                       The 50 Coolest Jerseys You Didn t Know Existed coolest jerseys you haven't seen   \n",
       "\n",
       "                                                                                                                                                                                                                                                                                                          body  \n",
       "0  A sign stands outside the International Business Machines Corp IBM Almaden Research Center campus in San Jose California Photographer Tony Avelar Bloomberg Buildings stand at the International Business Machines Corp IBM Almaden Research Center campus in the Santa Teresa Hills of San Jose Califor...  \n",
       "1  And that can be carried on a plane without the hassle too The Omega E Gun Starting Pistol Omega It s easy to take for granted just how insanely close some Olympic races are and how much the minutiae of it all can matter The perfect example is the traditional starting gun Seems easy You pull a tr...  \n",
       "2  Apples The most popular source of antioxidants in our diet one apple has an antioxidant effect equivalent to 1 500 mg of vitamin C Apples are loaded with protective flavonoids which may prevent heart disease and cancer Next Papayas With 250 percent of the RDA of vitamin C a papaya can help kick ...  \n",
       "3  There was a period in my life when I had a lot of problems with sleep It took me very long to fall asleep I was easily awaken and I simply wasn t getting enough of rest at night I didn t want to take medication and this led me to learn several tips and tricks that really helped me to overcome my...  \n",
       "4  Jersey sales is a curious business Whether you re buying the stylish top to represent your favorite team player or color you re always missing out on better artwork With No 18 Colts jerseys continuing to flood the streets it s about time we educate the sports public about the real masterpieces t...  "
      ]
     },
     "execution_count": 5,
     "metadata": {},
     "output_type": "execute_result"
    }
   ],
   "source": [
    "data.head()"
   ]
  },
  {
   "cell_type": "code",
   "execution_count": 6,
   "metadata": {
    "collapsed": false
   },
   "outputs": [
    {
     "data": {
      "text/html": [
       "<div>\n",
       "<table border=\"1\" class=\"dataframe\">\n",
       "  <thead>\n",
       "    <tr style=\"text-align: right;\">\n",
       "      <th></th>\n",
       "      <th>title</th>\n",
       "      <th>label</th>\n",
       "      <th>alchemy_category</th>\n",
       "    </tr>\n",
       "  </thead>\n",
       "  <tbody>\n",
       "    <tr>\n",
       "      <th>0</th>\n",
       "      <td>IBM Sees Holographic Calls Air Breathing Batteries ibm sees holographic calls, air-breathing batteries</td>\n",
       "      <td>0</td>\n",
       "      <td>business</td>\n",
       "    </tr>\n",
       "    <tr>\n",
       "      <th>1</th>\n",
       "      <td>The Fully Electronic Futuristic Starting Gun That Eliminates Advantages in Races the fully electronic, futuristic starting gun that eliminates advantages in races the fully electronic, futuristic starting gun that eliminates advantages in races</td>\n",
       "      <td>1</td>\n",
       "      <td>recreation</td>\n",
       "    </tr>\n",
       "    <tr>\n",
       "      <th>2</th>\n",
       "      <td>Fruits that Fight the Flu fruits that fight the flu | cold &amp; flu | men's health</td>\n",
       "      <td>1</td>\n",
       "      <td>health</td>\n",
       "    </tr>\n",
       "    <tr>\n",
       "      <th>3</th>\n",
       "      <td>10 Foolproof Tips for Better Sleep</td>\n",
       "      <td>1</td>\n",
       "      <td>health</td>\n",
       "    </tr>\n",
       "    <tr>\n",
       "      <th>4</th>\n",
       "      <td>The 50 Coolest Jerseys You Didn t Know Existed coolest jerseys you haven't seen</td>\n",
       "      <td>0</td>\n",
       "      <td>sports</td>\n",
       "    </tr>\n",
       "    <tr>\n",
       "      <th>5</th>\n",
       "      <td>Genital Herpes Treatment</td>\n",
       "      <td>0</td>\n",
       "      <td>?</td>\n",
       "    </tr>\n",
       "    <tr>\n",
       "      <th>6</th>\n",
       "      <td>fashion lane American Wild Child</td>\n",
       "      <td>1</td>\n",
       "      <td>arts_entertainment</td>\n",
       "    </tr>\n",
       "    <tr>\n",
       "      <th>7</th>\n",
       "      <td>Racing For Recovery by Dean Johnson racing for recovery by dean johnson - - insidershealth.com</td>\n",
       "      <td>0</td>\n",
       "      <td>?</td>\n",
       "    </tr>\n",
       "    <tr>\n",
       "      <th>8</th>\n",
       "      <td>Valet The Handbook 31 Days 31 days</td>\n",
       "      <td>1</td>\n",
       "      <td>?</td>\n",
       "    </tr>\n",
       "    <tr>\n",
       "      <th>9</th>\n",
       "      <td>Cookies and Cream Brownies How Sweet It Is</td>\n",
       "      <td>1</td>\n",
       "      <td>?</td>\n",
       "    </tr>\n",
       "  </tbody>\n",
       "</table>\n",
       "</div>"
      ],
      "text/plain": [
       "                                                                                                                                                                                                                                                  title  \\\n",
       "0                                                                                                                                                IBM Sees Holographic Calls Air Breathing Batteries ibm sees holographic calls, air-breathing batteries   \n",
       "1  The Fully Electronic Futuristic Starting Gun That Eliminates Advantages in Races the fully electronic, futuristic starting gun that eliminates advantages in races the fully electronic, futuristic starting gun that eliminates advantages in races   \n",
       "2                                                                                                                                                                       Fruits that Fight the Flu fruits that fight the flu | cold & flu | men's health   \n",
       "3                                                                                                                                                                                                                   10 Foolproof Tips for Better Sleep    \n",
       "4                                                                                                                                                                       The 50 Coolest Jerseys You Didn t Know Existed coolest jerseys you haven't seen   \n",
       "5                                                                                                                                                                                                                             Genital Herpes Treatment    \n",
       "6                                                                                                                                                                                                                     fashion lane American Wild Child    \n",
       "7                                                                                                                                                        Racing For Recovery by Dean Johnson racing for recovery by dean johnson - - insidershealth.com   \n",
       "8                                                                                                                                                                                                                    Valet The Handbook 31 Days 31 days   \n",
       "9                                                                                                                                                                                                           Cookies and Cream Brownies How Sweet It Is    \n",
       "\n",
       "   label    alchemy_category  \n",
       "0      0            business  \n",
       "1      1          recreation  \n",
       "2      1              health  \n",
       "3      1              health  \n",
       "4      0              sports  \n",
       "5      0                   ?  \n",
       "6      1  arts_entertainment  \n",
       "7      0                   ?  \n",
       "8      1                   ?  \n",
       "9      1                   ?  "
      ]
     },
     "execution_count": 6,
     "metadata": {},
     "output_type": "execute_result"
    }
   ],
   "source": [
    "data[['title', 'label', 'alchemy_category']].head(10)"
   ]
  },
  {
   "cell_type": "code",
   "execution_count": 7,
   "metadata": {
    "collapsed": false
   },
   "outputs": [
    {
     "data": {
      "text/plain": [
       "?                     2342\n",
       "recreation            1229\n",
       "arts_entertainment     941\n",
       "business               880\n",
       "health                 506\n",
       "sports                 380\n",
       "culture_politics       343\n",
       "computer_internet      296\n",
       "science_technology     289\n",
       "gaming                  76\n",
       "religion                72\n",
       "law_crime               31\n",
       "unknown                  6\n",
       "weather                  4\n",
       "Name: alchemy_category, dtype: int64"
      ]
     },
     "execution_count": 7,
     "metadata": {},
     "output_type": "execute_result"
    }
   ],
   "source": [
    "data.alchemy_category.value_counts()"
   ]
  },
  {
   "cell_type": "code",
   "execution_count": 8,
   "metadata": {
    "collapsed": false,
    "scrolled": true
   },
   "outputs": [
    {
     "data": {
      "text/plain": [
       "?            2342\n",
       "0.85           82\n",
       "0.0784091      40\n",
       "0.849999       12\n",
       "0.535009       10\n",
       "0.70677         9\n",
       "0.33273         7\n",
       "0.400001        6\n",
       "0.65146         6\n",
       "0.9             5\n",
       "0.849997        5\n",
       "0.4875          4\n",
       "0.25991         3\n",
       "0.899999        3\n",
       "0.21965         3\n",
       "0.899997        3\n",
       "0.786501        3\n",
       "0.722028        3\n",
       "0.849995        3\n",
       "0.849994        3\n",
       "0.287329        3\n",
       "0.216152        2\n",
       "0.79168         2\n",
       "0.849798        2\n",
       "0.551474        2\n",
       "0.710557        2\n",
       "0.844944        2\n",
       "0.849945        2\n",
       "0.679138        2\n",
       "0.514763        2\n",
       "             ... \n",
       "0.940084        1\n",
       "0.278481        1\n",
       "0.370237        1\n",
       "0.515187        1\n",
       "0.790715        1\n",
       "0.469064        1\n",
       "0.445205        1\n",
       "0.652213        1\n",
       "0.691545        1\n",
       "0.619172        1\n",
       "0.741346        1\n",
       "0.865489        1\n",
       "0.727485        1\n",
       "0.422987        1\n",
       "0.289661        1\n",
       "0.583159        1\n",
       "0.729716        1\n",
       "0.52886         1\n",
       "0.84856         1\n",
       "0.355573        1\n",
       "0.72128         1\n",
       "0.799012        1\n",
       "0.295764        1\n",
       "0.703065        1\n",
       "0.28778         1\n",
       "0.797035        1\n",
       "0.475674        1\n",
       "0.718757        1\n",
       "0.653671        1\n",
       "0.666664        1\n",
       "Name: alchemy_category_score, dtype: int64"
      ]
     },
     "execution_count": 8,
     "metadata": {},
     "output_type": "execute_result"
    }
   ],
   "source": [
    "data.alchemy_category_score.value_counts()"
   ]
  },
  {
   "cell_type": "code",
   "execution_count": 9,
   "metadata": {
    "collapsed": true
   },
   "outputs": [],
   "source": [
    "b = data[(data.alchemy_category == '?')&(data.alchemy_category_score == '?')]"
   ]
  },
  {
   "cell_type": "code",
   "execution_count": 10,
   "metadata": {
    "collapsed": false
   },
   "outputs": [
    {
     "data": {
      "text/plain": [
       "1    4552\n",
       "?    2843\n",
       "Name: is_news, dtype: int64"
      ]
     },
     "execution_count": 10,
     "metadata": {},
     "output_type": "execute_result"
    }
   ],
   "source": [
    "data.is_news.value_counts()"
   ]
  },
  {
   "cell_type": "code",
   "execution_count": 11,
   "metadata": {
    "collapsed": false
   },
   "outputs": [
    {
     "data": {
      "text/plain": [
       "0    5853\n",
       "?    1248\n",
       "1     294\n",
       "Name: news_front_page, dtype: int64"
      ]
     },
     "execution_count": 11,
     "metadata": {},
     "output_type": "execute_result"
    }
   ],
   "source": [
    "data.news_front_page.value_counts()"
   ]
  },
  {
   "cell_type": "code",
   "execution_count": 12,
   "metadata": {
    "collapsed": false
   },
   "outputs": [
    {
     "data": {
      "text/plain": [
       "0       {\"title\":\"IBM Sees Holographic Calls Air Breathing Batteries ibm sees holographic calls, air-breathing batteries\",\"body\":\"A sign stands outside the International Business Machines Corp IBM Almaden Research Center campus in San Jose California Photographer Tony Avelar Bloomberg Buildings stand at...\n",
       "1       {\"title\":\"The Fully Electronic Futuristic Starting Gun That Eliminates Advantages in Races the fully electronic, futuristic starting gun that eliminates advantages in races the fully electronic, futuristic starting gun that eliminates advantages in races\",\"body\":\"And that can be carried on a pla...\n",
       "2       {\"title\":\"Fruits that Fight the Flu fruits that fight the flu | cold & flu | men's health\",\"body\":\"Apples The most popular source of antioxidants in our diet one apple has an antioxidant effect equivalent to 1 500 mg of vitamin C Apples are loaded with protective flavonoids which may prevent hea...\n",
       "3       {\"title\":\"10 Foolproof Tips for Better Sleep \",\"body\":\"There was a period in my life when I had a lot of problems with sleep It took me very long to fall asleep I was easily awaken and I simply wasn t getting enough of rest at night I didn t want to take medication and this led me to learn sever...\n",
       "4       {\"title\":\"The 50 Coolest Jerseys You Didn t Know Existed coolest jerseys you haven't seen\",\"body\":\"Jersey sales is a curious business Whether you re buying the stylish top to represent your favorite team player or color you re always missing out on better artwork With No 18 Colts jerseys continu...\n",
       "5       {\"url\":\"conveniencemedical genital herpes home php\",\"title\":\"Genital Herpes Treatment \",\"body\":\"Genital herpes is caused by herpes simplex virus HSV 1 the most common type usually appears as cold sores on the mouth and lips whereas HSV 2 affects the genitals buttocks and rectum Patient s have re...\n",
       "6       {\"title\":\"fashion lane American Wild Child \",\"body\":\"Our favorite summer holiday is just around the corner and boy do we have a heavy dose of outfit inspiration just waiting for you American Wild Child the newest breed of trend reports features what we know are stellar 4th of July looks This sum...\n",
       "7       {\"url\":\"insidershealth article racing for recovery 3471\",\"title\":\"Racing For Recovery by Dean Johnson racing for recovery by dean johnson - - insidershealth.com\",\"body\":\"Racing For Recovery is the growing idea that drug addiction and alcoholism can be cured by focusing one s energies towards som...\n",
       "8       {\"title\":\"Valet The Handbook 31 Days 31 days\",\"body\":\"Resolutions are for suckers Instead of swearing off sugar for all of two weeks simply vow to live better For the fourth annual 31 Days we re offering you all the tips and tricks needed to shape up for 2012 Each day brings new expert advice on...\n",
       "9       {\"url\":\"howsweeteats 2010 03 24 cookies and cream brownies\",\"title\":\"Cookies and Cream Brownies How Sweet It Is \",\"body\":\"More brownies It seems that I can t get through one full week without trying a new brownie combination Just wait until you see the next one I am going to experiment with Thes...\n",
       "10      {\"title\":\"Business Financial News Breaking US International News \",\"body\":\"Faced with a stream of financial scandals the public is growing impatient with the slow pace of change Some pundits want to clear out the entire old guard and break up the banks While something must be done these knee jer...\n",
       "11      {\"title\":\"A Tip of the Cap to The Greatest Iron Man of Them All \",\"body\":\"As you surely know by now Brett Favre s NFL record consecutive games started streak ended last night when he was inactive for the Vikings game against the Giants Regardless of your thoughts on Favre even the biggest 4 hate...\n",
       "12      {\"title\":\"9 Foods That Trash Your Teeth \",\"body\":\"There are the 700 different types of germs in your mouth that cause cavities says Dr Joe Kravitz author of Dirty Mouth When you eat certain foods they react with these germs and form lactic acid which can start eating away at your teeth within se...\n",
       "13                                                                                                                                                                                                     {\"title\":\" \",\"body\":\" \",\"url\":\"thedailygreen print this healthy eating eat safe Dirty Dozen Foods page all\"}\n",
       "14      {\"url\":\"phillyburbs blogs type a kitchen french onion steaks with red wine sauce article 58f5e2ee c5c6 5c93 b681 ebaea4382d15\",\"title\":\"French Onion Steaks with Red Wine Sauce french onion steaks with red wine sauce\",\"body\":\"Really this is just an excuse to get drunk Or I mean an excuse to drink...\n",
       "15      {\"title\":\"Izabel Goulart Swimsuit by Kikidoll 2012 Sports Illustrated Swimsuit Photo Gallery izabel goulart - model - 2012 sports illustrated swimsuit edition - si.com izabel goulart on si swimsuit\",\"body\":\"TM 2012 Turner Broadcasting System Inc A Time Warner Company All Rights Reserved SI com i...\n",
       "16      {\"title\":\"Liquid Mountaineering The Awesomer \",\"body\":\"Link We re pretty skeptical about walking on water what with that whole gravity thing but the guys here don t seem to care they re inventing the next new sport and calling it liquid mountaineering 154 Stars Loading we're pretty skeptical abo...\n",
       "17      {\"title\":null,\"body\":\"The annual Chap Olympiad described as a celebration of eccentricity and athletic ineptitude with the emphasis on panache and style over sporting prowess took place in Bloomsbury Square London at the weekend and featured events such as cucumber sandwich discus and umbrella j...\n",
       "18      {\"title\":\"Grilled Peaches Sugarcrafter \",\"body\":\"June 6 2011 Print E mail Filed under grilled peach Now that grilling season is officially here I m excited to make all of my favorite outdoor meals Ever since a couple years ago my favorite thing to make on the grill has always been pizza although...\n",
       "19      {\"title\":\"How to Make Your Home Healthier A Room by Room Guide \",\"body\":\"Studies show one in three shower heads are contaminated with mycobacteria a hardy strain of bleach resistant germs that can penetrate lung tissue causing fatigue weakness and shortness of breath What s so bad about showerhe...\n",
       "20      {\"url\":\"tmz 2012 12 20 olympic soccer alex morgan bikini photo\",\"title\":\"Olympic Soccer Babe Alex Morgan Medal Winning Bikini Body olympic soccer babe alex morgan -- medal winning bikini body!\",\"body\":\"Olympic Soccer BabeMedal Winning Bikini Body Team USA women s soccer phenom Alex Morgan showed...\n",
       "21                                                     {\"title\":\"BBC Food Recipes Blueberry and lemon traybake \",\"body\":\" this fruity traybake is so good, you won't be able to stop at one piece! bbc, food, recipes, blueberry and lemon traybake\",\"url\":\"bbc co uk food recipes blueberry and lemon 09039 html\"}\n",
       "22      {\"title\":\"Quit Smoking Counter Online counter that measures smoking cessation and the length of time the person has stopped smoking money you saved and extra live gained \",\"body\":\"Loading After You Quit Smoking The Healing Begins When you quit smoking the benefits begin within minutes of your la...\n",
       "23      {\"title\":\"Original techniques to tie your shoe laces \",\"body\":\"http www damascus online com guide p 4 8734 iesA http www damascus online com guide p 4 1090 nenOr en http www damascus online com guide p 4 4235 enhihcrenneB teammrne tPr http www damascus online com guide p 4 3462 eaieVregBi a yrc ...\n",
       "24                                                                                                                                                                                                            {\"title\":\" \",\"body\":\" \",\"url\":\"blogs babble family kitchen 2011 04 06 ultimate blt sandwich recipes\"}\n",
       "25      {\"title\":\"Best College Football Fan Sign Ever Alabama Fan \",\"body\":\"Want a prime example of just how intertwined the Internet and it s many memes are with our offline lives Here you go In Alabama where a lot of people probably still use MS DOS they are making deliciously clever fan signs based o...\n",
       "26      {\"title\":\"Breaking News Blog \",\"body\":\"Contact Empty List Empty List Empty List Katie denies a wedding before she gives birthTom Cruise voted most irritating celebKatie Holmes birthday party What did the Top 10 Girls sing What did the Top 10 Guys Sing The American Idol 2006 Top 24 Michael Jacsko...\n",
       "27      {\"title\":\"The Alton Brown Flower Pot Smoker \",\"body\":\"Friends built the Alton Brown flower pot smoker a few months back and then visited this weekend and convinced me to build one for the Fourth Getting the parts While the actual construction of the smoker is trivial I found that gathering all o...\n",
       "28      {\"title\":\"Supermodels show off their bikini bods Humor \",\"body\":\"May 1222 Miranda Kerr Irina Shayk Behati Prinsloo Behati Prinsloo Adriana Lima Heidi Klum Sophie Monk Karolina Kurkova Bar Refaeli Bar Rafaeli Tags adriana lima bar refaeli behati prinsloo heidi klum irina shayk karolina kurkova mi...\n",
       "29      {\"title\":\"Genevieve Morton Swimsuit by Tyler Rose Swimwear 2011 Sports Illustrated Swimsuit Photo Gallery genevieve morton - model - 2011 sports illustrated swimsuit edition - si.com genevieve morton on si swimsuit\",\"body\":\"Genevieve Morton 24 hails from Benoni South Africa and her friends call ...\n",
       "                                                                                                                                                           ...                                                                                                                                                     \n",
       "7365                                                                      {\"url\":\"cheezburger 6631333376\",\"title\":\"Chocolate Chip S mores Cookies of the Day chocolate chip s'mores cookies of the day\",\"body\":\" click to see everything you need to know about the interwebs. (share this and educate a friend.)\"}\n",
       "7366    {\"title\":\"Money Happiness Newsweek money & happiness - newsweek\",\"body\":\"All in all it was probably a mistake to look for the answer to the eternal question Does money buy happiness from people who practice what s called the dismal science For when economists tackled the question they started fr...\n",
       "7367                                                                                                                                                                                                                          {\"title\":\" \",\"body\":\" \",\"url\":\"ca askmen sports foodcourt_250 253_the dna diet html\"}\n",
       "7368    {\"title\":\"Sourdough Sour Cherry Bread Pudding with Cherry Sauce \",\"body\":\"It s summer and I don t usually make bread pudding in the summertime I save it for those chilly nights when we bump up the thermostat and pull our sweats on and snuggle up with a good BBC show But thinking about that makes...\n",
       "7369    {\"title\":\"Noble Pig Mini Peanut Butter Finger Cheesecakes mini peanut butter-finger cheesecakes\",\"body\":\"Well I survived yesterday It turns out my throat massage ended up being a scalp massage At 5 51 AM my little guy came to my bed and said Good morning Mommy Happy Mother s Day yes he was shrie...\n",
       "7370    {\"title\":\"Fancy Knot Dress in Clothes at Nasty Gal \",\"body\":\"The cutest mocha tulle party dress featuring a knotted halter top and deep v back Ribbon detail at waist exposed zip closure at back Nude lining Looks perfect paired with a faux fur and ankle boots 100 Polyester 32 length Model is wear...\n",
       "7371    {\"url\":\"betterinbulk 2012 10 perfect pumpkin bread recipe html\",\"title\":\"Perfect Pumpkin Bread Recipe \",\"body\":\"Once October hits it s officially time to bring out the pumpkins There are so many things you can do with pumpkin but one of my favorites and easiest ways to cook pumpkin is to bake up...\n",
       "7372    {\"title\":\"Get the Lead Out Cartridge Free Erasable Pencil Printer get the lead out! cartridge-free (& erasable) pencil printer\",\"body\":\"How about a portable desktop printer that prints out pages you can erase Beyond being a great green and cheap alternative to buying endless colored ink cartridg...\n",
       "7373    {\"title\":\"blog khymos org dedicated to molecular gastronomy \",\"body\":\"by Martin Lersch April 18th 2011 Maybe I have a hangup on soft boiled eggs but I m deeply fascinated by how something simple as an egg can be transformed into such a wide range of textures I m talking about pure eggs no other ...\n",
       "7374    {\"title\":\"Versace launches haute couture for autumn winter 2013 with Atelier collection Fashion versace launches haute couture for autumn\\/winter 2013 with atelier collection\",\"body\":\"Paris couture week kicked off with Donatella Versace s latest creations for the reprised Versace Atelier collect...\n",
       "7375    {\"url\":\"whatmegansmaking\",\"title\":\"What Megan s Making \",\"body\":\"by megan on March 15 2012 When I wrote this post and planned for it to go up today I had no idea it was going to be almost 80 degress in Michigan Despite that I know that it will eventually get colder again before Spring officially...\n",
       "7376    {\"title\":\"Chinese Food Recipes Cooking Chinese Cuisine \",\"body\":\"Do you know that more than a third of the world s population eat Chinese food daily Even if it was eaten regularly by some only Chinese cooking would still be acknowledged as one of the greatest and original cuisines of the world T...\n",
       "7377    {\"title\":\"Google Gives iPhone Users Browser Choice For Phone s Fifth Birthday google gives iphone users browser choice for phone's fifth birthday - forbes\",\"body\":\"Apple s iPhone the iconic device from that revolutionized smart phones turned five on Friday June 29 There has been no other device ...\n",
       "7378    {\"title\":\"12 Smoothies Recipes and Cooking Food Network \",\"body\":\"Whip up a fruity breakfast snack or dessert in seconds with one of these delicious smoothies from Food Network Magazine Enlarge Photo Shrink Photo You Might Also Like Products In This Gallery Photography courtesy of Please forgive...\n",
       "7379    {\"title\":\"Toasted Sesame Ginger Salmon TechMunch Boston Savor The Thyme \",\"body\":\"What a fortunate life I lead I have a healthy family a home for shelter friends plenty of food and wonderful opportunities as a blogger The latest experience that I am proud to share was to be a spekaer at TechMunc...\n",
       "7380                                                                                                                                                            {\"url\":\"m ivillage wicked good chocolate peanut butter pudding cups 0 3 b 307267\",\"title\":\"iVillage s 25 Most Popular Recipes of 2010 \",\"body\":\" \"}\n",
       "7381    {\"title\":\"Caravan Style \",\"body\":\" fashion, interiors, style caravan, caravanstyle, emily chalmers, fashion, style, boutique, interiors, gifts, deborah bowness wallpapers, jielde lighting, crows, singing birds, knitted dogs, flea market style, contemporary country, candle wings, bottle wings, co...\n",
       "7382    {\"title\":\"Mountain Dew Cupcakes All Things Cupcake mountain dew cupcakes\",\"body\":\"By cupcake girl on December 5th 2007 Filed under Recipes I originally came up with this recipe during the summer But I just made them again for my husband to take to work They have become a favorite of my husband w...\n",
       "7383                                                                                                                                                                                                                                      {\"title\":\"80s kids Random RR \",\"body\":\" \",\"url\":\"randomrr 80s kids html\"}\n",
       "7384    {\"title\":\"Homemade Cake Mix i am baker \",\"body\":\"I gotta be honest with you Most of the time I am running around like a crazy woman I am usually pretty scatterbrained and frantically trying to get to everything that needs to be done in a day So I decided that I needed to simplify my baking a bit...\n",
       "7385    {\"url\":\"shopmarkethq collections brands minkpink looks true\",\"title\":\"MARKET HQ Brands MINKPINK \",\"body\":\"MARKET HQ Brands MINKPINK What s New Shop By Brands Dress Me Vintage Accessories Shoes Gifts SALE Blog the hub of online shopping at your fingertips with a fusion of vintage, new, shoes, sun...\n",
       "7386    {\"title\":\"How to Make No Knead Pizza Dough No Knead Pizza 101 \",\"body\":\"Pizza by Location By City State or Country Something Missing Review Your Pizzeria Here NEW YORK CITY Brooklyn Bay Ridge Bed Stuy Bensonhurst Brooklyn Heights Bushwick Carroll Gardens Cobble Hill Coney Island Downtown Brookly...\n",
       "7387    {\"title\":\"Vintage Funk A Chic Direction \",\"body\":\"Leave a Reply Cancel reply Your email address will not be published Required fields are marked Name Email Website Copy this password Type or paste password here 16 075 Spam Comments Blocked so far by Spam Free Wordpress Comment You may use these ...\n",
       "7388    {\"url\":\"villagevoice bestof 2009 award best place to watch wildlife 1436480\",\"title\":\"New York Best Place to Watch Wildlife Jamaica Bay Wildlife Refuge Best Of New York best place to watch wildlife - jamaica bay wildlife refuge - best of new york - village voice\",\"body\":\"Best Place to Watch Wild...\n",
       "7389                                                                                                                  {\"title\":\"Gummy Snake Worth1000 Contests \",\"body\":\"Entry Details Entered 12 1 2008 12 08 35 PM Rank 7 12 Average 5 008 Votes 111 Related Tags \",\"url\":\"worth1000 emailthis asp entry 500974\"}\n",
       "7390    {\"title\":\"Kno Raises 46 Million More To Build Most Powerful Tablet Anyone Has Ever Made kno raises $46 million more to build &#8220;most powerful tablet anyone has ever made&#8221;\",\"body\":\"Marc Andreessen is normally enthusiastic about the startups he s invested in Still when I spoke to him las...\n",
       "7391    {\"title\":\"Why I Miss College \",\"body\":\"Mar 30 2009 I d like to congratulate Jane on having what I believe to be the best body at Duke University And of course this makes me miss college Because many of the fellas at Duke who could never land a girl that looks like this in the real world all have...\n",
       "7392    {\"title\":\"Sweet Potatoes Eat This Not That  i'm eating this, not that \",\"body\":\"They re loaded with vitamin C which smoothes out wrinkles by stimulating the production of collagen A recent study in the American Journal of Clinical Nutrition found that volunteers who consumed 4 milligrams of C ab...\n",
       "7393                                                                                                                                                                                                                                                   {\"title\":\"Naturally Ella \",\"body\":\" \",\"url\":\"naturallyella\"}\n",
       "7394    {\"title\":\"Esti Ginzburg Swimsuit by Letarte by Lisa Cabrinha 2011 Sports Illustrated Swimsuit Photo Gallery esti ginzburg - model - 2011 sports illustrated swimsuit edition - si.com esti ginzburg on si swimsuit\",\"body\":\"Esti Ginzburg 20 is a native of Tel Aviv Israel She began her modeling caree...\n",
       "Name: boilerplate, dtype: object"
      ]
     },
     "execution_count": 12,
     "metadata": {},
     "output_type": "execute_result"
    }
   ],
   "source": [
    "data.boilerplate"
   ]
  },
  {
   "cell_type": "code",
   "execution_count": 13,
   "metadata": {
    "collapsed": false
   },
   "outputs": [],
   "source": [
    "# a = pd.get_dummies(data['alchemy_category'])\n",
    "a = b.copy()\n",
    "for elem in a['alchemy_category'].unique():\n",
    "    a[str(elem)] = a['alchemy_category'] == elem\n",
    "# a = pd.get_dummies(b, columns=['alchemy_category'])"
   ]
  },
  {
   "cell_type": "code",
   "execution_count": 14,
   "metadata": {
    "collapsed": false
   },
   "outputs": [],
   "source": [
    "# a[titles].head()"
   ]
  },
  {
   "cell_type": "code",
   "execution_count": 15,
   "metadata": {
    "collapsed": false
   },
   "outputs": [
    {
     "ename": "AttributeError",
     "evalue": "'DataFrame' object has no attribute 'computer_internet'",
     "output_type": "error",
     "traceback": [
      "\u001b[0;31m-----------\u001b[0m",
      "\u001b[0;31mAttributeError\u001b[0mTraceback (most recent call last)",
      "\u001b[0;32m<ipython-input-15-bdd948948340>\u001b[0m in \u001b[0;36m<module>\u001b[0;34m()\u001b[0m\n\u001b[0;32m----> 1\u001b[0;31m \u001b[0ma\u001b[0m\u001b[0;34m.\u001b[0m\u001b[0mcomputer_internet\u001b[0m\u001b[0;34m.\u001b[0m\u001b[0mdtype\u001b[0m\u001b[0;34m\u001b[0m\u001b[0m\n\u001b[0m",
      "\u001b[0;32m/home/ali/anaconda2/lib/python2.7/site-packages/pandas/core/generic.pyc\u001b[0m in \u001b[0;36m__getattr__\u001b[0;34m(self, name)\u001b[0m\n\u001b[1;32m   2670\u001b[0m             \u001b[0;32mif\u001b[0m \u001b[0mname\u001b[0m \u001b[0;32min\u001b[0m \u001b[0mself\u001b[0m\u001b[0;34m.\u001b[0m\u001b[0m_info_axis\u001b[0m\u001b[0;34m:\u001b[0m\u001b[0;34m\u001b[0m\u001b[0m\n\u001b[1;32m   2671\u001b[0m                 \u001b[0;32mreturn\u001b[0m \u001b[0mself\u001b[0m\u001b[0;34m[\u001b[0m\u001b[0mname\u001b[0m\u001b[0;34m]\u001b[0m\u001b[0;34m\u001b[0m\u001b[0m\n\u001b[0;32m-> 2672\u001b[0;31m             \u001b[0;32mreturn\u001b[0m \u001b[0mobject\u001b[0m\u001b[0;34m.\u001b[0m\u001b[0m__getattribute__\u001b[0m\u001b[0;34m(\u001b[0m\u001b[0mself\u001b[0m\u001b[0;34m,\u001b[0m \u001b[0mname\u001b[0m\u001b[0;34m)\u001b[0m\u001b[0;34m\u001b[0m\u001b[0m\n\u001b[0m\u001b[1;32m   2673\u001b[0m \u001b[0;34m\u001b[0m\u001b[0m\n\u001b[1;32m   2674\u001b[0m     \u001b[0;32mdef\u001b[0m \u001b[0m__setattr__\u001b[0m\u001b[0;34m(\u001b[0m\u001b[0mself\u001b[0m\u001b[0;34m,\u001b[0m \u001b[0mname\u001b[0m\u001b[0;34m,\u001b[0m \u001b[0mvalue\u001b[0m\u001b[0;34m)\u001b[0m\u001b[0;34m:\u001b[0m\u001b[0;34m\u001b[0m\u001b[0m\n",
      "\u001b[0;31mAttributeError\u001b[0m: 'DataFrame' object has no attribute 'computer_internet'"
     ]
    }
   ],
   "source": [
    "a.computer_internet.dtype"
   ]
  },
  {
   "cell_type": "code",
   "execution_count": 16,
   "metadata": {
    "collapsed": false
   },
   "outputs": [
    {
     "data": {
      "text/plain": [
       "<matplotlib.axes._subplots.AxesSubplot at 0x7f0eb8b33e90>"
      ]
     },
     "execution_count": 16,
     "metadata": {},
     "output_type": "execute_result"
    },
    {
     "data": {
      "image/png": "[encoded data removed]",
      "text/plain": [
       "<matplotlib.figure.Figure at 0x7f0eb8b33a90>"
      ]
     },
     "metadata": {},
     "output_type": "display_data"
    }
   ],
   "source": [
    "sns.heatmap(a.corr())"
   ]
  },
  {
   "cell_type": "code",
   "execution_count": 17,
   "metadata": {
    "collapsed": false
   },
   "outputs": [],
   "source": [
    "a['mean_common_link'] = (a['commonlinkratio_1']+a['commonlinkratio_2']+a['commonlinkratio_3']+a['commonlinkratio_4'])/3"
   ]
  },
  {
   "cell_type": "code",
   "execution_count": 18,
   "metadata": {
    "collapsed": false,
    "scrolled": true
   },
   "outputs": [],
   "source": [
    "# a['mean_common_link']"
   ]
  },
  {
   "cell_type": "code",
   "execution_count": 19,
   "metadata": {
    "collapsed": false,
    "scrolled": true
   },
   "outputs": [
    {
     "data": {
      "text/plain": [
       "urlid                             0.001266\n",
       "parametrizedLinkRatio             0.005085\n",
       "hasDomainLink                     0.019464\n",
       "spelling_errors_ratio             0.025731\n",
       "numwords_in_url                   0.028825\n",
       "lengthyLinkDomain                 0.031606\n",
       "avglinksize                       0.033502\n",
       "embed_ratio                       0.039341\n",
       "html_ratio                        0.041172\n",
       "compression_ratio                 0.047239\n",
       "image_ratio                       0.048109\n",
       "numberOfLinks                     0.088980\n",
       "non_markup_alphanum_characters    0.093821\n",
       "commonlinkratio_2                 0.098227\n",
       "commonlinkratio_1                 0.108815\n",
       "commonlinkratio_4                 0.112548\n",
       "mean_common_link                  0.129290\n",
       "commonlinkratio_3                 0.143104\n",
       "frameTagRatio                     0.156665\n",
       "linkwordscore                     0.188202\n",
       "label                             1.000000\n",
       "framebased                             NaN\n",
       "?                                      NaN\n",
       "Name: label, dtype: float64"
      ]
     },
     "execution_count": 19,
     "metadata": {},
     "output_type": "execute_result"
    }
   ],
   "source": [
    "np.abs(a.corr()['label']).sort_values()"
   ]
  },
  {
   "cell_type": "code",
   "execution_count": 20,
   "metadata": {
    "collapsed": false
   },
   "outputs": [
    {
     "ename": "SyntaxError",
     "evalue": "invalid syntax (<ipython-input-20-e75701606064>, line 2)",
     "output_type": "error",
     "traceback": [
      "\u001b[0;36m  File \u001b[0;32m\"<ipython-input-20-e75701606064>\"\u001b[0;36m, line \u001b[0;32m2\u001b[0m\n\u001b[0;31m    parametrizedLinkRatio             0.013933\u001b[0m\n\u001b[0m                                             ^\u001b[0m\n\u001b[0;31mSyntaxError\u001b[0m\u001b[0;31m:\u001b[0m invalid syntax\n"
     ]
    }
   ],
   "source": [
    "names = [hasDomainLink, image_ratio, avglinksize, unknown, \n",
    "parametrizedLinkRatio             0.013933\n",
    "law_crime                         0.015590\n",
    "urlid                             0.018960\n",
    "religion                          0.024504\n",
    "weather                           0.029208\n",
    "science_technology                0.030442\n",
    "lengthyLinkDomain                 0.032586\n",
    "culture_politics                  0.032825\n",
    "health                            0.036465\n",
    "gaming                            0.037118\n",
    "embed_ratio                       0.037649\n",
    "numwords_in_url                   0.049788\n",
    "html_ratio                        0.056637\n",
    "commonlinkratio_4                 0.064703\n",
    "commonlinkratio_1                 0.071685\n",
    "compression_ratio                 0.072666\n",
    "commonlinkratio_2                 0.076427\n",
    "numberOfLinks                     0.076507\n",
    "mean_common_link                  0.086167\n",
    "commonlinkratio_3                 0.087593\n",
    "spelling_errors_ratio             0.088806\n",
    "non_markup_alphanum_characters    0.108020\n",
    "computer_internet                 0.135734\n",
    "arts_entertainment                0.140316\n",
    "linkwordscore                     0.166885\n",
    "business                          0.177250\n",
    "sports                            0.178772\n",
    "recreation                        0.188109\n",
    "frameTagRatio                     0.202913]\n"
   ]
  },
  {
   "cell_type": "code",
   "execution_count": 21,
   "metadata": {
    "collapsed": true
   },
   "outputs": [],
   "source": [
    "names = ['linkwordscore', 'non_markup_alphanum_characters', 'frameTagRatio', \n",
    "         'business', 'recreation', 'arts_entertainment', 'computer_internet', \n",
    "         'sports','mean_common_link']\n",
    "logit = LogisticRegression()"
   ]
  },
  {
   "cell_type": "code",
   "execution_count": 22,
   "metadata": {
    "collapsed": false
   },
   "outputs": [
    {
     "name": "stdout",
     "output_type": "stream",
     "text": [
      "()\n",
      "(1,)\n",
      "(2,)\n",
      "(3,)\n",
      "(1, 2)\n",
      "(1, 3)\n",
      "(2, 3)\n",
      "(1, 2, 3)\n"
     ]
    }
   ],
   "source": [
    "import itertools\n",
    "\n",
    "stuff = [1, 2, 3]\n",
    "for L in range(0, len(stuff)+1):\n",
    "  for subset in itertools.combinations(stuff, L):\n",
    "    print(subset)\n"
   ]
  },
  {
   "cell_type": "code",
   "execution_count": 23,
   "metadata": {
    "collapsed": false
   },
   "outputs": [],
   "source": [
    "# a[names]"
   ]
  },
  {
   "cell_type": "code",
   "execution_count": 24,
   "metadata": {
    "collapsed": false
   },
   "outputs": [
    {
     "ename": "KeyError",
     "evalue": "\"['business' 'recreation' 'arts_entertainment' 'computer_internet' 'sports'] not in index\"",
     "output_type": "error",
     "traceback": [
      "\u001b[0;31m-----------\u001b[0m",
      "\u001b[0;31mKeyError\u001b[0mTraceback (most recent call last)",
      "\u001b[0;32m<ipython-input-24-a8b86540e225>\u001b[0m in \u001b[0;36m<module>\u001b[0;34m()\u001b[0m\n\u001b[0;32m----> 1\u001b[0;31m \u001b[0mX\u001b[0m \u001b[0;34m=\u001b[0m \u001b[0ma\u001b[0m\u001b[0;34m[\u001b[0m\u001b[0mnames\u001b[0m\u001b[0;34m]\u001b[0m\u001b[0;34m\u001b[0m\u001b[0m\n\u001b[0m\u001b[1;32m      2\u001b[0m \u001b[0my\u001b[0m \u001b[0;34m=\u001b[0m \u001b[0ma\u001b[0m\u001b[0;34m.\u001b[0m\u001b[0mlabel\u001b[0m\u001b[0;34m\u001b[0m\u001b[0m\n",
      "\u001b[0;32m/home/ali/anaconda2/lib/python2.7/site-packages/pandas/core/frame.pyc\u001b[0m in \u001b[0;36m__getitem__\u001b[0;34m(self, key)\u001b[0m\n\u001b[1;32m   1989\u001b[0m         \u001b[0;32mif\u001b[0m \u001b[0misinstance\u001b[0m\u001b[0;34m(\u001b[0m\u001b[0mkey\u001b[0m\u001b[0;34m,\u001b[0m \u001b[0;34m(\u001b[0m\u001b[0mSeries\u001b[0m\u001b[0;34m,\u001b[0m \u001b[0mnp\u001b[0m\u001b[0;34m.\u001b[0m\u001b[0mndarray\u001b[0m\u001b[0;34m,\u001b[0m \u001b[0mIndex\u001b[0m\u001b[0;34m,\u001b[0m \u001b[0mlist\u001b[0m\u001b[0;34m)\u001b[0m\u001b[0;34m)\u001b[0m\u001b[0;34m:\u001b[0m\u001b[0;34m\u001b[0m\u001b[0m\n\u001b[1;32m   1990\u001b[0m             \u001b[0;31m# either boolean or fancy integer index\u001b[0m\u001b[0;34m\u001b[0m\u001b[0;34m\u001b[0m\u001b[0m\n\u001b[0;32m-> 1991\u001b[0;31m             \u001b[0;32mreturn\u001b[0m \u001b[0mself\u001b[0m\u001b[0;34m.\u001b[0m\u001b[0m_getitem_array\u001b[0m\u001b[0;34m(\u001b[0m\u001b[0mkey\u001b[0m\u001b[0;34m)\u001b[0m\u001b[0;34m\u001b[0m\u001b[0m\n\u001b[0m\u001b[1;32m   1992\u001b[0m         \u001b[0;32melif\u001b[0m \u001b[0misinstance\u001b[0m\u001b[0;34m(\u001b[0m\u001b[0mkey\u001b[0m\u001b[0;34m,\u001b[0m \u001b[0mDataFrame\u001b[0m\u001b[0;34m)\u001b[0m\u001b[0;34m:\u001b[0m\u001b[0;34m\u001b[0m\u001b[0m\n\u001b[1;32m   1993\u001b[0m             \u001b[0;32mreturn\u001b[0m \u001b[0mself\u001b[0m\u001b[0;34m.\u001b[0m\u001b[0m_getitem_frame\u001b[0m\u001b[0;34m(\u001b[0m\u001b[0mkey\u001b[0m\u001b[0;34m)\u001b[0m\u001b[0;34m\u001b[0m\u001b[0m\n",
      "\u001b[0;32m/home/ali/anaconda2/lib/python2.7/site-packages/pandas/core/frame.pyc\u001b[0m in \u001b[0;36m_getitem_array\u001b[0;34m(self, key)\u001b[0m\n\u001b[1;32m   2033\u001b[0m             \u001b[0;32mreturn\u001b[0m \u001b[0mself\u001b[0m\u001b[0;34m.\u001b[0m\u001b[0mtake\u001b[0m\u001b[0;34m(\u001b[0m\u001b[0mindexer\u001b[0m\u001b[0;34m,\u001b[0m \u001b[0maxis\u001b[0m\u001b[0;34m=\u001b[0m\u001b[0;36m0\u001b[0m\u001b[0;34m,\u001b[0m \u001b[0mconvert\u001b[0m\u001b[0;34m=\u001b[0m\u001b[0mFalse\u001b[0m\u001b[0;34m)\u001b[0m\u001b[0;34m\u001b[0m\u001b[0m\n\u001b[1;32m   2034\u001b[0m         \u001b[0;32melse\u001b[0m\u001b[0;34m:\u001b[0m\u001b[0;34m\u001b[0m\u001b[0m\n\u001b[0;32m-> 2035\u001b[0;31m             \u001b[0mindexer\u001b[0m \u001b[0;34m=\u001b[0m \u001b[0mself\u001b[0m\u001b[0;34m.\u001b[0m\u001b[0mix\u001b[0m\u001b[0;34m.\u001b[0m\u001b[0m_convert_to_indexer\u001b[0m\u001b[0;34m(\u001b[0m\u001b[0mkey\u001b[0m\u001b[0;34m,\u001b[0m \u001b[0maxis\u001b[0m\u001b[0;34m=\u001b[0m\u001b[0;36m1\u001b[0m\u001b[0;34m)\u001b[0m\u001b[0;34m\u001b[0m\u001b[0m\n\u001b[0m\u001b[1;32m   2036\u001b[0m             \u001b[0;32mreturn\u001b[0m \u001b[0mself\u001b[0m\u001b[0;34m.\u001b[0m\u001b[0mtake\u001b[0m\u001b[0;34m(\u001b[0m\u001b[0mindexer\u001b[0m\u001b[0;34m,\u001b[0m \u001b[0maxis\u001b[0m\u001b[0;34m=\u001b[0m\u001b[0;36m1\u001b[0m\u001b[0;34m,\u001b[0m \u001b[0mconvert\u001b[0m\u001b[0;34m=\u001b[0m\u001b[0mTrue\u001b[0m\u001b[0;34m)\u001b[0m\u001b[0;34m\u001b[0m\u001b[0m\n\u001b[1;32m   2037\u001b[0m \u001b[0;34m\u001b[0m\u001b[0m\n",
      "\u001b[0;32m/home/ali/anaconda2/lib/python2.7/site-packages/pandas/core/indexing.pyc\u001b[0m in \u001b[0;36m_convert_to_indexer\u001b[0;34m(self, obj, axis, is_setter)\u001b[0m\n\u001b[1;32m   1212\u001b[0m                 \u001b[0mmask\u001b[0m \u001b[0;34m=\u001b[0m \u001b[0mcheck\u001b[0m \u001b[0;34m==\u001b[0m \u001b[0;34m-\u001b[0m\u001b[0;36m1\u001b[0m\u001b[0;34m\u001b[0m\u001b[0m\n\u001b[1;32m   1213\u001b[0m                 \u001b[0;32mif\u001b[0m \u001b[0mmask\u001b[0m\u001b[0;34m.\u001b[0m\u001b[0many\u001b[0m\u001b[0;34m(\u001b[0m\u001b[0;34m)\u001b[0m\u001b[0;34m:\u001b[0m\u001b[0;34m\u001b[0m\u001b[0m\n\u001b[0;32m-> 1214\u001b[0;31m                     \u001b[0;32mraise\u001b[0m \u001b[0mKeyError\u001b[0m\u001b[0;34m(\u001b[0m\u001b[0;34m'%s not in index'\u001b[0m \u001b[0;34m%\u001b[0m \u001b[0mobjarr\u001b[0m\u001b[0;34m[\u001b[0m\u001b[0mmask\u001b[0m\u001b[0;34m]\u001b[0m\u001b[0;34m)\u001b[0m\u001b[0;34m\u001b[0m\u001b[0m\n\u001b[0m\u001b[1;32m   1215\u001b[0m \u001b[0;34m\u001b[0m\u001b[0m\n\u001b[1;32m   1216\u001b[0m                 \u001b[0;32mreturn\u001b[0m \u001b[0m_values_from_object\u001b[0m\u001b[0;34m(\u001b[0m\u001b[0mindexer\u001b[0m\u001b[0;34m)\u001b[0m\u001b[0;34m\u001b[0m\u001b[0m\n",
      "\u001b[0;31mKeyError\u001b[0m: \"['business' 'recreation' 'arts_entertainment' 'computer_internet' 'sports'] not in index\""
     ]
    }
   ],
   "source": [
    "X = a[names]\n",
    "y = a.label"
   ]
  },
  {
   "cell_type": "code",
   "execution_count": 25,
   "metadata": {
    "collapsed": false
   },
   "outputs": [
    {
     "ename": "NameError",
     "evalue": "name 'X' is not defined",
     "output_type": "error",
     "traceback": [
      "\u001b[0;31m-----------\u001b[0m",
      "\u001b[0;31mNameError\u001b[0mTraceback (most recent call last)",
      "\u001b[0;32m<ipython-input-25-572b86297525>\u001b[0m in \u001b[0;36m<module>\u001b[0;34m()\u001b[0m\n\u001b[0;32m----> 1\u001b[0;31m \u001b[0mmodel\u001b[0m \u001b[0;34m=\u001b[0m \u001b[0mlogit\u001b[0m\u001b[0;34m.\u001b[0m\u001b[0mfit\u001b[0m\u001b[0;34m(\u001b[0m\u001b[0mX\u001b[0m\u001b[0;34m,\u001b[0m \u001b[0my\u001b[0m\u001b[0;34m)\u001b[0m\u001b[0;34m\u001b[0m\u001b[0m\n\u001b[0m\u001b[1;32m      2\u001b[0m \u001b[0mmodel\u001b[0m\u001b[0;34m.\u001b[0m\u001b[0mscore\u001b[0m\u001b[0;34m(\u001b[0m\u001b[0mX\u001b[0m\u001b[0;34m,\u001b[0m \u001b[0my\u001b[0m\u001b[0;34m)\u001b[0m\u001b[0;34m\u001b[0m\u001b[0m\n",
      "\u001b[0;31mNameError\u001b[0m: name 'X' is not defined"
     ]
    }
   ],
   "source": [
    "model = logit.fit(X, y)\n",
    "model.score(X, y)"
   ]
  },
  {
   "cell_type": "code",
   "execution_count": 26,
   "metadata": {
    "collapsed": false
   },
   "outputs": [
    {
     "ename": "NameError",
     "evalue": "name 'y' is not defined",
     "output_type": "error",
     "traceback": [
      "\u001b[0;31m-----------\u001b[0m",
      "\u001b[0;31mNameError\u001b[0mTraceback (most recent call last)",
      "\u001b[0;32m<ipython-input-26-710316b0914a>\u001b[0m in \u001b[0;36m<module>\u001b[0;34m()\u001b[0m\n\u001b[0;32m----> 1\u001b[0;31m \u001b[0;32mprint\u001b[0m \u001b[0mnp\u001b[0m\u001b[0;34m.\u001b[0m\u001b[0marray\u001b[0m\u001b[0;34m(\u001b[0m\u001b[0my\u001b[0m\u001b[0;34m)\u001b[0m\u001b[0;34m\u001b[0m\u001b[0m\n\u001b[0m\u001b[1;32m      2\u001b[0m \u001b[0;32mprint\u001b[0m \u001b[0mnp\u001b[0m\u001b[0;34m.\u001b[0m\u001b[0marray\u001b[0m\u001b[0;34m(\u001b[0m\u001b[0mX\u001b[0m\u001b[0;34m)\u001b[0m\u001b[0;34m\u001b[0m\u001b[0m\n",
      "\u001b[0;31mNameError\u001b[0m: name 'y' is not defined"
     ]
    }
   ],
   "source": [
    "print np.array(y)\n",
    "print np.array(X)"
   ]
  },
  {
   "cell_type": "code",
   "execution_count": 27,
   "metadata": {
    "collapsed": false,
    "scrolled": true
   },
   "outputs": [
    {
     "ename": "NameError",
     "evalue": "name 'X' is not defined",
     "output_type": "error",
     "traceback": [
      "\u001b[0;31m-----------\u001b[0m",
      "\u001b[0;31mNameError\u001b[0mTraceback (most recent call last)",
      "\u001b[0;32m<ipython-input-27-77e497982f2d>\u001b[0m in \u001b[0;36m<module>\u001b[0;34m()\u001b[0m\n\u001b[0;32m----> 1\u001b[0;31m \u001b[0mX\u001b[0m\u001b[0;34m.\u001b[0m\u001b[0mlinkwordscore\u001b[0m\u001b[0;34m\u001b[0m\u001b[0m\n\u001b[0m",
      "\u001b[0;31mNameError\u001b[0m: name 'X' is not defined"
     ]
    }
   ],
   "source": [
    "X.linkwordscore"
   ]
  },
  {
   "cell_type": "code",
   "execution_count": 28,
   "metadata": {
    "collapsed": false
   },
   "outputs": [
    {
     "ename": "NameError",
     "evalue": "name 'y' is not defined",
     "output_type": "error",
     "traceback": [
      "\u001b[0;31m-----------\u001b[0m",
      "\u001b[0;31mNameError\u001b[0mTraceback (most recent call last)",
      "\u001b[0;32m<ipython-input-28-8df382fbe180>\u001b[0m in \u001b[0;36m<module>\u001b[0;34m()\u001b[0m\n\u001b[1;32m      1\u001b[0m \u001b[0;31m# logit = sm.Logit(np.array(y), np.array(X))\u001b[0m\u001b[0;34m\u001b[0m\u001b[0;34m\u001b[0m\u001b[0m\n\u001b[0;32m----> 2\u001b[0;31m logit = sm.Logit(y, X[['business', \n\u001b[0m\u001b[1;32m      3\u001b[0m          'recreation', 'arts_entertainment', 'computer_internet']])\n",
      "\u001b[0;31mNameError\u001b[0m: name 'y' is not defined"
     ]
    }
   ],
   "source": [
    "# logit = sm.Logit(np.array(y), np.array(X))\n",
    "logit = sm.Logit(y, X[['business', \n",
    "         'recreation', 'arts_entertainment', 'computer_internet']])"
   ]
  },
  {
   "cell_type": "code",
   "execution_count": null,
   "metadata": {
    "collapsed": true
   },
   "outputs": [],
   "source": []
  }
 ],
 "metadata": {
  "anaconda-cloud": {},
  "kernelspec": {
   "display_name": "Python [conda root]",
   "language": "python",
   "name": "conda-root-py"
  },
  "language_info": {
   "codemirror_mode": {
    "name": "ipython",
    "version": 2
   },
   "file_extension": ".py",
   "mimetype": "text/x-python",
   "name": "python",
   "nbconvert_exporter": "python",
   "pygments_lexer": "ipython2",
   "version": "2.7.12"
  }
 },
 "nbformat": 4,
 "nbformat_minor": 1
}
