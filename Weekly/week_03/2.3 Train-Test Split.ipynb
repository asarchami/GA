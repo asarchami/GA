{
 "cells": [
  {
   "cell_type": "code",
   "execution_count": 214,
   "metadata": {
    "collapsed": false
   },
   "outputs": [],
   "source": [
    "% matplotlib inline\n",
    "\n",
    "from matplotlib import pyplot as plt\n",
    "# Make the plots bigger\n",
    "plt.rcParams['figure.figsize'] = 10, 10\n",
    "\n",
    "import numpy as np\n",
    "import pandas as pd\n",
    "from scipy import stats\n",
    "import seaborn as sns\n",
    "from sklearn import datasets, linear_model\n",
    "from sklearn.cross_validation import train_test_split\n",
    "\n",
    "from sklearn.cross_validation import cross_val_score, cross_val_predict\n",
    "from sklearn import metrics"
   ]
  },
  {
   "cell_type": "code",
   "execution_count": 4,
   "metadata": {
    "collapsed": false
   },
   "outputs": [],
   "source": [
    "boston = datasets.load_boston()\n",
    "df = pd.DataFrame(boston.data, columns=boston.feature_names)"
   ]
  },
  {
   "cell_type": "code",
   "execution_count": 8,
   "metadata": {
    "collapsed": false
   },
   "outputs": [
    {
     "data": {
      "text/plain": [
       "CRIM       506\n",
       "ZN         506\n",
       "INDUS      506\n",
       "CHAS       506\n",
       "NOX        506\n",
       "RM         506\n",
       "AGE        506\n",
       "DIS        506\n",
       "RAD        506\n",
       "TAX        506\n",
       "PTRATIO    506\n",
       "B          506\n",
       "LSTAT      506\n",
       "dtype: int64"
      ]
     },
     "execution_count": 8,
     "metadata": {},
     "output_type": "execute_result"
    }
   ],
   "source": [
    "df.count()"
   ]
  },
  {
   "cell_type": "code",
   "execution_count": 31,
   "metadata": {
    "collapsed": false
   },
   "outputs": [],
   "source": [
    "y = boston.target"
   ]
  },
  {
   "cell_type": "code",
   "execution_count": 154,
   "metadata": {
    "collapsed": false
   },
   "outputs": [],
   "source": [
    "X_train, X_test, y_train, y_test = train_test_split(df, y, test_size=0.3)"
   ]
  },
  {
   "cell_type": "code",
   "execution_count": 155,
   "metadata": {
    "collapsed": false
   },
   "outputs": [
    {
     "name": "stdout",
     "output_type": "stream",
     "text": [
      "(354, 13) (354,)\n",
      "(152, 13) (152,)\n"
     ]
    }
   ],
   "source": [
    "print X_train.shape, y_train.shape\n",
    "print X_test.shape, y_test.shape"
   ]
  },
  {
   "cell_type": "code",
   "execution_count": 156,
   "metadata": {
    "collapsed": true
   },
   "outputs": [],
   "source": [
    "lm = linear_model.LinearRegression()"
   ]
  },
  {
   "cell_type": "code",
   "execution_count": 157,
   "metadata": {
    "collapsed": false
   },
   "outputs": [],
   "source": [
    "model = lm.fit(X_train, y_train)"
   ]
  },
  {
   "cell_type": "code",
   "execution_count": 158,
   "metadata": {
    "collapsed": false
   },
   "outputs": [],
   "source": [
    "predictions = lm.predict(X_test)"
   ]
  },
  {
   "cell_type": "code",
   "execution_count": 159,
   "metadata": {
    "collapsed": false
   },
   "outputs": [
    {
     "name": "stdout",
     "output_type": "stream",
     "text": [
      "Score: 0.772217218259\n"
     ]
    }
   ],
   "source": [
    "## The line / model\n",
    "# plt.scatter(y_test, predictions)\n",
    "# plt.xlabel(\"True Values\")\n",
    "# plt.ylabel(\"Predictions\")\n",
    "\n",
    "print \"Score:\", model.score(X_test, y_test) "
   ]
  },
  {
   "cell_type": "code",
   "execution_count": 50,
   "metadata": {
    "collapsed": false
   },
   "outputs": [
    {
     "name": "stdout",
     "output_type": "stream",
     "text": [
      "Cross-validated scores: [ 0.64224005  0.61152091  0.51447066  0.78503274 -0.14367345 -0.01539034]\n"
     ]
    }
   ],
   "source": [
    "# Perform 6-fold cross validation\n",
    "scores = cross_val_score(model, df, y, cv=6)\n",
    "print \"Cross-validated scores:\", scores"
   ]
  },
  {
   "cell_type": "code",
   "execution_count": 39,
   "metadata": {
    "collapsed": false
   },
   "outputs": [],
   "source": [
    "# # Make cross validated predictions\n",
    "# predictions = cross_val_predict(model, df, y, cv=6)\n",
    "# plt.scatter(y, predictions)\n",
    "# accuracy = metrics.r2_score(y, predictions)\n",
    "# print \"Cross-Predicted Accuracy:\", accuracy"
   ]
  },
  {
   "cell_type": "code",
   "execution_count": 161,
   "metadata": {
    "collapsed": false
   },
   "outputs": [
    {
     "name": "stdout",
     "output_type": "stream",
     "text": [
      "0.0305468689294\n",
      "0.0337173699023\n",
      "0.147662273849\n"
     ]
    }
   ],
   "source": [
    "fifty_fifty = []\n",
    "for i in range(1,11):\n",
    "    x_train, x_test, y_train, y_test = train_test_split(df, y, test_size=0.5)\n",
    "    lm = linear_model.LinearRegression()   \n",
    "    model = lm.fit(x_train, y_train)       \n",
    "    predictions = lm.predict(x_test)       \n",
    "    fifty_fifty.append(model.score(x_test, y_test))\n",
    "print np.std(fifty_fifty)\n",
    "\n",
    "sixty_fourty = []\n",
    "for i in range(1,11):\n",
    "    x_train, x_test, y_train, y_test = train_test_split(df, y, test_size=0.4)\n",
    "    lm = linear_model.LinearRegression()   \n",
    "    model = lm.fit(x_train, y_train)       \n",
    "    predictions = lm.predict(x_test)      \n",
    "    sixty_fourty.append(model.score(x_test, y_test))\n",
    "print np.std(sixty_fourty)\n",
    "\n",
    "ninety_ten = []\n",
    "for i in range(1,11):\n",
    "    x_train, x_test, y_train, y_test = train_test_split(df, y, test_size=0.1)\n",
    "    lm = linear_model.LinearRegression()   \n",
    "    model = lm.fit(x_train, y_train)     \n",
    "    predictions = lm.predict(x_test)    \n",
    "    ninety_ten.append(model.score(x_test, y_test))\n",
    "print np.std(ninety_ten)"
   ]
  },
  {
   "cell_type": "code",
   "execution_count": 219,
   "metadata": {
    "collapsed": false
   },
   "outputs": [],
   "source": [
    "breast = datasets.load_breast_cancer()\n",
    "# breast.columns\n",
    "df = pd.DataFrame(breast.data, columns=breast.feature_names)"
   ]
  },
  {
   "cell_type": "code",
   "execution_count": 220,
   "metadata": {
    "collapsed": false
   },
   "outputs": [],
   "source": [
    "# df\n",
    "# df.count()"
   ]
  },
  {
   "cell_type": "code",
   "execution_count": 221,
   "metadata": {
    "collapsed": true
   },
   "outputs": [],
   "source": [
    "X_train, X_test, y_train, y_test = train_test_split(df, breast.target, test_size=0.3)\n",
    "# print X_train.shape, y_train.shape\n",
    "# print X_test.shape, y_test.shape\n",
    "lm = linear_model.LinearRegression()\n",
    "model = lm.fit(X_train, y_train)\n",
    "predictions = lm.predict(X_test)"
   ]
  },
  {
   "cell_type": "code",
   "execution_count": 222,
   "metadata": {
    "collapsed": false
   },
   "outputs": [
    {
     "name": "stdout",
     "output_type": "stream",
     "text": [
      "Score: 0.743460740945\n"
     ]
    }
   ],
   "source": [
    "print \"Score:\", model.score(X_test, y_test) "
   ]
  },
  {
   "cell_type": "code",
   "execution_count": 227,
   "metadata": {
    "collapsed": false
   },
   "outputs": [
    {
     "name": "stdout",
     "output_type": "stream",
     "text": [
      "Cross-validated scores: [ 0.57423294  0.73169791  0.67902479  0.75429584  0.7403273   0.69579584]\n"
     ]
    }
   ],
   "source": [
    "# Perform 6-fold cross validation\n",
    "scores = cross_val_score(model, df, breast.target, cv=6)\n",
    "print \"Cross-validated scores:\", scores"
   ]
  },
  {
   "cell_type": "code",
   "execution_count": null,
   "metadata": {
    "collapsed": true
   },
   "outputs": [],
   "source": []
  }
 ],
 "metadata": {
  "anaconda-cloud": {},
  "kernelspec": {
   "display_name": "Python [conda root]",
   "language": "python",
   "name": "conda-root-py"
  },
  "language_info": {
   "codemirror_mode": {
    "name": "ipython",
    "version": 2
   },
   "file_extension": ".py",
   "mimetype": "text/x-python",
   "name": "python",
   "nbconvert_exporter": "python",
   "pygments_lexer": "ipython2",
   "version": "2.7.12"
  }
 },
 "nbformat": 4,
 "nbformat_minor": 1
}
