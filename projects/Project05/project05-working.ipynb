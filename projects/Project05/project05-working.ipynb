{
 "cells": [
  {
   "cell_type": "code",
   "execution_count": 1,
   "metadata": {
    "collapsed": true
   },
   "outputs": [],
   "source": [
    "import pandas as pd\n",
    "import numpy as np\n",
    "from sklearn.neighbors import KNeighborsClassifier\n",
    "from sklearn.cross_validation import train_test_split\n",
    "\n",
    "from sklearn.feature_selection import SelectKBest\n",
    "\n",
    "from sklearn.linear_model import LogisticRegression\n",
    "from sklearn.cross_validation import KFold\n",
    "from sklearn.feature_selection import RFE\n",
    "from sklearn.feature_selection import RFECV\n",
    "from sklearn.grid_search import GridSearchCV\n",
    "from sklearn.metrics import confusion_matrix, classification_report\n",
    "from sklearn.preprocessing import StandardScaler\n",
    "\n",
    "import seaborn as sns\n",
    "import matplotlib.pyplot as plt\n",
    "%matplotlib inline"
   ]
  },
  {
   "cell_type": "markdown",
   "metadata": {},
   "source": [
    "# Part 1: Aquire the Data"
   ]
  },
  {
   "cell_type": "markdown",
   "metadata": {},
   "source": [
    "Inorder to get the data from AWS postgres server we can use this command to connect to the server:\n",
    ">psql -h dsi.c20gkj5cvu3l.us-east-1.rds.amazonaws.com -p 5432 -U dsi_student titanic\n",
    "\n",
    "psql will ask for password and after we provide it we can use following command to select everything from database table and export it to csv file:\n",
    ">\\COPY (select * from train) to '~/Downloads/train.csv' DELIMITER ',' csv header;\n",
    "\n",
    "Now that we have our csv file we can move it to an appropriate directory and read it through pandas as usual"
   ]
  },
  {
   "cell_type": "code",
   "execution_count": 2,
   "metadata": {
    "collapsed": false
   },
   "outputs": [
    {
     "data": {
      "text/html": [
       "<div>\n",
       "<table border=\"1\" class=\"dataframe\">\n",
       "  <thead>\n",
       "    <tr style=\"text-align: right;\">\n",
       "      <th></th>\n",
       "      <th>index</th>\n",
       "      <th>PassengerId</th>\n",
       "      <th>Survived</th>\n",
       "      <th>Pclass</th>\n",
       "      <th>Name</th>\n",
       "      <th>Sex</th>\n",
       "      <th>Age</th>\n",
       "      <th>SibSp</th>\n",
       "      <th>Parch</th>\n",
       "      <th>Ticket</th>\n",
       "      <th>Fare</th>\n",
       "      <th>Cabin</th>\n",
       "      <th>Embarked</th>\n",
       "    </tr>\n",
       "  </thead>\n",
       "  <tbody>\n",
       "    <tr>\n",
       "      <th>0</th>\n",
       "      <td>0</td>\n",
       "      <td>1</td>\n",
       "      <td>0</td>\n",
       "      <td>3</td>\n",
       "      <td>Braund, Mr. Owen Harris</td>\n",
       "      <td>male</td>\n",
       "      <td>22.0</td>\n",
       "      <td>1</td>\n",
       "      <td>0</td>\n",
       "      <td>A/5 21171</td>\n",
       "      <td>7.2500</td>\n",
       "      <td>NaN</td>\n",
       "      <td>S</td>\n",
       "    </tr>\n",
       "    <tr>\n",
       "      <th>1</th>\n",
       "      <td>1</td>\n",
       "      <td>2</td>\n",
       "      <td>1</td>\n",
       "      <td>1</td>\n",
       "      <td>Cumings, Mrs. John Bradley (Florence Briggs Th...</td>\n",
       "      <td>female</td>\n",
       "      <td>38.0</td>\n",
       "      <td>1</td>\n",
       "      <td>0</td>\n",
       "      <td>PC 17599</td>\n",
       "      <td>71.2833</td>\n",
       "      <td>C85</td>\n",
       "      <td>C</td>\n",
       "    </tr>\n",
       "    <tr>\n",
       "      <th>2</th>\n",
       "      <td>2</td>\n",
       "      <td>3</td>\n",
       "      <td>1</td>\n",
       "      <td>3</td>\n",
       "      <td>Heikkinen, Miss. Laina</td>\n",
       "      <td>female</td>\n",
       "      <td>26.0</td>\n",
       "      <td>0</td>\n",
       "      <td>0</td>\n",
       "      <td>STON/O2. 3101282</td>\n",
       "      <td>7.9250</td>\n",
       "      <td>NaN</td>\n",
       "      <td>S</td>\n",
       "    </tr>\n",
       "  </tbody>\n",
       "</table>\n",
       "</div>"
      ],
      "text/plain": [
       "   index  PassengerId  Survived  Pclass  \\\n",
       "0      0            1         0       3   \n",
       "1      1            2         1       1   \n",
       "2      2            3         1       3   \n",
       "\n",
       "                                                Name     Sex   Age  SibSp  \\\n",
       "0                            Braund, Mr. Owen Harris    male  22.0      1   \n",
       "1  Cumings, Mrs. John Bradley (Florence Briggs Th...  female  38.0      1   \n",
       "2                             Heikkinen, Miss. Laina  female  26.0      0   \n",
       "\n",
       "   Parch            Ticket     Fare Cabin Embarked  \n",
       "0      0         A/5 21171   7.2500   NaN        S  \n",
       "1      0          PC 17599  71.2833   C85        C  \n",
       "2      0  STON/O2. 3101282   7.9250   NaN        S  "
      ]
     },
     "execution_count": 2,
     "metadata": {},
     "output_type": "execute_result"
    }
   ],
   "source": [
    "titanic_data = pd.read_csv('test.csv')\n",
    "titanic_data.head(3)"
   ]
  },
  {
   "cell_type": "markdown",
   "metadata": {},
   "source": [
    "# Part 2: Exploratory Data Analysis"
   ]
  },
  {
   "cell_type": "code",
   "execution_count": 3,
   "metadata": {
    "collapsed": false
   },
   "outputs": [
    {
     "name": "stdout",
     "output_type": "stream",
     "text": [
      "            index  PassengerId    Survived      Pclass         Age  \\\n",
      "count  891.000000   891.000000  891.000000  891.000000  714.000000   \n",
      "mean   445.000000   446.000000    0.383838    2.308642   29.699118   \n",
      "std    257.353842   257.353842    0.486592    0.836071   14.526497   \n",
      "min      0.000000     1.000000    0.000000    1.000000    0.420000   \n",
      "25%    222.500000   223.500000    0.000000    2.000000         NaN   \n",
      "50%    445.000000   446.000000    0.000000    3.000000         NaN   \n",
      "75%    667.500000   668.500000    1.000000    3.000000         NaN   \n",
      "max    890.000000   891.000000    1.000000    3.000000   80.000000   \n",
      "\n",
      "            SibSp       Parch        Fare  \n",
      "count  891.000000  891.000000  891.000000  \n",
      "mean     0.523008    0.381594   32.204208  \n",
      "std      1.102743    0.806057   49.693429  \n",
      "min      0.000000    0.000000    0.000000  \n",
      "25%      0.000000    0.000000    7.910400  \n",
      "50%      0.000000    0.000000   14.454200  \n",
      "75%      1.000000    0.000000   31.000000  \n",
      "max      8.000000    6.000000  512.329200  \n"
     ]
    },
    {
     "name": "stderr",
     "output_type": "stream",
     "text": [
      "/home/ali/anaconda2/lib/python2.7/site-packages/numpy/lib/function_base.py:3834: RuntimeWarning: Invalid value encountered in percentile\n",
      "  RuntimeWarning)\n"
     ]
    }
   ],
   "source": [
    "print titanic_data.describe()"
   ]
  },
  {
   "cell_type": "code",
   "execution_count": 4,
   "metadata": {
    "collapsed": false
   },
   "outputs": [
    {
     "data": {
      "text/plain": [
       "index          891\n",
       "PassengerId    891\n",
       "Survived       891\n",
       "Pclass         891\n",
       "Name           891\n",
       "Sex            891\n",
       "Age            714\n",
       "SibSp          891\n",
       "Parch          891\n",
       "Ticket         891\n",
       "Fare           891\n",
       "Cabin          204\n",
       "Embarked       889\n",
       "dtype: int64"
      ]
     },
     "execution_count": 4,
     "metadata": {},
     "output_type": "execute_result"
    }
   ],
   "source": [
    "df = titanic_data.copy()\n",
    "df.count()"
   ]
  },
  {
   "cell_type": "markdown",
   "metadata": {},
   "source": [
    "As we can see not all data is available and we have multiple values missing from `Age`, `Cabin` and `Embarked` columns. I think removing data rows will have negative effect on our classification since we dont know how the real data would look like."
   ]
  },
  {
   "cell_type": "markdown",
   "metadata": {},
   "source": [
    "As our observation first we are going to show survival rate based on sex."
   ]
  },
  {
   "cell_type": "code",
   "execution_count": 5,
   "metadata": {
    "collapsed": false
   },
   "outputs": [
    {
     "data": {
      "text/html": [
       "<div>\n",
       "<table border=\"1\" class=\"dataframe\">\n",
       "  <thead>\n",
       "    <tr style=\"text-align: right;\">\n",
       "      <th></th>\n",
       "      <th>Survived</th>\n",
       "      <th>Total</th>\n",
       "    </tr>\n",
       "    <tr>\n",
       "      <th>Sex</th>\n",
       "      <th></th>\n",
       "      <th></th>\n",
       "    </tr>\n",
       "  </thead>\n",
       "  <tbody>\n",
       "    <tr>\n",
       "      <th>female</th>\n",
       "      <td>233</td>\n",
       "      <td>314</td>\n",
       "    </tr>\n",
       "    <tr>\n",
       "      <th>male</th>\n",
       "      <td>109</td>\n",
       "      <td>576</td>\n",
       "    </tr>\n",
       "  </tbody>\n",
       "</table>\n",
       "</div>"
      ],
      "text/plain": [
       "        Survived  Total\n",
       "Sex                    \n",
       "female       233    314\n",
       "male         109    576"
      ]
     },
     "execution_count": 5,
     "metadata": {},
     "output_type": "execute_result"
    }
   ],
   "source": [
    "sex_survive = pd.pivot_table(df, index='Sex', values=['index','Survived'], aggfunc=[np.count_nonzero])\n",
    "sex_survive.columns=['Survived', 'Total']\n",
    "sex_survive"
   ]
  },
  {
   "cell_type": "code",
   "execution_count": 6,
   "metadata": {
    "collapsed": false
   },
   "outputs": [
    {
     "data": {
      "text/plain": [
       "<matplotlib.axes._subplots.AxesSubplot at 0x7f1054a7ef10>"
      ]
     },
     "execution_count": 6,
     "metadata": {},
     "output_type": "execute_result"
    },
    {
     "data": {
      "image/png": "[encoded data removed]",
      "text/plain": [
       "<matplotlib.figure.Figure at 0x7f10681a89d0>"
      ]
     },
     "metadata": {},
     "output_type": "display_data"
    }
   ],
   "source": [
    "sex_survive.plot(kind='bar', figsize=(10,5))"
   ]
  },
  {
   "cell_type": "code",
   "execution_count": 7,
   "metadata": {
    "collapsed": true
   },
   "outputs": [],
   "source": [
    "#Binning:\n",
    "def binning(col, cut_points, labels=None):\n",
    "    #Define min and max values:\n",
    "    minval = col.min()\n",
    "    maxval = col.max()\n",
    "\n",
    "    #create list by adding min and max to cut_points\n",
    "    break_points = [minval] + cut_points + [maxval]\n",
    "\n",
    "    #if no labels provided, use default labels 0 ... (n-1)\n",
    "    if not labels:\n",
    "        labels = range(len(cut_points)+1)\n",
    "\n",
    "    #Binning using cut function of pandas\n",
    "    colBin = pd.cut(col,bins=break_points,labels=labels,include_lowest=True)\n",
    "    return colBin"
   ]
  },
  {
   "cell_type": "code",
   "execution_count": 8,
   "metadata": {
    "collapsed": true
   },
   "outputs": [],
   "source": [
    "#Binning age:\n",
    "cut_points = [12, 40, 50, 199]\n",
    "labels = ['children', 'young', 'middle_age', 'older', 'no_age']\n",
    "df[\"Age_bin\"] = binning(df[\"Age\"].fillna(200), cut_points, labels)\n",
    "# df[df.Age.isnull()].head(5)"
   ]
  },
  {
   "cell_type": "code",
   "execution_count": 9,
   "metadata": {
    "collapsed": false
   },
   "outputs": [
    {
     "data": {
      "text/html": [
       "<div>\n",
       "<table border=\"1\" class=\"dataframe\">\n",
       "  <thead>\n",
       "    <tr style=\"text-align: right;\">\n",
       "      <th></th>\n",
       "      <th>Survived</th>\n",
       "      <th>Total</th>\n",
       "    </tr>\n",
       "    <tr>\n",
       "      <th>Age_bin</th>\n",
       "      <th></th>\n",
       "      <th></th>\n",
       "    </tr>\n",
       "  </thead>\n",
       "  <tbody>\n",
       "    <tr>\n",
       "      <th>children</th>\n",
       "      <td>40</td>\n",
       "      <td>69</td>\n",
       "    </tr>\n",
       "    <tr>\n",
       "      <th>young</th>\n",
       "      <td>195</td>\n",
       "      <td>494</td>\n",
       "    </tr>\n",
       "    <tr>\n",
       "      <th>middle_age</th>\n",
       "      <td>33</td>\n",
       "      <td>86</td>\n",
       "    </tr>\n",
       "    <tr>\n",
       "      <th>older</th>\n",
       "      <td>22</td>\n",
       "      <td>64</td>\n",
       "    </tr>\n",
       "    <tr>\n",
       "      <th>no_age</th>\n",
       "      <td>52</td>\n",
       "      <td>177</td>\n",
       "    </tr>\n",
       "  </tbody>\n",
       "</table>\n",
       "</div>"
      ],
      "text/plain": [
       "            Survived  Total\n",
       "Age_bin                    \n",
       "children          40     69\n",
       "young            195    494\n",
       "middle_age        33     86\n",
       "older             22     64\n",
       "no_age            52    177"
      ]
     },
     "execution_count": 9,
     "metadata": {},
     "output_type": "execute_result"
    }
   ],
   "source": [
    "age_survive = pd.pivot_table(df, index='Age_bin', values=['index','Survived'], aggfunc=[np.count_nonzero])\n",
    "age_survive.columns=['Survived', 'Total']\n",
    "age_survive"
   ]
  },
  {
   "cell_type": "code",
   "execution_count": 10,
   "metadata": {
    "collapsed": false
   },
   "outputs": [
    {
     "data": {
      "text/plain": [
       "<matplotlib.axes._subplots.AxesSubplot at 0x7f1052bada90>"
      ]
     },
     "execution_count": 10,
     "metadata": {},
     "output_type": "execute_result"
    },
    {
     "data": {
      "image/png": "[encoded data removed]",
      "text/plain": [
       "<matplotlib.figure.Figure at 0x7f1088204610>"
      ]
     },
     "metadata": {},
     "output_type": "display_data"
    }
   ],
   "source": [
    "age_survive.plot(kind='bar', figsize=(10,5))"
   ]
  },
  {
   "cell_type": "code",
   "execution_count": 11,
   "metadata": {
    "collapsed": false
   },
   "outputs": [
    {
     "data": {
      "text/html": [
       "<div>\n",
       "<table border=\"1\" class=\"dataframe\">\n",
       "  <thead>\n",
       "    <tr style=\"text-align: right;\">\n",
       "      <th></th>\n",
       "      <th>Survived</th>\n",
       "      <th>Total</th>\n",
       "    </tr>\n",
       "    <tr>\n",
       "      <th>Pclass</th>\n",
       "      <th></th>\n",
       "      <th></th>\n",
       "    </tr>\n",
       "  </thead>\n",
       "  <tbody>\n",
       "    <tr>\n",
       "      <th>1</th>\n",
       "      <td>136</td>\n",
       "      <td>216</td>\n",
       "    </tr>\n",
       "    <tr>\n",
       "      <th>2</th>\n",
       "      <td>87</td>\n",
       "      <td>184</td>\n",
       "    </tr>\n",
       "    <tr>\n",
       "      <th>3</th>\n",
       "      <td>119</td>\n",
       "      <td>490</td>\n",
       "    </tr>\n",
       "  </tbody>\n",
       "</table>\n",
       "</div>"
      ],
      "text/plain": [
       "        Survived  Total\n",
       "Pclass                 \n",
       "1            136    216\n",
       "2             87    184\n",
       "3            119    490"
      ]
     },
     "execution_count": 11,
     "metadata": {},
     "output_type": "execute_result"
    }
   ],
   "source": [
    "class_survive = pd.pivot_table(df, index='Pclass', values=['index','Survived'], aggfunc=[np.count_nonzero])\n",
    "class_survive.columns=['Survived', 'Total']\n",
    "class_survive"
   ]
  },
  {
   "cell_type": "code",
   "execution_count": 12,
   "metadata": {
    "collapsed": false
   },
   "outputs": [
    {
     "data": {
      "text/plain": [
       "<matplotlib.axes._subplots.AxesSubplot at 0x7f1052b41950>"
      ]
     },
     "execution_count": 12,
     "metadata": {},
     "output_type": "execute_result"
    },
    {
     "data": {
      "image/png": "[encoded data removed]",
      "text/plain": [
       "<matplotlib.figure.Figure at 0x7f1052b5ed90>"
      ]
     },
     "metadata": {},
     "output_type": "display_data"
    }
   ],
   "source": [
    "class_survive.plot(kind='bar', figsize=(10,5))"
   ]
  },
  {
   "cell_type": "code",
   "execution_count": 13,
   "metadata": {
    "collapsed": false
   },
   "outputs": [
    {
     "data": {
      "text/html": [
       "<div>\n",
       "<table border=\"1\" class=\"dataframe\">\n",
       "  <thead>\n",
       "    <tr style=\"text-align: right;\">\n",
       "      <th></th>\n",
       "      <th>Survived</th>\n",
       "      <th>Total</th>\n",
       "    </tr>\n",
       "    <tr>\n",
       "      <th>Pclass</th>\n",
       "      <th></th>\n",
       "      <th></th>\n",
       "    </tr>\n",
       "  </thead>\n",
       "  <tbody>\n",
       "    <tr>\n",
       "      <th>1</th>\n",
       "      <td>136</td>\n",
       "      <td>216</td>\n",
       "    </tr>\n",
       "    <tr>\n",
       "      <th>2</th>\n",
       "      <td>87</td>\n",
       "      <td>184</td>\n",
       "    </tr>\n",
       "    <tr>\n",
       "      <th>3</th>\n",
       "      <td>119</td>\n",
       "      <td>490</td>\n",
       "    </tr>\n",
       "  </tbody>\n",
       "</table>\n",
       "</div>"
      ],
      "text/plain": [
       "        Survived  Total\n",
       "Pclass                 \n",
       "1            136    216\n",
       "2             87    184\n",
       "3            119    490"
      ]
     },
     "execution_count": 13,
     "metadata": {},
     "output_type": "execute_result"
    }
   ],
   "source": [
    "embark_survive = pd.pivot_table(df, index='Embarked', values=['index','Survived'], aggfunc=[np.count_nonzero])\n",
    "class_survive"
   ]
  },
  {
   "cell_type": "code",
   "execution_count": 14,
   "metadata": {
    "collapsed": false
   },
   "outputs": [
    {
     "data": {
      "text/plain": [
       "<matplotlib.axes._subplots.AxesSubplot at 0x7f1054aef790>"
      ]
     },
     "execution_count": 14,
     "metadata": {},
     "output_type": "execute_result"
    },
    {
     "data": {
      "image/png": "[encoded data removed]",
      "text/plain": [
       "<matplotlib.figure.Figure at 0x7f1052a559d0>"
      ]
     },
     "metadata": {},
     "output_type": "display_data"
    }
   ],
   "source": [
    "embark_survive.columns=['Survived', 'Total']\n",
    "embark_survive.plot(kind='bar', figsize=(10,5))"
   ]
  },
  {
   "cell_type": "markdown",
   "metadata": {},
   "source": [
    "# Part 3: Data Wrangling"
   ]
  },
  {
   "cell_type": "code",
   "execution_count": 15,
   "metadata": {
    "collapsed": false
   },
   "outputs": [
    {
     "data": {
      "text/html": [
       "<div>\n",
       "<table border=\"1\" class=\"dataframe\">\n",
       "  <thead>\n",
       "    <tr style=\"text-align: right;\">\n",
       "      <th></th>\n",
       "      <th>Deck_A</th>\n",
       "      <th>Deck_B</th>\n",
       "      <th>Deck_C</th>\n",
       "      <th>Deck_D</th>\n",
       "      <th>Deck_E</th>\n",
       "      <th>Deck_F</th>\n",
       "      <th>Deck_G</th>\n",
       "      <th>Deck_T</th>\n",
       "    </tr>\n",
       "  </thead>\n",
       "  <tbody>\n",
       "    <tr>\n",
       "      <th>0</th>\n",
       "      <td>0.0</td>\n",
       "      <td>0.0</td>\n",
       "      <td>0.0</td>\n",
       "      <td>0.0</td>\n",
       "      <td>0.0</td>\n",
       "      <td>0.0</td>\n",
       "      <td>0.0</td>\n",
       "      <td>0.0</td>\n",
       "    </tr>\n",
       "    <tr>\n",
       "      <th>1</th>\n",
       "      <td>0.0</td>\n",
       "      <td>0.0</td>\n",
       "      <td>1.0</td>\n",
       "      <td>0.0</td>\n",
       "      <td>0.0</td>\n",
       "      <td>0.0</td>\n",
       "      <td>0.0</td>\n",
       "      <td>0.0</td>\n",
       "    </tr>\n",
       "    <tr>\n",
       "      <th>2</th>\n",
       "      <td>0.0</td>\n",
       "      <td>0.0</td>\n",
       "      <td>0.0</td>\n",
       "      <td>0.0</td>\n",
       "      <td>0.0</td>\n",
       "      <td>0.0</td>\n",
       "      <td>0.0</td>\n",
       "      <td>0.0</td>\n",
       "    </tr>\n",
       "  </tbody>\n",
       "</table>\n",
       "</div>"
      ],
      "text/plain": [
       "   Deck_A  Deck_B  Deck_C  Deck_D  Deck_E  Deck_F  Deck_G  Deck_T\n",
       "0     0.0     0.0     0.0     0.0     0.0     0.0     0.0     0.0\n",
       "1     0.0     0.0     1.0     0.0     0.0     0.0     0.0     0.0\n",
       "2     0.0     0.0     0.0     0.0     0.0     0.0     0.0     0.0"
      ]
     },
     "execution_count": 15,
     "metadata": {},
     "output_type": "execute_result"
    }
   ],
   "source": [
    "decks = titanic_data.Cabin.fillna('0').apply(lambda x: x[0] if x!='0' else None).to_frame()\n",
    "decks.columns = ['Deck']\n",
    "decks = pd.get_dummies(decks.Deck, prefix='Deck')\n",
    "decks.head(3)"
   ]
  },
  {
   "cell_type": "code",
   "execution_count": 16,
   "metadata": {
    "collapsed": false
   },
   "outputs": [
    {
     "data": {
      "text/html": [
       "<div>\n",
       "<table border=\"1\" class=\"dataframe\">\n",
       "  <thead>\n",
       "    <tr style=\"text-align: right;\">\n",
       "      <th></th>\n",
       "      <th>index</th>\n",
       "      <th>PassengerId</th>\n",
       "      <th>Survived</th>\n",
       "      <th>Pclass</th>\n",
       "      <th>Name</th>\n",
       "      <th>Sex</th>\n",
       "      <th>Age</th>\n",
       "      <th>SibSp</th>\n",
       "      <th>Parch</th>\n",
       "      <th>Ticket</th>\n",
       "      <th>Fare</th>\n",
       "      <th>Cabin</th>\n",
       "      <th>Embarked</th>\n",
       "      <th>Age_bin</th>\n",
       "    </tr>\n",
       "  </thead>\n",
       "  <tbody>\n",
       "    <tr>\n",
       "      <th>0</th>\n",
       "      <td>0</td>\n",
       "      <td>1</td>\n",
       "      <td>0</td>\n",
       "      <td>3</td>\n",
       "      <td>Braund, Mr. Owen Harris</td>\n",
       "      <td>0</td>\n",
       "      <td>22.0</td>\n",
       "      <td>1</td>\n",
       "      <td>0</td>\n",
       "      <td>A/5 21171</td>\n",
       "      <td>7.2500</td>\n",
       "      <td>NaN</td>\n",
       "      <td>S</td>\n",
       "      <td>young</td>\n",
       "    </tr>\n",
       "    <tr>\n",
       "      <th>1</th>\n",
       "      <td>1</td>\n",
       "      <td>2</td>\n",
       "      <td>1</td>\n",
       "      <td>1</td>\n",
       "      <td>Cumings, Mrs. John Bradley (Florence Briggs Th...</td>\n",
       "      <td>1</td>\n",
       "      <td>38.0</td>\n",
       "      <td>1</td>\n",
       "      <td>0</td>\n",
       "      <td>PC 17599</td>\n",
       "      <td>71.2833</td>\n",
       "      <td>C85</td>\n",
       "      <td>C</td>\n",
       "      <td>young</td>\n",
       "    </tr>\n",
       "    <tr>\n",
       "      <th>2</th>\n",
       "      <td>2</td>\n",
       "      <td>3</td>\n",
       "      <td>1</td>\n",
       "      <td>3</td>\n",
       "      <td>Heikkinen, Miss. Laina</td>\n",
       "      <td>1</td>\n",
       "      <td>26.0</td>\n",
       "      <td>0</td>\n",
       "      <td>0</td>\n",
       "      <td>STON/O2. 3101282</td>\n",
       "      <td>7.9250</td>\n",
       "      <td>NaN</td>\n",
       "      <td>S</td>\n",
       "      <td>young</td>\n",
       "    </tr>\n",
       "  </tbody>\n",
       "</table>\n",
       "</div>"
      ],
      "text/plain": [
       "   index  PassengerId  Survived  Pclass  \\\n",
       "0      0            1         0       3   \n",
       "1      1            2         1       1   \n",
       "2      2            3         1       3   \n",
       "\n",
       "                                                Name  Sex   Age  SibSp  Parch  \\\n",
       "0                            Braund, Mr. Owen Harris    0  22.0      1      0   \n",
       "1  Cumings, Mrs. John Bradley (Florence Briggs Th...    1  38.0      1      0   \n",
       "2                             Heikkinen, Miss. Laina    1  26.0      0      0   \n",
       "\n",
       "             Ticket     Fare Cabin Embarked Age_bin  \n",
       "0         A/5 21171   7.2500   NaN        S   young  \n",
       "1          PC 17599  71.2833   C85        C   young  \n",
       "2  STON/O2. 3101282   7.9250   NaN        S   young  "
      ]
     },
     "execution_count": 16,
     "metadata": {},
     "output_type": "execute_result"
    }
   ],
   "source": [
    "df.Sex = df.Sex.apply(lambda x: 1 if x=='female' else 0)\n",
    "df.head(3)"
   ]
  },
  {
   "cell_type": "code",
   "execution_count": 17,
   "metadata": {
    "collapsed": false
   },
   "outputs": [
    {
     "data": {
      "text/plain": [
       "young         495\n",
       "no_age        177\n",
       "middle_age     86\n",
       "children       69\n",
       "older          64\n",
       "Name: Age_bin, dtype: int64"
      ]
     },
     "execution_count": 17,
     "metadata": {},
     "output_type": "execute_result"
    }
   ],
   "source": [
    "df[\"Age_bin\"].value_counts()"
   ]
  },
  {
   "cell_type": "code",
   "execution_count": 18,
   "metadata": {
    "collapsed": false
   },
   "outputs": [
    {
     "data": {
      "text/html": [
       "<div>\n",
       "<table border=\"1\" class=\"dataframe\">\n",
       "  <thead>\n",
       "    <tr style=\"text-align: right;\">\n",
       "      <th></th>\n",
       "      <th>Age_bin_children</th>\n",
       "      <th>Age_bin_young</th>\n",
       "      <th>Age_bin_middle_age</th>\n",
       "      <th>Age_bin_older</th>\n",
       "      <th>Age_bin_no_age</th>\n",
       "    </tr>\n",
       "  </thead>\n",
       "  <tbody>\n",
       "    <tr>\n",
       "      <th>0</th>\n",
       "      <td>0.0</td>\n",
       "      <td>1.0</td>\n",
       "      <td>0.0</td>\n",
       "      <td>0.0</td>\n",
       "      <td>0.0</td>\n",
       "    </tr>\n",
       "    <tr>\n",
       "      <th>1</th>\n",
       "      <td>0.0</td>\n",
       "      <td>1.0</td>\n",
       "      <td>0.0</td>\n",
       "      <td>0.0</td>\n",
       "      <td>0.0</td>\n",
       "    </tr>\n",
       "    <tr>\n",
       "      <th>2</th>\n",
       "      <td>0.0</td>\n",
       "      <td>1.0</td>\n",
       "      <td>0.0</td>\n",
       "      <td>0.0</td>\n",
       "      <td>0.0</td>\n",
       "    </tr>\n",
       "  </tbody>\n",
       "</table>\n",
       "</div>"
      ],
      "text/plain": [
       "   Age_bin_children  Age_bin_young  Age_bin_middle_age  Age_bin_older  \\\n",
       "0               0.0            1.0                 0.0            0.0   \n",
       "1               0.0            1.0                 0.0            0.0   \n",
       "2               0.0            1.0                 0.0            0.0   \n",
       "\n",
       "   Age_bin_no_age  \n",
       "0             0.0  \n",
       "1             0.0  \n",
       "2             0.0  "
      ]
     },
     "execution_count": 18,
     "metadata": {},
     "output_type": "execute_result"
    }
   ],
   "source": [
    "age_bins = pd.get_dummies(df.Age_bin, prefix='Age_bin')\n",
    "age_bins.head(3)"
   ]
  },
  {
   "cell_type": "code",
   "execution_count": 19,
   "metadata": {
    "collapsed": false
   },
   "outputs": [
    {
     "data": {
      "text/html": [
       "<div>\n",
       "<table border=\"1\" class=\"dataframe\">\n",
       "  <thead>\n",
       "    <tr style=\"text-align: right;\">\n",
       "      <th></th>\n",
       "      <th>Pclass_1</th>\n",
       "      <th>Pclass_2</th>\n",
       "      <th>Pclass_3</th>\n",
       "    </tr>\n",
       "  </thead>\n",
       "  <tbody>\n",
       "    <tr>\n",
       "      <th>0</th>\n",
       "      <td>0.0</td>\n",
       "      <td>0.0</td>\n",
       "      <td>1.0</td>\n",
       "    </tr>\n",
       "    <tr>\n",
       "      <th>1</th>\n",
       "      <td>1.0</td>\n",
       "      <td>0.0</td>\n",
       "      <td>0.0</td>\n",
       "    </tr>\n",
       "    <tr>\n",
       "      <th>2</th>\n",
       "      <td>0.0</td>\n",
       "      <td>0.0</td>\n",
       "      <td>1.0</td>\n",
       "    </tr>\n",
       "  </tbody>\n",
       "</table>\n",
       "</div>"
      ],
      "text/plain": [
       "   Pclass_1  Pclass_2  Pclass_3\n",
       "0       0.0       0.0       1.0\n",
       "1       1.0       0.0       0.0\n",
       "2       0.0       0.0       1.0"
      ]
     },
     "execution_count": 19,
     "metadata": {},
     "output_type": "execute_result"
    }
   ],
   "source": [
    "pclasses = pd.get_dummies(df.Pclass, prefix='Pclass')\n",
    "pclasses.head(3)"
   ]
  },
  {
   "cell_type": "code",
   "execution_count": 20,
   "metadata": {
    "collapsed": false
   },
   "outputs": [
    {
     "data": {
      "text/html": [
       "<div>\n",
       "<table border=\"1\" class=\"dataframe\">\n",
       "  <thead>\n",
       "    <tr style=\"text-align: right;\">\n",
       "      <th></th>\n",
       "      <th>Embarked_C</th>\n",
       "      <th>Embarked_Q</th>\n",
       "      <th>Embarked_S</th>\n",
       "    </tr>\n",
       "  </thead>\n",
       "  <tbody>\n",
       "    <tr>\n",
       "      <th>0</th>\n",
       "      <td>0.0</td>\n",
       "      <td>0.0</td>\n",
       "      <td>1.0</td>\n",
       "    </tr>\n",
       "    <tr>\n",
       "      <th>1</th>\n",
       "      <td>1.0</td>\n",
       "      <td>0.0</td>\n",
       "      <td>0.0</td>\n",
       "    </tr>\n",
       "    <tr>\n",
       "      <th>2</th>\n",
       "      <td>0.0</td>\n",
       "      <td>0.0</td>\n",
       "      <td>1.0</td>\n",
       "    </tr>\n",
       "  </tbody>\n",
       "</table>\n",
       "</div>"
      ],
      "text/plain": [
       "   Embarked_C  Embarked_Q  Embarked_S\n",
       "0         0.0         0.0         1.0\n",
       "1         1.0         0.0         0.0\n",
       "2         0.0         0.0         1.0"
      ]
     },
     "execution_count": 20,
     "metadata": {},
     "output_type": "execute_result"
    }
   ],
   "source": [
    "embarked = pd.get_dummies(df.Embarked, prefix='Embarked')\n",
    "embarked.head(3)"
   ]
  },
  {
   "cell_type": "code",
   "execution_count": 21,
   "metadata": {
    "collapsed": false
   },
   "outputs": [
    {
     "data": {
      "text/html": [
       "<div>\n",
       "<table border=\"1\" class=\"dataframe\">\n",
       "  <thead>\n",
       "    <tr style=\"text-align: right;\">\n",
       "      <th></th>\n",
       "      <th>Worker</th>\n",
       "    </tr>\n",
       "  </thead>\n",
       "  <tbody>\n",
       "    <tr>\n",
       "      <th>0</th>\n",
       "      <td>0</td>\n",
       "    </tr>\n",
       "    <tr>\n",
       "      <th>1</th>\n",
       "      <td>0</td>\n",
       "    </tr>\n",
       "    <tr>\n",
       "      <th>2</th>\n",
       "      <td>0</td>\n",
       "    </tr>\n",
       "  </tbody>\n",
       "</table>\n",
       "</div>"
      ],
      "text/plain": [
       "   Worker\n",
       "0       0\n",
       "1       0\n",
       "2       0"
      ]
     },
     "execution_count": 21,
     "metadata": {},
     "output_type": "execute_result"
    }
   ],
   "source": [
    "workers = df.Ticket.apply(lambda x: 1 if x=='LINE' else 0).to_frame()\n",
    "workers.columns = ['Worker']\n",
    "workers.head(3)"
   ]
  },
  {
   "cell_type": "code",
   "execution_count": 22,
   "metadata": {
    "collapsed": true
   },
   "outputs": [],
   "source": [
    "singles = df.apply(lambda x: 1 if (x['SibSp']==0 & x['Parch']==0) else 0, axis=1).to_frame()\n",
    "singles.columns = ['Single']\n",
    "with_family = df.apply(lambda x: 1 if (x['SibSp']==1 or x['Parch']==1) else 0, axis=1).to_frame()\n",
    "with_family.columns = ['WithFamily']"
   ]
  },
  {
   "cell_type": "markdown",
   "metadata": {},
   "source": [
    "# Feature Selection"
   ]
  },
  {
   "cell_type": "code",
   "execution_count": 23,
   "metadata": {
    "collapsed": false
   },
   "outputs": [],
   "source": [
    "# def kbest_selector(X, y, k):\n",
    "#     kbest = SelectKBest(k=k)\n",
    "#     kbest.fit_transform(X, y)\n",
    "#     return kbest\n",
    "\n",
    "# def all_features(X, feature_list):\n",
    "#     for feat in feature_list:\n",
    "#         X = X.join(feat, how=\"left\")\n",
    "#     return X\n",
    "\n",
    "# def best_features(X, y, method='kbest', cv=6, k=5):\n",
    "#     if method=='kbest':\n",
    "#         return SelectKBest(k=k).transform(X)\n",
    "# #         return kbest_selector(X, y, k)\n",
    "#     return X\n",
    "\n",
    "# def knn_score(X, y, n=5, k=5):\n",
    "#     knn = KNeighborsClassifier(n_neighbors=n)\n",
    "#     SS = StandardScaler()\n",
    "#     X = best_features(X, y, k=k, method='kbest')\n",
    "#     knn.fit(SS.fit_transform(X), y)\n",
    "#     return knn.score(SS.fit_transform(X), y)\n",
    "\n",
    "# def best_knn_k(X,y,max_features, n=5):\n",
    "#     max_score = 0\n",
    "#     best_k = 0\n",
    "#     for i in range(max_features):\n",
    "#         score = knn_score(X, y, k=i+1, n=n)\n",
    "#         if score > max_score:\n",
    "#             max_score = score\n",
    "#             best_k = i+1\n",
    "#     return best_k\n",
    "\n",
    "# def rfe_selector(X, y, k=5):\n",
    "#     model = LogisticRegression()\n",
    "#     rfe = RFE(estimator=model, step=1, n_features_to_select=k)\n",
    "#     return rfe.fit_transform(X, y)\n",
    "\n",
    "# def best_rfe_k(X,y,max_features, n=5):\n",
    "#     max_score = 0\n",
    "#     best_k = 0\n",
    "#     for i in range(max_features):\n",
    "#         best_feat = rfe_selector(all_features,y, k=i+1)\n",
    "#         model = LogisticRegression()\n",
    "#         model.fit(best_feat, y)\n",
    "#         score = model.score(best_feat, y)\n",
    "        \n",
    "#         if score > max_score:\n",
    "#             max_score = score\n",
    "#             best_k = i+1\n",
    "#     return best_k"
   ]
  },
  {
   "cell_type": "code",
   "execution_count": 24,
   "metadata": {
    "collapsed": true
   },
   "outputs": [],
   "source": [
    "def combine_features(X, feature_list):\n",
    "    for feat in feature_list:\n",
    "        X = X.join(feat, how=\"left\")\n",
    "    return X"
   ]
  },
  {
   "cell_type": "code",
   "execution_count": 25,
   "metadata": {
    "collapsed": false
   },
   "outputs": [],
   "source": [
    "X=df['Sex'].to_frame()\n",
    "y=df['Survived']\n",
    "feature_list = [singles, decks, pclasses, age_bins, with_family, embarked, workers]\n",
    "kbest_selector = SelectKBest(k=5)\n",
    "all_features = combine_features(X, feature_list)\n",
    "feature_count = np.count_nonzero(all_features.columns)"
   ]
  },
  {
   "cell_type": "markdown",
   "metadata": {},
   "source": [
    "# KNN"
   ]
  },
  {
   "cell_type": "code",
   "execution_count": 26,
   "metadata": {
    "collapsed": true
   },
   "outputs": [],
   "source": [
    "def knn_score(X, y, n=5):\n",
    "    knn = KNeighborsClassifier(n_neighbors=n)\n",
    "    SS = StandardScaler()\n",
    "    knn.fit(SS.fit_transform(X), y)\n",
    "    return knn.score(SS.fit_transform(X), y)\n",
    "\n",
    "def best_knn_k(X,y,max_features, n=5):\n",
    "    max_score = 0\n",
    "    best_k = 0\n",
    "    for i in range(max_features):\n",
    "        kbest = SelectKBest(k=i+1)\n",
    "        score = knn_score(kbest.fit_transform(X, y), y, n=n)\n",
    "        if score > max_score:\n",
    "            max_score = score\n",
    "            best_k = i+1\n",
    "    return best_k"
   ]
  },
  {
   "cell_type": "code",
   "execution_count": 94,
   "metadata": {
    "collapsed": false,
    "scrolled": true
   },
   "outputs": [],
   "source": [
    "good_features = kbest_selector.fit_transform(all_features, y)"
   ]
  },
  {
   "cell_type": "code",
   "execution_count": 95,
   "metadata": {
    "collapsed": false
   },
   "outputs": [
    {
     "data": {
      "text/plain": [
       "KNeighborsClassifier(algorithm='auto', leaf_size=30, metric='minkowski',\n",
       "           metric_params=None, n_jobs=1, n_neighbors=5, p=2,\n",
       "           weights='uniform')"
      ]
     },
     "execution_count": 95,
     "metadata": {},
     "output_type": "execute_result"
    }
   ],
   "source": [
    "knn = KNeighborsClassifier(n_neighbors=5)\n",
    "knn"
   ]
  },
  {
   "cell_type": "code",
   "execution_count": 96,
   "metadata": {
    "collapsed": false
   },
   "outputs": [
    {
     "data": {
      "text/plain": [
       "KNeighborsClassifier(algorithm='auto', leaf_size=30, metric='minkowski',\n",
       "           metric_params=None, n_jobs=1, n_neighbors=5, p=2,\n",
       "           weights='uniform')"
      ]
     },
     "execution_count": 96,
     "metadata": {},
     "output_type": "execute_result"
    }
   ],
   "source": [
    "SS = StandardScaler()\n",
    "knn.fit(SS.fit_transform(good_features), y)"
   ]
  },
  {
   "cell_type": "code",
   "execution_count": 97,
   "metadata": {
    "collapsed": false
   },
   "outputs": [
    {
     "data": {
      "text/plain": [
       "0.83501683501683499"
      ]
     },
     "execution_count": 97,
     "metadata": {},
     "output_type": "execute_result"
    }
   ],
   "source": [
    "knn.score(SS.fit_transform(good_features), y)"
   ]
  },
  {
   "cell_type": "code",
   "execution_count": 98,
   "metadata": {
    "collapsed": false,
    "scrolled": true
   },
   "outputs": [
    {
     "data": {
      "text/plain": [
       "0.82491582491582494"
      ]
     },
     "execution_count": 98,
     "metadata": {},
     "output_type": "execute_result"
    }
   ],
   "source": [
    "kbest_selector.k = 18\n",
    "good_features = kbest_selector.fit_transform(all_features, y)\n",
    "knn_score(good_features, y, n=5)"
   ]
  },
  {
   "cell_type": "code",
   "execution_count": 99,
   "metadata": {
    "collapsed": false
   },
   "outputs": [
    {
     "name": "stdout",
     "output_type": "stream",
     "text": [
      "[0, 1, 2, 3, 4, 5, 6, 7, 8, 9, 10, 11, 12, 13, 14, 15, 16, 17, 18, 19, 20, 21, 22]\n"
     ]
    }
   ],
   "source": [
    "print range(feature_count)"
   ]
  },
  {
   "cell_type": "code",
   "execution_count": 100,
   "metadata": {
    "collapsed": false
   },
   "outputs": [
    {
     "name": "stdout",
     "output_type": "stream",
     "text": [
      "11\n",
      "0.835016835017\n"
     ]
    }
   ],
   "source": [
    "k = best_knn_k(all_features, y, feature_count)\n",
    "kbest_selector.k=k\n",
    "good_features = kbest_selector.fit_transform(all_features, y)\n",
    "print k\n",
    "print knn_score(good_features, y, n=5)"
   ]
  },
  {
   "cell_type": "code",
   "execution_count": 101,
   "metadata": {
    "collapsed": true
   },
   "outputs": [],
   "source": [
    "model = KNeighborsClassifier()\n",
    "n_neighbors = [1, 3, 5, 7, 9]\n",
    "weights = ['uniform', 'distance']\n",
    "algorithm=['auto', 'ball_tree', 'kd_tree', 'brute']\n",
    "grid = GridSearchCV(estimator=model, \n",
    "                    param_grid={'n_neighbors': n_neighbors,\n",
    "                                'weights': weights,\n",
    "                                'algorithm':algorithm\n",
    "                               },\n",
    "                    cv = 6\n",
    "                   )"
   ]
  },
  {
   "cell_type": "code",
   "execution_count": 102,
   "metadata": {
    "collapsed": false
   },
   "outputs": [
    {
     "name": "stdout",
     "output_type": "stream",
     "text": [
      "KNeighborsClassifier(algorithm='auto', leaf_size=30, metric='minkowski',\n",
      "           metric_params=None, n_jobs=1, n_neighbors=5, p=2,\n",
      "           weights='uniform')\n",
      "0.811447811448\n"
     ]
    }
   ],
   "source": [
    "SS = StandardScaler()\n",
    "grid.fit(SS.fit_transform(good_features),y)\n",
    "best_knn_model = grid.best_estimator_\n",
    "print best_knn_model\n",
    "print grid.best_score_"
   ]
  },
  {
   "cell_type": "code",
   "execution_count": 103,
   "metadata": {
    "collapsed": true
   },
   "outputs": [],
   "source": [
    "x_train, x_test, y_train, y_test = train_test_split(all_features, y)"
   ]
  },
  {
   "cell_type": "code",
   "execution_count": 104,
   "metadata": {
    "collapsed": false
   },
   "outputs": [
    {
     "name": "stdout",
     "output_type": "stream",
     "text": [
      "0.797904191617\n"
     ]
    }
   ],
   "source": [
    "# good_features = kbest_selector.fit_transform(x_train, y_train)\n",
    "# SS = StandardScaler()\n",
    "# grid.fit(SS.fit_transform(good_features),y_train)\n",
    "# print grid.best_estimator_\n",
    "# print grid.best_score_\n",
    "\n",
    "train_knn = kbest_selector.fit_transform(x_train, y_train)\n",
    "SS = StandardScaler()\n",
    "best_knn_model.fit(SS.fit_transform(train_knn),y_train)\n",
    "print best_knn_model.score(SS.fit_transform(train_knn),y_train)\n",
    "\n",
    "# grid.fit(SS.fit_transform(good_features),y_train)\n",
    "# print grid.best_estimator_\n",
    "# print grid.best_score_"
   ]
  },
  {
   "cell_type": "code",
   "execution_count": 106,
   "metadata": {
    "collapsed": false
   },
   "outputs": [
    {
     "name": "stdout",
     "output_type": "stream",
     "text": [
      "0.820627802691\n"
     ]
    }
   ],
   "source": [
    "# good_features = kbest_selector.fit_transform(x_test, y_test)\n",
    "# SS = StandardScaler()\n",
    "# grid.fit(SS.fit_transform(good_features),y_test)\n",
    "# print grid.best_estimator_\n",
    "# print grid.best_score_\n",
    "\n",
    "test_knn = kbest_selector.fit_transform(x_test, y_test)\n",
    "SS = StandardScaler()\n",
    "best_knn_model.fit(SS.fit_transform(test_knn),y_test)\n",
    "print best_knn_model.score(SS.fit_transform(test_knn),y_test)"
   ]
  },
  {
   "cell_type": "code",
   "execution_count": 45,
   "metadata": {
    "collapsed": false
   },
   "outputs": [
    {
     "data": {
      "text/plain": [
       "array([[489,  60],\n",
       "       [ 87, 255]])"
      ]
     },
     "execution_count": 45,
     "metadata": {},
     "output_type": "execute_result"
    }
   ],
   "source": [
    "good_features = kbest_selector.fit_transform(all_features, y)\n",
    "SS = StandardScaler()\n",
    "grid.fit(SS.fit_transform(good_features),y)\n",
    "predictions = grid.best_estimator_.predict(SS.fit_transform(good_features))\n",
    "confusion_matrix(y, predictions)"
   ]
  },
  {
   "cell_type": "code",
   "execution_count": 46,
   "metadata": {
    "collapsed": false
   },
   "outputs": [
    {
     "name": "stdout",
     "output_type": "stream",
     "text": [
      "             precision    recall  f1-score   support\n",
      "\n",
      "          0       0.85      0.89      0.87       549\n",
      "          1       0.81      0.75      0.78       342\n",
      "\n",
      "avg / total       0.83      0.84      0.83       891\n",
      "\n"
     ]
    }
   ],
   "source": [
    "print classification_report(y, predictions)"
   ]
  },
  {
   "cell_type": "code",
   "execution_count": 47,
   "metadata": {
    "collapsed": false
   },
   "outputs": [
    {
     "data": {
      "text/plain": [
       "<matplotlib.axes._subplots.AxesSubplot at 0x7f10522ef290>"
      ]
     },
     "execution_count": 47,
     "metadata": {},
     "output_type": "execute_result"
    },
    {
     "data": {
      "image/png": "[encoded data removed]",
      "text/plain": [
       "<matplotlib.figure.Figure at 0x7f1052487b90>"
      ]
     },
     "metadata": {},
     "output_type": "display_data"
    }
   ],
   "source": [
    "sns.heatmap(confusion_matrix(y, predictions), annot=True)"
   ]
  },
  {
   "cell_type": "code",
   "execution_count": 48,
   "metadata": {
    "collapsed": true
   },
   "outputs": [],
   "source": [
    "from sklearn.metrics import roc_curve, auc\n",
    "import matplotlib.pyplot as plt\n",
    "plt.style.use('seaborn-white')\n",
    "%matplotlib inline"
   ]
  },
  {
   "cell_type": "code",
   "execution_count": 49,
   "metadata": {
    "collapsed": false
   },
   "outputs": [
    {
     "name": "stdout",
     "output_type": "stream",
     "text": [
      "KNeighborsClassifier(algorithm='auto', leaf_size=30, metric='minkowski',\n",
      "           metric_params=None, n_jobs=1, n_neighbors=7, p=2,\n",
      "           weights='distance')\n",
      "0.798206278027\n"
     ]
    }
   ],
   "source": [
    "good_features = kbest_selector.fit_transform(x_test, y_test)\n",
    "SS = StandardScaler()\n",
    "grid.fit(SS.fit_transform(good_features),y_test)\n",
    "print grid.best_estimator_\n",
    "print grid.best_score_"
   ]
  },
  {
   "cell_type": "code",
   "execution_count": 50,
   "metadata": {
    "collapsed": false
   },
   "outputs": [
    {
     "name": "stdout",
     "output_type": "stream",
     "text": [
      "(array([ 0.        ,  0.04477612,  1.        ]), array([ 0.        ,  0.66292135,  1.        ]), array([2, 1, 0]))\n"
     ]
    },
    {
     "data": {
      "image/png": "[encoded data removed]",
      "text/plain": [
       "<matplotlib.figure.Figure at 0x7f1052a5ec10>"
      ]
     },
     "metadata": {},
     "output_type": "display_data"
    }
   ],
   "source": [
    "y_pred = grid.best_estimator_.predict(SS.fit_transform(good_features))\n",
    "FPR = dict()\n",
    "TPR = dict()\n",
    "ROC_AUC = dict()\n",
    "print roc_curve(y_test, y_pred)\n",
    "FPR[1], TPR[1], _ = roc_curve(y_test, y_pred)\n",
    "ROC_AUC[1] = auc(FPR[1], TPR[1])\n",
    "plt.figure(figsize=[11,9])\n",
    "plt.plot(FPR[1], TPR[1], label='ROC curve (area = %0.2f)' % ROC_AUC[1], linewidth=4)\n",
    "plt.plot([0, 1], [0, 1], 'k--', linewidth=4)\n",
    "plt.xlim([0.0, 1.0])\n",
    "plt.ylim([0.0, 1.05])\n",
    "plt.xlabel('False Positive Rate', fontsize=18)\n",
    "plt.ylabel('True Positive Rate', fontsize=18)\n",
    "plt.title('Receiver operating characteristic for cancer detection', fontsize=18)\n",
    "plt.legend(loc=\"lower right\")\n",
    "plt.show()"
   ]
  },
  {
   "cell_type": "code",
   "execution_count": null,
   "metadata": {
    "collapsed": true
   },
   "outputs": [],
   "source": []
  },
  {
   "cell_type": "code",
   "execution_count": null,
   "metadata": {
    "collapsed": true
   },
   "outputs": [],
   "source": []
  },
  {
   "cell_type": "markdown",
   "metadata": {},
   "source": [
    "# Logistic Regression"
   ]
  },
  {
   "cell_type": "code",
   "execution_count": 51,
   "metadata": {
    "collapsed": true
   },
   "outputs": [],
   "source": [
    "# def rfe_selector(X, y, k=5):\n",
    "#     model = LogisticRegression()\n",
    "#     rfe = RFE(estimator=model, step=1, n_features_to_select=k)\n",
    "#     return rfe.fit_transform(X, y)\n",
    "\n",
    "def best_log_rfe_k(X,y,model, max_features, n=5):\n",
    "    max_score = 0\n",
    "    best_k = 0\n",
    "    for i in range(max_features):\n",
    "        rfe = RFE(estimator=model, step=1, n_features_to_select=i+1)\n",
    "        model.fit(rfe.fit_transform(X, y), y)\n",
    "        score = model.score(rfe.fit_transform(X, y), y)\n",
    "        \n",
    "        if score > max_score:\n",
    "            max_score = score\n",
    "            best_k = i+1\n",
    "    return best_k"
   ]
  },
  {
   "cell_type": "code",
   "execution_count": 52,
   "metadata": {
    "collapsed": true
   },
   "outputs": [],
   "source": [
    "def best_log_kbest_k(X,y,model,max_features, n=5):\n",
    "    max_score = 0\n",
    "    best_k = 0\n",
    "    for i in range(max_features):\n",
    "        kbest = SelectKBest(k=i+1)\n",
    "        model.fit(kbest.fit_transform(X, y), y)\n",
    "        score = model.score(kbest.fit_transform(X, y), y)\n",
    "        if score > max_score:\n",
    "            max_score = score\n",
    "            best_k = i+1\n",
    "    return best_k"
   ]
  },
  {
   "cell_type": "code",
   "execution_count": 53,
   "metadata": {
    "collapsed": false
   },
   "outputs": [],
   "source": [
    "# model = LogisticRegression()\n",
    "# print model.fit(good_features, y)\n",
    "# print model.score(good_features, y)"
   ]
  },
  {
   "cell_type": "code",
   "execution_count": 55,
   "metadata": {
    "collapsed": false
   },
   "outputs": [
    {
     "name": "stdout",
     "output_type": "stream",
     "text": [
      "13\n",
      "0.821548821549\n"
     ]
    }
   ],
   "source": [
    "rfe_log_model = LogisticRegression()\n",
    "rfe_k = best_log_rfe_k(all_features, y, rfe_log_model, feature_count)\n",
    "print rfe_k\n",
    "rfe_log_selector = RFE(estimator=rfe_log_model, step=1, n_features_to_select=rfe_k)\n",
    "best_rfe_features = rfe_log_selector.fit_transform(all_features, y)\n",
    "rfe_log_model.fit(best_rfe_features, y)\n",
    "print rfe_log_model.score(rfe_log_selector.fit_transform(all_features, y), y)"
   ]
  },
  {
   "cell_type": "code",
   "execution_count": 56,
   "metadata": {
    "collapsed": false
   },
   "outputs": [
    {
     "name": "stdout",
     "output_type": "stream",
     "text": [
      "23\n",
      "0.819304152637\n"
     ]
    }
   ],
   "source": [
    "kbest_log_model = LogisticRegression()\n",
    "kbest_k = best_log_kbest_k(all_features, y, kbest_log_model, feature_count)\n",
    "print kbest_k\n",
    "kbest_log_selector = SelectKBest(k=kbest_k)\n",
    "best_kbest_features = kbest_log_selector.fit_transform(all_features, y)\n",
    "kbest_log_model.fit(best_kbest_features, y)\n",
    "print kbest_log_model.score(kbest_log_selector.fit_transform(all_features, y), y)"
   ]
  },
  {
   "cell_type": "code",
   "execution_count": null,
   "metadata": {
    "collapsed": true
   },
   "outputs": [],
   "source": []
  },
  {
   "cell_type": "code",
   "execution_count": null,
   "metadata": {
    "collapsed": true
   },
   "outputs": [],
   "source": []
  },
  {
   "cell_type": "code",
   "execution_count": 57,
   "metadata": {
    "collapsed": false
   },
   "outputs": [
    {
     "name": "stdout",
     "output_type": "stream",
     "text": [
      "LogisticRegression(C=0.1, class_weight=None, dual=False, fit_intercept=True,\n",
      "          intercept_scaling=1, max_iter=100, multi_class='ovr', n_jobs=1,\n",
      "          penalty='l1', random_state=None, solver='liblinear', tol=0.0001,\n",
      "          verbose=0, warm_start=False)\n",
      "0.786756453423\n",
      "[[ 2.10287148  0.          0.          0.          0.          0.          0.\n",
      "   0.          0.          0.          0.01385403 -0.08364584 -1.35094789\n",
      "   0.22103976  0.          0.          0.          0.          0.          0.\n",
      "   0.         -0.54450953  0.        ]]\n"
     ]
    }
   ],
   "source": [
    "log_model_1 = LogisticRegression(penalty='l1', C=0.1)\n",
    "print log_model_1.fit(best_kbest_features,y)\n",
    "print log_model_1.score(best_kbest_features,y)\n",
    "print log_model_1.coef_"
   ]
  },
  {
   "cell_type": "code",
   "execution_count": 58,
   "metadata": {
    "collapsed": false
   },
   "outputs": [
    {
     "name": "stdout",
     "output_type": "stream",
     "text": [
      "LogisticRegression(C=0.1, class_weight=None, dual=False, fit_intercept=True,\n",
      "          intercept_scaling=1, max_iter=100, multi_class='ovr', n_jobs=1,\n",
      "          penalty='l1', random_state=None, solver='liblinear', tol=0.0001,\n",
      "          verbose=0, warm_start=False)\n",
      "0.786756453423\n",
      "[[ 2.10303685  0.          0.          0.          0.          0.\n",
      "   0.09795141 -1.26695554  0.22112563  0.          0.         -0.54396837\n",
      "   0.        ]]\n"
     ]
    }
   ],
   "source": [
    "log_model_2 = LogisticRegression(penalty='l1', C=0.1)\n",
    "print log_model_2.fit(best_rfe_features,y)\n",
    "print log_model_2.score(best_rfe_features,y)\n",
    "print log_model_2.coef_"
   ]
  },
  {
   "cell_type": "code",
   "execution_count": 59,
   "metadata": {
    "collapsed": false
   },
   "outputs": [
    {
     "name": "stdout",
     "output_type": "stream",
     "text": [
      "LogisticRegression(C=10, class_weight=None, dual=False, fit_intercept=True,\n",
      "          intercept_scaling=1, max_iter=100, multi_class='ovr', n_jobs=1,\n",
      "          penalty='l1', random_state=None, solver='liblinear', tol=0.0001,\n",
      "          verbose=0, warm_start=False)\n",
      "0.818181818182\n",
      "[[ 2.6432202   0.60863822  0.58192282  0.73591745  0.28469939  1.1658989\n",
      "   1.64145895  1.04045095 -0.7426395  -0.76096981  0.         -0.43079969\n",
      "  -1.62864538  1.26328303  0.         -0.59446368 -1.05099397 -0.18158034\n",
      "   0.48821596 -0.01540926  0.         -0.61902669  1.36403446]]\n"
     ]
    }
   ],
   "source": [
    "log_model_3 = LogisticRegression(penalty='l1', C=10)\n",
    "print log_model_3.fit(best_kbest_features,y)\n",
    "print log_model_3.score(best_kbest_features,y)\n",
    "print log_model_3.coef_"
   ]
  },
  {
   "cell_type": "code",
   "execution_count": 60,
   "metadata": {
    "collapsed": false,
    "scrolled": false
   },
   "outputs": [
    {
     "name": "stdout",
     "output_type": "stream",
     "text": [
      "LogisticRegression(C=0.03, class_weight=None, dual=False, fit_intercept=True,\n",
      "          intercept_scaling=1, max_iter=100, multi_class='ovr', n_jobs=1,\n",
      "          penalty='l1', random_state=None, solver='liblinear', tol=0.0001,\n",
      "          verbose=0, warm_start=False)\n",
      "0.811447811448\n",
      "\n",
      "Confusion Matrix:\n",
      "[[523  26]\n",
      " [142 200]]\n",
      "\n",
      "Precision Recall:\n",
      "             precision    recall  f1-score   support\n",
      "\n",
      "          0       0.79      0.95      0.86       549\n",
      "          1       0.88      0.58      0.70       342\n",
      "\n",
      "avg / total       0.82      0.81      0.80       891\n",
      "\n"
     ]
    },
    {
     "data": {
      "text/plain": [
       "<matplotlib.axes._subplots.AxesSubplot at 0x7f10519f7f90>"
      ]
     },
     "execution_count": 60,
     "metadata": {},
     "output_type": "execute_result"
    },
    {
     "data": {
      "image/png": "[encoded data removed]",
      "text/plain": [
       "<matplotlib.figure.Figure at 0x7f105193ed10>"
      ]
     },
     "metadata": {},
     "output_type": "display_data"
    }
   ],
   "source": [
    "model = LogisticRegression()\n",
    "Cs = [.01, .03, .05, 0.7, .09, .1, .3, .5, .7, 1, 10, 50, 100]\n",
    "Ls = ['l1', 'l2']\n",
    "kbes_grid = GridSearchCV(estimator=model, \n",
    "                    param_grid={'C': Cs,\n",
    "                                'penalty': Ls\n",
    "                               },\n",
    "                    cv = 6\n",
    "                   )\n",
    "kbes_grid.fit(best_kbest_features,y)\n",
    "print kbes_grid.best_estimator_\n",
    "print kbes_grid.best_score_\n",
    "log_model_kbest = kbes_grid.best_estimator_\n",
    "predictions = log_model_kbest.predict(best_kbest_features)\n",
    "print \"\\nConfusion Matrix:\\n\", confusion_matrix(y, predictions)\n",
    "print \"\\nPrecision Recall:\\n\", classification_report(y, predictions)\n",
    "sns.heatmap(confusion_matrix(y, predictions), annot=True)"
   ]
  },
  {
   "cell_type": "code",
   "execution_count": 61,
   "metadata": {
    "collapsed": false
   },
   "outputs": [
    {
     "name": "stdout",
     "output_type": "stream",
     "text": [
      "LogisticRegression(C=0.03, class_weight=None, dual=False, fit_intercept=True,\n",
      "          intercept_scaling=1, max_iter=100, multi_class='ovr', n_jobs=1,\n",
      "          penalty='l1', random_state=None, solver='liblinear', tol=0.0001,\n",
      "          verbose=0, warm_start=False)\n",
      "0.811447811448\n",
      "\n",
      "Confusion Matrix:\n",
      "[[523  26]\n",
      " [142 200]]\n",
      "\n",
      "Precision Recall:\n",
      "             precision    recall  f1-score   support\n",
      "\n",
      "          0       0.79      0.95      0.86       549\n",
      "          1       0.88      0.58      0.70       342\n",
      "\n",
      "avg / total       0.82      0.81      0.80       891\n",
      "\n"
     ]
    },
    {
     "data": {
      "text/plain": [
       "<matplotlib.axes._subplots.AxesSubplot at 0x7f105193e2d0>"
      ]
     },
     "execution_count": 61,
     "metadata": {},
     "output_type": "execute_result"
    },
    {
     "data": {
      "image/png": "[encoded data removed]",
      "text/plain": [
       "<matplotlib.figure.Figure at 0x7f1051923b10>"
      ]
     },
     "metadata": {},
     "output_type": "display_data"
    }
   ],
   "source": [
    "model = LogisticRegression()\n",
    "Cs = [.01, .03, .05, 0.7, .09, .1, .3, .5, .7, 1, 10, 50, 100]\n",
    "Ls = ['l1', 'l2']\n",
    "rfe_grid = GridSearchCV(estimator=model, \n",
    "                    param_grid={'C': Cs,\n",
    "                                'penalty': Ls\n",
    "                               },\n",
    "                    cv = 6\n",
    "                   )\n",
    "rfe_grid.fit(best_rfe_features,y)\n",
    "print rfe_grid.best_estimator_\n",
    "print rfe_grid.best_score_\n",
    "log_model_rfe = rfe_grid.best_estimator_\n",
    "predictions = log_model_rfe.predict(best_rfe_features)\n",
    "print \"\\nConfusion Matrix:\\n\", confusion_matrix(y, predictions)\n",
    "print \"\\nPrecision Recall:\\n\", classification_report(y, predictions)\n",
    "sns.heatmap(confusion_matrix(y, predictions), annot=True)"
   ]
  },
  {
   "cell_type": "code",
   "execution_count": null,
   "metadata": {
    "collapsed": true
   },
   "outputs": [],
   "source": []
  },
  {
   "cell_type": "code",
   "execution_count": null,
   "metadata": {
    "collapsed": true
   },
   "outputs": [],
   "source": []
  },
  {
   "cell_type": "code",
   "execution_count": 62,
   "metadata": {
    "collapsed": true
   },
   "outputs": [],
   "source": [
    "x_train, x_test, y_train, y_test = train_test_split(all_features, y)"
   ]
  },
  {
   "cell_type": "code",
   "execution_count": 63,
   "metadata": {
    "collapsed": false
   },
   "outputs": [
    {
     "data": {
      "text/plain": [
       "((668, 23), (223, 23))"
      ]
     },
     "execution_count": 63,
     "metadata": {},
     "output_type": "execute_result"
    }
   ],
   "source": [
    "x_train.shape, x_test.shape"
   ]
  },
  {
   "cell_type": "code",
   "execution_count": 64,
   "metadata": {
    "collapsed": false,
    "scrolled": true
   },
   "outputs": [
    {
     "name": "stdout",
     "output_type": "stream",
     "text": [
      "(668, 23)\n"
     ]
    },
    {
     "data": {
      "text/plain": [
       "array([[ 0.,  0.,  0., ...,  0.,  1.,  0.],\n",
       "       [ 0.,  0.,  0., ...,  0.,  1.,  0.],\n",
       "       [ 0.,  1.,  0., ...,  0.,  1.,  0.],\n",
       "       ..., \n",
       "       [ 0.,  1.,  0., ...,  0.,  1.,  0.],\n",
       "       [ 0.,  0.,  0., ...,  0.,  1.,  0.],\n",
       "       [ 0.,  1.,  0., ...,  0.,  1.,  0.]])"
      ]
     },
     "execution_count": 64,
     "metadata": {},
     "output_type": "execute_result"
    }
   ],
   "source": [
    "train_kbest = kbest_log_selector.fit_transform(x_train, y_train)\n",
    "print train_kbest.shape\n",
    "train_kbest"
   ]
  },
  {
   "cell_type": "code",
   "execution_count": 65,
   "metadata": {
    "collapsed": false
   },
   "outputs": [
    {
     "name": "stdout",
     "output_type": "stream",
     "text": [
      "(668, 13)\n"
     ]
    },
    {
     "data": {
      "text/plain": [
       "array([[ 0.,  0.,  1., ...,  0.,  1.,  0.],\n",
       "       [ 0.,  0.,  0., ...,  0.,  1.,  0.],\n",
       "       [ 0.,  0.,  0., ...,  0.,  1.,  0.],\n",
       "       ..., \n",
       "       [ 0.,  0.,  0., ...,  0.,  1.,  0.],\n",
       "       [ 0.,  0.,  0., ...,  0.,  1.,  0.],\n",
       "       [ 0.,  0.,  0., ...,  0.,  1.,  0.]])"
      ]
     },
     "execution_count": 65,
     "metadata": {},
     "output_type": "execute_result"
    }
   ],
   "source": [
    "train_rfe = rfe_log_selector.fit_transform(x_train, y_train)\n",
    "print train_rfe.shape\n",
    "train_rfe"
   ]
  },
  {
   "cell_type": "code",
   "execution_count": 66,
   "metadata": {
    "collapsed": false
   },
   "outputs": [
    {
     "name": "stdout",
     "output_type": "stream",
     "text": [
      "Score with training data (kbest): 0.823353293413\n"
     ]
    }
   ],
   "source": [
    "# log_reg_with_kbest_train = LogisticRegression()\n",
    "log_model_kbest.fit(train_kbest, y_train)\n",
    "print 'Score with training data (kbest):', log_model_kbest.score(train_kbest, y_train)"
   ]
  },
  {
   "cell_type": "code",
   "execution_count": 67,
   "metadata": {
    "collapsed": false
   },
   "outputs": [
    {
     "name": "stdout",
     "output_type": "stream",
     "text": [
      "Score with training data (rfe): 0.823353293413\n"
     ]
    }
   ],
   "source": [
    "# log_reg_with_rfe_train = LogisticRegression()\n",
    "log_model_rfe.fit(train_rfe, y_train)\n",
    "print 'Score with training data (rfe):', log_model_rfe.score(train_rfe, y_train)"
   ]
  },
  {
   "cell_type": "code",
   "execution_count": 68,
   "metadata": {
    "collapsed": false
   },
   "outputs": [
    {
     "name": "stdout",
     "output_type": "stream",
     "text": [
      "Score with training data (all): 0.821856287425\n"
     ]
    }
   ],
   "source": [
    "log_reg_with_all_data_train = LogisticRegression()\n",
    "log_reg_with_all_data_train.fit(x_train, y_train)\n",
    "print 'Score with training data (all):', log_reg_with_all_data_train.score(x_train, y_train)"
   ]
  },
  {
   "cell_type": "code",
   "execution_count": 69,
   "metadata": {
    "collapsed": false
   },
   "outputs": [
    {
     "name": "stdout",
     "output_type": "stream",
     "text": [
      "Score with TEST data (kbest): 0.775784753363\n"
     ]
    }
   ],
   "source": [
    "test_kbest = kbest_log_selector.fit_transform(x_test, y_test)\n",
    "print 'Score with TEST data (kbest):', log_model_kbest.score(test_kbest, y_test)"
   ]
  },
  {
   "cell_type": "code",
   "execution_count": 70,
   "metadata": {
    "collapsed": false
   },
   "outputs": [
    {
     "name": "stdout",
     "output_type": "stream",
     "text": [
      "Score with TEST data (rfe): 0.748878923767\n"
     ]
    }
   ],
   "source": [
    "test_rfe = rfe_log_selector.fit_transform(x_test, y_test)\n",
    "print 'Score with TEST data (rfe):', log_model_rfe.score(test_rfe, y_test)"
   ]
  },
  {
   "cell_type": "code",
   "execution_count": 71,
   "metadata": {
    "collapsed": false
   },
   "outputs": [
    {
     "name": "stdout",
     "output_type": "stream",
     "text": [
      "With all of our columns! We get: 0.7533632287\n"
     ]
    }
   ],
   "source": [
    "print 'With all of our columns! We get:', log_reg_with_all_data_train.score(x_test, y_test)"
   ]
  },
  {
   "cell_type": "code",
   "execution_count": null,
   "metadata": {
    "collapsed": true
   },
   "outputs": [],
   "source": []
  },
  {
   "cell_type": "code",
   "execution_count": 72,
   "metadata": {
    "collapsed": false,
    "scrolled": false
   },
   "outputs": [
    {
     "name": "stdout",
     "output_type": "stream",
     "text": [
      "(array([ 0.        ,  0.02222222,  0.05925926,  0.12592593,  0.23703704,\n",
      "        0.40740741,  0.53333333,  1.        ]), array([ 0.13636364,  0.38636364,  0.52272727,  0.54545455,  0.64772727,\n",
      "        0.82954545,  0.875     ,  1.        ]), array([ 1.06732895,  0.70996413,  0.2549612 ,  0.        , -0.10240362,\n",
      "       -0.35736482, -0.81236775, -1.16973257]))\n"
     ]
    },
    {
     "data": {
      "image/png": "[encoded data removed]",
      "text/plain": [
       "<matplotlib.figure.Figure at 0x7f104bf41810>"
      ]
     },
     "metadata": {},
     "output_type": "display_data"
    }
   ],
   "source": [
    "y_score = log_model_kbest.decision_function(kbest_log_selector.fit_transform(x_test, y_test))\n",
    "\n",
    "FPR = dict()\n",
    "TPR = dict()\n",
    "ROC_AUC = dict() # {}\n",
    "\n",
    "# For class 1, find the area under the curve\n",
    "\n",
    "print roc_curve(y_test, y_score)\n",
    "\n",
    "FPR[1], TPR[1], _ = roc_curve(y_test, y_score)\n",
    "ROC_AUC[1] = auc(FPR[1], TPR[1])\n",
    "\n",
    "\n",
    "# Plot of a ROC curve for class 1 (has_cancer)\n",
    "plt.figure(figsize=[11,9])\n",
    "plt.plot(FPR[1], TPR[1], label='ROC curve (area = %0.2f)' % ROC_AUC[1], linewidth=4)\n",
    "plt.plot([0, 1], [0, 1], 'k--', linewidth=4)\n",
    "plt.xlim([0.0, 1.0])\n",
    "plt.ylim([0.0, 1.05])\n",
    "plt.xlabel('False Positive Rate', fontsize=18)\n",
    "plt.ylabel('True Positive Rate', fontsize=18)\n",
    "plt.title('Receiver operating characteristic for cancer detection', fontsize=18)\n",
    "plt.legend(loc=\"lower right\")\n",
    "plt.show()"
   ]
  },
  {
   "cell_type": "code",
   "execution_count": 73,
   "metadata": {
    "collapsed": false
   },
   "outputs": [
    {
     "name": "stdout",
     "output_type": "stream",
     "text": [
      "(array([ 0.        ,  0.14814815,  0.15555556,  0.17037037,  0.8       ,\n",
      "        0.85185185,  1.        ]), array([ 0.        ,  0.27272727,  0.375     ,  0.625     ,  0.875     ,\n",
      "        0.89772727,  1.        ]), array([ 2.06733521,  1.06733521,  0.70992287,  0.25498137,  0.        ,\n",
      "       -0.35741234, -0.81235385]))\n"
     ]
    },
    {
     "data": {
      "image/png": "[encoded data removed]",
      "text/plain": [
       "<matplotlib.figure.Figure at 0x7f105190b710>"
      ]
     },
     "metadata": {},
     "output_type": "display_data"
    }
   ],
   "source": [
    "y_score = log_model_rfe.decision_function(rfe_log_selector.fit_transform(x_test, y_test))\n",
    "\n",
    "FPR = dict()\n",
    "TPR = dict()\n",
    "ROC_AUC = dict() # {}\n",
    "\n",
    "# For class 1, find the area under the curve\n",
    "\n",
    "print roc_curve(y_test, y_score)\n",
    "\n",
    "FPR[1], TPR[1], _ = roc_curve(y_test, y_score)\n",
    "ROC_AUC[1] = auc(FPR[1], TPR[1])\n",
    "\n",
    "\n",
    "# Plot of a ROC curve for class 1 (has_cancer)\n",
    "plt.figure(figsize=[11,9])\n",
    "plt.plot(FPR[1], TPR[1], label='ROC curve (area = %0.2f)' % ROC_AUC[1], linewidth=4)\n",
    "plt.plot([0, 1], [0, 1], 'k--', linewidth=4)\n",
    "plt.xlim([0.0, 1.0])\n",
    "plt.ylim([0.0, 1.05])\n",
    "plt.xlabel('False Positive Rate', fontsize=18)\n",
    "plt.ylabel('True Positive Rate', fontsize=18)\n",
    "plt.title('Receiver operating characteristic for cancer detection', fontsize=18)\n",
    "plt.legend(loc=\"lower right\")\n",
    "plt.show()"
   ]
  },
  {
   "cell_type": "code",
   "execution_count": null,
   "metadata": {
    "collapsed": true
   },
   "outputs": [],
   "source": []
  },
  {
   "cell_type": "code",
   "execution_count": null,
   "metadata": {
    "collapsed": true
   },
   "outputs": [],
   "source": []
  },
  {
   "cell_type": "code",
   "execution_count": 74,
   "metadata": {
    "collapsed": false
   },
   "outputs": [
    {
     "name": "stdout",
     "output_type": "stream",
     "text": [
      "             precision    recall  f1-score   support\n",
      "\n",
      "          0       0.79      0.95      0.86       549\n",
      "          1       0.88      0.58      0.70       342\n",
      "\n",
      "avg / total       0.82      0.81      0.80       891\n",
      "\n"
     ]
    }
   ],
   "source": [
    "print classification_report(y, predictions)"
   ]
  },
  {
   "cell_type": "code",
   "execution_count": 75,
   "metadata": {
    "collapsed": false
   },
   "outputs": [
    {
     "data": {
      "text/plain": [
       "<matplotlib.axes._subplots.AxesSubplot at 0x7f1052487510>"
      ]
     },
     "execution_count": 75,
     "metadata": {},
     "output_type": "execute_result"
    },
    {
     "data": {
      "image/png": "[encoded data removed]",
      "text/plain": [
       "<matplotlib.figure.Figure at 0x7f10519ad890>"
      ]
     },
     "metadata": {},
     "output_type": "display_data"
    }
   ],
   "source": [
    "sns.heatmap(confusion_matrix(y, predictions), annot=True)"
   ]
  },
  {
   "cell_type": "code",
   "execution_count": null,
   "metadata": {
    "collapsed": true
   },
   "outputs": [],
   "source": []
  },
  {
   "cell_type": "code",
   "execution_count": 76,
   "metadata": {
    "collapsed": false
   },
   "outputs": [
    {
     "name": "stdout",
     "output_type": "stream",
     "text": [
      "KNeighborsClassifier(algorithm='auto', leaf_size=30, metric='minkowski',\n",
      "           metric_params=None, n_jobs=1, n_neighbors=5, p=2,\n",
      "           weights='uniform')\n",
      "0.780269058296\n"
     ]
    }
   ],
   "source": [
    "good_features = kbest_selector.fit_transform(x_test, y_test)\n",
    "SS = StandardScaler()\n",
    "grid.fit(SS.fit_transform(good_features),y_test)\n",
    "print grid.best_estimator_\n",
    "print grid.best_score_"
   ]
  },
  {
   "cell_type": "code",
   "execution_count": 77,
   "metadata": {
    "collapsed": false
   },
   "outputs": [
    {
     "name": "stdout",
     "output_type": "stream",
     "text": [
      "KNeighborsClassifier(algorithm='auto', leaf_size=30, metric='minkowski',\n",
      "           metric_params=None, n_jobs=1, n_neighbors=5, p=2,\n",
      "           weights='uniform')\n",
      "0.780269058296\n"
     ]
    }
   ],
   "source": [
    "good_features = kbest_selector.fit_transform(x_test, y_test)\n",
    "SS = StandardScaler()\n",
    "grid.fit(SS.fit_transform(good_features),y_test)\n",
    "print grid.best_estimator_\n",
    "print grid.best_score_"
   ]
  },
  {
   "cell_type": "code",
   "execution_count": 78,
   "metadata": {
    "collapsed": false
   },
   "outputs": [
    {
     "name": "stdout",
     "output_type": "stream",
     "text": [
      "(array([ 0.        ,  0.08888889,  1.        ]), array([ 0.        ,  0.63636364,  1.        ]), array([2, 1, 0]))\n"
     ]
    },
    {
     "data": {
      "image/png": "[encoded data removed]",
      "text/plain": [
       "<matplotlib.figure.Figure at 0x7f104bc8c2d0>"
      ]
     },
     "metadata": {},
     "output_type": "display_data"
    }
   ],
   "source": [
    "y_pred = grid.best_estimator_.predict(SS.fit_transform(good_features))\n",
    "FPR = dict()\n",
    "TPR = dict()\n",
    "ROC_AUC = dict()\n",
    "print roc_curve(y_test, y_pred)\n",
    "FPR[1], TPR[1], _ = roc_curve(y_test, y_pred)\n",
    "ROC_AUC[1] = auc(FPR[1], TPR[1])\n",
    "plt.figure(figsize=[11,9])\n",
    "plt.plot(FPR[1], TPR[1], label='ROC curve (area = %0.2f)' % ROC_AUC[1], linewidth=4)\n",
    "plt.plot([0, 1], [0, 1], 'k--', linewidth=4)\n",
    "plt.xlim([0.0, 1.0])\n",
    "plt.ylim([0.0, 1.05])\n",
    "plt.xlabel('False Positive Rate', fontsize=18)\n",
    "plt.ylabel('True Positive Rate', fontsize=18)\n",
    "plt.title('Receiver operating characteristic for cancer detection', fontsize=18)\n",
    "plt.legend(loc=\"lower right\")\n",
    "plt.show()"
   ]
  },
  {
   "cell_type": "code",
   "execution_count": null,
   "metadata": {
    "collapsed": true
   },
   "outputs": [],
   "source": []
  },
  {
   "cell_type": "code",
   "execution_count": null,
   "metadata": {
    "collapsed": true
   },
   "outputs": [],
   "source": []
  },
  {
   "cell_type": "code",
   "execution_count": null,
   "metadata": {
    "collapsed": true
   },
   "outputs": [],
   "source": []
  },
  {
   "cell_type": "code",
   "execution_count": null,
   "metadata": {
    "collapsed": true
   },
   "outputs": [],
   "source": []
  },
  {
   "cell_type": "code",
   "execution_count": 79,
   "metadata": {
    "collapsed": false
   },
   "outputs": [
    {
     "name": "stdout",
     "output_type": "stream",
     "text": [
      "[ 12.69158906   1.72525794   0.47630983   0.12099744   0.83439867\n",
      "   1.43954043   3.0976463    1.21379851   0.11880299          nan\n",
      "   2.96392324   2.43000114   6.42280747   2.71493583   1.19652282\n",
      "   0.01548086   0.29164308   0.05693037   3.24900783   0.28251857\n",
      "   1.06353749   1.16130616   0.37604336]\n",
      "[  2.03428096e-13   1.88253068e-02   3.33956710e-01   7.56837359e-01\n",
      "   1.46420314e-01   3.63462471e-02   7.98644866e-04   6.11225530e-02\n",
      "   7.60671269e-01              nan   1.08661766e-03   3.71534251e-03\n",
      "   3.77739611e-07   1.92780976e-03   6.36029390e-02   9.64981837e-01\n",
      "   5.10924726e-01   8.77141450e-01   5.63627490e-04   5.21772793e-01\n",
      "   8.63898086e-02   6.89753389e-02   4.20684629e-01]\n"
     ]
    },
    {
     "ename": "NameError",
     "evalue": "name 'all_feat' is not defined",
     "output_type": "error",
     "traceback": [
      "\u001b[0;31m------------------------------------------------------------\u001b[0m",
      "\u001b[0;31mNameError\u001b[0m                  Traceback (most recent call last)",
      "\u001b[0;32m<ipython-input-79-09b9f3369ca6>\u001b[0m in \u001b[0;36m<module>\u001b[0;34m()\u001b[0m\n\u001b[1;32m      3\u001b[0m \u001b[0;32mprint\u001b[0m \u001b[0mkbest_log_selector\u001b[0m\u001b[0;34m.\u001b[0m\u001b[0mpvalues_\u001b[0m\u001b[0;34m\u001b[0m\u001b[0m\n\u001b[1;32m      4\u001b[0m \u001b[0;34m\u001b[0m\u001b[0m\n\u001b[0;32m----> 5\u001b[0;31m \u001b[0mpredictors\u001b[0m \u001b[0;34m=\u001b[0m \u001b[0mall_feat\u001b[0m\u001b[0;34m.\u001b[0m\u001b[0mcolumns\u001b[0m\u001b[0;34m\u001b[0m\u001b[0m\n\u001b[0m\u001b[1;32m      6\u001b[0m \u001b[0;34m\u001b[0m\u001b[0m\n\u001b[1;32m      7\u001b[0m \u001b[0;31m# # Plot the scores.  See how \"Pclass\", \"Sex\", \"Title\", and \"Fare\" are the best?\u001b[0m\u001b[0;34m\u001b[0m\u001b[0;34m\u001b[0m\u001b[0m\n",
      "\u001b[0;31mNameError\u001b[0m: name 'all_feat' is not defined"
     ]
    }
   ],
   "source": [
    "scores = -np.log10(kbest_log_selector.pvalues_)\n",
    "print scores\n",
    "print kbest_log_selector.pvalues_\n",
    "\n",
    "predictors = all_feat.columns\n",
    "\n",
    "# # Plot the scores.  See how \"Pclass\", \"Sex\", \"Title\", and \"Fare\" are the best?\n",
    "plt.bar(range(len(predictors)), scores)\n",
    "plt.xticks(range(len(predictors)), predictors, rotation='vertical')\n",
    "plt.show()"
   ]
  },
  {
   "cell_type": "code",
   "execution_count": null,
   "metadata": {
    "collapsed": false
   },
   "outputs": [],
   "source": [
    "scores = rfe_log_selector.ranking_\n",
    "print scores\n",
    "predictors = all_feat.columns\n",
    "print rfe_log_selector.support_\n",
    "# for item in zip(predictors, scores, rfe_log_selector.support_):\n",
    "#     print item\n",
    "plt.bar(range(len(predictors)), scores)\n",
    "plt.xticks(range(len(predictors)), predictors, rotation='vertical')\n",
    "plt.show()"
   ]
  },
  {
   "cell_type": "code",
   "execution_count": null,
   "metadata": {
    "collapsed": true
   },
   "outputs": [],
   "source": []
  }
 ],
 "metadata": {
  "anaconda-cloud": {},
  "kernelspec": {
   "display_name": "Python [conda root]",
   "language": "python",
   "name": "conda-root-py"
  },
  "language_info": {
   "codemirror_mode": {
    "name": "ipython",
    "version": 2
   },
   "file_extension": ".py",
   "mimetype": "text/x-python",
   "name": "python",
   "nbconvert_exporter": "python",
   "pygments_lexer": "ipython2",
   "version": "2.7.12"
  }
 },
 "nbformat": 4,
 "nbformat_minor": 1
}
