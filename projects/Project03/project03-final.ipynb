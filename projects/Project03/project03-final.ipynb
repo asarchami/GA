{
 "cells": [
  {
   "cell_type": "markdown",
   "metadata": {},
   "source": [
    "# Import Libraries"
   ]
  },
  {
   "cell_type": "code",
   "execution_count": 1,
   "metadata": {
    "collapsed": false
   },
   "outputs": [],
   "source": [
    "import pandas as pd\n",
    "import numpy as np\n",
    "from sklearn import linear_model\n",
    "import matplotlib.pyplot as plt\n",
    "import datetime"
   ]
  },
  {
   "cell_type": "markdown",
   "metadata": {},
   "source": [
    "# Acquire the data"
   ]
  },
  {
   "cell_type": "markdown",
   "metadata": {},
   "source": [
    "Data is presented in two sets. One with whole data of 2015 and the first three months of 2016 and since this data is large another data set is presented containing subset of the original data"
   ]
  },
  {
   "cell_type": "code",
   "execution_count": 2,
   "metadata": {
    "collapsed": false
   },
   "outputs": [
    {
     "name": "stderr",
     "output_type": "stream",
     "text": [
      "/home/ali/anaconda2/lib/python2.7/site-packages/IPython/core/interactiveshell.py:2717: DtypeWarning: Columns (3) have mixed types. Specify dtype option on import or set low_memory=False.\n",
      "  interactivity=interactivity, compiler=compiler, result=result)\n"
     ]
    }
   ],
   "source": [
    "iowa_data = pd.read_csv(\"../dataset/Iowa_Liquor_Sales_reduced.csv\")\n",
    "iowa_data_sample = pd.read_csv(\"../dataset/Iowa_Liquor_sales_sample_10pct.csv\")"
   ]
  },
  {
   "cell_type": "markdown",
   "metadata": {},
   "source": [
    "# Explore the data"
   ]
  },
  {
   "cell_type": "markdown",
   "metadata": {},
   "source": [
    "We can have a brief description of the dataset here."
   ]
  },
  {
   "cell_type": "code",
   "execution_count": 3,
   "metadata": {
    "collapsed": false,
    "scrolled": true
   },
   "outputs": [
    {
     "data": {
      "text/html": [
       "<div>\n",
       "<table border=\"1\" class=\"dataframe\">\n",
       "  <thead>\n",
       "    <tr style=\"text-align: right;\">\n",
       "      <th></th>\n",
       "      <th>Date</th>\n",
       "      <th>Store Number</th>\n",
       "      <th>City</th>\n",
       "      <th>Zip Code</th>\n",
       "      <th>County Number</th>\n",
       "      <th>County</th>\n",
       "      <th>Category</th>\n",
       "      <th>Category Name</th>\n",
       "      <th>Vendor Number</th>\n",
       "      <th>Item Number</th>\n",
       "      <th>Item Description</th>\n",
       "      <th>Bottle Volume (ml)</th>\n",
       "      <th>State Bottle Cost</th>\n",
       "      <th>State Bottle Retail</th>\n",
       "      <th>Bottles Sold</th>\n",
       "      <th>Sale (Dollars)</th>\n",
       "      <th>Volume Sold (Liters)</th>\n",
       "      <th>Volume Sold (Gallons)</th>\n",
       "    </tr>\n",
       "  </thead>\n",
       "  <tbody>\n",
       "    <tr>\n",
       "      <th>0</th>\n",
       "      <td>03/31/2016</td>\n",
       "      <td>5029</td>\n",
       "      <td>DAVENPORT</td>\n",
       "      <td>52806</td>\n",
       "      <td>82.0</td>\n",
       "      <td>Scott</td>\n",
       "      <td>1022100.0</td>\n",
       "      <td>TEQUILA</td>\n",
       "      <td>370</td>\n",
       "      <td>87152</td>\n",
       "      <td>Avion Silver</td>\n",
       "      <td>375</td>\n",
       "      <td>$9.99</td>\n",
       "      <td>$14.99</td>\n",
       "      <td>12</td>\n",
       "      <td>$179.88</td>\n",
       "      <td>4.5</td>\n",
       "      <td>1.19</td>\n",
       "    </tr>\n",
       "    <tr>\n",
       "      <th>1</th>\n",
       "      <td>03/31/2016</td>\n",
       "      <td>5029</td>\n",
       "      <td>DAVENPORT</td>\n",
       "      <td>52806</td>\n",
       "      <td>82.0</td>\n",
       "      <td>Scott</td>\n",
       "      <td>1022100.0</td>\n",
       "      <td>TEQUILA</td>\n",
       "      <td>395</td>\n",
       "      <td>89197</td>\n",
       "      <td>Jose Cuervo Especial Reposado Tequila</td>\n",
       "      <td>1000</td>\n",
       "      <td>$12.50</td>\n",
       "      <td>$18.75</td>\n",
       "      <td>2</td>\n",
       "      <td>$37.50</td>\n",
       "      <td>2.0</td>\n",
       "      <td>0.53</td>\n",
       "    </tr>\n",
       "  </tbody>\n",
       "</table>\n",
       "</div>"
      ],
      "text/plain": [
       "         Date  Store Number       City Zip Code  County Number County  \\\n",
       "0  03/31/2016          5029  DAVENPORT    52806           82.0  Scott   \n",
       "1  03/31/2016          5029  DAVENPORT    52806           82.0  Scott   \n",
       "\n",
       "    Category Category Name  Vendor Number  Item Number  \\\n",
       "0  1022100.0       TEQUILA            370        87152   \n",
       "1  1022100.0       TEQUILA            395        89197   \n",
       "\n",
       "                        Item Description  Bottle Volume (ml)  \\\n",
       "0                           Avion Silver                 375   \n",
       "1  Jose Cuervo Especial Reposado Tequila                1000   \n",
       "\n",
       "  State Bottle Cost State Bottle Retail  Bottles Sold Sale (Dollars)  \\\n",
       "0             $9.99              $14.99            12        $179.88   \n",
       "1            $12.50              $18.75             2         $37.50   \n",
       "\n",
       "   Volume Sold (Liters)  Volume Sold (Gallons)  \n",
       "0                   4.5                   1.19  \n",
       "1                   2.0                   0.53  "
      ]
     },
     "execution_count": 3,
     "metadata": {},
     "output_type": "execute_result"
    }
   ],
   "source": [
    "iowa_data.head(2)"
   ]
  },
  {
   "cell_type": "code",
   "execution_count": 4,
   "metadata": {
    "collapsed": false,
    "scrolled": true
   },
   "outputs": [
    {
     "name": "stderr",
     "output_type": "stream",
     "text": [
      "/home/ali/anaconda2/lib/python2.7/site-packages/numpy/lib/function_base.py:3834: RuntimeWarning: Invalid value encountered in percentile\n",
      "  RuntimeWarning)\n"
     ]
    },
    {
     "data": {
      "text/html": [
       "<div>\n",
       "<table border=\"1\" class=\"dataframe\">\n",
       "  <thead>\n",
       "    <tr style=\"text-align: right;\">\n",
       "      <th></th>\n",
       "      <th>Store Number</th>\n",
       "      <th>County Number</th>\n",
       "      <th>Category</th>\n",
       "      <th>Vendor Number</th>\n",
       "      <th>Item Number</th>\n",
       "      <th>Bottle Volume (ml)</th>\n",
       "      <th>Bottles Sold</th>\n",
       "      <th>Volume Sold (Liters)</th>\n",
       "      <th>Volume Sold (Gallons)</th>\n",
       "    </tr>\n",
       "  </thead>\n",
       "  <tbody>\n",
       "    <tr>\n",
       "      <th>count</th>\n",
       "      <td>2.709552e+06</td>\n",
       "      <td>2.698639e+06</td>\n",
       "      <td>2.708773e+06</td>\n",
       "      <td>2.709552e+06</td>\n",
       "      <td>2.709552e+06</td>\n",
       "      <td>2.709552e+06</td>\n",
       "      <td>2.709552e+06</td>\n",
       "      <td>2.709552e+06</td>\n",
       "      <td>2.709552e+06</td>\n",
       "    </tr>\n",
       "    <tr>\n",
       "      <th>mean</th>\n",
       "      <td>3.589071e+03</td>\n",
       "      <td>5.726086e+01</td>\n",
       "      <td>1.043826e+06</td>\n",
       "      <td>2.563901e+02</td>\n",
       "      <td>4.601624e+04</td>\n",
       "      <td>9.242111e+02</td>\n",
       "      <td>9.838390e+00</td>\n",
       "      <td>8.921504e+00</td>\n",
       "      <td>2.357017e+00</td>\n",
       "    </tr>\n",
       "    <tr>\n",
       "      <th>std</th>\n",
       "      <td>9.491083e+02</td>\n",
       "      <td>2.732565e+01</td>\n",
       "      <td>5.003493e+04</td>\n",
       "      <td>1.408757e+02</td>\n",
       "      <td>5.311268e+04</td>\n",
       "      <td>5.464858e+02</td>\n",
       "      <td>2.349863e+01</td>\n",
       "      <td>2.824435e+01</td>\n",
       "      <td>7.461356e+00</td>\n",
       "    </tr>\n",
       "    <tr>\n",
       "      <th>min</th>\n",
       "      <td>2.106000e+03</td>\n",
       "      <td>1.000000e+00</td>\n",
       "      <td>1.011100e+06</td>\n",
       "      <td>1.000000e+01</td>\n",
       "      <td>1.460000e+02</td>\n",
       "      <td>0.000000e+00</td>\n",
       "      <td>1.000000e+00</td>\n",
       "      <td>0.000000e+00</td>\n",
       "      <td>0.000000e+00</td>\n",
       "    </tr>\n",
       "    <tr>\n",
       "      <th>25%</th>\n",
       "      <td>2.604000e+03</td>\n",
       "      <td>NaN</td>\n",
       "      <td>NaN</td>\n",
       "      <td>1.150000e+02</td>\n",
       "      <td>2.682800e+04</td>\n",
       "      <td>7.500000e+02</td>\n",
       "      <td>2.000000e+00</td>\n",
       "      <td>1.500000e+00</td>\n",
       "      <td>4.000000e-01</td>\n",
       "    </tr>\n",
       "    <tr>\n",
       "      <th>50%</th>\n",
       "      <td>3.721000e+03</td>\n",
       "      <td>NaN</td>\n",
       "      <td>NaN</td>\n",
       "      <td>2.600000e+02</td>\n",
       "      <td>3.817600e+04</td>\n",
       "      <td>7.500000e+02</td>\n",
       "      <td>6.000000e+00</td>\n",
       "      <td>5.250000e+00</td>\n",
       "      <td>1.390000e+00</td>\n",
       "    </tr>\n",
       "    <tr>\n",
       "      <th>75%</th>\n",
       "      <td>4.382000e+03</td>\n",
       "      <td>NaN</td>\n",
       "      <td>NaN</td>\n",
       "      <td>3.800000e+02</td>\n",
       "      <td>6.460100e+04</td>\n",
       "      <td>1.000000e+03</td>\n",
       "      <td>1.200000e+01</td>\n",
       "      <td>1.050000e+01</td>\n",
       "      <td>2.770000e+00</td>\n",
       "    </tr>\n",
       "    <tr>\n",
       "      <th>max</th>\n",
       "      <td>9.023000e+03</td>\n",
       "      <td>9.900000e+01</td>\n",
       "      <td>1.701100e+06</td>\n",
       "      <td>9.780000e+02</td>\n",
       "      <td>9.992750e+05</td>\n",
       "      <td>2.250000e+05</td>\n",
       "      <td>3.960000e+03</td>\n",
       "      <td>3.960000e+03</td>\n",
       "      <td>1.046120e+03</td>\n",
       "    </tr>\n",
       "  </tbody>\n",
       "</table>\n",
       "</div>"
      ],
      "text/plain": [
       "       Store Number  County Number      Category  Vendor Number   Item Number  \\\n",
       "count  2.709552e+06   2.698639e+06  2.708773e+06   2.709552e+06  2.709552e+06   \n",
       "mean   3.589071e+03   5.726086e+01  1.043826e+06   2.563901e+02  4.601624e+04   \n",
       "std    9.491083e+02   2.732565e+01  5.003493e+04   1.408757e+02  5.311268e+04   \n",
       "min    2.106000e+03   1.000000e+00  1.011100e+06   1.000000e+01  1.460000e+02   \n",
       "25%    2.604000e+03            NaN           NaN   1.150000e+02  2.682800e+04   \n",
       "50%    3.721000e+03            NaN           NaN   2.600000e+02  3.817600e+04   \n",
       "75%    4.382000e+03            NaN           NaN   3.800000e+02  6.460100e+04   \n",
       "max    9.023000e+03   9.900000e+01  1.701100e+06   9.780000e+02  9.992750e+05   \n",
       "\n",
       "       Bottle Volume (ml)  Bottles Sold  Volume Sold (Liters)  \\\n",
       "count        2.709552e+06  2.709552e+06          2.709552e+06   \n",
       "mean         9.242111e+02  9.838390e+00          8.921504e+00   \n",
       "std          5.464858e+02  2.349863e+01          2.824435e+01   \n",
       "min          0.000000e+00  1.000000e+00          0.000000e+00   \n",
       "25%          7.500000e+02  2.000000e+00          1.500000e+00   \n",
       "50%          7.500000e+02  6.000000e+00          5.250000e+00   \n",
       "75%          1.000000e+03  1.200000e+01          1.050000e+01   \n",
       "max          2.250000e+05  3.960000e+03          3.960000e+03   \n",
       "\n",
       "       Volume Sold (Gallons)  \n",
       "count           2.709552e+06  \n",
       "mean            2.357017e+00  \n",
       "std             7.461356e+00  \n",
       "min             0.000000e+00  \n",
       "25%             4.000000e-01  \n",
       "50%             1.390000e+00  \n",
       "75%             2.770000e+00  \n",
       "max             1.046120e+03  "
      ]
     },
     "execution_count": 4,
     "metadata": {},
     "output_type": "execute_result"
    }
   ],
   "source": [
    "iowa_data.describe()"
   ]
  },
  {
   "cell_type": "code",
   "execution_count": 5,
   "metadata": {
    "collapsed": false,
    "scrolled": true
   },
   "outputs": [
    {
     "name": "stdout",
     "output_type": "stream",
     "text": [
      "Date\n",
      "count        2709552\n",
      "unique           284\n",
      "top       12/01/2015\n",
      "freq           15588\n",
      "Name: Date, dtype: object \n",
      "\n",
      "Store Number\n",
      "count    2.709552e+06\n",
      "mean     3.589071e+03\n",
      "std      9.491083e+02\n",
      "min      2.106000e+03\n",
      "25%      2.604000e+03\n",
      "50%      3.721000e+03\n",
      "75%      4.382000e+03\n",
      "max      9.023000e+03\n",
      "Name: Store Number, dtype: float64 \n",
      "\n",
      "City\n",
      "count        2709552\n",
      "unique           386\n",
      "top       DES MOINES\n",
      "freq          237791\n",
      "Name: City, dtype: object \n",
      "\n",
      "Zip Code\n",
      "count     2709552\n",
      "unique        771\n",
      "top         50010\n",
      "freq        67815\n",
      "Name: Zip Code, dtype: object \n",
      "\n",
      "County Number\n",
      "count    2.698639e+06\n",
      "mean     5.726086e+01\n",
      "std      2.732565e+01\n",
      "min      1.000000e+00\n",
      "25%               NaN\n",
      "50%               NaN\n",
      "75%               NaN\n",
      "max      9.900000e+01\n",
      "Name: County Number, dtype: float64 \n",
      "\n",
      "County\n",
      "count     2698639\n",
      "unique         99\n",
      "top          Polk\n",
      "freq       491953\n",
      "Name: County, dtype: object \n",
      "\n",
      "Category\n",
      "count    2.708773e+06\n",
      "mean     1.043826e+06\n",
      "std      5.003493e+04\n",
      "min      1.011100e+06\n",
      "25%               NaN\n",
      "50%               NaN\n",
      "75%               NaN\n",
      "max      1.701100e+06\n",
      "Name: Category, dtype: float64 \n",
      "\n",
      "Category Name\n",
      "count            2703443\n",
      "unique                73\n",
      "top       VODKA 80 PROOF\n",
      "freq              353491\n",
      "Name: Category Name, dtype: object \n",
      "\n",
      "Vendor Number\n",
      "count    2.709552e+06\n",
      "mean     2.563901e+02\n",
      "std      1.408757e+02\n",
      "min      1.000000e+01\n",
      "25%      1.150000e+02\n",
      "50%      2.600000e+02\n",
      "75%      3.800000e+02\n",
      "max      9.780000e+02\n",
      "Name: Vendor Number, dtype: float64 \n",
      "\n",
      "Item Number\n",
      "count    2.709552e+06\n",
      "mean     4.601624e+04\n",
      "std      5.311268e+04\n",
      "min      1.460000e+02\n",
      "25%      2.682800e+04\n",
      "50%      3.817600e+04\n",
      "75%      6.460100e+04\n",
      "max      9.992750e+05\n",
      "Name: Item Number, dtype: float64 \n",
      "\n",
      "Item Description\n",
      "count          2709552\n",
      "unique            3029\n",
      "top       Black Velvet\n",
      "freq             72432\n",
      "Name: Item Description, dtype: object \n",
      "\n",
      "Bottle Volume (ml)\n",
      "count    2.709552e+06\n",
      "mean     9.242111e+02\n",
      "std      5.464858e+02\n",
      "min      0.000000e+00\n",
      "25%      7.500000e+02\n",
      "50%      7.500000e+02\n",
      "75%      1.000000e+03\n",
      "max      2.250000e+05\n",
      "Name: Bottle Volume (ml), dtype: float64 \n",
      "\n",
      "State Bottle Cost\n",
      "count     2709552\n",
      "unique       1471\n",
      "top         $8.25\n",
      "freq        61549\n",
      "Name: State Bottle Cost, dtype: object \n",
      "\n",
      "State Bottle Retail\n",
      "count     2709552\n",
      "unique       1525\n",
      "top        $12.38\n",
      "freq        61549\n",
      "Name: State Bottle Retail, dtype: object \n",
      "\n",
      "Bottles Sold\n",
      "count    2.709552e+06\n",
      "mean     9.838390e+00\n",
      "std      2.349863e+01\n",
      "min      1.000000e+00\n",
      "25%      2.000000e+00\n",
      "50%      6.000000e+00\n",
      "75%      1.200000e+01\n",
      "max      3.960000e+03\n",
      "Name: Bottles Sold, dtype: float64 \n",
      "\n",
      "Sale (Dollars)\n",
      "count     2709552\n",
      "unique      11456\n",
      "top       $162.00\n",
      "freq        34673\n",
      "Name: Sale (Dollars), dtype: object \n",
      "\n",
      "Volume Sold (Liters)\n",
      "count    2.709552e+06\n",
      "mean     8.921504e+00\n",
      "std      2.824435e+01\n",
      "min      0.000000e+00\n",
      "25%      1.500000e+00\n",
      "50%      5.250000e+00\n",
      "75%      1.050000e+01\n",
      "max      3.960000e+03\n",
      "Name: Volume Sold (Liters), dtype: float64 \n",
      "\n",
      "Volume Sold (Gallons)\n",
      "count    2.709552e+06\n",
      "mean     2.357017e+00\n",
      "std      7.461356e+00\n",
      "min      0.000000e+00\n",
      "25%      4.000000e-01\n",
      "50%      1.390000e+00\n",
      "75%      2.770000e+00\n",
      "max      1.046120e+03\n",
      "Name: Volume Sold (Gallons), dtype: float64 \n",
      "\n"
     ]
    }
   ],
   "source": [
    "for name in iowa_data.columns:\n",
    "    print name\n",
    "    print iowa_data[name].describe(), \"\\n\""
   ]
  },
  {
   "cell_type": "markdown",
   "metadata": {},
   "source": [
    "Data set apperas to be well formatted and well maintained. there are little absent data which most of it are easily forgivable or replacable. what we can find out from looking at data description is as follow:\n",
    "1. There seems to be 270955 record of data\n",
    "2. there seems to be some data missing from \"County Number\", \"Category\", \"County\" and \"Category Name\"\n",
    "3. Date column is extracted as string type which makes it hard to wirk on it\n",
    "\n",
    "First we need to address the missing data. We either have to remove records with lost data or fill them with exploration.\n",
    "We can fill County and County number of some stores simply by looking at records which those columns are present."
   ]
  },
  {
   "cell_type": "code",
   "execution_count": 6,
   "metadata": {
    "collapsed": true
   },
   "outputs": [],
   "source": [
    "stores = iowa_data[(iowa_data['County Number'].isnull())]['Store Number'].value_counts().reset_index()\n",
    "for s in stores['index']:\n",
    "    d = iowa_data[(iowa_data['Store Number'] == s) & (~iowa_data['County Number'].isnull())]\n",
    "    if len(d) > 0:\n",
    "        iowa_data.loc[(iowa_data['Store Number'] == s), ['County Number', 'County']] = d.iat[0,4], d.iat[0,5]"
   ]
  },
  {
   "cell_type": "markdown",
   "metadata": {},
   "source": [
    "Now we have decreased field without \"County\" and \"County Name\" we can go further use zip codes to determine more counties but since zip codes may be used by more than one county its not a good Idea"
   ]
  },
  {
   "cell_type": "markdown",
   "metadata": {
    "collapsed": true
   },
   "source": [
    "We can do the same with 'Category' and 'Category Name' but as we discover later we can't fill the missing data this way. so I decide to Change unfilled 'Category' to 0 and 'Category Name' to 'Unknown' so I can use them later as a single category."
   ]
  },
  {
   "cell_type": "code",
   "execution_count": 7,
   "metadata": {
    "collapsed": true
   },
   "outputs": [],
   "source": [
    "iowa_data.loc[(iowa_data['Category'].isnull()), ['Category', 'Category Name']] = 0, 'Unknown'"
   ]
  },
  {
   "cell_type": "markdown",
   "metadata": {},
   "source": [
    "Next I change 'Date' type from 'String' to \"dateTime'"
   ]
  },
  {
   "cell_type": "code",
   "execution_count": 8,
   "metadata": {
    "collapsed": true
   },
   "outputs": [],
   "source": [
    "iowa_data['Date'] = pd.to_datetime(iowa_data['Date'], format='%m/%d/%Y')"
   ]
  },
  {
   "cell_type": "markdown",
   "metadata": {},
   "source": [
    "Also we can see 'Sale (Dollars)', 'State Bottle Retail' and 'State Bottle Cost' are strings so we have to convert them to float inorder to be usefull"
   ]
  },
  {
   "cell_type": "code",
   "execution_count": 9,
   "metadata": {
    "collapsed": true
   },
   "outputs": [],
   "source": [
    "iowa_data['Sale (Dollars)'] = iowa_data['Sale (Dollars)'].apply(lambda x: float(x.replace(\"$\", \"\")))\n",
    "iowa_data['State Bottle Retail'] = iowa_data['State Bottle Retail'].apply(lambda x: float(x.replace(\"$\", \"\")))\n",
    "iowa_data['State Bottle Cost'] = iowa_data['State Bottle Cost'].apply(lambda x: float(x.replace(\"$\", \"\")))"
   ]
  },
  {
   "cell_type": "code",
   "execution_count": 10,
   "metadata": {
    "collapsed": true
   },
   "outputs": [],
   "source": [
    "record_2015 = iowa_data[(iowa_data['Date'] > '01/1/2015') & (iowa_data['Date'] <= '01/1/2016')]"
   ]
  },
  {
   "cell_type": "code",
   "execution_count": 11,
   "metadata": {
    "collapsed": false
   },
   "outputs": [],
   "source": [
    "store_records = pd.pivot_table(record_2015,\n",
    "        index = 'Store Number',\n",
    "        values = 'Sale (Dollars)',\n",
    "        aggfunc= np.sum\n",
    "        ).reset_index()"
   ]
  },
  {
   "cell_type": "code",
   "execution_count": 12,
   "metadata": {
    "collapsed": false
   },
   "outputs": [
    {
     "data": {
      "image/png": "[encoded data removed]",
      "text/plain": [
       "<matplotlib.figure.Figure at 0x7f1fb405a1d0>"
      ]
     },
     "metadata": {},
     "output_type": "display_data"
    }
   ],
   "source": [
    "plt.ticklabel_format(style='plain')\n",
    "plt.hist(store_records['Sale (Dollars)'], bins=100)\n",
    "plt.show()"
   ]
  },
  {
   "cell_type": "code",
   "execution_count": 13,
   "metadata": {
    "collapsed": true
   },
   "outputs": [],
   "source": [
    "daily_sales = pd.pivot_table(record_2015,\n",
    "        index = 'Date',\n",
    "        values = 'Sale (Dollars)',\n",
    "        aggfunc= np.sum\n",
    "        ).reset_index()\n",
    "daily_sales['Day'] = daily_sales['Date'].apply(lambda x: datetime.datetime.date(x).weekday())\n",
    "daily_sales = daily_sales.pivot_table(index='Day', values='Sale (Dollars)', aggfunc=np.sum).reset_index()"
   ]
  },
  {
   "cell_type": "code",
   "execution_count": 14,
   "metadata": {
    "collapsed": false
   },
   "outputs": [
    {
     "data": {
      "image/png": "[encoded data removed]",
      "text/plain": [
       "<matplotlib.figure.Figure at 0x7f1fb4125d90>"
      ]
     },
     "metadata": {},
     "output_type": "display_data"
    }
   ],
   "source": [
    "LABELS = [\"Monday\", \"Tuesday\", \"Wednesday\", 'Thursday', \"Friday\", 'Saturday', 'Sunday']\n",
    "plt.ticklabel_format(style='plain', useLocale=True)\n",
    "plt.bar(daily_sales['Day'], daily_sales['Sale (Dollars)'])\n",
    "plt.xticks(daily_sales['Day'], LABELS)\n",
    "plt.show()"
   ]
  },
  {
   "cell_type": "code",
   "execution_count": 15,
   "metadata": {
    "collapsed": true
   },
   "outputs": [],
   "source": [
    "daily_sales = pd.pivot_table(record_2015,\n",
    "        index = 'Date',\n",
    "        values = 'Sale (Dollars)',\n",
    "        aggfunc= np.sum\n",
    "        ).reset_index()\n",
    "daily_sales['Month'] = daily_sales['Date'].apply(lambda x: datetime.datetime.date(x).month)\n",
    "daily_sales = daily_sales.pivot_table(index='Month', values='Sale (Dollars)', aggfunc=np.sum).reset_index()"
   ]
  },
  {
   "cell_type": "code",
   "execution_count": 16,
   "metadata": {
    "collapsed": false
   },
   "outputs": [
    {
     "data": {
      "image/png": "[encoded data removed]",
      "text/plain": [
       "<matplotlib.figure.Figure at 0x7f1fb34e8510>"
      ]
     },
     "metadata": {},
     "output_type": "display_data"
    }
   ],
   "source": [
    "LABELS = [datetime.date(2016, i, 1).strftime('%B') for i in range(1,13)]\n",
    "plt.ticklabel_format(style='plain')\n",
    "plt.bar(daily_sales['Month'], daily_sales['Sale (Dollars)'])\n",
    "plt.xticks(daily_sales['Month'], LABELS, rotation='vertical')\n",
    "plt.show()"
   ]
  },
  {
   "cell_type": "code",
   "execution_count": 17,
   "metadata": {
    "collapsed": true
   },
   "outputs": [],
   "source": [
    "county_sales = pd.pivot_table(record_2015,\n",
    "        index = 'County',\n",
    "        values = 'Sale (Dollars)',\n",
    "        aggfunc= np.sum\n",
    "        ).reset_index()"
   ]
  },
  {
   "cell_type": "code",
   "execution_count": 18,
   "metadata": {
    "collapsed": false
   },
   "outputs": [
    {
     "data": {
      "image/png": "[encoded data removed]",
      "text/plain": [
       "<matplotlib.figure.Figure at 0x7f1fb3d56a50>"
      ]
     },
     "metadata": {},
     "output_type": "display_data"
    }
   ],
   "source": [
    "plt.ticklabel_format(style='plain')\n",
    "plt.hist(county_sales['Sale (Dollars)'], bins=100)\n",
    "plt.xticks(rotation='vertical')\n",
    "plt.show()"
   ]
  },
  {
   "cell_type": "markdown",
   "metadata": {},
   "source": [
    "# Scenario #1"
   ]
  },
  {
   "cell_type": "markdown",
   "metadata": {},
   "source": [
    "##### Calculate the yearly liquor sales for each store using the provided data. You can add up the transactions for each year, and store sales in 2015 specifically will be used later as your target variable"
   ]
  },
  {
   "cell_type": "code",
   "execution_count": 19,
   "metadata": {
    "collapsed": true
   },
   "outputs": [],
   "source": [
    "record_2015 = iowa_data[(iowa_data['Date'] > '01/1/2015') & (iowa_data['Date'] <= '01/1/2016')]\n",
    "record_jan_feb_march_2015 = iowa_data[(iowa_data['Date'] > '2015-1-1') & (iowa_data['Date'] <= '2016-4-1')]"
   ]
  },
  {
   "cell_type": "code",
   "execution_count": 20,
   "metadata": {
    "collapsed": false
   },
   "outputs": [
    {
     "data": {
      "text/html": [
       "<div>\n",
       "<table border=\"1\" class=\"dataframe\">\n",
       "  <thead>\n",
       "    <tr style=\"text-align: right;\">\n",
       "      <th></th>\n",
       "      <th>Store Number</th>\n",
       "      <th>Sale (Dollars)</th>\n",
       "    </tr>\n",
       "  </thead>\n",
       "  <tbody>\n",
       "    <tr>\n",
       "      <th>0</th>\n",
       "      <td>2106</td>\n",
       "      <td>1434369.85</td>\n",
       "    </tr>\n",
       "    <tr>\n",
       "      <th>1</th>\n",
       "      <td>2113</td>\n",
       "      <td>85763.42</td>\n",
       "    </tr>\n",
       "    <tr>\n",
       "      <th>2</th>\n",
       "      <td>2130</td>\n",
       "      <td>1108184.99</td>\n",
       "    </tr>\n",
       "    <tr>\n",
       "      <th>3</th>\n",
       "      <td>2152</td>\n",
       "      <td>72080.36</td>\n",
       "    </tr>\n",
       "    <tr>\n",
       "      <th>4</th>\n",
       "      <td>2178</td>\n",
       "      <td>277987.96</td>\n",
       "    </tr>\n",
       "  </tbody>\n",
       "</table>\n",
       "</div>"
      ],
      "text/plain": [
       "   Store Number  Sale (Dollars)\n",
       "0          2106      1434369.85\n",
       "1          2113        85763.42\n",
       "2          2130      1108184.99\n",
       "3          2152        72080.36\n",
       "4          2178       277987.96"
      ]
     },
     "execution_count": 20,
     "metadata": {},
     "output_type": "execute_result"
    }
   ],
   "source": [
    "store_sales_2015 = pd.pivot_table(record_2015,\n",
    "        index = 'Store Number',\n",
    "        values = [\"Sale (Dollars)\"],\n",
    "        aggfunc = np.sum\n",
    "       ).reset_index()\n",
    "store_sales_2015.head()"
   ]
  },
  {
   "cell_type": "markdown",
   "metadata": {},
   "source": [
    "##### Use the data from 2015 to make a linear model using as many variables as you find useful to predict the yearly sales of each store. You must use the sales from Jan to March per store as one of your variables.\n"
   ]
  },
  {
   "cell_type": "markdown",
   "metadata": {},
   "source": [
    "Inorder to calculate a good prediction we are going to need more data. We are going to need number of stores in each county as an indicator of cmpetition and total sales of the first three months which shows performance of store"
   ]
  },
  {
   "cell_type": "markdown",
   "metadata": {},
   "source": [
    "We can calculate number of stores in each county as follw:"
   ]
  },
  {
   "cell_type": "code",
   "execution_count": 21,
   "metadata": {
    "collapsed": false
   },
   "outputs": [
    {
     "data": {
      "text/html": [
       "<div>\n",
       "<table border=\"1\" class=\"dataframe\">\n",
       "  <thead>\n",
       "    <tr style=\"text-align: right;\">\n",
       "      <th></th>\n",
       "      <th>County Number</th>\n",
       "      <th>Store Number</th>\n",
       "    </tr>\n",
       "  </thead>\n",
       "  <tbody>\n",
       "    <tr>\n",
       "      <th>0</th>\n",
       "      <td>1.0</td>\n",
       "      <td>8</td>\n",
       "    </tr>\n",
       "    <tr>\n",
       "      <th>1</th>\n",
       "      <td>2.0</td>\n",
       "      <td>1</td>\n",
       "    </tr>\n",
       "    <tr>\n",
       "      <th>2</th>\n",
       "      <td>3.0</td>\n",
       "      <td>6</td>\n",
       "    </tr>\n",
       "    <tr>\n",
       "      <th>3</th>\n",
       "      <td>4.0</td>\n",
       "      <td>6</td>\n",
       "    </tr>\n",
       "    <tr>\n",
       "      <th>4</th>\n",
       "      <td>5.0</td>\n",
       "      <td>3</td>\n",
       "    </tr>\n",
       "  </tbody>\n",
       "</table>\n",
       "</div>"
      ],
      "text/plain": [
       "   County Number  Store Number\n",
       "0            1.0             8\n",
       "1            2.0             1\n",
       "2            3.0             6\n",
       "3            4.0             6\n",
       "4            5.0             3"
      ]
     },
     "execution_count": 21,
     "metadata": {},
     "output_type": "execute_result"
    }
   ],
   "source": [
    "stores_in_counties = record_2015.groupby('County Number')['Store Number'].nunique().reset_index()\n",
    "stores_in_counties.head()"
   ]
  },
  {
   "cell_type": "markdown",
   "metadata": {},
   "source": [
    "Inorder to crossrefrence we are going to need a data set indicating each store located in which county."
   ]
  },
  {
   "cell_type": "code",
   "execution_count": 22,
   "metadata": {
    "collapsed": false
   },
   "outputs": [
    {
     "data": {
      "text/plain": [
       "Store Number\n",
       "2106     7.0\n",
       "2113    94.0\n",
       "2130     7.0\n",
       "2152    17.0\n",
       "2178     3.0\n",
       "Name: County Number, dtype: float64"
      ]
     },
     "execution_count": 22,
     "metadata": {},
     "output_type": "execute_result"
    }
   ],
   "source": [
    "county_of_store = pd.pivot_table(\n",
    "        record_2015, index='Store Number', \n",
    "        values='County Number', \n",
    "        aggfunc=np.mean\n",
    "        )\n",
    "county_of_store.head()"
   ]
  },
  {
   "cell_type": "markdown",
   "metadata": {},
   "source": [
    "Now we build our dataset"
   ]
  },
  {
   "cell_type": "code",
   "execution_count": 23,
   "metadata": {
    "collapsed": false
   },
   "outputs": [
    {
     "data": {
      "text/html": [
       "<div>\n",
       "<table border=\"1\" class=\"dataframe\">\n",
       "  <thead>\n",
       "    <tr style=\"text-align: right;\">\n",
       "      <th></th>\n",
       "      <th>Store Number</th>\n",
       "      <th>Sale (Dollars)</th>\n",
       "    </tr>\n",
       "  </thead>\n",
       "  <tbody>\n",
       "    <tr>\n",
       "      <th>0</th>\n",
       "      <td>2106</td>\n",
       "      <td>1434369.85</td>\n",
       "    </tr>\n",
       "    <tr>\n",
       "      <th>1</th>\n",
       "      <td>2113</td>\n",
       "      <td>85763.42</td>\n",
       "    </tr>\n",
       "    <tr>\n",
       "      <th>2</th>\n",
       "      <td>2130</td>\n",
       "      <td>1108184.99</td>\n",
       "    </tr>\n",
       "    <tr>\n",
       "      <th>3</th>\n",
       "      <td>2152</td>\n",
       "      <td>72080.36</td>\n",
       "    </tr>\n",
       "    <tr>\n",
       "      <th>4</th>\n",
       "      <td>2178</td>\n",
       "      <td>277987.96</td>\n",
       "    </tr>\n",
       "  </tbody>\n",
       "</table>\n",
       "</div>"
      ],
      "text/plain": [
       "   Store Number  Sale (Dollars)\n",
       "0          2106      1434369.85\n",
       "1          2113        85763.42\n",
       "2          2130      1108184.99\n",
       "3          2152        72080.36\n",
       "4          2178       277987.96"
      ]
     },
     "execution_count": 23,
     "metadata": {},
     "output_type": "execute_result"
    }
   ],
   "source": [
    "store_sales = pd.pivot_table(record_2015,\n",
    "    index = 'Store Number',\n",
    "    values = [\"Sale (Dollars)\"],\n",
    "    aggfunc=np.sum\n",
    "    ).reset_index()\n",
    "store_sales.head()"
   ]
  },
  {
   "cell_type": "markdown",
   "metadata": {},
   "source": [
    "Now we calculate first three months sale of each store"
   ]
  },
  {
   "cell_type": "code",
   "execution_count": 24,
   "metadata": {
    "collapsed": false
   },
   "outputs": [
    {
     "data": {
      "text/html": [
       "<div>\n",
       "<table border=\"1\" class=\"dataframe\">\n",
       "  <thead>\n",
       "    <tr style=\"text-align: right;\">\n",
       "      <th></th>\n",
       "      <th>Store Number</th>\n",
       "      <th>Sale (Dollars)</th>\n",
       "    </tr>\n",
       "  </thead>\n",
       "  <tbody>\n",
       "    <tr>\n",
       "      <th>0</th>\n",
       "      <td>2106</td>\n",
       "      <td>337166.53</td>\n",
       "    </tr>\n",
       "    <tr>\n",
       "      <th>1</th>\n",
       "      <td>2113</td>\n",
       "      <td>22351.86</td>\n",
       "    </tr>\n",
       "    <tr>\n",
       "      <th>2</th>\n",
       "      <td>2130</td>\n",
       "      <td>277764.46</td>\n",
       "    </tr>\n",
       "    <tr>\n",
       "      <th>3</th>\n",
       "      <td>2152</td>\n",
       "      <td>16805.11</td>\n",
       "    </tr>\n",
       "    <tr>\n",
       "      <th>4</th>\n",
       "      <td>2178</td>\n",
       "      <td>54411.42</td>\n",
       "    </tr>\n",
       "  </tbody>\n",
       "</table>\n",
       "</div>"
      ],
      "text/plain": [
       "   Store Number  Sale (Dollars)\n",
       "0          2106       337166.53\n",
       "1          2113        22351.86\n",
       "2          2130       277764.46\n",
       "3          2152        16805.11\n",
       "4          2178        54411.42"
      ]
     },
     "execution_count": 24,
     "metadata": {},
     "output_type": "execute_result"
    }
   ],
   "source": [
    "three_months = pd.pivot_table(record_2015[(record_2015['Date'] >= '01/1/2015') & (record_2015['Date'] < '04/1/2015')],\n",
    "    index = 'Store Number',\n",
    "    values = [\"Sale (Dollars)\"],\n",
    "    aggfunc=np.sum\n",
    "    ).reset_index()\n",
    "three_months.head()"
   ]
  },
  {
   "cell_type": "markdown",
   "metadata": {},
   "source": [
    "We add three months sale to our dataset"
   ]
  },
  {
   "cell_type": "code",
   "execution_count": 25,
   "metadata": {
    "collapsed": false
   },
   "outputs": [
    {
     "data": {
      "text/html": [
       "<div>\n",
       "<table border=\"1\" class=\"dataframe\">\n",
       "  <thead>\n",
       "    <tr style=\"text-align: right;\">\n",
       "      <th></th>\n",
       "      <th>Store Number</th>\n",
       "      <th>Sale (Dollars)_x</th>\n",
       "      <th>Sale (Dollars)_y</th>\n",
       "    </tr>\n",
       "  </thead>\n",
       "  <tbody>\n",
       "    <tr>\n",
       "      <th>0</th>\n",
       "      <td>2106</td>\n",
       "      <td>1434369.85</td>\n",
       "      <td>337166.53</td>\n",
       "    </tr>\n",
       "    <tr>\n",
       "      <th>1</th>\n",
       "      <td>2113</td>\n",
       "      <td>85763.42</td>\n",
       "      <td>22351.86</td>\n",
       "    </tr>\n",
       "    <tr>\n",
       "      <th>2</th>\n",
       "      <td>2130</td>\n",
       "      <td>1108184.99</td>\n",
       "      <td>277764.46</td>\n",
       "    </tr>\n",
       "    <tr>\n",
       "      <th>3</th>\n",
       "      <td>2152</td>\n",
       "      <td>72080.36</td>\n",
       "      <td>16805.11</td>\n",
       "    </tr>\n",
       "    <tr>\n",
       "      <th>4</th>\n",
       "      <td>2178</td>\n",
       "      <td>277987.96</td>\n",
       "      <td>54411.42</td>\n",
       "    </tr>\n",
       "  </tbody>\n",
       "</table>\n",
       "</div>"
      ],
      "text/plain": [
       "   Store Number  Sale (Dollars)_x  Sale (Dollars)_y\n",
       "0          2106        1434369.85         337166.53\n",
       "1          2113          85763.42          22351.86\n",
       "2          2130        1108184.99         277764.46\n",
       "3          2152          72080.36          16805.11\n",
       "4          2178         277987.96          54411.42"
      ]
     },
     "execution_count": 25,
     "metadata": {},
     "output_type": "execute_result"
    }
   ],
   "source": [
    "store_sales = pd.merge(store_sales, three_months, on='Store Number', how='left')\n",
    "store_sales.head()"
   ]
  },
  {
   "cell_type": "markdown",
   "metadata": {},
   "source": [
    "We add county number and number of stores in county to our dataset"
   ]
  },
  {
   "cell_type": "code",
   "execution_count": 26,
   "metadata": {
    "collapsed": false
   },
   "outputs": [
    {
     "data": {
      "text/html": [
       "<div>\n",
       "<table border=\"1\" class=\"dataframe\">\n",
       "  <thead>\n",
       "    <tr style=\"text-align: right;\">\n",
       "      <th></th>\n",
       "      <th>0</th>\n",
       "      <th>1</th>\n",
       "      <th>2</th>\n",
       "      <th>3</th>\n",
       "      <th>4</th>\n",
       "    </tr>\n",
       "  </thead>\n",
       "  <tbody>\n",
       "    <tr>\n",
       "      <th>0</th>\n",
       "      <td>2106</td>\n",
       "      <td>1434369.85</td>\n",
       "      <td>337166.53</td>\n",
       "      <td>1.0</td>\n",
       "      <td>8.0</td>\n",
       "    </tr>\n",
       "    <tr>\n",
       "      <th>1</th>\n",
       "      <td>2113</td>\n",
       "      <td>85763.42</td>\n",
       "      <td>22351.86</td>\n",
       "      <td>2.0</td>\n",
       "      <td>1.0</td>\n",
       "    </tr>\n",
       "    <tr>\n",
       "      <th>2</th>\n",
       "      <td>2130</td>\n",
       "      <td>1108184.99</td>\n",
       "      <td>277764.46</td>\n",
       "      <td>3.0</td>\n",
       "      <td>6.0</td>\n",
       "    </tr>\n",
       "    <tr>\n",
       "      <th>3</th>\n",
       "      <td>2152</td>\n",
       "      <td>72080.36</td>\n",
       "      <td>16805.11</td>\n",
       "      <td>4.0</td>\n",
       "      <td>6.0</td>\n",
       "    </tr>\n",
       "    <tr>\n",
       "      <th>4</th>\n",
       "      <td>2178</td>\n",
       "      <td>277987.96</td>\n",
       "      <td>54411.42</td>\n",
       "      <td>5.0</td>\n",
       "      <td>3.0</td>\n",
       "    </tr>\n",
       "  </tbody>\n",
       "</table>\n",
       "</div>"
      ],
      "text/plain": [
       "      0           1          2    3    4\n",
       "0  2106  1434369.85  337166.53  1.0  8.0\n",
       "1  2113    85763.42   22351.86  2.0  1.0\n",
       "2  2130  1108184.99  277764.46  3.0  6.0\n",
       "3  2152    72080.36   16805.11  4.0  6.0\n",
       "4  2178   277987.96   54411.42  5.0  3.0"
      ]
     },
     "execution_count": 26,
     "metadata": {},
     "output_type": "execute_result"
    }
   ],
   "source": [
    "store_sales = pd.concat([store_sales, stores_in_counties], axis=1, ignore_index=True)\n",
    "store_sales.head()"
   ]
  },
  {
   "cell_type": "markdown",
   "metadata": {},
   "source": [
    "Now rename the title to be more readable"
   ]
  },
  {
   "cell_type": "code",
   "execution_count": 27,
   "metadata": {
    "collapsed": false
   },
   "outputs": [
    {
     "data": {
      "text/html": [
       "<div>\n",
       "<table border=\"1\" class=\"dataframe\">\n",
       "  <thead>\n",
       "    <tr style=\"text-align: right;\">\n",
       "      <th></th>\n",
       "      <th>Store Number</th>\n",
       "      <th>Total Sale</th>\n",
       "      <th>Three Month Sale</th>\n",
       "      <th>County Number</th>\n",
       "      <th>Stores in County</th>\n",
       "    </tr>\n",
       "  </thead>\n",
       "  <tbody>\n",
       "    <tr>\n",
       "      <th>0</th>\n",
       "      <td>2106</td>\n",
       "      <td>1434369.85</td>\n",
       "      <td>337166.53</td>\n",
       "      <td>1.0</td>\n",
       "      <td>8.0</td>\n",
       "    </tr>\n",
       "    <tr>\n",
       "      <th>1</th>\n",
       "      <td>2113</td>\n",
       "      <td>85763.42</td>\n",
       "      <td>22351.86</td>\n",
       "      <td>2.0</td>\n",
       "      <td>1.0</td>\n",
       "    </tr>\n",
       "    <tr>\n",
       "      <th>2</th>\n",
       "      <td>2130</td>\n",
       "      <td>1108184.99</td>\n",
       "      <td>277764.46</td>\n",
       "      <td>3.0</td>\n",
       "      <td>6.0</td>\n",
       "    </tr>\n",
       "    <tr>\n",
       "      <th>3</th>\n",
       "      <td>2152</td>\n",
       "      <td>72080.36</td>\n",
       "      <td>16805.11</td>\n",
       "      <td>4.0</td>\n",
       "      <td>6.0</td>\n",
       "    </tr>\n",
       "    <tr>\n",
       "      <th>4</th>\n",
       "      <td>2178</td>\n",
       "      <td>277987.96</td>\n",
       "      <td>54411.42</td>\n",
       "      <td>5.0</td>\n",
       "      <td>3.0</td>\n",
       "    </tr>\n",
       "  </tbody>\n",
       "</table>\n",
       "</div>"
      ],
      "text/plain": [
       "   Store Number  Total Sale  Three Month Sale  County Number  Stores in County\n",
       "0          2106  1434369.85         337166.53            1.0               8.0\n",
       "1          2113    85763.42          22351.86            2.0               1.0\n",
       "2          2130  1108184.99         277764.46            3.0               6.0\n",
       "3          2152    72080.36          16805.11            4.0               6.0\n",
       "4          2178   277987.96          54411.42            5.0               3.0"
      ]
     },
     "execution_count": 27,
     "metadata": {},
     "output_type": "execute_result"
    }
   ],
   "source": [
    "store_sales.columns = [\"Store Number\", \"Total Sale\", \"Three Month Sale\", \"County Number\", \"Stores in County\"]\n",
    "store_sales.head()"
   ]
  },
  {
   "cell_type": "markdown",
   "metadata": {},
   "source": [
    "Now we drop those stores which doesnt have three months sale"
   ]
  },
  {
   "cell_type": "code",
   "execution_count": 28,
   "metadata": {
    "collapsed": false
   },
   "outputs": [
    {
     "data": {
      "text/html": [
       "<div>\n",
       "<table border=\"1\" class=\"dataframe\">\n",
       "  <thead>\n",
       "    <tr style=\"text-align: right;\">\n",
       "      <th></th>\n",
       "      <th>Store Number</th>\n",
       "      <th>Total Sale</th>\n",
       "      <th>Three Month Sale</th>\n",
       "      <th>County Number</th>\n",
       "      <th>Stores in County</th>\n",
       "    </tr>\n",
       "  </thead>\n",
       "  <tbody>\n",
       "    <tr>\n",
       "      <th>0</th>\n",
       "      <td>2106</td>\n",
       "      <td>1434369.85</td>\n",
       "      <td>337166.53</td>\n",
       "      <td>1.0</td>\n",
       "      <td>8.0</td>\n",
       "    </tr>\n",
       "    <tr>\n",
       "      <th>1</th>\n",
       "      <td>2113</td>\n",
       "      <td>85763.42</td>\n",
       "      <td>22351.86</td>\n",
       "      <td>2.0</td>\n",
       "      <td>1.0</td>\n",
       "    </tr>\n",
       "    <tr>\n",
       "      <th>2</th>\n",
       "      <td>2130</td>\n",
       "      <td>1108184.99</td>\n",
       "      <td>277764.46</td>\n",
       "      <td>3.0</td>\n",
       "      <td>6.0</td>\n",
       "    </tr>\n",
       "    <tr>\n",
       "      <th>3</th>\n",
       "      <td>2152</td>\n",
       "      <td>72080.36</td>\n",
       "      <td>16805.11</td>\n",
       "      <td>4.0</td>\n",
       "      <td>6.0</td>\n",
       "    </tr>\n",
       "    <tr>\n",
       "      <th>4</th>\n",
       "      <td>2178</td>\n",
       "      <td>277987.96</td>\n",
       "      <td>54411.42</td>\n",
       "      <td>5.0</td>\n",
       "      <td>3.0</td>\n",
       "    </tr>\n",
       "  </tbody>\n",
       "</table>\n",
       "</div>"
      ],
      "text/plain": [
       "   Store Number  Total Sale  Three Month Sale  County Number  Stores in County\n",
       "0          2106  1434369.85         337166.53            1.0               8.0\n",
       "1          2113    85763.42          22351.86            2.0               1.0\n",
       "2          2130  1108184.99         277764.46            3.0               6.0\n",
       "3          2152    72080.36          16805.11            4.0               6.0\n",
       "4          2178   277987.96          54411.42            5.0               3.0"
      ]
     },
     "execution_count": 28,
     "metadata": {},
     "output_type": "execute_result"
    }
   ],
   "source": [
    "store_sales.dropna(subset=['Three Month Sale'], inplace=True)\n",
    "store_sales.head()"
   ]
  },
  {
   "cell_type": "markdown",
   "metadata": {},
   "source": [
    "I could drop store whithouc 'Stores in County' but for now I decided to assign 1 to each and use them in my prediction"
   ]
  },
  {
   "cell_type": "code",
   "execution_count": 29,
   "metadata": {
    "collapsed": false
   },
   "outputs": [
    {
     "data": {
      "text/html": [
       "<div>\n",
       "<table border=\"1\" class=\"dataframe\">\n",
       "  <thead>\n",
       "    <tr style=\"text-align: right;\">\n",
       "      <th></th>\n",
       "      <th>Store Number</th>\n",
       "      <th>Total Sale</th>\n",
       "      <th>Three Month Sale</th>\n",
       "      <th>County Number</th>\n",
       "      <th>Stores in County</th>\n",
       "    </tr>\n",
       "  </thead>\n",
       "  <tbody>\n",
       "    <tr>\n",
       "      <th>0</th>\n",
       "      <td>2106</td>\n",
       "      <td>1434369.85</td>\n",
       "      <td>337166.53</td>\n",
       "      <td>1.0</td>\n",
       "      <td>8.0</td>\n",
       "    </tr>\n",
       "    <tr>\n",
       "      <th>1</th>\n",
       "      <td>2113</td>\n",
       "      <td>85763.42</td>\n",
       "      <td>22351.86</td>\n",
       "      <td>2.0</td>\n",
       "      <td>1.0</td>\n",
       "    </tr>\n",
       "    <tr>\n",
       "      <th>2</th>\n",
       "      <td>2130</td>\n",
       "      <td>1108184.99</td>\n",
       "      <td>277764.46</td>\n",
       "      <td>3.0</td>\n",
       "      <td>6.0</td>\n",
       "    </tr>\n",
       "    <tr>\n",
       "      <th>3</th>\n",
       "      <td>2152</td>\n",
       "      <td>72080.36</td>\n",
       "      <td>16805.11</td>\n",
       "      <td>4.0</td>\n",
       "      <td>6.0</td>\n",
       "    </tr>\n",
       "    <tr>\n",
       "      <th>4</th>\n",
       "      <td>2178</td>\n",
       "      <td>277987.96</td>\n",
       "      <td>54411.42</td>\n",
       "      <td>5.0</td>\n",
       "      <td>3.0</td>\n",
       "    </tr>\n",
       "  </tbody>\n",
       "</table>\n",
       "</div>"
      ],
      "text/plain": [
       "   Store Number  Total Sale  Three Month Sale  County Number  Stores in County\n",
       "0          2106  1434369.85         337166.53            1.0               8.0\n",
       "1          2113    85763.42          22351.86            2.0               1.0\n",
       "2          2130  1108184.99         277764.46            3.0               6.0\n",
       "3          2152    72080.36          16805.11            4.0               6.0\n",
       "4          2178   277987.96          54411.42            5.0               3.0"
      ]
     },
     "execution_count": 29,
     "metadata": {},
     "output_type": "execute_result"
    }
   ],
   "source": [
    "store_sales.loc[(store_sales['Stores in County'].isnull()), 'Stores in County'] = 1\n",
    "store_sales.head()"
   ]
  },
  {
   "cell_type": "markdown",
   "metadata": {},
   "source": [
    "We can put all the above process inside a function to be usefull again"
   ]
  },
  {
   "cell_type": "code",
   "execution_count": 30,
   "metadata": {
    "collapsed": true
   },
   "outputs": [],
   "source": [
    "def generate_df(df, start_date, end_date, start_perion, end_perion):\n",
    "    timed_record = df[(df['Date'] > start_date) & (df['Date'] <= end_date)]\n",
    "    stores_in_counties = timed_record.groupby('County Number')['Store Number'].nunique().reset_index()\n",
    "    county_of_store = pd.pivot_table(timed_record, \n",
    "        index='Store Number', \n",
    "        values='County Number', \n",
    "        aggfunc=np.mean\n",
    "        )\n",
    "    store_sales = pd.pivot_table(timed_record,\n",
    "        index = 'Store Number',\n",
    "        values = [\"Sale (Dollars)\"],\n",
    "        aggfunc=np.sum\n",
    "        ).reset_index()\n",
    "    months_record = pd.pivot_table(\n",
    "        timed_record[(timed_record['Date'] >= start_perion) & \n",
    "                     (timed_record['Date'] < end_perion)],\n",
    "        index = 'Store Number',\n",
    "        values = [\"Sale (Dollars)\"],\n",
    "        aggfunc=np.sum\n",
    "        ).reset_index()\n",
    "    store_sales = pd.merge(store_sales, months_record, on='Store Number', how='left')\n",
    "    store_sales = pd.concat([store_sales, stores_in_counties], axis=1, ignore_index=True)\n",
    "    store_sales.columns = [\"Store Number\", \"Total Sale\", \"Three Month Sale\", \"County Number\", \"Stores in County\"]\n",
    "    store_sales.dropna(subset=['Three Month Sale'], inplace=True)\n",
    "    store_sales.loc[(store_sales['Stores in County'].isnull()), 'Stores in County'] = 1\n",
    "    return store_sales"
   ]
  },
  {
   "cell_type": "code",
   "execution_count": 31,
   "metadata": {
    "collapsed": false
   },
   "outputs": [
    {
     "name": "stdout",
     "output_type": "stream",
     "text": [
      "r^2:0.972840943231\t alpha:0.1\n"
     ]
    }
   ],
   "source": [
    "variables = ['Three Month Sale', 'Stores in County']\n",
    "st = generate_df(iowa_data, '01/1/2015', '01/1/2016', '01/1/2015', '04/1/2015')\n",
    "X = st[variables]\n",
    "y = st['Total Sale']\n",
    "rlmcv = linear_model.RidgeCV(normalize=True)\n",
    "model = rlmcv.fit(X, y)\n",
    "predictions = model.predict(X)\n",
    "print \"r^2:\"+str(model.score(X, y))+\"\\t alpha:\"+str(rlmcv.alpha_)"
   ]
  },
  {
   "cell_type": "markdown",
   "metadata": {},
   "source": [
    "r^2 calculated from our model shows a high number which means over fitting, But Since we are using RidgeCV I think we are OK!!!"
   ]
  },
  {
   "cell_type": "code",
   "execution_count": 32,
   "metadata": {
    "collapsed": false
   },
   "outputs": [
    {
     "data": {
      "text/html": [
       "<div>\n",
       "<table border=\"1\" class=\"dataframe\">\n",
       "  <thead>\n",
       "    <tr style=\"text-align: right;\">\n",
       "      <th></th>\n",
       "      <th>0</th>\n",
       "      <th>1</th>\n",
       "      <th>2</th>\n",
       "      <th>3</th>\n",
       "      <th>4</th>\n",
       "      <th>5</th>\n",
       "    </tr>\n",
       "  </thead>\n",
       "  <tbody>\n",
       "    <tr>\n",
       "      <th>0</th>\n",
       "      <td>2106.0</td>\n",
       "      <td>1434369.85</td>\n",
       "      <td>337166.53</td>\n",
       "      <td>1.0</td>\n",
       "      <td>8.0</td>\n",
       "      <td>1.333984e+06</td>\n",
       "    </tr>\n",
       "    <tr>\n",
       "      <th>1</th>\n",
       "      <td>2113.0</td>\n",
       "      <td>85763.42</td>\n",
       "      <td>22351.86</td>\n",
       "      <td>2.0</td>\n",
       "      <td>1.0</td>\n",
       "      <td>1.127532e+05</td>\n",
       "    </tr>\n",
       "    <tr>\n",
       "      <th>2</th>\n",
       "      <td>2130.0</td>\n",
       "      <td>1108184.99</td>\n",
       "      <td>277764.46</td>\n",
       "      <td>3.0</td>\n",
       "      <td>6.0</td>\n",
       "      <td>1.102769e+06</td>\n",
       "    </tr>\n",
       "    <tr>\n",
       "      <th>3</th>\n",
       "      <td>2152.0</td>\n",
       "      <td>72080.36</td>\n",
       "      <td>16805.11</td>\n",
       "      <td>4.0</td>\n",
       "      <td>6.0</td>\n",
       "      <td>9.713652e+04</td>\n",
       "    </tr>\n",
       "    <tr>\n",
       "      <th>4</th>\n",
       "      <td>2178.0</td>\n",
       "      <td>277987.96</td>\n",
       "      <td>54411.42</td>\n",
       "      <td>5.0</td>\n",
       "      <td>3.0</td>\n",
       "      <td>2.386011e+05</td>\n",
       "    </tr>\n",
       "  </tbody>\n",
       "</table>\n",
       "</div>"
      ],
      "text/plain": [
       "        0           1          2    3    4             5\n",
       "0  2106.0  1434369.85  337166.53  1.0  8.0  1.333984e+06\n",
       "1  2113.0    85763.42   22351.86  2.0  1.0  1.127532e+05\n",
       "2  2130.0  1108184.99  277764.46  3.0  6.0  1.102769e+06\n",
       "3  2152.0    72080.36   16805.11  4.0  6.0  9.713652e+04\n",
       "4  2178.0   277987.96   54411.42  5.0  3.0  2.386011e+05"
      ]
     },
     "execution_count": 32,
     "metadata": {},
     "output_type": "execute_result"
    }
   ],
   "source": [
    "st_2015=pd.concat([st, pd.DataFrame(predictions)], axis=1, ignore_index=True)\n",
    "st_2015.head()"
   ]
  },
  {
   "cell_type": "code",
   "execution_count": 33,
   "metadata": {
    "collapsed": false
   },
   "outputs": [
    {
     "name": "stdout",
     "output_type": "stream",
     "text": [
      "2015 prediction:  278340275.3\n",
      "2015 total sale:  278340275.3\n",
      "Percentage difference in sale: % 8.56572333431e-14\n"
     ]
    }
   ],
   "source": [
    "print \"2015 prediction: \", np.sum(st_2015[5])\n",
    "print \"2015 total sale: \", np.sum(st_2015[1])\n",
    "print \"Percentage difference in sale: %\", (np.sum(st_2015[5]) - np.sum(st_2015[1]))/np.sum(st_2015[1])*100"
   ]
  },
  {
   "cell_type": "markdown",
   "metadata": {},
   "source": [
    "##### Use your model for 2015 to estimate total sales for each store in 2016, extrapolating from the sales so far for Jan-March of 2016"
   ]
  },
  {
   "cell_type": "markdown",
   "metadata": {},
   "source": [
    "We can use the generated model to predict sales of 2016"
   ]
  },
  {
   "cell_type": "code",
   "execution_count": 34,
   "metadata": {
    "collapsed": false
   },
   "outputs": [
    {
     "name": "stdout",
     "output_type": "stream",
     "text": [
      "r^2:-9.065869367\t alpha:0.1\n"
     ]
    }
   ],
   "source": [
    "st = generate_df(iowa_data, '01/1/2016', '01/1/2017', '01/1/2016', '04/1/2016')\n",
    "X = st[variables]\n",
    "y = st['Total Sale']\n",
    "# we are going to use 2015 model in 2016\n",
    "# rlmcv = linear_model.RidgeCV(normalize=True)\n",
    "# model = rlmcv.fit(X, y)\n",
    "predictions = model.predict(X)\n",
    "print \"r^2:\"+str(model.score(X, y))+\"\\t alpha:\"+str(rlmcv.alpha_)"
   ]
  },
  {
   "cell_type": "code",
   "execution_count": 35,
   "metadata": {
    "collapsed": false
   },
   "outputs": [
    {
     "data": {
      "text/html": [
       "<div>\n",
       "<table border=\"1\" class=\"dataframe\">\n",
       "  <thead>\n",
       "    <tr style=\"text-align: right;\">\n",
       "      <th></th>\n",
       "      <th>0</th>\n",
       "      <th>1</th>\n",
       "      <th>2</th>\n",
       "      <th>3</th>\n",
       "      <th>4</th>\n",
       "      <th>5</th>\n",
       "    </tr>\n",
       "  </thead>\n",
       "  <tbody>\n",
       "    <tr>\n",
       "      <th>0</th>\n",
       "      <td>2106</td>\n",
       "      <td>337804.05</td>\n",
       "      <td>337804.05</td>\n",
       "      <td>1.0</td>\n",
       "      <td>7.0</td>\n",
       "      <td>1.335289e+06</td>\n",
       "    </tr>\n",
       "    <tr>\n",
       "      <th>1</th>\n",
       "      <td>2113</td>\n",
       "      <td>21736.63</td>\n",
       "      <td>21736.63</td>\n",
       "      <td>2.0</td>\n",
       "      <td>1.0</td>\n",
       "      <td>1.103823e+05</td>\n",
       "    </tr>\n",
       "    <tr>\n",
       "      <th>2</th>\n",
       "      <td>2130</td>\n",
       "      <td>306942.27</td>\n",
       "      <td>306942.27</td>\n",
       "      <td>3.0</td>\n",
       "      <td>6.0</td>\n",
       "      <td>1.215208e+06</td>\n",
       "    </tr>\n",
       "    <tr>\n",
       "      <th>3</th>\n",
       "      <td>2152</td>\n",
       "      <td>13752.24</td>\n",
       "      <td>13752.24</td>\n",
       "      <td>4.0</td>\n",
       "      <td>6.0</td>\n",
       "      <td>8.537199e+04</td>\n",
       "    </tr>\n",
       "    <tr>\n",
       "      <th>4</th>\n",
       "      <td>2178</td>\n",
       "      <td>58939.90</td>\n",
       "      <td>58939.90</td>\n",
       "      <td>5.0</td>\n",
       "      <td>2.0</td>\n",
       "      <td>2.549004e+05</td>\n",
       "    </tr>\n",
       "  </tbody>\n",
       "</table>\n",
       "</div>"
      ],
      "text/plain": [
       "      0          1          2    3    4             5\n",
       "0  2106  337804.05  337804.05  1.0  7.0  1.335289e+06\n",
       "1  2113   21736.63   21736.63  2.0  1.0  1.103823e+05\n",
       "2  2130  306942.27  306942.27  3.0  6.0  1.215208e+06\n",
       "3  2152   13752.24   13752.24  4.0  6.0  8.537199e+04\n",
       "4  2178   58939.90   58939.90  5.0  2.0  2.549004e+05"
      ]
     },
     "execution_count": 35,
     "metadata": {},
     "output_type": "execute_result"
    }
   ],
   "source": [
    "st_2016=pd.concat([st, pd.DataFrame(predictions)], axis=1, ignore_index=True)\n",
    "st_2016.head()"
   ]
  },
  {
   "cell_type": "code",
   "execution_count": 36,
   "metadata": {
    "collapsed": false
   },
   "outputs": [
    {
     "name": "stdout",
     "output_type": "stream",
     "text": [
      "2016 prediction:  289027745.641\n",
      "2016 Three Months sale:  65526344.18\n"
     ]
    }
   ],
   "source": [
    "print \"2016 prediction: \", np.sum(st_2016[5])\n",
    "print \"2016 Three Months sale: \", np.sum(st_2016[2])"
   ]
  },
  {
   "cell_type": "markdown",
   "metadata": {},
   "source": [
    "##### Report your findings, including any projected increase or decrease in total sales (over the entire state) for the tax committee of the Iowa legislature"
   ]
  },
  {
   "cell_type": "markdown",
   "metadata": {},
   "source": [
    "We can predict total sale in 2016 would be as follow:"
   ]
  },
  {
   "cell_type": "code",
   "execution_count": 37,
   "metadata": {
    "collapsed": false
   },
   "outputs": [
    {
     "name": "stdout",
     "output_type": "stream",
     "text": [
      "2016 prediction:  289027745.641\n",
      "2015 total sale:  278340275.3\n",
      "predicted increase in sale:  10687470.3407\n",
      "Percentage increase in sale: % 3.83971393618\n"
     ]
    }
   ],
   "source": [
    "# predicted sale in 2016\n",
    "print \"2016 prediction: \", np.sum(st_2016[5])\n",
    "print \"2015 total sale: \", np.sum(st_2015[1])\n",
    "print \"predicted increase in sale: \", np.sum(st_2016[5]) - np.sum(st_2015[1])\n",
    "print \"Percentage increase in sale: %\", (np.sum(st_2016[5]) - np.sum(st_2015[1]))/np.sum(st_2015[1])*100"
   ]
  },
  {
   "cell_type": "markdown",
   "metadata": {},
   "source": [
    "Our findings show we would have 3.9% increase in sales in 2016"
   ]
  },
  {
   "cell_type": "markdown",
   "metadata": {},
   "source": [
    "##### Use cross-validation to check how your model predicts to held out data compared to the model metrics on the full dataset."
   ]
  },
  {
   "cell_type": "code",
   "execution_count": 38,
   "metadata": {
    "collapsed": true
   },
   "outputs": [],
   "source": [
    "def data_cleaner(df):\n",
    "    stores = df[(df['County Number'].isnull())]['Store Number'].value_counts().reset_index()\n",
    "    for s in stores['index']:\n",
    "        d = df[(df['Store Number'] == s) & (~df['County Number'].isnull())]\n",
    "        if len(d) > 0:\n",
    "            df.loc[(df['Store Number'] == s), ['County Number', 'County']] = d.iat[0,4], d.iat[0,5]\n",
    "\n",
    "    df.loc[(df['Category'].isnull()), ['Category', 'Category Name']] = 0, 'Unknown'\n",
    "    df['Date'] = pd.to_datetime(df['Date'], format='%m/%d/%Y')\n",
    "    df['Sale (Dollars)'] = df['Sale (Dollars)'].apply(lambda x: float(x.replace(\"$\", \"\")))\n",
    "    df['State Bottle Retail'] = df['State Bottle Retail'].apply(lambda x: float(x.replace(\"$\", \"\")))\n",
    "    df['State Bottle Cost'] = df['State Bottle Cost'].apply(lambda x: float(x.replace(\"$\", \"\")))\n",
    "    return df"
   ]
  },
  {
   "cell_type": "code",
   "execution_count": 39,
   "metadata": {
    "collapsed": false
   },
   "outputs": [
    {
     "name": "stdout",
     "output_type": "stream",
     "text": [
      "r^2:0.706189154561\t alpha:0.1\n"
     ]
    }
   ],
   "source": [
    "st = generate_df(data_cleaner(iowa_data_sample), '01/1/2015', '01/1/2016', '01/1/2015', '04/1/2015')\n",
    "X = st[variables]\n",
    "y = st['Total Sale']\n",
    "# we are going to use 2015 model in 2016\n",
    "# rlmcv = linear_model.RidgeCV(normalize=True)\n",
    "# model = rlmcv.fit(X, y)\n",
    "predictions = model.predict(X)\n",
    "print \"r^2:\"+str(model.score(X, y))+\"\\t alpha:\"+str(rlmcv.alpha_)"
   ]
  },
  {
   "cell_type": "code",
   "execution_count": 40,
   "metadata": {
    "collapsed": false
   },
   "outputs": [
    {
     "data": {
      "text/html": [
       "<div>\n",
       "<table border=\"1\" class=\"dataframe\">\n",
       "  <thead>\n",
       "    <tr style=\"text-align: right;\">\n",
       "      <th></th>\n",
       "      <th>0</th>\n",
       "      <th>1</th>\n",
       "      <th>2</th>\n",
       "      <th>3</th>\n",
       "      <th>4</th>\n",
       "      <th>5</th>\n",
       "    </tr>\n",
       "  </thead>\n",
       "  <tbody>\n",
       "    <tr>\n",
       "      <th>0</th>\n",
       "      <td>2106.0</td>\n",
       "      <td>146326.22</td>\n",
       "      <td>39287.29</td>\n",
       "      <td>1.0</td>\n",
       "      <td>8.0</td>\n",
       "      <td>186077.126050</td>\n",
       "    </tr>\n",
       "    <tr>\n",
       "      <th>1</th>\n",
       "      <td>2113.0</td>\n",
       "      <td>9310.22</td>\n",
       "      <td>2833.25</td>\n",
       "      <td>2.0</td>\n",
       "      <td>1.0</td>\n",
       "      <td>37536.291589</td>\n",
       "    </tr>\n",
       "    <tr>\n",
       "      <th>2</th>\n",
       "      <td>2130.0</td>\n",
       "      <td>111871.43</td>\n",
       "      <td>24272.57</td>\n",
       "      <td>3.0</td>\n",
       "      <td>6.0</td>\n",
       "      <td>125913.111754</td>\n",
       "    </tr>\n",
       "    <tr>\n",
       "      <th>3</th>\n",
       "      <td>2152.0</td>\n",
       "      <td>7721.08</td>\n",
       "      <td>2003.46</td>\n",
       "      <td>4.0</td>\n",
       "      <td>6.0</td>\n",
       "      <td>40096.915596</td>\n",
       "    </tr>\n",
       "    <tr>\n",
       "      <th>4</th>\n",
       "      <td>2178.0</td>\n",
       "      <td>24324.18</td>\n",
       "      <td>5856.41</td>\n",
       "      <td>5.0</td>\n",
       "      <td>3.0</td>\n",
       "      <td>51489.655114</td>\n",
       "    </tr>\n",
       "  </tbody>\n",
       "</table>\n",
       "</div>"
      ],
      "text/plain": [
       "        0          1         2    3    4              5\n",
       "0  2106.0  146326.22  39287.29  1.0  8.0  186077.126050\n",
       "1  2113.0    9310.22   2833.25  2.0  1.0   37536.291589\n",
       "2  2130.0  111871.43  24272.57  3.0  6.0  125913.111754\n",
       "3  2152.0    7721.08   2003.46  4.0  6.0   40096.915596\n",
       "4  2178.0   24324.18   5856.41  5.0  3.0   51489.655114"
      ]
     },
     "execution_count": 40,
     "metadata": {},
     "output_type": "execute_result"
    }
   ],
   "source": [
    "sample_2015=pd.concat([st, pd.DataFrame(predictions)], axis=1, ignore_index=True)\n",
    "sample_2015.head()"
   ]
  },
  {
   "cell_type": "markdown",
   "metadata": {
    "collapsed": true
   },
   "source": [
    "Now lets do modelling on sample data and apply it to complete data"
   ]
  },
  {
   "cell_type": "code",
   "execution_count": 42,
   "metadata": {
    "collapsed": true
   },
   "outputs": [],
   "source": [
    "iowa_data = pd.read_csv(\"../dataset/Iowa_Liquor_Sales_reduced.csv\")\n",
    "iowa_data_sample = pd.read_csv(\"../dataset/Iowa_Liquor_sales_sample_10pct.csv\")"
   ]
  },
  {
   "cell_type": "code",
   "execution_count": 43,
   "metadata": {
    "collapsed": false
   },
   "outputs": [
    {
     "name": "stdout",
     "output_type": "stream",
     "text": [
      "r^2:0.955235640191\t alpha:0.1\n"
     ]
    }
   ],
   "source": [
    "st = generate_df(data_cleaner(iowa_data_sample), '01/1/2015', '01/1/2016', '01/1/2015', '04/1/2015')\n",
    "X = st[variables]\n",
    "y = st['Total Sale']\n",
    "rlmcv = linear_model.RidgeCV(normalize=True)\n",
    "model = rlmcv.fit(X, y)\n",
    "predictions = model.predict(X)\n",
    "print \"r^2:\"+str(model.score(X, y))+\"\\t alpha:\"+str(rlmcv.alpha_)"
   ]
  },
  {
   "cell_type": "code",
   "execution_count": 44,
   "metadata": {
    "collapsed": false
   },
   "outputs": [
    {
     "data": {
      "text/html": [
       "<div>\n",
       "<table border=\"1\" class=\"dataframe\">\n",
       "  <thead>\n",
       "    <tr style=\"text-align: right;\">\n",
       "      <th></th>\n",
       "      <th>0</th>\n",
       "      <th>1</th>\n",
       "      <th>2</th>\n",
       "      <th>3</th>\n",
       "      <th>4</th>\n",
       "      <th>5</th>\n",
       "    </tr>\n",
       "  </thead>\n",
       "  <tbody>\n",
       "    <tr>\n",
       "      <th>0</th>\n",
       "      <td>2106.0</td>\n",
       "      <td>146326.22</td>\n",
       "      <td>39287.29</td>\n",
       "      <td>1.0</td>\n",
       "      <td>8.0</td>\n",
       "      <td>162205.890857</td>\n",
       "    </tr>\n",
       "    <tr>\n",
       "      <th>1</th>\n",
       "      <td>2113.0</td>\n",
       "      <td>9310.22</td>\n",
       "      <td>2833.25</td>\n",
       "      <td>2.0</td>\n",
       "      <td>1.0</td>\n",
       "      <td>13716.638108</td>\n",
       "    </tr>\n",
       "    <tr>\n",
       "      <th>2</th>\n",
       "      <td>2130.0</td>\n",
       "      <td>111871.43</td>\n",
       "      <td>24272.57</td>\n",
       "      <td>3.0</td>\n",
       "      <td>6.0</td>\n",
       "      <td>101108.583466</td>\n",
       "    </tr>\n",
       "    <tr>\n",
       "      <th>3</th>\n",
       "      <td>2152.0</td>\n",
       "      <td>7721.08</td>\n",
       "      <td>2003.46</td>\n",
       "      <td>4.0</td>\n",
       "      <td>6.0</td>\n",
       "      <td>10702.146980</td>\n",
       "    </tr>\n",
       "    <tr>\n",
       "      <th>4</th>\n",
       "      <td>2178.0</td>\n",
       "      <td>24324.18</td>\n",
       "      <td>5856.41</td>\n",
       "      <td>5.0</td>\n",
       "      <td>3.0</td>\n",
       "      <td>26131.523637</td>\n",
       "    </tr>\n",
       "  </tbody>\n",
       "</table>\n",
       "</div>"
      ],
      "text/plain": [
       "        0          1         2    3    4              5\n",
       "0  2106.0  146326.22  39287.29  1.0  8.0  162205.890857\n",
       "1  2113.0    9310.22   2833.25  2.0  1.0   13716.638108\n",
       "2  2130.0  111871.43  24272.57  3.0  6.0  101108.583466\n",
       "3  2152.0    7721.08   2003.46  4.0  6.0   10702.146980\n",
       "4  2178.0   24324.18   5856.41  5.0  3.0   26131.523637"
      ]
     },
     "execution_count": 44,
     "metadata": {},
     "output_type": "execute_result"
    }
   ],
   "source": [
    "sample_2015=pd.concat([st, pd.DataFrame(predictions)], axis=1, ignore_index=True)\n",
    "sample_2015.head()"
   ]
  },
  {
   "cell_type": "code",
   "execution_count": 45,
   "metadata": {
    "collapsed": false
   },
   "outputs": [
    {
     "name": "stdout",
     "output_type": "stream",
     "text": [
      "r^2:0.978136388474\t alpha:0.1\n"
     ]
    }
   ],
   "source": [
    "st = generate_df(data_cleaner(iowa_data), '01/1/2015', '01/1/2016', '01/1/2015', '04/1/2015')\n",
    "X = st[variables]\n",
    "y = st['Total Sale']\n",
    "# rlmcv = linear_model.RidgeCV(normalize=True)\n",
    "# model = rlmcv.fit(X, y)\n",
    "predictions = model.predict(X)\n",
    "print \"r^2:\"+str(model.score(X, y))+\"\\t alpha:\"+str(rlmcv.alpha_)"
   ]
  },
  {
   "cell_type": "code",
   "execution_count": 46,
   "metadata": {
    "collapsed": false
   },
   "outputs": [
    {
     "data": {
      "text/html": [
       "<div>\n",
       "<table border=\"1\" class=\"dataframe\">\n",
       "  <thead>\n",
       "    <tr style=\"text-align: right;\">\n",
       "      <th></th>\n",
       "      <th>0</th>\n",
       "      <th>1</th>\n",
       "      <th>2</th>\n",
       "      <th>3</th>\n",
       "      <th>4</th>\n",
       "      <th>5</th>\n",
       "    </tr>\n",
       "  </thead>\n",
       "  <tbody>\n",
       "    <tr>\n",
       "      <th>0</th>\n",
       "      <td>2106.0</td>\n",
       "      <td>1434369.85</td>\n",
       "      <td>337166.53</td>\n",
       "      <td>1.0</td>\n",
       "      <td>8.0</td>\n",
       "      <td>1.371513e+06</td>\n",
       "    </tr>\n",
       "    <tr>\n",
       "      <th>1</th>\n",
       "      <td>2113.0</td>\n",
       "      <td>85763.42</td>\n",
       "      <td>22351.86</td>\n",
       "      <td>2.0</td>\n",
       "      <td>1.0</td>\n",
       "      <td>9.295680e+04</td>\n",
       "    </tr>\n",
       "    <tr>\n",
       "      <th>2</th>\n",
       "      <td>2130.0</td>\n",
       "      <td>1108184.99</td>\n",
       "      <td>277764.46</td>\n",
       "      <td>3.0</td>\n",
       "      <td>6.0</td>\n",
       "      <td>1.130216e+06</td>\n",
       "    </tr>\n",
       "    <tr>\n",
       "      <th>3</th>\n",
       "      <td>2152.0</td>\n",
       "      <td>72080.36</td>\n",
       "      <td>16805.11</td>\n",
       "      <td>4.0</td>\n",
       "      <td>6.0</td>\n",
       "      <td>7.079276e+04</td>\n",
       "    </tr>\n",
       "    <tr>\n",
       "      <th>4</th>\n",
       "      <td>2178.0</td>\n",
       "      <td>277987.96</td>\n",
       "      <td>54411.42</td>\n",
       "      <td>5.0</td>\n",
       "      <td>3.0</td>\n",
       "      <td>2.232515e+05</td>\n",
       "    </tr>\n",
       "  </tbody>\n",
       "</table>\n",
       "</div>"
      ],
      "text/plain": [
       "        0           1          2    3    4             5\n",
       "0  2106.0  1434369.85  337166.53  1.0  8.0  1.371513e+06\n",
       "1  2113.0    85763.42   22351.86  2.0  1.0  9.295680e+04\n",
       "2  2130.0  1108184.99  277764.46  3.0  6.0  1.130216e+06\n",
       "3  2152.0    72080.36   16805.11  4.0  6.0  7.079276e+04\n",
       "4  2178.0   277987.96   54411.42  5.0  3.0  2.232515e+05"
      ]
     },
     "execution_count": 46,
     "metadata": {},
     "output_type": "execute_result"
    }
   ],
   "source": [
    "st_2016=pd.concat([st, pd.DataFrame(predictions)], axis=1, ignore_index=True)\n",
    "st_2016.head()"
   ]
  },
  {
   "cell_type": "code",
   "execution_count": 47,
   "metadata": {
    "collapsed": false
   },
   "outputs": [
    {
     "name": "stdout",
     "output_type": "stream",
     "text": [
      "2015 sample prediction:  27867503.1\n",
      "2015 sample total sale:  27867503.1\n",
      "Percentage difference in sale: % 2.67357307549e-14\n",
      "2015 prediction:  278340275.3\n",
      "2015 total sale:  278340275.3\n",
      "Percentage difference in sale: % 8.56572333431e-14\n"
     ]
    }
   ],
   "source": [
    "print \"2015 sample prediction: \", np.sum(sample_2015[5])\n",
    "print \"2015 sample total sale: \", np.sum(sample_2015[1])\n",
    "print \"Percentage difference in sale: %\", (np.sum(sample_2015[5]) - np.sum(sample_2015[1]))/np.sum(sample_2015[1])*100\n",
    "\n",
    "print \"2015 prediction: \", np.sum(st_2015[5])\n",
    "print \"2015 total sale: \", np.sum(st_2015[1])\n",
    "print \"Percentage difference in sale: %\", (np.sum(st_2015[5]) - np.sum(st_2015[1]))/np.sum(st_2015[1])*100"
   ]
  },
  {
   "cell_type": "code",
   "execution_count": null,
   "metadata": {
    "collapsed": true
   },
   "outputs": [],
   "source": []
  }
 ],
 "metadata": {
  "anaconda-cloud": {},
  "kernelspec": {
   "display_name": "Python [conda root]",
   "language": "python",
   "name": "conda-root-py"
  },
  "language_info": {
   "codemirror_mode": {
    "name": "ipython",
    "version": 2
   },
   "file_extension": ".py",
   "mimetype": "text/x-python",
   "name": "python",
   "nbconvert_exporter": "python",
   "pygments_lexer": "ipython2",
   "version": "2.7.12"
  }
 },
 "nbformat": 4,
 "nbformat_minor": 1
}
