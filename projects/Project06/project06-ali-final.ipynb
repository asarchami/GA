{
 "cells": [
  {
   "cell_type": "code",
   "execution_count": 94,
   "metadata": {
    "collapsed": false
   },
   "outputs": [],
   "source": [
    "import pandas as pd\n",
    "from imdb import IMDb\n",
    "import pymysql.cursors\n",
    "import numpy as np\n",
    "from sklearn.feature_extraction.text import TfidfVectorizer\n",
    "from sklearn.cross_validation import train_test_split\n",
    "from sklearn.grid_search import GridSearchCV\n",
    "from sklearn import tree\n",
    "import re\n",
    "import pydot\n",
    "from IPython.display import Image\n",
    "from pylab import rcParams\n",
    "%matplotlib inline"
   ]
  },
  {
   "cell_type": "markdown",
   "metadata": {},
   "source": [
    "I did this for resolving unicode problem. After saving files we dont need it."
   ]
  },
  {
   "cell_type": "code",
   "execution_count": 2,
   "metadata": {
    "collapsed": true
   },
   "outputs": [],
   "source": [
    "import sys, os\n",
    "\n",
    "# reload(sys)\n",
    "# sys.setdefaultencoding('utf-8')"
   ]
  },
  {
   "cell_type": "code",
   "execution_count": 3,
   "metadata": {
    "collapsed": false
   },
   "outputs": [],
   "source": [
    "connection = pymysql.connect(host='localhost',\n",
    "                             user='imdb',\n",
    "                             password='imdb',\n",
    "                             db='imdb',\n",
    "                             charset='utf8mb4',\n",
    "                             cursorclass=pymysql.cursors.DictCursor)"
   ]
  },
  {
   "cell_type": "markdown",
   "metadata": {},
   "source": [
    "After making connection its time to run queries. Since running queries take a LOT of time I save them as csv for later use."
   ]
  },
  {
   "cell_type": "code",
   "execution_count": 4,
   "metadata": {
    "collapsed": true
   },
   "outputs": [],
   "source": [
    "sql='''\n",
    "SELECT \n",
    "    name.id,\n",
    "    AVG(movie_info_idx.info) AS avg_actor_rating\n",
    "FROM\n",
    "    cast_info,\n",
    "    name,\n",
    "    role_type,\n",
    "    title,\n",
    "    movie_info_idx\n",
    "WHERE\n",
    "    cast_info.person_id = name.id\n",
    "        AND role_type.id = cast_info.role_id\n",
    "        AND title.id = cast_info.movie_id\n",
    "        AND title.id = movie_info_idx.movie_id\n",
    "        AND title.kind_id = 1\n",
    "        AND (role_type.role = 'actor'\n",
    "        OR role_type.role = 'actress')\n",
    "        AND movie_info_idx.info_type_id = 101\n",
    "GROUP BY name.id\n",
    "'''"
   ]
  },
  {
   "cell_type": "markdown",
   "metadata": {},
   "source": [
    "In this query I give each actor in database a score based on their past performaces. This score is based on the average score of all the movies they've participated in."
   ]
  },
  {
   "cell_type": "code",
   "execution_count": 5,
   "metadata": {
    "collapsed": false
   },
   "outputs": [],
   "source": [
    "fname='actor_ratings.csv'\n",
    "actor_ratings=''\n",
    "if os.path.isfile(fname):\n",
    "    actor_ratings = pd.read_csv(fname, index_col=0)\n",
    "else:\n",
    "    actor_ratings=pd.read_sql(sql, connection)\n",
    "    actor_ratings.to_csv('actor_ratings.csv')"
   ]
  },
  {
   "cell_type": "code",
   "execution_count": 6,
   "metadata": {
    "collapsed": false,
    "scrolled": true
   },
   "outputs": [
    {
     "data": {
      "text/plain": [
       "id                  1672187\n",
       "avg_actor_rating    1672187\n",
       "dtype: int64"
      ]
     },
     "execution_count": 6,
     "metadata": {},
     "output_type": "execute_result"
    }
   ],
   "source": [
    "actor_ratings.count()"
   ]
  },
  {
   "cell_type": "code",
   "execution_count": 7,
   "metadata": {
    "collapsed": true
   },
   "outputs": [],
   "source": [
    "sql='''\n",
    "SELECT \n",
    "    title.id AS movie_id,\n",
    "    name.id AS actor_id,\n",
    "    name.name AS actor_name\n",
    "FROM\n",
    "    title,\n",
    "    cast_info,\n",
    "    role_type,\n",
    "    name\n",
    "WHERE\n",
    "    title.id = cast_info.movie_id\n",
    "        AND title.kind_id = 1\n",
    "        AND role_type.id = cast_info.role_id\n",
    "        AND name.id = cast_info.person_id\n",
    "        AND title.production_year > 2010\n",
    "        AND (role_type.role = 'actor'\n",
    "        OR role_type.role = 'actress')\n",
    "        AND cast_info.nr_order < 5\n",
    "ORDER BY cast_info.nr_order\n",
    "'''"
   ]
  },
  {
   "cell_type": "markdown",
   "metadata": {},
   "source": [
    "This gives us 4 top characters actors of all movies produced after 2010"
   ]
  },
  {
   "cell_type": "code",
   "execution_count": 8,
   "metadata": {
    "collapsed": true
   },
   "outputs": [],
   "source": [
    "fname='actors_list.csv'\n",
    "actors=''\n",
    "if os.path.isfile(fname):\n",
    "    actors = pd.read_csv(fname, index_col=0)\n",
    "else:\n",
    "    actors=pd.read_sql(sql, connection)\n",
    "    actors.to_csv('actors_list.csv')"
   ]
  },
  {
   "cell_type": "code",
   "execution_count": 9,
   "metadata": {
    "collapsed": false,
    "scrolled": true
   },
   "outputs": [
    {
     "data": {
      "text/plain": [
       "movie_id      256140\n",
       "actor_id      256140\n",
       "actor_name    256140\n",
       "dtype: int64"
      ]
     },
     "execution_count": 9,
     "metadata": {},
     "output_type": "execute_result"
    }
   ],
   "source": [
    "actors.count()"
   ]
  },
  {
   "cell_type": "code",
   "execution_count": 10,
   "metadata": {
    "collapsed": true
   },
   "outputs": [],
   "source": [
    "sql='''\n",
    "SELECT \n",
    "    title.id, title.title, title.production_year\n",
    "FROM\n",
    "    title\n",
    "WHERE\n",
    "    production_year > 2010 AND kind_id = 1;\n",
    "'''"
   ]
  },
  {
   "cell_type": "markdown",
   "metadata": {},
   "source": [
    "This gives us list of all movies produced after 2010"
   ]
  },
  {
   "cell_type": "code",
   "execution_count": 11,
   "metadata": {
    "collapsed": false
   },
   "outputs": [],
   "source": [
    "fname='movies_list.csv'\n",
    "movies=''\n",
    "if os.path.isfile(fname):\n",
    "    movies = pd.read_csv(fname, index_col=0)\n",
    "else:\n",
    "    movies=pd.read_sql(sql, connection)\n",
    "    movies.to_csv('movies_list.csv')"
   ]
  },
  {
   "cell_type": "code",
   "execution_count": 12,
   "metadata": {
    "collapsed": false
   },
   "outputs": [
    {
     "data": {
      "text/plain": [
       "id                 315812\n",
       "title              315812\n",
       "production_year    315812\n",
       "dtype: int64"
      ]
     },
     "execution_count": 12,
     "metadata": {},
     "output_type": "execute_result"
    }
   ],
   "source": [
    "movies.count()"
   ]
  },
  {
   "cell_type": "code",
   "execution_count": 13,
   "metadata": {
    "collapsed": true
   },
   "outputs": [],
   "source": [
    "sql='''\n",
    "SELECT \n",
    "    name.id,\n",
    "    AVG(movie_info_idx.info) AS avg_director_rating\n",
    "FROM\n",
    "    cast_info,\n",
    "    name,\n",
    "    role_type,\n",
    "    title,\n",
    "    movie_info_idx\n",
    "WHERE\n",
    "    cast_info.person_id = name.id\n",
    "        AND role_type.id = cast_info.role_id\n",
    "        AND title.id = cast_info.movie_id\n",
    "        AND title.id = movie_info_idx.movie_id\n",
    "        AND title.kind_id = 1\n",
    "        AND role_type.role = 'director'\n",
    "        AND movie_info_idx.info_type_id = 101\n",
    "GROUP BY name.id\n",
    "'''"
   ]
  },
  {
   "cell_type": "markdown",
   "metadata": {},
   "source": [
    "In this query I give each director in database a score based on their past performaces. This score is based on the average score of all the movies they've directed."
   ]
  },
  {
   "cell_type": "code",
   "execution_count": 14,
   "metadata": {
    "collapsed": true
   },
   "outputs": [],
   "source": [
    "fname='director_ratings.csv'\n",
    "director_ratings=''\n",
    "if os.path.isfile(fname):\n",
    "    director_ratings = pd.read_csv(fname, index_col=0)\n",
    "else:\n",
    "    director_ratings=pd.read_sql(sql, connection)\n",
    "    director_ratings.to_csv('director_ratings.csv')"
   ]
  },
  {
   "cell_type": "code",
   "execution_count": 15,
   "metadata": {
    "collapsed": false
   },
   "outputs": [
    {
     "data": {
      "text/plain": [
       "id                     119548\n",
       "avg_director_rating    119548\n",
       "dtype: int64"
      ]
     },
     "execution_count": 15,
     "metadata": {},
     "output_type": "execute_result"
    }
   ],
   "source": [
    "director_ratings.count()"
   ]
  },
  {
   "cell_type": "code",
   "execution_count": 16,
   "metadata": {
    "collapsed": true
   },
   "outputs": [],
   "source": [
    "sql='''\n",
    "SELECT \n",
    "    name.id,\n",
    "    AVG(movie_info_idx.info) AS avg_writer_rating\n",
    "FROM\n",
    "    cast_info,\n",
    "    name,\n",
    "    role_type,\n",
    "    title,\n",
    "    movie_info_idx\n",
    "WHERE\n",
    "    cast_info.person_id = name.id\n",
    "        AND role_type.id = cast_info.role_id\n",
    "        AND title.id = cast_info.movie_id\n",
    "        AND title.id = movie_info_idx.movie_id\n",
    "        AND title.kind_id = 1\n",
    "        AND role_type.role = 'writer'\n",
    "        AND movie_info_idx.info_type_id = 101\n",
    "GROUP BY name.id\n",
    "'''"
   ]
  },
  {
   "cell_type": "markdown",
   "metadata": {},
   "source": [
    "In this query I give each writer in database a score based on their past performaces. This score is based on the average score of all the movies they've written."
   ]
  },
  {
   "cell_type": "code",
   "execution_count": 17,
   "metadata": {
    "collapsed": true
   },
   "outputs": [],
   "source": [
    "fname='writer_ratings.csv'\n",
    "writer_ratings=''\n",
    "if os.path.isfile(fname):\n",
    "    writer_ratings = pd.read_csv(fname, index_col=0)\n",
    "else:\n",
    "    writer_ratings=pd.read_sql(sql, connection)\n",
    "    writer_ratings.to_csv(fname)"
   ]
  },
  {
   "cell_type": "code",
   "execution_count": 18,
   "metadata": {
    "collapsed": false
   },
   "outputs": [
    {
     "data": {
      "text/plain": [
       "id                   182876\n",
       "avg_writer_rating    182876\n",
       "dtype: int64"
      ]
     },
     "execution_count": 18,
     "metadata": {},
     "output_type": "execute_result"
    }
   ],
   "source": [
    "writer_ratings.count()"
   ]
  },
  {
   "cell_type": "code",
   "execution_count": 19,
   "metadata": {
    "collapsed": true
   },
   "outputs": [],
   "source": [
    "sql='''\n",
    "SELECT \n",
    "    movie_id, info AS budget\n",
    "FROM\n",
    "    movie_info\n",
    "        INNER JOIN\n",
    "    title ON title.id = movie_info.movie_id\n",
    "WHERE\n",
    "    info LIKE '$%' AND info_type_id = 105\n",
    "        AND title.kind_id = 1\n",
    "        AND title.production_year > 2010;\n",
    "'''"
   ]
  },
  {
   "cell_type": "markdown",
   "metadata": {},
   "source": [
    "This gives us budget of all movies produced after 2010 (if available)"
   ]
  },
  {
   "cell_type": "code",
   "execution_count": 20,
   "metadata": {
    "collapsed": true
   },
   "outputs": [],
   "source": [
    "fname='budget_list.csv'\n",
    "budget_list=''\n",
    "if os.path.isfile(fname):\n",
    "    budget_list = pd.read_csv(fname, index_col=0)\n",
    "else:\n",
    "    budget_list=pd.read_sql(sql, connection)\n",
    "    budget_list.to_csv(fname)"
   ]
  },
  {
   "cell_type": "code",
   "execution_count": 21,
   "metadata": {
    "collapsed": false
   },
   "outputs": [
    {
     "data": {
      "text/plain": [
       "movie_id    50871\n",
       "budget      50871\n",
       "dtype: int64"
      ]
     },
     "execution_count": 21,
     "metadata": {},
     "output_type": "execute_result"
    }
   ],
   "source": [
    "budget_list.count()"
   ]
  },
  {
   "cell_type": "code",
   "execution_count": 22,
   "metadata": {
    "collapsed": true
   },
   "outputs": [],
   "source": [
    "sql='''\n",
    "SELECT \n",
    "    title.id AS movie_id,\n",
    "    name.id AS director_id,\n",
    "    name.name AS director_name\n",
    "FROM\n",
    "    title,\n",
    "    cast_info,\n",
    "    role_type,\n",
    "    name\n",
    "WHERE\n",
    "    title.id = cast_info.movie_id\n",
    "        AND title.kind_id = 1\n",
    "        AND role_type.id = cast_info.role_id\n",
    "        AND name.id = cast_info.person_id\n",
    "        AND title.production_year > 2010\n",
    "        AND role_type.role = 'director'\n",
    "ORDER BY cast_info.nr_order\n",
    "'''"
   ]
  },
  {
   "cell_type": "markdown",
   "metadata": {},
   "source": [
    "List of director of movies produced after 2010"
   ]
  },
  {
   "cell_type": "code",
   "execution_count": 23,
   "metadata": {
    "collapsed": true
   },
   "outputs": [],
   "source": [
    "fname='directors_list.csv'\n",
    "directors_list=''\n",
    "if os.path.isfile(fname):\n",
    "    directors_list = pd.read_csv(fname, index_col=0)\n",
    "else:\n",
    "    directors_list=pd.read_sql(sql, connection)\n",
    "    directors_list.to_csv(fname)"
   ]
  },
  {
   "cell_type": "code",
   "execution_count": 24,
   "metadata": {
    "collapsed": false
   },
   "outputs": [
    {
     "data": {
      "text/plain": [
       "movie_id         341913\n",
       "director_id      341913\n",
       "director_name    341913\n",
       "dtype: int64"
      ]
     },
     "execution_count": 24,
     "metadata": {},
     "output_type": "execute_result"
    }
   ],
   "source": [
    "directors_list.count()"
   ]
  },
  {
   "cell_type": "code",
   "execution_count": 25,
   "metadata": {
    "collapsed": true
   },
   "outputs": [],
   "source": [
    "sql='''\n",
    "SELECT \n",
    "    title.id AS movie_id,\n",
    "    name.id AS writer_id,\n",
    "    name.name AS writer_name\n",
    "FROM\n",
    "    title,\n",
    "    cast_info,\n",
    "    role_type,\n",
    "    name\n",
    "WHERE\n",
    "    title.id = cast_info.movie_id\n",
    "        AND title.kind_id = 1\n",
    "        AND role_type.id = cast_info.role_id\n",
    "        AND name.id = cast_info.person_id\n",
    "        AND title.production_year > 2010\n",
    "        AND role_type.role = 'writer'\n",
    "ORDER BY cast_info.nr_order\n",
    "'''"
   ]
  },
  {
   "cell_type": "markdown",
   "metadata": {},
   "source": [
    "list of writers of movies produced after 2010"
   ]
  },
  {
   "cell_type": "code",
   "execution_count": 26,
   "metadata": {
    "collapsed": true
   },
   "outputs": [],
   "source": [
    "fname='writers_list.csv'\n",
    "writers_list=''\n",
    "if os.path.isfile(fname):\n",
    "    writers_list = pd.read_csv(fname, index_col=0)\n",
    "else:\n",
    "    writers_list=pd.read_sql(sql, connection)\n",
    "    writers_list.to_csv(fname)"
   ]
  },
  {
   "cell_type": "code",
   "execution_count": 27,
   "metadata": {
    "collapsed": false
   },
   "outputs": [
    {
     "data": {
      "text/plain": [
       "movie_id       392614\n",
       "writer_id      392614\n",
       "writer_name    392614\n",
       "dtype: int64"
      ]
     },
     "execution_count": 27,
     "metadata": {},
     "output_type": "execute_result"
    }
   ],
   "source": [
    "writers_list.count()"
   ]
  },
  {
   "cell_type": "code",
   "execution_count": 28,
   "metadata": {
    "collapsed": true
   },
   "outputs": [],
   "source": [
    "sql='''\n",
    "SELECT \n",
    "    movie_id, info AS genre\n",
    "FROM\n",
    "    movie_info\n",
    "        INNER JOIN\n",
    "    title ON title.id = movie_info.movie_id\n",
    "WHERE\n",
    "    info_type_id = 3 AND title.kind_id = 1\n",
    "        AND title.production_year > 2010;\n",
    "'''"
   ]
  },
  {
   "cell_type": "markdown",
   "metadata": {},
   "source": [
    "genre of movies produced after 2010"
   ]
  },
  {
   "cell_type": "code",
   "execution_count": 29,
   "metadata": {
    "collapsed": true
   },
   "outputs": [],
   "source": [
    "fname='genres_list.csv'\n",
    "genres_list=''\n",
    "if os.path.isfile(fname):\n",
    "    genres_list = pd.read_csv(fname, index_col=0)\n",
    "else:\n",
    "    genres_list=pd.read_sql(sql, connection)\n",
    "    genres_list.to_csv(fname)"
   ]
  },
  {
   "cell_type": "code",
   "execution_count": 30,
   "metadata": {
    "collapsed": false
   },
   "outputs": [
    {
     "data": {
      "text/plain": [
       "movie_id    706768\n",
       "genre       706768\n",
       "dtype: int64"
      ]
     },
     "execution_count": 30,
     "metadata": {},
     "output_type": "execute_result"
    }
   ],
   "source": [
    "genres_list.count()"
   ]
  },
  {
   "cell_type": "code",
   "execution_count": 31,
   "metadata": {
    "collapsed": true
   },
   "outputs": [],
   "source": [
    "sql='''\n",
    "SELECT \n",
    "    movie_id, info AS gross\n",
    "FROM\n",
    "    movie_info\n",
    "        INNER JOIN\n",
    "    title ON title.id = movie_info.movie_id\n",
    "WHERE\n",
    "    info LIKE '%(USA)%'\n",
    "        AND title.kind_id = 1\n",
    "        AND info_type_id = 107\n",
    "        AND title.production_year > 2010;\n",
    "'''"
   ]
  },
  {
   "cell_type": "markdown",
   "metadata": {},
   "source": [
    "Gross income of movies produced after 2010 in US "
   ]
  },
  {
   "cell_type": "code",
   "execution_count": 32,
   "metadata": {
    "collapsed": true
   },
   "outputs": [],
   "source": [
    "fname='gross_list.csv'\n",
    "gross_list=''\n",
    "if os.path.isfile(fname):\n",
    "    gross_list = pd.read_csv(fname, index_col=0)\n",
    "else:\n",
    "    gross_list=pd.read_sql(sql, connection)\n",
    "    gross_list.to_csv(fname)"
   ]
  },
  {
   "cell_type": "code",
   "execution_count": 33,
   "metadata": {
    "collapsed": false
   },
   "outputs": [
    {
     "data": {
      "text/plain": [
       "movie_id    19612\n",
       "gross       19612\n",
       "dtype: int64"
      ]
     },
     "execution_count": 33,
     "metadata": {},
     "output_type": "execute_result"
    }
   ],
   "source": [
    "gross_list.count()"
   ]
  },
  {
   "cell_type": "code",
   "execution_count": 34,
   "metadata": {
    "collapsed": true
   },
   "outputs": [],
   "source": [
    "sql='''\n",
    "SELECT \n",
    "    movie_id, info AS mpaa\n",
    "FROM\n",
    "    movie_info\n",
    "        INNER JOIN\n",
    "    title ON title.id = movie_info.movie_id\n",
    "WHERE\n",
    "    info_type_id = 97 AND title.kind_id = 1\n",
    "        AND title.production_year > 2010;\n",
    "'''"
   ]
  },
  {
   "cell_type": "markdown",
   "metadata": {},
   "source": [
    "mpaa rating of movies produced after 2010"
   ]
  },
  {
   "cell_type": "code",
   "execution_count": 35,
   "metadata": {
    "collapsed": true
   },
   "outputs": [],
   "source": [
    "fname='mpaa_list.csv'\n",
    "mpaa_list=''\n",
    "if os.path.isfile(fname):\n",
    "    mpaa_list = pd.read_csv(fname, index_col=0)\n",
    "else:\n",
    "    mpaa_list=pd.read_sql(sql, connection)\n",
    "    mpaa_list.to_csv(fname)"
   ]
  },
  {
   "cell_type": "code",
   "execution_count": 36,
   "metadata": {
    "collapsed": false
   },
   "outputs": [
    {
     "data": {
      "text/plain": [
       "movie_id    3483\n",
       "mpaa        3483\n",
       "dtype: int64"
      ]
     },
     "execution_count": 36,
     "metadata": {},
     "output_type": "execute_result"
    }
   ],
   "source": [
    "mpaa_list.count()"
   ]
  },
  {
   "cell_type": "code",
   "execution_count": 37,
   "metadata": {
    "collapsed": true
   },
   "outputs": [],
   "source": [
    "sql='''\n",
    "SELECT \n",
    "    movie_id, info AS plot\n",
    "FROM\n",
    "    movie_info\n",
    "        INNER JOIN\n",
    "    title ON title.id = movie_info.movie_id\n",
    "WHERE\n",
    "    info_type_id = 98 AND title.kind_id = 1\n",
    "        AND title.production_year > 2010;\n",
    "'''"
   ]
  },
  {
   "cell_type": "markdown",
   "metadata": {},
   "source": [
    "plot description of movies produced after 2010"
   ]
  },
  {
   "cell_type": "code",
   "execution_count": 38,
   "metadata": {
    "collapsed": true
   },
   "outputs": [],
   "source": [
    "fname='plot_list.csv'\n",
    "plot_list=''\n",
    "if os.path.isfile(fname):\n",
    "    plot_list = pd.read_csv(fname, index_col=0)\n",
    "else:\n",
    "    plot_list=pd.read_sql(sql, connection)\n",
    "    plot_list.to_csv(fname)"
   ]
  },
  {
   "cell_type": "code",
   "execution_count": 39,
   "metadata": {
    "collapsed": false
   },
   "outputs": [
    {
     "data": {
      "text/plain": [
       "movie_id    79255\n",
       "plot        79255\n",
       "dtype: int64"
      ]
     },
     "execution_count": 39,
     "metadata": {},
     "output_type": "execute_result"
    }
   ],
   "source": [
    "plot_list.count()"
   ]
  },
  {
   "cell_type": "code",
   "execution_count": 40,
   "metadata": {
    "collapsed": true
   },
   "outputs": [],
   "source": [
    "sql='''\n",
    "SELECT \n",
    "    movie_id, info AS vote\n",
    "FROM\n",
    "    movie_info_idx\n",
    "        INNER JOIN\n",
    "    title ON title.id = movie_info_idx.movie_id\n",
    "WHERE\n",
    "    info_type_id = 100 AND title.kind_id = 1\n",
    "        AND title.production_year > 2010;\n",
    "'''"
   ]
  },
  {
   "cell_type": "markdown",
   "metadata": {},
   "source": [
    "number of votes in IMDB for movies produced after 2010"
   ]
  },
  {
   "cell_type": "code",
   "execution_count": 41,
   "metadata": {
    "collapsed": true
   },
   "outputs": [],
   "source": [
    "fname='votes_list.csv'\n",
    "votes_list=''\n",
    "if os.path.isfile(fname):\n",
    "    votes_list = pd.read_csv(fname, index_col=0)\n",
    "else:\n",
    "    votes_list=pd.read_sql(sql, connection)\n",
    "    votes_list.to_csv(fname)"
   ]
  },
  {
   "cell_type": "code",
   "execution_count": 42,
   "metadata": {
    "collapsed": false
   },
   "outputs": [
    {
     "data": {
      "text/plain": [
       "movie_id    63618\n",
       "vote        63618\n",
       "dtype: int64"
      ]
     },
     "execution_count": 42,
     "metadata": {},
     "output_type": "execute_result"
    }
   ],
   "source": [
    "votes_list.count()"
   ]
  },
  {
   "cell_type": "code",
   "execution_count": 43,
   "metadata": {
    "collapsed": true
   },
   "outputs": [],
   "source": [
    "sql='''\n",
    "SELECT \n",
    "    movie_id, info AS rating\n",
    "FROM\n",
    "    movie_info_idx\n",
    "        INNER JOIN\n",
    "    title ON title.id = movie_info_idx.movie_id\n",
    "WHERE\n",
    "    info_type_id = 101 AND title.kind_id = 1\n",
    "        AND title.production_year > 2010;\n",
    "'''"
   ]
  },
  {
   "cell_type": "markdown",
   "metadata": {},
   "source": [
    "IMDB movies rating"
   ]
  },
  {
   "cell_type": "code",
   "execution_count": 44,
   "metadata": {
    "collapsed": true
   },
   "outputs": [],
   "source": [
    "fname='movie_ratings.csv'\n",
    "movie_ratings=''\n",
    "if os.path.isfile(fname):\n",
    "    movie_ratings = pd.read_csv(fname, index_col=0)\n",
    "else:\n",
    "    movie_ratings=pd.read_sql(sql, connection)\n",
    "    movie_ratings.to_csv(fname)"
   ]
  },
  {
   "cell_type": "code",
   "execution_count": 45,
   "metadata": {
    "collapsed": false
   },
   "outputs": [
    {
     "data": {
      "text/plain": [
       "movie_id    63618\n",
       "rating      63618\n",
       "dtype: int64"
      ]
     },
     "execution_count": 45,
     "metadata": {},
     "output_type": "execute_result"
    }
   ],
   "source": [
    "movie_ratings.count()"
   ]
  },
  {
   "cell_type": "code",
   "execution_count": 46,
   "metadata": {
    "collapsed": true
   },
   "outputs": [],
   "source": [
    "# actors, directors_list, writers_list, budget_list, genres_list, gross_list, mpaa_list, plot_list, votes_list"
   ]
  },
  {
   "cell_type": "markdown",
   "metadata": {},
   "source": [
    "Now since not all the movies in IMDB database is necesaty a movies we can see in theatres or professional moives, I'm going to try minimizing number of movies by joining them with other datasets."
   ]
  },
  {
   "cell_type": "code",
   "execution_count": 47,
   "metadata": {
    "collapsed": false,
    "scrolled": true
   },
   "outputs": [],
   "source": [
    "actors.drop('actor_name', axis=1, inplace=True)\n",
    "actor_ratings.columns = ['actor_id', 'avg_actor_rating']\n",
    "actors = pd.merge(actors, actor_ratings, on='actor_id', how='left')"
   ]
  },
  {
   "cell_type": "code",
   "execution_count": 48,
   "metadata": {
    "collapsed": false,
    "scrolled": true
   },
   "outputs": [],
   "source": [
    "directors_list.drop('director_name', axis=1, inplace=True)\n",
    "director_ratings.columns = ['director_id', 'avg_director_rating']\n",
    "directors_list = pd.merge(directors_list, director_ratings, on='director_id', how='left')"
   ]
  },
  {
   "cell_type": "code",
   "execution_count": 49,
   "metadata": {
    "collapsed": true
   },
   "outputs": [],
   "source": [
    "writers_list.drop('writer_name', axis=1, inplace=True)\n",
    "writer_ratings.columns = ['writer_id', 'avg_writer_rating']\n",
    "writers_list = pd.merge(writers_list, writer_ratings, on='writer_id', how='left')"
   ]
  },
  {
   "cell_type": "code",
   "execution_count": 50,
   "metadata": {
    "collapsed": true
   },
   "outputs": [],
   "source": [
    "movies_list=movies.id.to_frame()\n",
    "movies_list.columns=['movie_id']"
   ]
  },
  {
   "cell_type": "code",
   "execution_count": 51,
   "metadata": {
    "collapsed": false,
    "scrolled": true
   },
   "outputs": [],
   "source": [
    "movies_list=pd.merge(movies_list, actors, on='movie_id', how='left')\n",
    "movies_list=pd.pivot_table(movies_list, \n",
    "                           index='movie_id', \n",
    "                           values='avg_actor_rating', \n",
    "                           aggfunc=np.mean).to_frame().reset_index().dropna()"
   ]
  },
  {
   "cell_type": "code",
   "execution_count": 52,
   "metadata": {
    "collapsed": false,
    "scrolled": true
   },
   "outputs": [],
   "source": [
    "movies_list=pd.merge(movies_list, directors_list, on='movie_id', how='left')\n",
    "movies_list=pd.pivot_table(movies_list, \n",
    "                           index=['movie_id', 'avg_actor_rating'], \n",
    "                           values='avg_director_rating', \n",
    "                           aggfunc=np.mean).to_frame().reset_index().dropna()"
   ]
  },
  {
   "cell_type": "code",
   "execution_count": 53,
   "metadata": {
    "collapsed": false,
    "scrolled": true
   },
   "outputs": [],
   "source": [
    "movies_list=pd.merge(movies_list, writers_list, on='movie_id', how='left')\n",
    "movies_list=pd.pivot_table(movies_list, \n",
    "                           index=['movie_id', 'avg_actor_rating', 'avg_director_rating'], \n",
    "                           values='avg_writer_rating', \n",
    "                           aggfunc=np.mean).to_frame().reset_index().dropna()"
   ]
  },
  {
   "cell_type": "code",
   "execution_count": 54,
   "metadata": {
    "collapsed": false
   },
   "outputs": [],
   "source": [
    "movies_list=pd.merge(movies_list, budget_list, on='movie_id', how='left').dropna()\n",
    "movies_list.budget=movies_list.budget.apply(lambda x: float(re.sub(\"[^0-9]\", \"\", x)))"
   ]
  },
  {
   "cell_type": "code",
   "execution_count": 55,
   "metadata": {
    "collapsed": true
   },
   "outputs": [],
   "source": [
    "movies_list=pd.merge(movies_list, genres_list, on='movie_id', how='left')\n",
    "movies_list=pd.concat([movies_list, pd.get_dummies(movies_list.genre, prefix='genre')], axis=1)\n",
    "movies_list.drop('genre', axis=1, inplace=True)\n",
    "movies_list=pd.pivot_table(movies_list, \n",
    "                           index=['movie_id', 'avg_actor_rating', \n",
    "                                  'avg_director_rating', 'avg_writer_rating',\n",
    "                                  'budget'\n",
    "                                 ], \n",
    "                           aggfunc=np.sum).reset_index().dropna()"
   ]
  },
  {
   "cell_type": "code",
   "execution_count": 57,
   "metadata": {
    "collapsed": false,
    "scrolled": true
   },
   "outputs": [],
   "source": [
    "gross_list.gross= gross_list.gross.apply(lambda x: float(re.sub(\"[^0-9]\", \"\", x.split(' ')[0])))\n",
    "gross_list=pd.pivot_table(gross_list, index='movie_id', values='gross', aggfunc=np.sum).reset_index()\n",
    "movies_list=pd.merge(movies_list, gross_list, on='movie_id', how='left').dropna()"
   ]
  },
  {
   "cell_type": "code",
   "execution_count": 59,
   "metadata": {
    "collapsed": true
   },
   "outputs": [],
   "source": [
    "def update_mppa(x):\n",
    "    if x=='R' or x=='NC-17'or  x=='Rated':\n",
    "        return 'R'\n",
    "    elif x=='PG-13' or x=='PG-':\n",
    "        return 'PG-13'\n",
    "    elif x=='PG':\n",
    "        return 'PG'\n",
    "    else:\n",
    "        return 1"
   ]
  },
  {
   "cell_type": "code",
   "execution_count": 60,
   "metadata": {
    "collapsed": true
   },
   "outputs": [],
   "source": [
    "mpaa_list.mpaa= mpaa_list.mpaa.apply(lambda x: x.split(' ')[1])\n",
    "movies_list=pd.merge(movies_list, mpaa_list, on='movie_id', how='left').dropna()\n",
    "movies_list.mpaa=movies_list.mpaa.apply(lambda x: update_mppa(x))\n",
    "movies_list=pd.concat([movies_list, pd.get_dummies(movies_list.mpaa, prefix='rated')], axis=1)\n",
    "movies_list.drop('mpaa', axis=1, inplace=True)"
   ]
  },
  {
   "cell_type": "code",
   "execution_count": 68,
   "metadata": {
    "collapsed": false
   },
   "outputs": [],
   "source": [
    "plot_list=pd.pivot_table(plot_list, index='movie_id', values='plot', aggfunc=lambda x: ' '.join(x)).reset_index()\n",
    "movies_list=pd.merge(movies_list, plot_list, on='movie_id', how='left').dropna()\n",
    "v=TfidfVectorizer(stop_words='english', max_features=30)\n",
    "plot_tokens=v.fit_transform(movies_list['plot']).todense()\n",
    "plot_tokens=pd.DataFrame(plot_tokens, columns=v.get_feature_names())\n",
    "plot_tokens=plot_tokens.add_prefix('tokens_')\n",
    "movies_list=pd.concat([movies_list, plot_tokens], axis=1).dropna()\n",
    "movies_list=movies_list.drop('plot', axis=1)"
   ]
  },
  {
   "cell_type": "code",
   "execution_count": null,
   "metadata": {
    "collapsed": true
   },
   "outputs": [],
   "source": [
    "movies_list=pd.merge(movies_list, votes_list, on='movie_id', how='left').dropna()"
   ]
  },
  {
   "cell_type": "code",
   "execution_count": 75,
   "metadata": {
    "collapsed": false,
    "scrolled": true
   },
   "outputs": [
    {
     "data": {
      "text/plain": [
       "movie_id               802\n",
       "avg_actor_rating       802\n",
       "avg_director_rating    802\n",
       "avg_writer_rating      802\n",
       "budget                 802\n",
       "genre_Action           802\n",
       "genre_Adventure        802\n",
       "genre_Animation        802\n",
       "genre_Biography        802\n",
       "genre_Comedy           802\n",
       "genre_Crime            802\n",
       "genre_Documentary      802\n",
       "genre_Drama            802\n",
       "genre_Family           802\n",
       "genre_Fantasy          802\n",
       "genre_Game-Show        802\n",
       "genre_History          802\n",
       "genre_Horror           802\n",
       "genre_Music            802\n",
       "genre_Musical          802\n",
       "genre_Mystery          802\n",
       "genre_News             802\n",
       "genre_Reality-TV       802\n",
       "genre_Romance          802\n",
       "genre_Sci-Fi           802\n",
       "genre_Short            802\n",
       "genre_Sport            802\n",
       "genre_Talk-Show        802\n",
       "genre_Thriller         802\n",
       "genre_War              802\n",
       "                      ... \n",
       "tokens_daughter        802\n",
       "tokens_family          802\n",
       "tokens_father          802\n",
       "tokens_finds           802\n",
       "tokens_friend          802\n",
       "tokens_friends         802\n",
       "tokens_goes            802\n",
       "tokens_help            802\n",
       "tokens_home            802\n",
       "tokens_house           802\n",
       "tokens_life            802\n",
       "tokens_lives           802\n",
       "tokens_love            802\n",
       "tokens_make            802\n",
       "tokens_man             802\n",
       "tokens_mother          802\n",
       "tokens_new             802\n",
       "tokens_old             802\n",
       "tokens_qv              802\n",
       "tokens_son             802\n",
       "tokens_soon            802\n",
       "tokens_team            802\n",
       "tokens_time            802\n",
       "tokens_wants           802\n",
       "tokens_way             802\n",
       "tokens_wife            802\n",
       "tokens_world           802\n",
       "tokens_year            802\n",
       "tokens_years           802\n",
       "tokens_young           802\n",
       "dtype: int64"
      ]
     },
     "execution_count": 75,
     "metadata": {},
     "output_type": "execute_result"
    }
   ],
   "source": [
    "movies_list.count()"
   ]
  },
  {
   "cell_type": "markdown",
   "metadata": {},
   "source": [
    "As we can see number of movies has dramatically reduced and seems more reasonable."
   ]
  },
  {
   "cell_type": "code",
   "execution_count": 76,
   "metadata": {
    "collapsed": true
   },
   "outputs": [],
   "source": [
    "from sklearn.preprocessing import LabelEncoder\n",
    "from sklearn.cross_validation import cross_val_score, StratifiedKFold\n",
    "from sklearn.tree import DecisionTreeClassifier\n",
    "from sklearn.ensemble import RandomForestClassifier, ExtraTreesClassifier\n",
    "from sklearn.metrics import classification_report, confusion_matrix\n",
    "\n",
    "from sklearn.externals.six import StringIO\n",
    "from sklearn.tree import export_graphviz\n",
    "import pydot\n",
    "from IPython.display import Image\n",
    "import matplotlib.pyplot as plt\n",
    "%matplotlib inline"
   ]
  },
  {
   "cell_type": "code",
   "execution_count": 82,
   "metadata": {
    "collapsed": true
   },
   "outputs": [],
   "source": [
    "# le = LabelEncoder()"
   ]
  },
  {
   "cell_type": "code",
   "execution_count": 78,
   "metadata": {
    "collapsed": true
   },
   "outputs": [],
   "source": [
    "x=movies_list"
   ]
  },
  {
   "cell_type": "code",
   "execution_count": 79,
   "metadata": {
    "collapsed": false,
    "scrolled": true
   },
   "outputs": [],
   "source": [
    "movie_ratings.rating=movie_ratings.rating.apply(lambda x: float(x))\n",
    "y=pd.merge(movies_list, movie_ratings, on='movie_id', how='left').dropna()['rating']\n",
    "y=y.apply(lambda x: 1 if x>7.0 else 0)\n",
    "# y=le.fit_transform(y)"
   ]
  },
  {
   "cell_type": "code",
   "execution_count": null,
   "metadata": {
    "collapsed": true
   },
   "outputs": [],
   "source": [
    "# x_train, x_test, y_train, y_test=train_test_split(x, y)"
   ]
  },
  {
   "cell_type": "code",
   "execution_count": 81,
   "metadata": {
    "collapsed": true
   },
   "outputs": [],
   "source": [
    "def get_cv(target):\n",
    "    return StratifiedKFold(target, n_folds=3, shuffle=True, random_state=41)\n",
    "def score(model, data, target):\n",
    "    model.fit(data, target)\n",
    "    return model.score(data, target)\n",
    "def grid_search(model, params, cv):\n",
    "    return GridSearchCV(estimator=model, \n",
    "                    param_grid=params,\n",
    "                    cv=cv\n",
    "                   )\n",
    "def evaluate_model(model, data, target, params=None):\n",
    "    x_train, x_test, y_train, y_test=train_test_split(data, target, stratify=target)\n",
    "#     print score(model, x_train, y_train), \"\\n\"\n",
    "    cv=get_cv(y_train)\n",
    "    if params:\n",
    "        grid=grid_search(model, params, cv)\n",
    "    \n",
    "        grid.fit(x_train, y_train)\n",
    "        model = grid.best_estimator_\n",
    "        print \"Best Model after Grid Search:\\n\", model\n",
    "        \n",
    "    else:\n",
    "        model.fit(x_train, y_train)\n",
    "        \n",
    "    s=cross_val_score(model, x_train, y_train, cv=cv, n_jobs=-1)\n",
    "    print \"Mean score of the model is: {}\".format(s.mean())\n",
    "    predictions = model.predict(x_test)\n",
    "    \n",
    "    print \"Confusion Matrix:\\n\",confusion_matrix(y_test, predictions), \"\\n\"\n",
    "    print \"Classification Report:\\n\", classification_report(y_test, predictions)\n",
    "    return model"
   ]
  },
  {
   "cell_type": "markdown",
   "metadata": {},
   "source": [
    "What the above functions do is first split the dataset to test and train and find the best model through grid search and cross validation and after that evalutates the best model on test data"
   ]
  },
  {
   "cell_type": "code",
   "execution_count": 83,
   "metadata": {
    "collapsed": false
   },
   "outputs": [
    {
     "name": "stdout",
     "output_type": "stream",
     "text": [
      "Best Model after Grid Search:\n",
      "DecisionTreeClassifier(class_weight=None, criterion='gini', max_depth=4,\n",
      "            max_features=None, max_leaf_nodes=None, min_samples_leaf=1,\n",
      "            min_samples_split=100, min_weight_fraction_leaf=0.0,\n",
      "            presort=False, random_state=None, splitter='best')\n",
      "Mean score of the model is: 0.821820545514\n",
      "Confusion Matrix:\n",
      "[[136  10]\n",
      " [ 24  31]] \n",
      "\n",
      "Classification Report:\n",
      "             precision    recall  f1-score   support\n",
      "\n",
      "          0       0.85      0.93      0.89       146\n",
      "          1       0.76      0.56      0.65        55\n",
      "\n",
      "avg / total       0.82      0.83      0.82       201\n",
      "\n"
     ]
    }
   ],
   "source": [
    "params = {\n",
    "    'max_depth': [None,1, 2, 3, 4, 5],\n",
    "    'min_samples_split': [2, 10, 25, 50, 100],\n",
    "}\n",
    "dt=evaluate_model(DecisionTreeClassifier(), x, y, params)"
   ]
  },
  {
   "cell_type": "markdown",
   "metadata": {},
   "source": [
    "As we can see our decision tree clasifier was able to classify test data with 82%"
   ]
  },
  {
   "cell_type": "code",
   "execution_count": 88,
   "metadata": {
    "collapsed": false
   },
   "outputs": [],
   "source": [
    "import pydotplus"
   ]
  },
  {
   "cell_type": "code",
   "execution_count": 90,
   "metadata": {
    "collapsed": false
   },
   "outputs": [
    {
     "data": {
      "image/png": "[encoded data removed]",
      "text/plain": [
       "<IPython.core.display.Image object>"
      ]
     },
     "execution_count": 90,
     "metadata": {},
     "output_type": "execute_result"
    }
   ],
   "source": [
    "dt=dt.fit(x, y)\n",
    "tree.export_graphviz(dt, out_file='dt.dot')\n",
    "graph= pydotplus.graph_from_dot_file('dt.dot')\n",
    "graph.write_png('dt.png')\n",
    "Image(filename='dt.png') "
   ]
  },
  {
   "cell_type": "code",
   "execution_count": null,
   "metadata": {
    "collapsed": true
   },
   "outputs": [],
   "source": []
  },
  {
   "cell_type": "code",
   "execution_count": null,
   "metadata": {
    "collapsed": true
   },
   "outputs": [],
   "source": []
  },
  {
   "cell_type": "code",
   "execution_count": 91,
   "metadata": {
    "collapsed": false
   },
   "outputs": [
    {
     "name": "stdout",
     "output_type": "stream",
     "text": [
      "Mean score of the model is: 0.806995174879\n",
      "Confusion Matrix:\n",
      "[[140   6]\n",
      " [ 24  31]] \n",
      "\n",
      "Classification Report:\n",
      "             precision    recall  f1-score   support\n",
      "\n",
      "          0       0.85      0.96      0.90       146\n",
      "          1       0.84      0.56      0.67        55\n",
      "\n",
      "avg / total       0.85      0.85      0.84       201\n",
      "\n"
     ]
    }
   ],
   "source": [
    "params = {\n",
    "    'n_estimators': [10, 20, 50, 100, 200],\n",
    "    'max_depth': [None,1, 2, 3, 4, 5],\n",
    "    'min_samples_split': [2, 10, 25, 50, 100],\n",
    "}\n",
    "rf=evaluate_model(RandomForestClassifier(class_weight='balanced', n_jobs=-1), x, y)"
   ]
  },
  {
   "cell_type": "markdown",
   "metadata": {},
   "source": [
    "With random forest we get score of 0.80 but precision, recall and f1_score are much higher which tells us random forest has lower over-fitting and generally better results"
   ]
  },
  {
   "cell_type": "markdown",
   "metadata": {},
   "source": [
    "Now we can see feature importance in random forest"
   ]
  },
  {
   "cell_type": "code",
   "execution_count": 96,
   "metadata": {
    "collapsed": false
   },
   "outputs": [
    {
     "data": {
      "text/plain": [
       "(-1, 66)"
      ]
     },
     "execution_count": 96,
     "metadata": {},
     "output_type": "execute_result"
    },
    {
     "data": {
      "image/png": "[encoded data removed]",
      "text/plain": [
       "<matplotlib.figure.Figure at 0x7f64f849fd50>"
      ]
     },
     "metadata": {},
     "output_type": "display_data"
    }
   ],
   "source": [
    "rf.fit(x, y)\n",
    "importances = rf.feature_importances_\n",
    "std = np.std([tree.feature_importances_ for tree in rf.estimators_], axis=0)\n",
    "indices = np.argsort(importances)[::-1]\n",
    "feature_names = x.columns\n",
    "# Plot the feature importances of the forest\n",
    "rcParams['figure.figsize'] = 12, 8\n",
    "plt.figure()\n",
    "plt.title(\"Feature importances\")\n",
    "plt.bar(range(x.shape[1]), importances[indices],\n",
    "        color=\"r\", yerr=std[indices], align=\"center\")\n",
    "plt.xticks(range(x.shape[1]), feature_names[indices], rotation=90)\n",
    "plt.xlim([-1, x.shape[1]])"
   ]
  },
  {
   "cell_type": "code",
   "execution_count": 98,
   "metadata": {
    "collapsed": false
   },
   "outputs": [
    {
     "name": "stdout",
     "output_type": "stream",
     "text": [
      "Best Model after Grid Search:\n",
      "ExtraTreesClassifier(bootstrap=False, class_weight='balanced',\n",
      "           criterion='gini', max_depth=None, max_features='auto',\n",
      "           max_leaf_nodes=None, min_samples_leaf=1, min_samples_split=2,\n",
      "           min_weight_fraction_leaf=0.0, n_estimators=20, n_jobs=-1,\n",
      "           oob_score=False, random_state=None, verbose=0, warm_start=False)\n",
      "Mean score of the model is: 0.803695092377\n",
      "Confusion Matrix:\n",
      "[[140   6]\n",
      " [ 31  24]] \n",
      "\n",
      "Classification Report:\n",
      "             precision    recall  f1-score   support\n",
      "\n",
      "          0       0.82      0.96      0.88       146\n",
      "          1       0.80      0.44      0.56        55\n",
      "\n",
      "avg / total       0.81      0.82      0.80       201\n",
      "\n"
     ]
    }
   ],
   "source": [
    "params = {\n",
    "    'n_estimators': [10, 20, 50, 100, 200],\n",
    "    'max_depth': [None,1, 2, 3, 4, 5],\n",
    "    'min_samples_split': [2, 10, 25, 50, 100],\n",
    "}\n",
    "et=evaluate_model(ExtraTreesClassifier(class_weight='balanced', n_jobs=-1), x, y, params)"
   ]
  },
  {
   "cell_type": "code",
   "execution_count": 99,
   "metadata": {
    "collapsed": false,
    "scrolled": false
   },
   "outputs": [
    {
     "data": {
      "text/plain": [
       "(-1, 66)"
      ]
     },
     "execution_count": 99,
     "metadata": {},
     "output_type": "execute_result"
    },
    {
     "data": {
      "image/png": "[encoded data removed]",
      "text/plain": [
       "<matplotlib.figure.Figure at 0x7f64f946e190>"
      ]
     },
     "metadata": {},
     "output_type": "display_data"
    }
   ],
   "source": [
    "et.fit(x, y)\n",
    "importances = et.feature_importances_\n",
    "std = np.std([tree.feature_importances_ for tree in et.estimators_], axis=0)\n",
    "indices = np.argsort(importances)[::-1]\n",
    "feature_names = x.columns\n",
    "# Plot the feature importances of the forest\n",
    "plt.figure()\n",
    "plt.title(\"Feature importances\")\n",
    "plt.bar(range(x.shape[1]), importances[indices],\n",
    "        color=\"r\", yerr=std[indices], align=\"center\")\n",
    "plt.xticks(range(x.shape[1]), feature_names[indices], rotation=90)\n",
    "plt.xlim([-1, x.shape[1]])"
   ]
  },
  {
   "cell_type": "code",
   "execution_count": null,
   "metadata": {
    "collapsed": true
   },
   "outputs": [],
   "source": []
  }
 ],
 "metadata": {
  "anaconda-cloud": {},
  "kernelspec": {
   "display_name": "Python [conda root]",
   "language": "python",
   "name": "conda-root-py"
  },
  "language_info": {
   "codemirror_mode": {
    "name": "ipython",
    "version": 2
   },
   "file_extension": ".py",
   "mimetype": "text/x-python",
   "name": "python",
   "nbconvert_exporter": "python",
   "pygments_lexer": "ipython2",
   "version": "2.7.12"
  }
 },
 "nbformat": 4,
 "nbformat_minor": 1
}
