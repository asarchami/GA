{
 "cells": [
  {
   "cell_type": "code",
   "execution_count": 1,
   "metadata": {
    "collapsed": false
   },
   "outputs": [],
   "source": [
    "from bokeh.charts import Scatter, output_file, show\n",
    "import pandas as pd"
   ]
  },
  {
   "cell_type": "code",
   "execution_count": 2,
   "metadata": {
    "collapsed": false
   },
   "outputs": [],
   "source": [
    "df=pd.DataFrame(columns=[\"X\", \"Y\"])\n",
    "df[\"X\"]=[1, 2, 3, 4, 5]\n",
    "df[\"Y\"]=[5, 6, 4, 5, 3]"
   ]
  },
  {
   "cell_type": "code",
   "execution_count": 3,
   "metadata": {
    "collapsed": false
   },
   "outputs": [],
   "source": [
    "p=Scatter(df, x=\"X\", y=\"Y\", \n",
    "          title=\"Temperature Aibservations\", \n",
    "          xlabel=\"Day of Observation\", \n",
    "          ylabel=\"Temperature\")\n",
    "output_file(\"Scatter_charts.html\")\n",
    "show(p)"
   ]
  },
  {
   "cell_type": "code",
   "execution_count": 4,
   "metadata": {
    "collapsed": false
   },
   "outputs": [],
   "source": [
    "from bokeh.plotting import figure, output_file, show"
   ]
  },
  {
   "cell_type": "code",
   "execution_count": 12,
   "metadata": {
    "collapsed": false
   },
   "outputs": [
    {
     "name": "stderr",
     "output_type": "stream",
     "text": [
      "INFO:bokeh.core.state:Session output file 'Scatter_plotting.html' already exists, will be overwritten.\n",
      "WARNING:/home/ali/anaconda2/lib/python2.7/site-packages/bokeh/core/validation/check.pyc:W-1005 (SNAPPED_TOOLBAR_ANNOTATIONS): Snapped toolbars and annotations on the same side MAY overlap visually: Figure(id='e5ed6675-a78f-4bb6-bb3d-43dc0a34fc19', ...)\n",
      "WARNING:/home/ali/anaconda2/lib/python2.7/site-packages/bokeh/core/validation/check.pyc:W-1005 (SNAPPED_TOOLBAR_ANNOTATIONS): Snapped toolbars and annotations on the same side MAY overlap visually: Figure(id='8d64ac79-333e-46fe-9907-cb937193805c', ...)\n",
      "WARNING:/home/ali/anaconda2/lib/python2.7/site-packages/bokeh/core/validation/check.pyc:W-1005 (SNAPPED_TOOLBAR_ANNOTATIONS): Snapped toolbars and annotations on the same side MAY overlap visually: Figure(id='f9387554-9ade-4fbf-ae62-a47f5c6804ed', ...)\n"
     ]
    }
   ],
   "source": [
    "p=figure(plot_width=500, plot_height=400)\n",
    "# p.circle([1, 2, 3, 4, 5],[5, 6, 4, 5, 3], size=12, color='red', alpha=0.5)\n",
    "# p.triangle([1, 2, 3, 4, 5],[5, 6, 4, 5, 3], size=12, color='red', alpha=0.5)\n",
    "# p.circle([1, 2, 3, 4, 5],[5, 6, 4, 5, 3], size=[12, 3, 20, 14, 8], color='red', alpha=0.5)\n",
    "p.circle([1, 2, 3, 4, 5],[5, 6, 4, 5, 3], size=[i*2 for i in [12, 3, 20, 14, 8]], color='red', alpha=0.5)\n",
    "\n",
    "p.title.text='Earthquakes'\n",
    "p.title.text_color='Orange'\n",
    "p.title.text_font=\"New Times Roman\"\n",
    "p.title.text_font_style=\"italic\"\n",
    "\n",
    "p.yaxis.minor_tick_line_color=None\n",
    "p.yaxis.major_tick_line_color='Yellow'\n",
    "p.yaxis.axis_label='Value'\n",
    "\n",
    "p.xaxis.axis_label=\"Time\"\n",
    "\n",
    "p.toolbar_location=None\n",
    "# p.toolbar_location='below'\n",
    "# p.tools = \"pan,wheel_zoom,box_zoom,reset\"\n",
    "\n",
    "\n",
    "# output_file(\"Scatter_plotting.html\")\n",
    "# output_file(\"Scatter_plotting.html\", mode='relative' )\n",
    "output_file(\"Scatter_plotting.html\")\n",
    "show(p)"
   ]
  },
  {
   "cell_type": "code",
   "execution_count": 17,
   "metadata": {
    "collapsed": false
   },
   "outputs": [
    {
     "name": "stderr",
     "output_type": "stream",
     "text": [
      "INFO:bokeh.core.state:Session output file 'Scatter_plotting.html' already exists, will be overwritten.\n",
      "WARNING:/home/ali/anaconda2/lib/python2.7/site-packages/bokeh/core/validation/check.pyc:W-1005 (SNAPPED_TOOLBAR_ANNOTATIONS): Snapped toolbars and annotations on the same side MAY overlap visually: Figure(id='e5ed6675-a78f-4bb6-bb3d-43dc0a34fc19', ...)\n",
      "WARNING:/home/ali/anaconda2/lib/python2.7/site-packages/bokeh/core/validation/check.pyc:W-1005 (SNAPPED_TOOLBAR_ANNOTATIONS): Snapped toolbars and annotations on the same side MAY overlap visually: Figure(id='8d64ac79-333e-46fe-9907-cb937193805c', ...)\n",
      "WARNING:/home/ali/anaconda2/lib/python2.7/site-packages/bokeh/core/validation/check.pyc:W-1005 (SNAPPED_TOOLBAR_ANNOTATIONS): Snapped toolbars and annotations on the same side MAY overlap visually: Figure(id='f9387554-9ade-4fbf-ae62-a47f5c6804ed', ...)\n"
     ]
    }
   ],
   "source": [
    "p=figure(plot_width=500, plot_height=400)\n",
    "p.line([1, 2, 3, 4, 5],[5, 6, 4, 5, 3], line_width=2, color='red', alpha=0.5)\n",
    "\n",
    "p.title.text='Earthquakes'\n",
    "p.title.text_color='Orange'\n",
    "p.title.text_font=\"New Times Roman\"\n",
    "p.title.text_font_style=\"italic\"\n",
    "\n",
    "p.yaxis.minor_tick_line_color=None\n",
    "p.yaxis.major_tick_line_color='Yellow'\n",
    "p.yaxis.axis_label='Value'\n",
    "\n",
    "p.xaxis.axis_label=\"Time\"\n",
    "\n",
    "p.toolbar_location=None\n",
    "# p.toolbar_location='below'\n",
    "# p.tools = \"pan,wheel_zoom,box_zoom,reset\"\n",
    "\n",
    "\n",
    "# output_file(\"Scatter_plotting.html\")\n",
    "# output_file(\"Scatter_plotting.html\", mode='relative' )\n",
    "output_file(\"Scatter_plotting.html\")\n",
    "show(p)"
   ]
  },
  {
   "cell_type": "code",
   "execution_count": 36,
   "metadata": {
    "collapsed": false,
    "scrolled": true
   },
   "outputs": [
    {
     "data": {
      "text/html": [
       "<div>\n",
       "<table border=\"1\" class=\"dataframe\">\n",
       "  <thead>\n",
       "    <tr style=\"text-align: right;\">\n",
       "      <th></th>\n",
       "      <th>Date</th>\n",
       "      <th>Open</th>\n",
       "      <th>High</th>\n",
       "      <th>Low</th>\n",
       "      <th>Close</th>\n",
       "      <th>Volume</th>\n",
       "      <th>Adj Close</th>\n",
       "    </tr>\n",
       "  </thead>\n",
       "  <tbody>\n",
       "    <tr>\n",
       "      <th>0</th>\n",
       "      <td>2009-12-31</td>\n",
       "      <td>213.130005</td>\n",
       "      <td>213.349997</td>\n",
       "      <td>210.559999</td>\n",
       "      <td>210.730003</td>\n",
       "      <td>88102700</td>\n",
       "      <td>27.420455</td>\n",
       "    </tr>\n",
       "    <tr>\n",
       "      <th>1</th>\n",
       "      <td>2009-12-30</td>\n",
       "      <td>208.830000</td>\n",
       "      <td>212.000006</td>\n",
       "      <td>208.310001</td>\n",
       "      <td>211.639997</td>\n",
       "      <td>103021100</td>\n",
       "      <td>27.538864</td>\n",
       "    </tr>\n",
       "    <tr>\n",
       "      <th>2</th>\n",
       "      <td>2009-12-29</td>\n",
       "      <td>212.629993</td>\n",
       "      <td>212.719995</td>\n",
       "      <td>208.729998</td>\n",
       "      <td>209.100006</td>\n",
       "      <td>111301400</td>\n",
       "      <td>27.208357</td>\n",
       "    </tr>\n",
       "    <tr>\n",
       "      <th>3</th>\n",
       "      <td>2009-12-28</td>\n",
       "      <td>211.719999</td>\n",
       "      <td>213.949997</td>\n",
       "      <td>209.610004</td>\n",
       "      <td>211.609997</td>\n",
       "      <td>161141400</td>\n",
       "      <td>27.534960</td>\n",
       "    </tr>\n",
       "    <tr>\n",
       "      <th>4</th>\n",
       "      <td>2009-12-24</td>\n",
       "      <td>203.549999</td>\n",
       "      <td>209.349998</td>\n",
       "      <td>203.349995</td>\n",
       "      <td>209.040005</td>\n",
       "      <td>125222300</td>\n",
       "      <td>27.200550</td>\n",
       "    </tr>\n",
       "  </tbody>\n",
       "</table>\n",
       "</div>"
      ],
      "text/plain": [
       "        Date        Open        High         Low       Close     Volume  \\\n",
       "0 2009-12-31  213.130005  213.349997  210.559999  210.730003   88102700   \n",
       "1 2009-12-30  208.830000  212.000006  208.310001  211.639997  103021100   \n",
       "2 2009-12-29  212.629993  212.719995  208.729998  209.100006  111301400   \n",
       "3 2009-12-28  211.719999  213.949997  209.610004  211.609997  161141400   \n",
       "4 2009-12-24  203.549999  209.349998  203.349995  209.040005  125222300   \n",
       "\n",
       "   Adj Close  \n",
       "0  27.420455  \n",
       "1  27.538864  \n",
       "2  27.208357  \n",
       "3  27.534960  \n",
       "4  27.200550  "
      ]
     },
     "execution_count": 36,
     "metadata": {},
     "output_type": "execute_result"
    }
   ],
   "source": [
    "data=pd.read_csv(\"datasets/table.csv\", parse_dates=['Date'])\n",
    "data.head()"
   ]
  },
  {
   "cell_type": "code",
   "execution_count": 16,
   "metadata": {
    "collapsed": true
   },
   "outputs": [],
   "source": [
    "from bokeh.plotting import figure, output_file, show"
   ]
  },
  {
   "cell_type": "code",
   "execution_count": 37,
   "metadata": {
    "collapsed": false
   },
   "outputs": [
    {
     "name": "stderr",
     "output_type": "stream",
     "text": [
      "WARNING:/home/ali/anaconda2/lib/python2.7/site-packages/bokeh/core/validation/check.pyc:W-1005 (SNAPPED_TOOLBAR_ANNOTATIONS): Snapped toolbars and annotations on the same side MAY overlap visually: Figure(id='e5ed6675-a78f-4bb6-bb3d-43dc0a34fc19', ...)\n",
      "WARNING:/home/ali/anaconda2/lib/python2.7/site-packages/bokeh/core/validation/check.pyc:W-1005 (SNAPPED_TOOLBAR_ANNOTATIONS): Snapped toolbars and annotations on the same side MAY overlap visually: Figure(id='8d64ac79-333e-46fe-9907-cb937193805c', ...)\n",
      "WARNING:/home/ali/anaconda2/lib/python2.7/site-packages/bokeh/core/validation/check.pyc:W-1005 (SNAPPED_TOOLBAR_ANNOTATIONS): Snapped toolbars and annotations on the same side MAY overlap visually: Figure(id='f9387554-9ade-4fbf-ae62-a47f5c6804ed', ...)\n"
     ]
    }
   ],
   "source": [
    "df=data.copy()\n",
    "p=figure(width=1500, height=500, x_axis_type='datetime', responsive=True)\n",
    "p.line(df.Date, df.Close, color=\"Orange\", alpha=0.5)\n",
    "output_file=(\"Timeseries.html\")\n",
    "show(p)"
   ]
  },
  {
   "cell_type": "code",
   "execution_count": 29,
   "metadata": {
    "collapsed": true
   },
   "outputs": [],
   "source": [
    "from math import pi"
   ]
  },
  {
   "cell_type": "code",
   "execution_count": 38,
   "metadata": {
    "collapsed": false
   },
   "outputs": [
    {
     "name": "stderr",
     "output_type": "stream",
     "text": [
      "WARNING:/home/ali/anaconda2/lib/python2.7/site-packages/bokeh/core/validation/check.pyc:W-1005 (SNAPPED_TOOLBAR_ANNOTATIONS): Snapped toolbars and annotations on the same side MAY overlap visually: Figure(id='e5ed6675-a78f-4bb6-bb3d-43dc0a34fc19', ...)\n",
      "WARNING:/home/ali/anaconda2/lib/python2.7/site-packages/bokeh/core/validation/check.pyc:W-1005 (SNAPPED_TOOLBAR_ANNOTATIONS): Snapped toolbars and annotations on the same side MAY overlap visually: Figure(id='8d64ac79-333e-46fe-9907-cb937193805c', ...)\n",
      "WARNING:/home/ali/anaconda2/lib/python2.7/site-packages/bokeh/core/validation/check.pyc:W-1005 (SNAPPED_TOOLBAR_ANNOTATIONS): Snapped toolbars and annotations on the same side MAY overlap visually: Figure(id='f9387554-9ade-4fbf-ae62-a47f5c6804ed', ...)\n"
     ]
    }
   ],
   "source": [
    "df=data.copy()\n",
    "df=df[:50]\n",
    "mids = (df.Open + df.Close)/2\n",
    "spans = abs(df.Close-df.Open)\n",
    "\n",
    "inc = df.Close > df.Open\n",
    "dec = df.Open > df.Close\n",
    "w = 12*60*60*1000 # half day in ms\n",
    "\n",
    "TOOLS = \"pan,wheel_zoom,box_zoom,reset,save\"\n",
    "\n",
    "p = figure(x_axis_type=\"datetime\", tools=TOOLS, plot_width=1000, title = \"AAPL Candlestick\", responsive=True)\n",
    "p.xaxis.major_label_orientation = pi/4\n",
    "p.grid.grid_line_alpha=0.3\n",
    "\n",
    "p.segment(df.Date, df.High, df.Date, df.Low, color=\"black\")\n",
    "p.rect(df.Date[inc], mids[inc], w, spans[inc], fill_color=\"#D5E1DD\", line_color=\"black\")\n",
    "p.rect(df.Date[dec], mids[dec], w, spans[dec], fill_color=\"#F2583E\", line_color=\"black\")\n",
    "\n",
    "output_file=(\"candlestick.html\")\n",
    "\n",
    "show(p)  # open a browser\n"
   ]
  },
  {
   "cell_type": "code",
   "execution_count": null,
   "metadata": {
    "collapsed": true
   },
   "outputs": [],
   "source": []
  }
 ],
 "metadata": {
  "anaconda-cloud": {},
  "kernelspec": {
   "display_name": "Python [conda root]",
   "language": "python",
   "name": "conda-root-py"
  },
  "language_info": {
   "codemirror_mode": {
    "name": "ipython",
    "version": 2
   },
   "file_extension": ".py",
   "mimetype": "text/x-python",
   "name": "python",
   "nbconvert_exporter": "python",
   "pygments_lexer": "ipython2",
   "version": "2.7.12"
  }
 },
 "nbformat": 4,
 "nbformat_minor": 1
}
